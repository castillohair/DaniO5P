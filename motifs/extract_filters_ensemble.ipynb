{
 "cells": [
  {
   "cell_type": "markdown",
   "metadata": {},
   "source": [
    "# Motif discovery\n",
    "\n",
    "This notebook extracts motifs from the CNN model\n",
    "\n",
    "The process is roughy divided as follows:\n",
    "\n",
    "1) Convolutional filter motif extraction: for each of the 128 convolutional filters in the second convolutional layer (first convolutional block, before the max pooling layer), we accumulated the 100 sequence fragments (seqlets) that resulted in maximal filter activation across all MPRA sequences, and used them to generate a filter position weight matrix (PWM). This process resulted in 1280 filter motifs (128 motifs per model x 10 models).\n",
    "\n",
    "2) Motif clustering: to account for motif redundancy within and across models, PWMs were clustered using a standalone version of RSAT matrix clustering (Castro-Mondragon et al, 2017) (https://github.com/jaimicore/matrix-clustering_stand-alone), modified by us to remove the ability to use PWM reverse complements. To improve clustering results, we first separated motifs that contained AUGs from the rest and clustered these sets separately with different normalized correlation thresholds but otherwise identical parameters. Many thresholds and clustering linkages are attempted and one parameter set is selected by visual inspection.\n",
    "\n",
    "3) Motif filtering and post-processing: Reproducible and robust motifs should emerge independently in models trained on different data splits. Thus, motif clusters were required to contain motif filters originating from multiple individual models (9 for AUG motifs, 5 or more for non-AUG motifs), and those that did not were discarded. This resulted in 3 and 10 AUG and non-AUG motifs, respectively."
   ]
  },
  {
   "cell_type": "code",
   "execution_count": 1,
   "metadata": {},
   "outputs": [],
   "source": [
    "import os\n",
    "import pickle\n",
    "import re\n",
    "import sys\n",
    "\n",
    "import numpy\n",
    "import matplotlib\n",
    "from matplotlib import pyplot\n",
    "import pandas\n",
    "\n",
    "import tensorflow\n",
    "\n",
    "import Bio\n",
    "import Bio.motifs\n",
    "import Bio.motifs.transfac\n",
    "\n",
    "utils_dir = '../utils'\n",
    "sys.path.append(utils_dir)\n",
    "import seq_utils\n",
    "import cnn_vgg\n",
    "import custom_plots"
   ]
  },
  {
   "cell_type": "code",
   "execution_count": 2,
   "metadata": {},
   "outputs": [],
   "source": [
    "%matplotlib inline\n",
    "matplotlib.rcParams['figure.dpi'] = 120\n",
    "matplotlib.rcParams['font.sans-serif'] = 'Arial'"
   ]
  },
  {
   "cell_type": "code",
   "execution_count": 3,
   "metadata": {},
   "outputs": [],
   "source": [
    "# Create directory for results\n",
    "base_results_dir = 'results'\n",
    "if not os.path.exists(base_results_dir):\n",
    "    os.mkdir(base_results_dir)"
   ]
  },
  {
   "cell_type": "markdown",
   "metadata": {},
   "source": [
    "# Load data"
   ]
  },
  {
   "cell_type": "code",
   "execution_count": 4,
   "metadata": {},
   "outputs": [],
   "source": [
    "timepoint_list = [2, 4, 6, 10]\n",
    "\n",
    "lib_tpm_col = 'TPM_library'\n",
    "log2_lib_tpm_col = 'log2_TPM_library'\n",
    "\n",
    "log2_mrl_cols = [f'log2_MRL_{t}hpf' for t in timepoint_list]\n",
    "delta_log2_x_cols = [f'Δlog2_X_{t}hpf' for t in timepoint_list]\n",
    "\n",
    "res_log2_mrl_cols = [f'res_log2_MRL_{t}hpf' for t in timepoint_list]\n",
    "res_delta_log2_x_cols = [f'res_Δlog2_X_{t}hpf' for t in timepoint_list]\n",
    "\n",
    "log2_x_cols = [f'log2_X_{t}hpf' for t in timepoint_list]\n",
    "\n",
    "# Predictions\n",
    "pred_len_cols = [f'pred_len_{c}' for c in log2_mrl_cols + delta_log2_x_cols]\n",
    "pred_cnn_cols = [f'pred_cnn_ens_{c}' for c in log2_mrl_cols + delta_log2_x_cols]\n",
    "pred_full_cols = [f'pred_full_{c}' for c in log2_mrl_cols + delta_log2_x_cols]"
   ]
  },
  {
   "cell_type": "code",
   "execution_count": 5,
   "metadata": {},
   "outputs": [
    {
     "data": {
      "text/html": [
       "<div>\n",
       "<style scoped>\n",
       "    .dataframe tbody tr th:only-of-type {\n",
       "        vertical-align: middle;\n",
       "    }\n",
       "\n",
       "    .dataframe tbody tr th {\n",
       "        vertical-align: top;\n",
       "    }\n",
       "\n",
       "    .dataframe thead th {\n",
       "        text-align: right;\n",
       "    }\n",
       "</style>\n",
       "<table border=\"1\" class=\"dataframe\">\n",
       "  <thead>\n",
       "    <tr style=\"text-align: right;\">\n",
       "      <th></th>\n",
       "      <th>chr</th>\n",
       "      <th>strand</th>\n",
       "      <th>external_gene_name</th>\n",
       "      <th>utr_length</th>\n",
       "      <th>insert_length</th>\n",
       "      <th>n_uORFs</th>\n",
       "      <th>GC_content</th>\n",
       "      <th>mxfold</th>\n",
       "      <th>index</th>\n",
       "      <th>index_base</th>\n",
       "      <th>...</th>\n",
       "      <th>pred_test_log2_MRL_10hpf</th>\n",
       "      <th>pred_full_log2_MRL_10hpf</th>\n",
       "      <th>pred_test_Δlog2_X_2hpf</th>\n",
       "      <th>pred_full_Δlog2_X_2hpf</th>\n",
       "      <th>pred_test_Δlog2_X_4hpf</th>\n",
       "      <th>pred_full_Δlog2_X_4hpf</th>\n",
       "      <th>pred_test_Δlog2_X_6hpf</th>\n",
       "      <th>pred_full_Δlog2_X_6hpf</th>\n",
       "      <th>pred_test_Δlog2_X_10hpf</th>\n",
       "      <th>pred_full_Δlog2_X_10hpf</th>\n",
       "    </tr>\n",
       "  </thead>\n",
       "  <tbody>\n",
       "    <tr>\n",
       "      <th>ENSDARG00000000001_ENSDART00000000004_19058_slc35a5_20318</th>\n",
       "      <td>chr9</td>\n",
       "      <td>-</td>\n",
       "      <td>slc35a5</td>\n",
       "      <td>103.0</td>\n",
       "      <td>103.0</td>\n",
       "      <td>2.0</td>\n",
       "      <td>52.427184</td>\n",
       "      <td>23.9</td>\n",
       "      <td>20318.0</td>\n",
       "      <td>20318</td>\n",
       "      <td>...</td>\n",
       "      <td>2.390045</td>\n",
       "      <td>2.553573</td>\n",
       "      <td>-1.719531</td>\n",
       "      <td>-1.708624</td>\n",
       "      <td>-0.710143</td>\n",
       "      <td>-0.665578</td>\n",
       "      <td>-1.793335</td>\n",
       "      <td>-1.837050</td>\n",
       "      <td>-1.989746</td>\n",
       "      <td>-2.020408</td>\n",
       "    </tr>\n",
       "    <tr>\n",
       "      <th>ENSDARG00000000018_ENSDART00000181044_14421_nrf1_72681</th>\n",
       "      <td>chr4</td>\n",
       "      <td>-</td>\n",
       "      <td>nrf1</td>\n",
       "      <td>134.0</td>\n",
       "      <td>134.0</td>\n",
       "      <td>0.0</td>\n",
       "      <td>61.940299</td>\n",
       "      <td>35.3</td>\n",
       "      <td>72681.0</td>\n",
       "      <td>72681</td>\n",
       "      <td>...</td>\n",
       "      <td>2.448878</td>\n",
       "      <td>2.415843</td>\n",
       "      <td>-1.891235</td>\n",
       "      <td>-1.980832</td>\n",
       "      <td>-0.591849</td>\n",
       "      <td>-0.552270</td>\n",
       "      <td>-2.007738</td>\n",
       "      <td>-1.982406</td>\n",
       "      <td>-1.125323</td>\n",
       "      <td>-1.193949</td>\n",
       "    </tr>\n",
       "    <tr>\n",
       "      <th>ENSDARG00000000019_ENSDART00000124452_14118_ube2h_27446</th>\n",
       "      <td>chr4</td>\n",
       "      <td>+</td>\n",
       "      <td>ube2h</td>\n",
       "      <td>178.0</td>\n",
       "      <td>178.0</td>\n",
       "      <td>1.0</td>\n",
       "      <td>46.629213</td>\n",
       "      <td>30.1</td>\n",
       "      <td>27446.0</td>\n",
       "      <td>27446</td>\n",
       "      <td>...</td>\n",
       "      <td>2.501041</td>\n",
       "      <td>2.379249</td>\n",
       "      <td>-1.884392</td>\n",
       "      <td>-1.935805</td>\n",
       "      <td>-0.474855</td>\n",
       "      <td>-0.408718</td>\n",
       "      <td>-2.229212</td>\n",
       "      <td>-2.221917</td>\n",
       "      <td>-0.678730</td>\n",
       "      <td>-0.704322</td>\n",
       "    </tr>\n",
       "    <tr>\n",
       "      <th>ENSDARG00000000068_ENSDART00000000069_2438_slc9a3r1a_113092</th>\n",
       "      <td>chr12</td>\n",
       "      <td>+</td>\n",
       "      <td>slc9a3r1a</td>\n",
       "      <td>152.0</td>\n",
       "      <td>152.0</td>\n",
       "      <td>0.0</td>\n",
       "      <td>46.052632</td>\n",
       "      <td>26.1</td>\n",
       "      <td>113092.0</td>\n",
       "      <td>113092</td>\n",
       "      <td>...</td>\n",
       "      <td>2.627780</td>\n",
       "      <td>2.763784</td>\n",
       "      <td>-2.367868</td>\n",
       "      <td>-2.355859</td>\n",
       "      <td>-0.430069</td>\n",
       "      <td>-0.409165</td>\n",
       "      <td>-2.052849</td>\n",
       "      <td>-2.026948</td>\n",
       "      <td>-0.662411</td>\n",
       "      <td>-0.576333</td>\n",
       "    </tr>\n",
       "    <tr>\n",
       "      <th>ENSDARG00000000069_ENSDART00000000070_12170_dap_20320</th>\n",
       "      <td>chr24</td>\n",
       "      <td>-</td>\n",
       "      <td>dap</td>\n",
       "      <td>153.0</td>\n",
       "      <td>153.0</td>\n",
       "      <td>1.0</td>\n",
       "      <td>47.058824</td>\n",
       "      <td>31.8</td>\n",
       "      <td>20320.0</td>\n",
       "      <td>20320</td>\n",
       "      <td>...</td>\n",
       "      <td>2.482960</td>\n",
       "      <td>2.497563</td>\n",
       "      <td>-2.452622</td>\n",
       "      <td>-2.273506</td>\n",
       "      <td>-0.449078</td>\n",
       "      <td>-0.530098</td>\n",
       "      <td>-2.020428</td>\n",
       "      <td>-2.029758</td>\n",
       "      <td>-1.015012</td>\n",
       "      <td>-0.949125</td>\n",
       "    </tr>\n",
       "    <tr>\n",
       "      <th>...</th>\n",
       "      <td>...</td>\n",
       "      <td>...</td>\n",
       "      <td>...</td>\n",
       "      <td>...</td>\n",
       "      <td>...</td>\n",
       "      <td>...</td>\n",
       "      <td>...</td>\n",
       "      <td>...</td>\n",
       "      <td>...</td>\n",
       "      <td>...</td>\n",
       "      <td>...</td>\n",
       "      <td>...</td>\n",
       "      <td>...</td>\n",
       "      <td>...</td>\n",
       "      <td>...</td>\n",
       "      <td>...</td>\n",
       "      <td>...</td>\n",
       "      <td>...</td>\n",
       "      <td>...</td>\n",
       "      <td>...</td>\n",
       "      <td>...</td>\n",
       "    </tr>\n",
       "    <tr>\n",
       "      <th>ENSDARG00000060397_ENSDART00000085051_231_hhip_26758.1</th>\n",
       "      <td>chr1</td>\n",
       "      <td>+</td>\n",
       "      <td>hhip</td>\n",
       "      <td>410.0</td>\n",
       "      <td>209.0</td>\n",
       "      <td>2.0</td>\n",
       "      <td>31.578947</td>\n",
       "      <td>26.3</td>\n",
       "      <td>26758.1</td>\n",
       "      <td>26758</td>\n",
       "      <td>...</td>\n",
       "      <td>1.053673</td>\n",
       "      <td>1.320685</td>\n",
       "      <td>-2.363133</td>\n",
       "      <td>-3.065505</td>\n",
       "      <td>-0.596964</td>\n",
       "      <td>-0.732703</td>\n",
       "      <td>-2.512594</td>\n",
       "      <td>-2.252490</td>\n",
       "      <td>-0.694722</td>\n",
       "      <td>-1.061540</td>\n",
       "    </tr>\n",
       "    <tr>\n",
       "      <th>ENSDARG00000098284_ENSDART00000170620_10459_ctxn1_29429.4</th>\n",
       "      <td>chr22</td>\n",
       "      <td>+</td>\n",
       "      <td>ctxn1</td>\n",
       "      <td>678.0</td>\n",
       "      <td>174.0</td>\n",
       "      <td>0.0</td>\n",
       "      <td>51.724138</td>\n",
       "      <td>41.2</td>\n",
       "      <td>29429.4</td>\n",
       "      <td>29429</td>\n",
       "      <td>...</td>\n",
       "      <td>2.446544</td>\n",
       "      <td>3.069664</td>\n",
       "      <td>-3.353687</td>\n",
       "      <td>-3.767259</td>\n",
       "      <td>-0.960340</td>\n",
       "      <td>-0.857212</td>\n",
       "      <td>-1.829986</td>\n",
       "      <td>-1.724766</td>\n",
       "      <td>-0.918232</td>\n",
       "      <td>-0.969787</td>\n",
       "    </tr>\n",
       "    <tr>\n",
       "      <th>ENSDARG00000103318_ENSDART00000161570_7325_mrpl3_86762</th>\n",
       "      <td>chr19</td>\n",
       "      <td>+</td>\n",
       "      <td>mrpl3</td>\n",
       "      <td>111.0</td>\n",
       "      <td>111.0</td>\n",
       "      <td>2.0</td>\n",
       "      <td>34.234234</td>\n",
       "      <td>12.5</td>\n",
       "      <td>86762.0</td>\n",
       "      <td>86762</td>\n",
       "      <td>...</td>\n",
       "      <td>3.249464</td>\n",
       "      <td>3.248826</td>\n",
       "      <td>-2.183509</td>\n",
       "      <td>-2.343830</td>\n",
       "      <td>-0.353026</td>\n",
       "      <td>-0.293256</td>\n",
       "      <td>-1.775180</td>\n",
       "      <td>-1.836341</td>\n",
       "      <td>-1.560418</td>\n",
       "      <td>-1.601856</td>\n",
       "    </tr>\n",
       "    <tr>\n",
       "      <th>ENSDARG00000036698_ENSDART00000053300_7697_znf865_21263.6</th>\n",
       "      <td>chr19</td>\n",
       "      <td>-</td>\n",
       "      <td>znf865</td>\n",
       "      <td>1305.0</td>\n",
       "      <td>197.0</td>\n",
       "      <td>4.0</td>\n",
       "      <td>31.979695</td>\n",
       "      <td>25.9</td>\n",
       "      <td>21263.6</td>\n",
       "      <td>21263</td>\n",
       "      <td>...</td>\n",
       "      <td>2.189054</td>\n",
       "      <td>2.129192</td>\n",
       "      <td>-3.107413</td>\n",
       "      <td>-3.142238</td>\n",
       "      <td>-0.903177</td>\n",
       "      <td>-0.738932</td>\n",
       "      <td>-1.897865</td>\n",
       "      <td>-1.976108</td>\n",
       "      <td>-1.214759</td>\n",
       "      <td>-0.988991</td>\n",
       "    </tr>\n",
       "    <tr>\n",
       "      <th>ENSDARG00000056892_ENSDART00000148517_5556_mpp6a_23746.2</th>\n",
       "      <td>chr16</td>\n",
       "      <td>-</td>\n",
       "      <td>mpp6a</td>\n",
       "      <td>311.0</td>\n",
       "      <td>161.0</td>\n",
       "      <td>1.0</td>\n",
       "      <td>39.130435</td>\n",
       "      <td>37.6</td>\n",
       "      <td>23746.2</td>\n",
       "      <td>23746</td>\n",
       "      <td>...</td>\n",
       "      <td>2.607212</td>\n",
       "      <td>2.738416</td>\n",
       "      <td>-2.674871</td>\n",
       "      <td>-2.682232</td>\n",
       "      <td>-0.264765</td>\n",
       "      <td>-0.268584</td>\n",
       "      <td>-2.039131</td>\n",
       "      <td>-2.022902</td>\n",
       "      <td>-0.532362</td>\n",
       "      <td>-0.479025</td>\n",
       "    </tr>\n",
       "  </tbody>\n",
       "</table>\n",
       "<p>17951 rows × 126 columns</p>\n",
       "</div>"
      ],
      "text/plain": [
       "                                                      chr strand  \\\n",
       "ENSDARG00000000001_ENSDART00000000004_19058_slc...   chr9      -   \n",
       "ENSDARG00000000018_ENSDART00000181044_14421_nrf...   chr4      -   \n",
       "ENSDARG00000000019_ENSDART00000124452_14118_ube...   chr4      +   \n",
       "ENSDARG00000000068_ENSDART00000000069_2438_slc9...  chr12      +   \n",
       "ENSDARG00000000069_ENSDART00000000070_12170_dap...  chr24      -   \n",
       "...                                                   ...    ...   \n",
       "ENSDARG00000060397_ENSDART00000085051_231_hhip_...   chr1      +   \n",
       "ENSDARG00000098284_ENSDART00000170620_10459_ctx...  chr22      +   \n",
       "ENSDARG00000103318_ENSDART00000161570_7325_mrpl...  chr19      +   \n",
       "ENSDARG00000036698_ENSDART00000053300_7697_znf8...  chr19      -   \n",
       "ENSDARG00000056892_ENSDART00000148517_5556_mpp6...  chr16      -   \n",
       "\n",
       "                                                   external_gene_name  \\\n",
       "ENSDARG00000000001_ENSDART00000000004_19058_slc...            slc35a5   \n",
       "ENSDARG00000000018_ENSDART00000181044_14421_nrf...               nrf1   \n",
       "ENSDARG00000000019_ENSDART00000124452_14118_ube...              ube2h   \n",
       "ENSDARG00000000068_ENSDART00000000069_2438_slc9...          slc9a3r1a   \n",
       "ENSDARG00000000069_ENSDART00000000070_12170_dap...                dap   \n",
       "...                                                               ...   \n",
       "ENSDARG00000060397_ENSDART00000085051_231_hhip_...               hhip   \n",
       "ENSDARG00000098284_ENSDART00000170620_10459_ctx...              ctxn1   \n",
       "ENSDARG00000103318_ENSDART00000161570_7325_mrpl...              mrpl3   \n",
       "ENSDARG00000036698_ENSDART00000053300_7697_znf8...             znf865   \n",
       "ENSDARG00000056892_ENSDART00000148517_5556_mpp6...              mpp6a   \n",
       "\n",
       "                                                    utr_length  insert_length  \\\n",
       "ENSDARG00000000001_ENSDART00000000004_19058_slc...       103.0          103.0   \n",
       "ENSDARG00000000018_ENSDART00000181044_14421_nrf...       134.0          134.0   \n",
       "ENSDARG00000000019_ENSDART00000124452_14118_ube...       178.0          178.0   \n",
       "ENSDARG00000000068_ENSDART00000000069_2438_slc9...       152.0          152.0   \n",
       "ENSDARG00000000069_ENSDART00000000070_12170_dap...       153.0          153.0   \n",
       "...                                                        ...            ...   \n",
       "ENSDARG00000060397_ENSDART00000085051_231_hhip_...       410.0          209.0   \n",
       "ENSDARG00000098284_ENSDART00000170620_10459_ctx...       678.0          174.0   \n",
       "ENSDARG00000103318_ENSDART00000161570_7325_mrpl...       111.0          111.0   \n",
       "ENSDARG00000036698_ENSDART00000053300_7697_znf8...      1305.0          197.0   \n",
       "ENSDARG00000056892_ENSDART00000148517_5556_mpp6...       311.0          161.0   \n",
       "\n",
       "                                                    n_uORFs  GC_content  \\\n",
       "ENSDARG00000000001_ENSDART00000000004_19058_slc...      2.0   52.427184   \n",
       "ENSDARG00000000018_ENSDART00000181044_14421_nrf...      0.0   61.940299   \n",
       "ENSDARG00000000019_ENSDART00000124452_14118_ube...      1.0   46.629213   \n",
       "ENSDARG00000000068_ENSDART00000000069_2438_slc9...      0.0   46.052632   \n",
       "ENSDARG00000000069_ENSDART00000000070_12170_dap...      1.0   47.058824   \n",
       "...                                                     ...         ...   \n",
       "ENSDARG00000060397_ENSDART00000085051_231_hhip_...      2.0   31.578947   \n",
       "ENSDARG00000098284_ENSDART00000170620_10459_ctx...      0.0   51.724138   \n",
       "ENSDARG00000103318_ENSDART00000161570_7325_mrpl...      2.0   34.234234   \n",
       "ENSDARG00000036698_ENSDART00000053300_7697_znf8...      4.0   31.979695   \n",
       "ENSDARG00000056892_ENSDART00000148517_5556_mpp6...      1.0   39.130435   \n",
       "\n",
       "                                                    mxfold     index  \\\n",
       "ENSDARG00000000001_ENSDART00000000004_19058_slc...    23.9   20318.0   \n",
       "ENSDARG00000000018_ENSDART00000181044_14421_nrf...    35.3   72681.0   \n",
       "ENSDARG00000000019_ENSDART00000124452_14118_ube...    30.1   27446.0   \n",
       "ENSDARG00000000068_ENSDART00000000069_2438_slc9...    26.1  113092.0   \n",
       "ENSDARG00000000069_ENSDART00000000070_12170_dap...    31.8   20320.0   \n",
       "...                                                    ...       ...   \n",
       "ENSDARG00000060397_ENSDART00000085051_231_hhip_...    26.3   26758.1   \n",
       "ENSDARG00000098284_ENSDART00000170620_10459_ctx...    41.2   29429.4   \n",
       "ENSDARG00000103318_ENSDART00000161570_7325_mrpl...    12.5   86762.0   \n",
       "ENSDARG00000036698_ENSDART00000053300_7697_znf8...    25.9   21263.6   \n",
       "ENSDARG00000056892_ENSDART00000148517_5556_mpp6...    37.6   23746.2   \n",
       "\n",
       "                                                    index_base  ...  \\\n",
       "ENSDARG00000000001_ENSDART00000000004_19058_slc...       20318  ...   \n",
       "ENSDARG00000000018_ENSDART00000181044_14421_nrf...       72681  ...   \n",
       "ENSDARG00000000019_ENSDART00000124452_14118_ube...       27446  ...   \n",
       "ENSDARG00000000068_ENSDART00000000069_2438_slc9...      113092  ...   \n",
       "ENSDARG00000000069_ENSDART00000000070_12170_dap...       20320  ...   \n",
       "...                                                        ...  ...   \n",
       "ENSDARG00000060397_ENSDART00000085051_231_hhip_...       26758  ...   \n",
       "ENSDARG00000098284_ENSDART00000170620_10459_ctx...       29429  ...   \n",
       "ENSDARG00000103318_ENSDART00000161570_7325_mrpl...       86762  ...   \n",
       "ENSDARG00000036698_ENSDART00000053300_7697_znf8...       21263  ...   \n",
       "ENSDARG00000056892_ENSDART00000148517_5556_mpp6...       23746  ...   \n",
       "\n",
       "                                                    pred_test_log2_MRL_10hpf  \\\n",
       "ENSDARG00000000001_ENSDART00000000004_19058_slc...                  2.390045   \n",
       "ENSDARG00000000018_ENSDART00000181044_14421_nrf...                  2.448878   \n",
       "ENSDARG00000000019_ENSDART00000124452_14118_ube...                  2.501041   \n",
       "ENSDARG00000000068_ENSDART00000000069_2438_slc9...                  2.627780   \n",
       "ENSDARG00000000069_ENSDART00000000070_12170_dap...                  2.482960   \n",
       "...                                                                      ...   \n",
       "ENSDARG00000060397_ENSDART00000085051_231_hhip_...                  1.053673   \n",
       "ENSDARG00000098284_ENSDART00000170620_10459_ctx...                  2.446544   \n",
       "ENSDARG00000103318_ENSDART00000161570_7325_mrpl...                  3.249464   \n",
       "ENSDARG00000036698_ENSDART00000053300_7697_znf8...                  2.189054   \n",
       "ENSDARG00000056892_ENSDART00000148517_5556_mpp6...                  2.607212   \n",
       "\n",
       "                                                   pred_full_log2_MRL_10hpf  \\\n",
       "ENSDARG00000000001_ENSDART00000000004_19058_slc...                 2.553573   \n",
       "ENSDARG00000000018_ENSDART00000181044_14421_nrf...                 2.415843   \n",
       "ENSDARG00000000019_ENSDART00000124452_14118_ube...                 2.379249   \n",
       "ENSDARG00000000068_ENSDART00000000069_2438_slc9...                 2.763784   \n",
       "ENSDARG00000000069_ENSDART00000000070_12170_dap...                 2.497563   \n",
       "...                                                                     ...   \n",
       "ENSDARG00000060397_ENSDART00000085051_231_hhip_...                 1.320685   \n",
       "ENSDARG00000098284_ENSDART00000170620_10459_ctx...                 3.069664   \n",
       "ENSDARG00000103318_ENSDART00000161570_7325_mrpl...                 3.248826   \n",
       "ENSDARG00000036698_ENSDART00000053300_7697_znf8...                 2.129192   \n",
       "ENSDARG00000056892_ENSDART00000148517_5556_mpp6...                 2.738416   \n",
       "\n",
       "                                                    pred_test_Δlog2_X_2hpf  \\\n",
       "ENSDARG00000000001_ENSDART00000000004_19058_slc...               -1.719531   \n",
       "ENSDARG00000000018_ENSDART00000181044_14421_nrf...               -1.891235   \n",
       "ENSDARG00000000019_ENSDART00000124452_14118_ube...               -1.884392   \n",
       "ENSDARG00000000068_ENSDART00000000069_2438_slc9...               -2.367868   \n",
       "ENSDARG00000000069_ENSDART00000000070_12170_dap...               -2.452622   \n",
       "...                                                                    ...   \n",
       "ENSDARG00000060397_ENSDART00000085051_231_hhip_...               -2.363133   \n",
       "ENSDARG00000098284_ENSDART00000170620_10459_ctx...               -3.353687   \n",
       "ENSDARG00000103318_ENSDART00000161570_7325_mrpl...               -2.183509   \n",
       "ENSDARG00000036698_ENSDART00000053300_7697_znf8...               -3.107413   \n",
       "ENSDARG00000056892_ENSDART00000148517_5556_mpp6...               -2.674871   \n",
       "\n",
       "                                                    pred_full_Δlog2_X_2hpf  \\\n",
       "ENSDARG00000000001_ENSDART00000000004_19058_slc...               -1.708624   \n",
       "ENSDARG00000000018_ENSDART00000181044_14421_nrf...               -1.980832   \n",
       "ENSDARG00000000019_ENSDART00000124452_14118_ube...               -1.935805   \n",
       "ENSDARG00000000068_ENSDART00000000069_2438_slc9...               -2.355859   \n",
       "ENSDARG00000000069_ENSDART00000000070_12170_dap...               -2.273506   \n",
       "...                                                                    ...   \n",
       "ENSDARG00000060397_ENSDART00000085051_231_hhip_...               -3.065505   \n",
       "ENSDARG00000098284_ENSDART00000170620_10459_ctx...               -3.767259   \n",
       "ENSDARG00000103318_ENSDART00000161570_7325_mrpl...               -2.343830   \n",
       "ENSDARG00000036698_ENSDART00000053300_7697_znf8...               -3.142238   \n",
       "ENSDARG00000056892_ENSDART00000148517_5556_mpp6...               -2.682232   \n",
       "\n",
       "                                                    pred_test_Δlog2_X_4hpf  \\\n",
       "ENSDARG00000000001_ENSDART00000000004_19058_slc...               -0.710143   \n",
       "ENSDARG00000000018_ENSDART00000181044_14421_nrf...               -0.591849   \n",
       "ENSDARG00000000019_ENSDART00000124452_14118_ube...               -0.474855   \n",
       "ENSDARG00000000068_ENSDART00000000069_2438_slc9...               -0.430069   \n",
       "ENSDARG00000000069_ENSDART00000000070_12170_dap...               -0.449078   \n",
       "...                                                                    ...   \n",
       "ENSDARG00000060397_ENSDART00000085051_231_hhip_...               -0.596964   \n",
       "ENSDARG00000098284_ENSDART00000170620_10459_ctx...               -0.960340   \n",
       "ENSDARG00000103318_ENSDART00000161570_7325_mrpl...               -0.353026   \n",
       "ENSDARG00000036698_ENSDART00000053300_7697_znf8...               -0.903177   \n",
       "ENSDARG00000056892_ENSDART00000148517_5556_mpp6...               -0.264765   \n",
       "\n",
       "                                                    pred_full_Δlog2_X_4hpf  \\\n",
       "ENSDARG00000000001_ENSDART00000000004_19058_slc...               -0.665578   \n",
       "ENSDARG00000000018_ENSDART00000181044_14421_nrf...               -0.552270   \n",
       "ENSDARG00000000019_ENSDART00000124452_14118_ube...               -0.408718   \n",
       "ENSDARG00000000068_ENSDART00000000069_2438_slc9...               -0.409165   \n",
       "ENSDARG00000000069_ENSDART00000000070_12170_dap...               -0.530098   \n",
       "...                                                                    ...   \n",
       "ENSDARG00000060397_ENSDART00000085051_231_hhip_...               -0.732703   \n",
       "ENSDARG00000098284_ENSDART00000170620_10459_ctx...               -0.857212   \n",
       "ENSDARG00000103318_ENSDART00000161570_7325_mrpl...               -0.293256   \n",
       "ENSDARG00000036698_ENSDART00000053300_7697_znf8...               -0.738932   \n",
       "ENSDARG00000056892_ENSDART00000148517_5556_mpp6...               -0.268584   \n",
       "\n",
       "                                                    pred_test_Δlog2_X_6hpf  \\\n",
       "ENSDARG00000000001_ENSDART00000000004_19058_slc...               -1.793335   \n",
       "ENSDARG00000000018_ENSDART00000181044_14421_nrf...               -2.007738   \n",
       "ENSDARG00000000019_ENSDART00000124452_14118_ube...               -2.229212   \n",
       "ENSDARG00000000068_ENSDART00000000069_2438_slc9...               -2.052849   \n",
       "ENSDARG00000000069_ENSDART00000000070_12170_dap...               -2.020428   \n",
       "...                                                                    ...   \n",
       "ENSDARG00000060397_ENSDART00000085051_231_hhip_...               -2.512594   \n",
       "ENSDARG00000098284_ENSDART00000170620_10459_ctx...               -1.829986   \n",
       "ENSDARG00000103318_ENSDART00000161570_7325_mrpl...               -1.775180   \n",
       "ENSDARG00000036698_ENSDART00000053300_7697_znf8...               -1.897865   \n",
       "ENSDARG00000056892_ENSDART00000148517_5556_mpp6...               -2.039131   \n",
       "\n",
       "                                                    pred_full_Δlog2_X_6hpf  \\\n",
       "ENSDARG00000000001_ENSDART00000000004_19058_slc...               -1.837050   \n",
       "ENSDARG00000000018_ENSDART00000181044_14421_nrf...               -1.982406   \n",
       "ENSDARG00000000019_ENSDART00000124452_14118_ube...               -2.221917   \n",
       "ENSDARG00000000068_ENSDART00000000069_2438_slc9...               -2.026948   \n",
       "ENSDARG00000000069_ENSDART00000000070_12170_dap...               -2.029758   \n",
       "...                                                                    ...   \n",
       "ENSDARG00000060397_ENSDART00000085051_231_hhip_...               -2.252490   \n",
       "ENSDARG00000098284_ENSDART00000170620_10459_ctx...               -1.724766   \n",
       "ENSDARG00000103318_ENSDART00000161570_7325_mrpl...               -1.836341   \n",
       "ENSDARG00000036698_ENSDART00000053300_7697_znf8...               -1.976108   \n",
       "ENSDARG00000056892_ENSDART00000148517_5556_mpp6...               -2.022902   \n",
       "\n",
       "                                                    pred_test_Δlog2_X_10hpf  \\\n",
       "ENSDARG00000000001_ENSDART00000000004_19058_slc...                -1.989746   \n",
       "ENSDARG00000000018_ENSDART00000181044_14421_nrf...                -1.125323   \n",
       "ENSDARG00000000019_ENSDART00000124452_14118_ube...                -0.678730   \n",
       "ENSDARG00000000068_ENSDART00000000069_2438_slc9...                -0.662411   \n",
       "ENSDARG00000000069_ENSDART00000000070_12170_dap...                -1.015012   \n",
       "...                                                                     ...   \n",
       "ENSDARG00000060397_ENSDART00000085051_231_hhip_...                -0.694722   \n",
       "ENSDARG00000098284_ENSDART00000170620_10459_ctx...                -0.918232   \n",
       "ENSDARG00000103318_ENSDART00000161570_7325_mrpl...                -1.560418   \n",
       "ENSDARG00000036698_ENSDART00000053300_7697_znf8...                -1.214759   \n",
       "ENSDARG00000056892_ENSDART00000148517_5556_mpp6...                -0.532362   \n",
       "\n",
       "                                                    pred_full_Δlog2_X_10hpf  \n",
       "ENSDARG00000000001_ENSDART00000000004_19058_slc...                -2.020408  \n",
       "ENSDARG00000000018_ENSDART00000181044_14421_nrf...                -1.193949  \n",
       "ENSDARG00000000019_ENSDART00000124452_14118_ube...                -0.704322  \n",
       "ENSDARG00000000068_ENSDART00000000069_2438_slc9...                -0.576333  \n",
       "ENSDARG00000000069_ENSDART00000000070_12170_dap...                -0.949125  \n",
       "...                                                                     ...  \n",
       "ENSDARG00000060397_ENSDART00000085051_231_hhip_...                -1.061540  \n",
       "ENSDARG00000098284_ENSDART00000170620_10459_ctx...                -0.969787  \n",
       "ENSDARG00000103318_ENSDART00000161570_7325_mrpl...                -1.601856  \n",
       "ENSDARG00000036698_ENSDART00000053300_7697_znf8...                -0.988991  \n",
       "ENSDARG00000056892_ENSDART00000148517_5556_mpp6...                -0.479025  \n",
       "\n",
       "[17951 rows x 126 columns]"
      ]
     },
     "execution_count": 5,
     "metadata": {},
     "output_type": "execute_result"
    }
   ],
   "source": [
    "# Load data\n",
    "data_full = pandas.read_csv(\n",
    "    '../full_model_evaluation/Zb_5UTR_MPRA_with_preds.tsv',\n",
    "    index_col=0,\n",
    "    sep='\\t',\n",
    ")\n",
    "\n",
    "data_full"
   ]
  },
  {
   "cell_type": "code",
   "execution_count": 6,
   "metadata": {},
   "outputs": [
    {
     "name": "stdout",
     "output_type": "stream",
     "text": [
      "17,951 total sequences, 17,951 retained.\n"
     ]
    }
   ],
   "source": [
    "# Preserve only rows with input tpm above threshold\n",
    "tpm_threshold = 3\n",
    "data = data_full[data_full[lib_tpm_col] > tpm_threshold]\n",
    "print(f\"{len(data_full):,} total sequences, {len(data):,} retained.\")"
   ]
  },
  {
   "cell_type": "code",
   "execution_count": 7,
   "metadata": {},
   "outputs": [
    {
     "data": {
      "text/plain": [
       "238"
      ]
     },
     "execution_count": 7,
     "metadata": {},
     "output_type": "execute_result"
    }
   ],
   "source": [
    "# Maximum sequence length\n",
    "max_seq_len = int(data_full['insert_length'].max())\n",
    "max_seq_len"
   ]
  },
  {
   "cell_type": "code",
   "execution_count": 8,
   "metadata": {},
   "outputs": [
    {
     "name": "stdout",
     "output_type": "stream",
     "text": [
      "Contribution scores for 17,951 sequences loaded.\n"
     ]
    }
   ],
   "source": [
    "# Load contribution scores\n",
    "# Dictionary, where keys are insert ids and values are numpy arrays\n",
    "# with dimensions (n_model_outputs, max_seq_len, 4)\n",
    "\n",
    "with open('../contributions/contributions_ensemble_cnn_model.pickle', 'rb') as handle:\n",
    "    contributions_dict = pickle.load(handle)\n",
    "assert set(data.index.to_list()) == set(contributions_dict.keys())\n",
    "print(f\"Contribution scores for {len(contributions_dict):,} sequences loaded.\")"
   ]
  },
  {
   "cell_type": "code",
   "execution_count": 9,
   "metadata": {},
   "outputs": [
    {
     "data": {
      "text/plain": [
       "(17951, 8, 238, 4)"
      ]
     },
     "metadata": {},
     "output_type": "display_data"
    }
   ],
   "source": [
    "# Construct contributions array\n",
    "contributions_array = numpy.array([contributions_dict[index] for index in data.index])\n",
    "display(contributions_array.shape)"
   ]
  },
  {
   "cell_type": "markdown",
   "metadata": {},
   "source": [
    "# Step 1: Extracting PWMs from the convolutional layers of the models\n",
    "\n",
    "PWMs are calculated as follows:\n",
    "- Reduced models containing only the first two layers of each CNN model are created. The input of these models is one-hot encoded sequences as before, but the `(n_seqs, n_positions, n_filters)` output contains a \"score\" for each position in every sequence and every filter.\n",
    "- Filter scores are calculated on every MPRA sequence by predicting with these models.\n",
    "- For each filter, a threshold score is set to retain the top 100 score values, and the seqlets (sequence fragments) that produced these are accumulated.\n",
    "- A PWM is generated from these seqlets.\n",
    "\n",
    "In addition, this section generates plots for each filter, containing the following:\n",
    "- Histogram of filter scores along with threshold\n",
    "- PWM logo\n",
    "- Bar plot with average contribution of each output, taken from the previously calculated SHAP contribution scores.\n",
    "\n",
    "Each model has a directory createdd, where plots and a `motifs.meme` file with all extracted PWMs are stored.\n",
    "\n",
    "Finally, a single `motif.meme` file with all filters from all models is created to be used in later steps."
   ]
  },
  {
   "cell_type": "code",
   "execution_count": 10,
   "metadata": {},
   "outputs": [],
   "source": [
    "# Settings: which convolutional layer to extract PWMs from\n",
    "\n",
    "# last_layer = 1\n",
    "# receptive_field = 7\n",
    "# n_seqlets_per_filter = 1000\n",
    "\n",
    "last_layer = 2\n",
    "receptive_field = 13\n",
    "n_seqlets_per_filter = 200\n",
    "\n",
    "# last_layer = 2\n",
    "# receptive_field = 13\n",
    "# n_seqlets_per_filter = 100\n",
    "\n",
    "# Create directory to store results with these settings\n",
    "analysis_dir = os.path.join(base_results_dir, f'last_layer_{last_layer}_n_{n_seqlets_per_filter}')\n",
    "if not os.path.exists(analysis_dir):\n",
    "    os.mkdir(analysis_dir)"
   ]
  },
  {
   "cell_type": "code",
   "execution_count": 11,
   "metadata": {},
   "outputs": [],
   "source": [
    "# Create directory for filter extraction results\n",
    "filter_ext_dir = os.path.join(analysis_dir, f'filters')\n",
    "if not os.path.exists(filter_ext_dir):\n",
    "    os.mkdir(filter_ext_dir)"
   ]
  },
  {
   "cell_type": "code",
   "execution_count": 12,
   "metadata": {},
   "outputs": [],
   "source": [
    "# One-hot encode sequences\n",
    "seqs_one_hot = seq_utils.one_hot_encode(\n",
    "    data['insert_seq'].values,\n",
    "    max_seq_len=max_seq_len,\n",
    "    padding='right',\n",
    "    mask_val=0,\n",
    ")"
   ]
  },
  {
   "cell_type": "code",
   "execution_count": 13,
   "metadata": {},
   "outputs": [
    {
     "name": "stdout",
     "output_type": "stream",
     "text": [
      "WARNING:tensorflow:No training configuration found in the save file, so the model was *not* compiled. Compile it manually.\n",
      "WARNING:tensorflow:No training configuration found in the save file, so the model was *not* compiled. Compile it manually.\n",
      "WARNING:tensorflow:No training configuration found in the save file, so the model was *not* compiled. Compile it manually.\n",
      "WARNING:tensorflow:No training configuration found in the save file, so the model was *not* compiled. Compile it manually.\n",
      "WARNING:tensorflow:No training configuration found in the save file, so the model was *not* compiled. Compile it manually.\n",
      "WARNING:tensorflow:No training configuration found in the save file, so the model was *not* compiled. Compile it manually.\n",
      "WARNING:tensorflow:No training configuration found in the save file, so the model was *not* compiled. Compile it manually.\n",
      "WARNING:tensorflow:No training configuration found in the save file, so the model was *not* compiled. Compile it manually.\n",
      "WARNING:tensorflow:No training configuration found in the save file, so the model was *not* compiled. Compile it manually.\n",
      "WARNING:tensorflow:No training configuration found in the save file, so the model was *not* compiled. Compile it manually.\n"
     ]
    }
   ],
   "source": [
    "# Make reduced models\n",
    "reduced_models = []\n",
    "for model_idx in range(10):\n",
    "    # Load model\n",
    "    model_path = os.path.join('../cnn/models_cnn_vgg', f'model_{model_idx:03d}.h5')\n",
    "    model = cnn_vgg.load_model(model_path)\n",
    "\n",
    "    # Make reduced model\n",
    "    reduced_model = tensorflow.keras.Model(\n",
    "        inputs=model.input,\n",
    "        outputs=model.layers[last_layer].output,\n",
    "    )\n",
    "    reduced_models.append(reduced_model)"
   ]
  },
  {
   "cell_type": "code",
   "execution_count": 14,
   "metadata": {},
   "outputs": [],
   "source": [
    "# Code to make an extended set of model outputs for plotting,\n",
    "# containing the differences in MRL and abundances between timepoints\n",
    "def make_extended_output(val):\n",
    "    val_extended = numpy.array([\n",
    "            val[:, 0],\n",
    "            val[:, 1],\n",
    "            val[:, 2],\n",
    "            val[:, 3],\n",
    "            val[:, 3] - val[:, 0],\n",
    "            val[:, 4],\n",
    "            val[:, 5],\n",
    "            val[:, 6],\n",
    "            val[:, 7],\n",
    "        ])\n",
    "    return val_extended\n",
    "\n",
    "model_outputs_ext_labels = [\n",
    "    'log2_MRL_2hpf',\n",
    "    'log2_MRL_4hpf',\n",
    "    'log2_MRL_6hpf',\n",
    "    'log2_MRL_10hpf',\n",
    "\n",
    "    'Δlog2_MRL_10-2hpf',\n",
    "    \n",
    "    'Δlog2_X_2hpf',\n",
    "    'Δlog2_X_4hpf',\n",
    "    'Δlog2_X_6hpf',\n",
    "    'Δlog2_X_10hpf',\n",
    "]"
   ]
  },
  {
   "cell_type": "code",
   "execution_count": 15,
   "metadata": {
    "scrolled": true,
    "tags": []
   },
   "outputs": [
    {
     "name": "stdout",
     "output_type": "stream",
     "text": [
      "Processing model 0...\n",
      "Filter 0 / 128...\n"
     ]
    },
    {
     "name": "stderr",
     "output_type": "stream",
     "text": [
      "C:\\Users\\casti\\AppData\\Local\\Temp\\ipykernel_31808\\3716661773.py:146: UserWarning: FixedFormatter should only be used together with FixedLocator\n",
      "  ax.set_xticklabels(model_outputs_ext_labels, rotation=60, ha='right')\n"
     ]
    },
    {
     "name": "stdout",
     "output_type": "stream",
     "text": [
      "Filter 1 / 128...\n"
     ]
    },
    {
     "name": "stderr",
     "output_type": "stream",
     "text": [
      "C:\\Users\\casti\\AppData\\Local\\Temp\\ipykernel_31808\\3716661773.py:146: UserWarning: FixedFormatter should only be used together with FixedLocator\n",
      "  ax.set_xticklabels(model_outputs_ext_labels, rotation=60, ha='right')\n"
     ]
    },
    {
     "name": "stdout",
     "output_type": "stream",
     "text": [
      "Filter 2 / 128...\n"
     ]
    },
    {
     "name": "stderr",
     "output_type": "stream",
     "text": [
      "C:\\Users\\casti\\AppData\\Local\\Temp\\ipykernel_31808\\3716661773.py:146: UserWarning: FixedFormatter should only be used together with FixedLocator\n",
      "  ax.set_xticklabels(model_outputs_ext_labels, rotation=60, ha='right')\n"
     ]
    },
    {
     "name": "stdout",
     "output_type": "stream",
     "text": [
      "Filter 3 / 128...\n"
     ]
    },
    {
     "name": "stderr",
     "output_type": "stream",
     "text": [
      "C:\\Users\\casti\\AppData\\Local\\Temp\\ipykernel_31808\\3716661773.py:146: UserWarning: FixedFormatter should only be used together with FixedLocator\n",
      "  ax.set_xticklabels(model_outputs_ext_labels, rotation=60, ha='right')\n"
     ]
    },
    {
     "name": "stdout",
     "output_type": "stream",
     "text": [
      "Filter 4 / 128...\n"
     ]
    },
    {
     "name": "stderr",
     "output_type": "stream",
     "text": [
      "C:\\Users\\casti\\AppData\\Local\\Temp\\ipykernel_31808\\3716661773.py:146: UserWarning: FixedFormatter should only be used together with FixedLocator\n",
      "  ax.set_xticklabels(model_outputs_ext_labels, rotation=60, ha='right')\n"
     ]
    },
    {
     "name": "stdout",
     "output_type": "stream",
     "text": [
      "Filter 5 / 128...\n"
     ]
    },
    {
     "name": "stderr",
     "output_type": "stream",
     "text": [
      "C:\\Users\\casti\\AppData\\Local\\Temp\\ipykernel_31808\\3716661773.py:146: UserWarning: FixedFormatter should only be used together with FixedLocator\n",
      "  ax.set_xticklabels(model_outputs_ext_labels, rotation=60, ha='right')\n"
     ]
    },
    {
     "name": "stdout",
     "output_type": "stream",
     "text": [
      "Filter 6 / 128...\n"
     ]
    },
    {
     "name": "stderr",
     "output_type": "stream",
     "text": [
      "C:\\Users\\casti\\AppData\\Local\\Temp\\ipykernel_31808\\3716661773.py:146: UserWarning: FixedFormatter should only be used together with FixedLocator\n",
      "  ax.set_xticklabels(model_outputs_ext_labels, rotation=60, ha='right')\n"
     ]
    },
    {
     "name": "stdout",
     "output_type": "stream",
     "text": [
      "Filter 7 / 128...\n"
     ]
    },
    {
     "name": "stderr",
     "output_type": "stream",
     "text": [
      "C:\\Users\\casti\\AppData\\Local\\Temp\\ipykernel_31808\\3716661773.py:146: UserWarning: FixedFormatter should only be used together with FixedLocator\n",
      "  ax.set_xticklabels(model_outputs_ext_labels, rotation=60, ha='right')\n"
     ]
    },
    {
     "name": "stdout",
     "output_type": "stream",
     "text": [
      "Filter 8 / 128...\n"
     ]
    },
    {
     "name": "stderr",
     "output_type": "stream",
     "text": [
      "C:\\Users\\casti\\AppData\\Local\\Temp\\ipykernel_31808\\3716661773.py:146: UserWarning: FixedFormatter should only be used together with FixedLocator\n",
      "  ax.set_xticklabels(model_outputs_ext_labels, rotation=60, ha='right')\n"
     ]
    },
    {
     "name": "stdout",
     "output_type": "stream",
     "text": [
      "Filter 9 / 128...\n"
     ]
    },
    {
     "name": "stderr",
     "output_type": "stream",
     "text": [
      "C:\\Users\\casti\\AppData\\Local\\Temp\\ipykernel_31808\\3716661773.py:146: UserWarning: FixedFormatter should only be used together with FixedLocator\n",
      "  ax.set_xticklabels(model_outputs_ext_labels, rotation=60, ha='right')\n"
     ]
    },
    {
     "name": "stdout",
     "output_type": "stream",
     "text": [
      "Filter 10 / 128...\n"
     ]
    },
    {
     "name": "stderr",
     "output_type": "stream",
     "text": [
      "C:\\Users\\casti\\AppData\\Local\\Temp\\ipykernel_31808\\3716661773.py:146: UserWarning: FixedFormatter should only be used together with FixedLocator\n",
      "  ax.set_xticklabels(model_outputs_ext_labels, rotation=60, ha='right')\n"
     ]
    },
    {
     "name": "stdout",
     "output_type": "stream",
     "text": [
      "Filter 11 / 128...\n"
     ]
    },
    {
     "name": "stderr",
     "output_type": "stream",
     "text": [
      "C:\\Users\\casti\\AppData\\Local\\Temp\\ipykernel_31808\\3716661773.py:146: UserWarning: FixedFormatter should only be used together with FixedLocator\n",
      "  ax.set_xticklabels(model_outputs_ext_labels, rotation=60, ha='right')\n"
     ]
    },
    {
     "name": "stdout",
     "output_type": "stream",
     "text": [
      "Filter 12 / 128...\n"
     ]
    },
    {
     "name": "stderr",
     "output_type": "stream",
     "text": [
      "C:\\Users\\casti\\AppData\\Local\\Temp\\ipykernel_31808\\3716661773.py:146: UserWarning: FixedFormatter should only be used together with FixedLocator\n",
      "  ax.set_xticklabels(model_outputs_ext_labels, rotation=60, ha='right')\n"
     ]
    },
    {
     "name": "stdout",
     "output_type": "stream",
     "text": [
      "Filter 13 / 128...\n"
     ]
    },
    {
     "name": "stderr",
     "output_type": "stream",
     "text": [
      "C:\\Users\\casti\\AppData\\Local\\Temp\\ipykernel_31808\\3716661773.py:146: UserWarning: FixedFormatter should only be used together with FixedLocator\n",
      "  ax.set_xticklabels(model_outputs_ext_labels, rotation=60, ha='right')\n"
     ]
    },
    {
     "name": "stdout",
     "output_type": "stream",
     "text": [
      "Filter 14 / 128...\n"
     ]
    },
    {
     "name": "stderr",
     "output_type": "stream",
     "text": [
      "C:\\Users\\casti\\AppData\\Local\\Temp\\ipykernel_31808\\3716661773.py:146: UserWarning: FixedFormatter should only be used together with FixedLocator\n",
      "  ax.set_xticklabels(model_outputs_ext_labels, rotation=60, ha='right')\n"
     ]
    },
    {
     "name": "stdout",
     "output_type": "stream",
     "text": [
      "Filter 15 / 128...\n"
     ]
    },
    {
     "name": "stderr",
     "output_type": "stream",
     "text": [
      "C:\\Users\\casti\\AppData\\Local\\Temp\\ipykernel_31808\\3716661773.py:146: UserWarning: FixedFormatter should only be used together with FixedLocator\n",
      "  ax.set_xticklabels(model_outputs_ext_labels, rotation=60, ha='right')\n"
     ]
    },
    {
     "name": "stdout",
     "output_type": "stream",
     "text": [
      "Filter 16 / 128...\n"
     ]
    },
    {
     "name": "stderr",
     "output_type": "stream",
     "text": [
      "C:\\Users\\casti\\AppData\\Local\\Temp\\ipykernel_31808\\3716661773.py:146: UserWarning: FixedFormatter should only be used together with FixedLocator\n",
      "  ax.set_xticklabels(model_outputs_ext_labels, rotation=60, ha='right')\n"
     ]
    },
    {
     "name": "stdout",
     "output_type": "stream",
     "text": [
      "Filter 17 / 128...\n"
     ]
    },
    {
     "name": "stderr",
     "output_type": "stream",
     "text": [
      "C:\\Users\\casti\\AppData\\Local\\Temp\\ipykernel_31808\\3716661773.py:146: UserWarning: FixedFormatter should only be used together with FixedLocator\n",
      "  ax.set_xticklabels(model_outputs_ext_labels, rotation=60, ha='right')\n"
     ]
    },
    {
     "name": "stdout",
     "output_type": "stream",
     "text": [
      "Filter 18 / 128...\n"
     ]
    },
    {
     "name": "stderr",
     "output_type": "stream",
     "text": [
      "C:\\Users\\casti\\AppData\\Local\\Temp\\ipykernel_31808\\3716661773.py:146: UserWarning: FixedFormatter should only be used together with FixedLocator\n",
      "  ax.set_xticklabels(model_outputs_ext_labels, rotation=60, ha='right')\n"
     ]
    },
    {
     "name": "stdout",
     "output_type": "stream",
     "text": [
      "Filter 19 / 128...\n"
     ]
    },
    {
     "name": "stderr",
     "output_type": "stream",
     "text": [
      "C:\\Users\\casti\\AppData\\Local\\Temp\\ipykernel_31808\\3716661773.py:146: UserWarning: FixedFormatter should only be used together with FixedLocator\n",
      "  ax.set_xticklabels(model_outputs_ext_labels, rotation=60, ha='right')\n"
     ]
    },
    {
     "name": "stdout",
     "output_type": "stream",
     "text": [
      "Filter 20 / 128...\n"
     ]
    },
    {
     "name": "stderr",
     "output_type": "stream",
     "text": [
      "C:\\Users\\casti\\AppData\\Local\\Temp\\ipykernel_31808\\3716661773.py:146: UserWarning: FixedFormatter should only be used together with FixedLocator\n",
      "  ax.set_xticklabels(model_outputs_ext_labels, rotation=60, ha='right')\n"
     ]
    },
    {
     "name": "stdout",
     "output_type": "stream",
     "text": [
      "Filter 21 / 128...\n"
     ]
    },
    {
     "name": "stderr",
     "output_type": "stream",
     "text": [
      "C:\\Users\\casti\\AppData\\Local\\Temp\\ipykernel_31808\\3716661773.py:146: UserWarning: FixedFormatter should only be used together with FixedLocator\n",
      "  ax.set_xticklabels(model_outputs_ext_labels, rotation=60, ha='right')\n"
     ]
    },
    {
     "name": "stdout",
     "output_type": "stream",
     "text": [
      "Filter 22 / 128...\n"
     ]
    },
    {
     "name": "stderr",
     "output_type": "stream",
     "text": [
      "C:\\Users\\casti\\AppData\\Local\\Temp\\ipykernel_31808\\3716661773.py:146: UserWarning: FixedFormatter should only be used together with FixedLocator\n",
      "  ax.set_xticklabels(model_outputs_ext_labels, rotation=60, ha='right')\n"
     ]
    },
    {
     "name": "stdout",
     "output_type": "stream",
     "text": [
      "Filter 23 / 128...\n"
     ]
    },
    {
     "name": "stderr",
     "output_type": "stream",
     "text": [
      "C:\\Users\\casti\\AppData\\Local\\Temp\\ipykernel_31808\\3716661773.py:146: UserWarning: FixedFormatter should only be used together with FixedLocator\n",
      "  ax.set_xticklabels(model_outputs_ext_labels, rotation=60, ha='right')\n"
     ]
    },
    {
     "name": "stdout",
     "output_type": "stream",
     "text": [
      "Filter 24 / 128...\n"
     ]
    },
    {
     "name": "stderr",
     "output_type": "stream",
     "text": [
      "C:\\Users\\casti\\AppData\\Local\\Temp\\ipykernel_31808\\3716661773.py:146: UserWarning: FixedFormatter should only be used together with FixedLocator\n",
      "  ax.set_xticklabels(model_outputs_ext_labels, rotation=60, ha='right')\n"
     ]
    },
    {
     "name": "stdout",
     "output_type": "stream",
     "text": [
      "Filter 25 / 128...\n"
     ]
    },
    {
     "name": "stderr",
     "output_type": "stream",
     "text": [
      "C:\\Users\\casti\\AppData\\Local\\Temp\\ipykernel_31808\\3716661773.py:146: UserWarning: FixedFormatter should only be used together with FixedLocator\n",
      "  ax.set_xticklabels(model_outputs_ext_labels, rotation=60, ha='right')\n"
     ]
    },
    {
     "name": "stdout",
     "output_type": "stream",
     "text": [
      "Filter 26 / 128...\n"
     ]
    },
    {
     "name": "stderr",
     "output_type": "stream",
     "text": [
      "C:\\Users\\casti\\AppData\\Local\\Temp\\ipykernel_31808\\3716661773.py:146: UserWarning: FixedFormatter should only be used together with FixedLocator\n",
      "  ax.set_xticklabels(model_outputs_ext_labels, rotation=60, ha='right')\n"
     ]
    },
    {
     "name": "stdout",
     "output_type": "stream",
     "text": [
      "Filter 27 / 128...\n"
     ]
    },
    {
     "name": "stderr",
     "output_type": "stream",
     "text": [
      "C:\\Users\\casti\\AppData\\Local\\Temp\\ipykernel_31808\\3716661773.py:146: UserWarning: FixedFormatter should only be used together with FixedLocator\n",
      "  ax.set_xticklabels(model_outputs_ext_labels, rotation=60, ha='right')\n"
     ]
    },
    {
     "name": "stdout",
     "output_type": "stream",
     "text": [
      "Filter 28 / 128...\n"
     ]
    },
    {
     "name": "stderr",
     "output_type": "stream",
     "text": [
      "C:\\Users\\casti\\AppData\\Local\\Temp\\ipykernel_31808\\3716661773.py:146: UserWarning: FixedFormatter should only be used together with FixedLocator\n",
      "  ax.set_xticklabels(model_outputs_ext_labels, rotation=60, ha='right')\n"
     ]
    },
    {
     "name": "stdout",
     "output_type": "stream",
     "text": [
      "Filter 29 / 128...\n"
     ]
    },
    {
     "name": "stderr",
     "output_type": "stream",
     "text": [
      "C:\\Users\\casti\\AppData\\Local\\Temp\\ipykernel_31808\\3716661773.py:146: UserWarning: FixedFormatter should only be used together with FixedLocator\n",
      "  ax.set_xticklabels(model_outputs_ext_labels, rotation=60, ha='right')\n"
     ]
    },
    {
     "name": "stdout",
     "output_type": "stream",
     "text": [
      "Filter 30 / 128...\n"
     ]
    },
    {
     "name": "stderr",
     "output_type": "stream",
     "text": [
      "C:\\Users\\casti\\AppData\\Local\\Temp\\ipykernel_31808\\3716661773.py:146: UserWarning: FixedFormatter should only be used together with FixedLocator\n",
      "  ax.set_xticklabels(model_outputs_ext_labels, rotation=60, ha='right')\n"
     ]
    },
    {
     "name": "stdout",
     "output_type": "stream",
     "text": [
      "Filter 31 / 128...\n"
     ]
    },
    {
     "name": "stderr",
     "output_type": "stream",
     "text": [
      "C:\\Users\\casti\\AppData\\Local\\Temp\\ipykernel_31808\\3716661773.py:146: UserWarning: FixedFormatter should only be used together with FixedLocator\n",
      "  ax.set_xticklabels(model_outputs_ext_labels, rotation=60, ha='right')\n"
     ]
    },
    {
     "name": "stdout",
     "output_type": "stream",
     "text": [
      "Filter 32 / 128...\n"
     ]
    },
    {
     "name": "stderr",
     "output_type": "stream",
     "text": [
      "C:\\Users\\casti\\AppData\\Local\\Temp\\ipykernel_31808\\3716661773.py:146: UserWarning: FixedFormatter should only be used together with FixedLocator\n",
      "  ax.set_xticklabels(model_outputs_ext_labels, rotation=60, ha='right')\n"
     ]
    },
    {
     "name": "stdout",
     "output_type": "stream",
     "text": [
      "Filter 33 / 128...\n"
     ]
    },
    {
     "name": "stderr",
     "output_type": "stream",
     "text": [
      "C:\\Users\\casti\\AppData\\Local\\Temp\\ipykernel_31808\\3716661773.py:146: UserWarning: FixedFormatter should only be used together with FixedLocator\n",
      "  ax.set_xticklabels(model_outputs_ext_labels, rotation=60, ha='right')\n"
     ]
    },
    {
     "name": "stdout",
     "output_type": "stream",
     "text": [
      "Filter 34 / 128...\n"
     ]
    },
    {
     "name": "stderr",
     "output_type": "stream",
     "text": [
      "C:\\Users\\casti\\AppData\\Local\\Temp\\ipykernel_31808\\3716661773.py:146: UserWarning: FixedFormatter should only be used together with FixedLocator\n",
      "  ax.set_xticklabels(model_outputs_ext_labels, rotation=60, ha='right')\n"
     ]
    },
    {
     "name": "stdout",
     "output_type": "stream",
     "text": [
      "Filter 35 / 128...\n"
     ]
    },
    {
     "name": "stderr",
     "output_type": "stream",
     "text": [
      "C:\\Users\\casti\\AppData\\Local\\Temp\\ipykernel_31808\\3716661773.py:146: UserWarning: FixedFormatter should only be used together with FixedLocator\n",
      "  ax.set_xticklabels(model_outputs_ext_labels, rotation=60, ha='right')\n"
     ]
    },
    {
     "name": "stdout",
     "output_type": "stream",
     "text": [
      "Filter 36 / 128...\n"
     ]
    },
    {
     "name": "stderr",
     "output_type": "stream",
     "text": [
      "C:\\Users\\casti\\AppData\\Local\\Temp\\ipykernel_31808\\3716661773.py:146: UserWarning: FixedFormatter should only be used together with FixedLocator\n",
      "  ax.set_xticklabels(model_outputs_ext_labels, rotation=60, ha='right')\n"
     ]
    },
    {
     "name": "stdout",
     "output_type": "stream",
     "text": [
      "Filter 37 / 128...\n"
     ]
    },
    {
     "name": "stderr",
     "output_type": "stream",
     "text": [
      "C:\\Users\\casti\\AppData\\Local\\Temp\\ipykernel_31808\\3716661773.py:146: UserWarning: FixedFormatter should only be used together with FixedLocator\n",
      "  ax.set_xticklabels(model_outputs_ext_labels, rotation=60, ha='right')\n"
     ]
    },
    {
     "name": "stdout",
     "output_type": "stream",
     "text": [
      "Filter 38 / 128...\n"
     ]
    },
    {
     "name": "stderr",
     "output_type": "stream",
     "text": [
      "C:\\Users\\casti\\AppData\\Local\\Temp\\ipykernel_31808\\3716661773.py:146: UserWarning: FixedFormatter should only be used together with FixedLocator\n",
      "  ax.set_xticklabels(model_outputs_ext_labels, rotation=60, ha='right')\n"
     ]
    },
    {
     "name": "stdout",
     "output_type": "stream",
     "text": [
      "Filter 39 / 128...\n"
     ]
    },
    {
     "name": "stderr",
     "output_type": "stream",
     "text": [
      "C:\\Users\\casti\\AppData\\Local\\Temp\\ipykernel_31808\\3716661773.py:146: UserWarning: FixedFormatter should only be used together with FixedLocator\n",
      "  ax.set_xticklabels(model_outputs_ext_labels, rotation=60, ha='right')\n"
     ]
    },
    {
     "name": "stdout",
     "output_type": "stream",
     "text": [
      "Filter 40 / 128...\n"
     ]
    },
    {
     "name": "stderr",
     "output_type": "stream",
     "text": [
      "C:\\Users\\casti\\AppData\\Local\\Temp\\ipykernel_31808\\3716661773.py:146: UserWarning: FixedFormatter should only be used together with FixedLocator\n",
      "  ax.set_xticklabels(model_outputs_ext_labels, rotation=60, ha='right')\n"
     ]
    },
    {
     "name": "stdout",
     "output_type": "stream",
     "text": [
      "Filter 41 / 128...\n"
     ]
    },
    {
     "name": "stderr",
     "output_type": "stream",
     "text": [
      "C:\\Users\\casti\\AppData\\Local\\Temp\\ipykernel_31808\\3716661773.py:146: UserWarning: FixedFormatter should only be used together with FixedLocator\n",
      "  ax.set_xticklabels(model_outputs_ext_labels, rotation=60, ha='right')\n"
     ]
    },
    {
     "name": "stdout",
     "output_type": "stream",
     "text": [
      "Filter 42 / 128...\n"
     ]
    },
    {
     "name": "stderr",
     "output_type": "stream",
     "text": [
      "C:\\Users\\casti\\AppData\\Local\\Temp\\ipykernel_31808\\3716661773.py:146: UserWarning: FixedFormatter should only be used together with FixedLocator\n",
      "  ax.set_xticklabels(model_outputs_ext_labels, rotation=60, ha='right')\n"
     ]
    },
    {
     "name": "stdout",
     "output_type": "stream",
     "text": [
      "Filter 43 / 128...\n"
     ]
    },
    {
     "name": "stderr",
     "output_type": "stream",
     "text": [
      "C:\\Users\\casti\\AppData\\Local\\Temp\\ipykernel_31808\\3716661773.py:146: UserWarning: FixedFormatter should only be used together with FixedLocator\n",
      "  ax.set_xticklabels(model_outputs_ext_labels, rotation=60, ha='right')\n"
     ]
    },
    {
     "name": "stdout",
     "output_type": "stream",
     "text": [
      "Filter 44 / 128...\n"
     ]
    },
    {
     "name": "stderr",
     "output_type": "stream",
     "text": [
      "C:\\Users\\casti\\AppData\\Local\\Temp\\ipykernel_31808\\3716661773.py:146: UserWarning: FixedFormatter should only be used together with FixedLocator\n",
      "  ax.set_xticklabels(model_outputs_ext_labels, rotation=60, ha='right')\n"
     ]
    },
    {
     "name": "stdout",
     "output_type": "stream",
     "text": [
      "Filter 45 / 128...\n"
     ]
    },
    {
     "name": "stderr",
     "output_type": "stream",
     "text": [
      "C:\\Users\\casti\\AppData\\Local\\Temp\\ipykernel_31808\\3716661773.py:146: UserWarning: FixedFormatter should only be used together with FixedLocator\n",
      "  ax.set_xticklabels(model_outputs_ext_labels, rotation=60, ha='right')\n"
     ]
    },
    {
     "name": "stdout",
     "output_type": "stream",
     "text": [
      "Filter 46 / 128...\n"
     ]
    },
    {
     "name": "stderr",
     "output_type": "stream",
     "text": [
      "C:\\Users\\casti\\AppData\\Local\\Temp\\ipykernel_31808\\3716661773.py:146: UserWarning: FixedFormatter should only be used together with FixedLocator\n",
      "  ax.set_xticklabels(model_outputs_ext_labels, rotation=60, ha='right')\n"
     ]
    },
    {
     "name": "stdout",
     "output_type": "stream",
     "text": [
      "Filter 47 / 128...\n"
     ]
    },
    {
     "name": "stderr",
     "output_type": "stream",
     "text": [
      "C:\\Users\\casti\\AppData\\Local\\Temp\\ipykernel_31808\\3716661773.py:146: UserWarning: FixedFormatter should only be used together with FixedLocator\n",
      "  ax.set_xticklabels(model_outputs_ext_labels, rotation=60, ha='right')\n"
     ]
    },
    {
     "name": "stdout",
     "output_type": "stream",
     "text": [
      "Filter 48 / 128...\n"
     ]
    },
    {
     "name": "stderr",
     "output_type": "stream",
     "text": [
      "C:\\Users\\casti\\AppData\\Local\\Temp\\ipykernel_31808\\3716661773.py:146: UserWarning: FixedFormatter should only be used together with FixedLocator\n",
      "  ax.set_xticklabels(model_outputs_ext_labels, rotation=60, ha='right')\n"
     ]
    },
    {
     "name": "stdout",
     "output_type": "stream",
     "text": [
      "Filter 49 / 128...\n"
     ]
    },
    {
     "name": "stderr",
     "output_type": "stream",
     "text": [
      "C:\\Users\\casti\\AppData\\Local\\Temp\\ipykernel_31808\\3716661773.py:146: UserWarning: FixedFormatter should only be used together with FixedLocator\n",
      "  ax.set_xticklabels(model_outputs_ext_labels, rotation=60, ha='right')\n"
     ]
    },
    {
     "name": "stdout",
     "output_type": "stream",
     "text": [
      "Filter 50 / 128...\n"
     ]
    },
    {
     "name": "stderr",
     "output_type": "stream",
     "text": [
      "C:\\Users\\casti\\AppData\\Local\\Temp\\ipykernel_31808\\3716661773.py:146: UserWarning: FixedFormatter should only be used together with FixedLocator\n",
      "  ax.set_xticklabels(model_outputs_ext_labels, rotation=60, ha='right')\n"
     ]
    },
    {
     "name": "stdout",
     "output_type": "stream",
     "text": [
      "Filter 51 / 128...\n"
     ]
    },
    {
     "name": "stderr",
     "output_type": "stream",
     "text": [
      "C:\\Users\\casti\\AppData\\Local\\Temp\\ipykernel_31808\\3716661773.py:146: UserWarning: FixedFormatter should only be used together with FixedLocator\n",
      "  ax.set_xticklabels(model_outputs_ext_labels, rotation=60, ha='right')\n"
     ]
    },
    {
     "name": "stdout",
     "output_type": "stream",
     "text": [
      "Filter 52 / 128...\n"
     ]
    },
    {
     "name": "stderr",
     "output_type": "stream",
     "text": [
      "C:\\Users\\casti\\AppData\\Local\\Temp\\ipykernel_31808\\3716661773.py:146: UserWarning: FixedFormatter should only be used together with FixedLocator\n",
      "  ax.set_xticklabels(model_outputs_ext_labels, rotation=60, ha='right')\n"
     ]
    },
    {
     "name": "stdout",
     "output_type": "stream",
     "text": [
      "Filter 53 / 128...\n"
     ]
    },
    {
     "name": "stderr",
     "output_type": "stream",
     "text": [
      "C:\\Users\\casti\\AppData\\Local\\Temp\\ipykernel_31808\\3716661773.py:146: UserWarning: FixedFormatter should only be used together with FixedLocator\n",
      "  ax.set_xticklabels(model_outputs_ext_labels, rotation=60, ha='right')\n"
     ]
    },
    {
     "name": "stdout",
     "output_type": "stream",
     "text": [
      "Filter 54 / 128...\n"
     ]
    },
    {
     "name": "stderr",
     "output_type": "stream",
     "text": [
      "C:\\Users\\casti\\AppData\\Local\\Temp\\ipykernel_31808\\3716661773.py:146: UserWarning: FixedFormatter should only be used together with FixedLocator\n",
      "  ax.set_xticklabels(model_outputs_ext_labels, rotation=60, ha='right')\n"
     ]
    },
    {
     "name": "stdout",
     "output_type": "stream",
     "text": [
      "Filter 55 / 128...\n"
     ]
    },
    {
     "name": "stderr",
     "output_type": "stream",
     "text": [
      "C:\\Users\\casti\\AppData\\Local\\Temp\\ipykernel_31808\\3716661773.py:146: UserWarning: FixedFormatter should only be used together with FixedLocator\n",
      "  ax.set_xticklabels(model_outputs_ext_labels, rotation=60, ha='right')\n"
     ]
    },
    {
     "name": "stdout",
     "output_type": "stream",
     "text": [
      "Filter 56 / 128...\n"
     ]
    },
    {
     "name": "stderr",
     "output_type": "stream",
     "text": [
      "C:\\Users\\casti\\AppData\\Local\\Temp\\ipykernel_31808\\3716661773.py:146: UserWarning: FixedFormatter should only be used together with FixedLocator\n",
      "  ax.set_xticklabels(model_outputs_ext_labels, rotation=60, ha='right')\n"
     ]
    },
    {
     "name": "stdout",
     "output_type": "stream",
     "text": [
      "Filter 57 / 128...\n"
     ]
    },
    {
     "name": "stderr",
     "output_type": "stream",
     "text": [
      "C:\\Users\\casti\\AppData\\Local\\Temp\\ipykernel_31808\\3716661773.py:146: UserWarning: FixedFormatter should only be used together with FixedLocator\n",
      "  ax.set_xticklabels(model_outputs_ext_labels, rotation=60, ha='right')\n"
     ]
    },
    {
     "name": "stdout",
     "output_type": "stream",
     "text": [
      "Filter 58 / 128...\n"
     ]
    },
    {
     "name": "stderr",
     "output_type": "stream",
     "text": [
      "C:\\Users\\casti\\AppData\\Local\\Temp\\ipykernel_31808\\3716661773.py:146: UserWarning: FixedFormatter should only be used together with FixedLocator\n",
      "  ax.set_xticklabels(model_outputs_ext_labels, rotation=60, ha='right')\n"
     ]
    },
    {
     "name": "stdout",
     "output_type": "stream",
     "text": [
      "Filter 59 / 128...\n"
     ]
    },
    {
     "name": "stderr",
     "output_type": "stream",
     "text": [
      "C:\\Users\\casti\\AppData\\Local\\Temp\\ipykernel_31808\\3716661773.py:146: UserWarning: FixedFormatter should only be used together with FixedLocator\n",
      "  ax.set_xticklabels(model_outputs_ext_labels, rotation=60, ha='right')\n"
     ]
    },
    {
     "name": "stdout",
     "output_type": "stream",
     "text": [
      "Filter 60 / 128...\n"
     ]
    },
    {
     "name": "stderr",
     "output_type": "stream",
     "text": [
      "C:\\Users\\casti\\AppData\\Local\\Temp\\ipykernel_31808\\3716661773.py:146: UserWarning: FixedFormatter should only be used together with FixedLocator\n",
      "  ax.set_xticklabels(model_outputs_ext_labels, rotation=60, ha='right')\n"
     ]
    },
    {
     "name": "stdout",
     "output_type": "stream",
     "text": [
      "Filter 61 / 128...\n"
     ]
    },
    {
     "name": "stderr",
     "output_type": "stream",
     "text": [
      "C:\\Users\\casti\\AppData\\Local\\Temp\\ipykernel_31808\\3716661773.py:146: UserWarning: FixedFormatter should only be used together with FixedLocator\n",
      "  ax.set_xticklabels(model_outputs_ext_labels, rotation=60, ha='right')\n"
     ]
    },
    {
     "name": "stdout",
     "output_type": "stream",
     "text": [
      "Filter 62 / 128...\n"
     ]
    },
    {
     "name": "stderr",
     "output_type": "stream",
     "text": [
      "C:\\Users\\casti\\AppData\\Local\\Temp\\ipykernel_31808\\3716661773.py:146: UserWarning: FixedFormatter should only be used together with FixedLocator\n",
      "  ax.set_xticklabels(model_outputs_ext_labels, rotation=60, ha='right')\n"
     ]
    },
    {
     "name": "stdout",
     "output_type": "stream",
     "text": [
      "Filter 63 / 128...\n"
     ]
    },
    {
     "name": "stderr",
     "output_type": "stream",
     "text": [
      "C:\\Users\\casti\\AppData\\Local\\Temp\\ipykernel_31808\\3716661773.py:146: UserWarning: FixedFormatter should only be used together with FixedLocator\n",
      "  ax.set_xticklabels(model_outputs_ext_labels, rotation=60, ha='right')\n"
     ]
    },
    {
     "name": "stdout",
     "output_type": "stream",
     "text": [
      "Filter 64 / 128...\n"
     ]
    },
    {
     "name": "stderr",
     "output_type": "stream",
     "text": [
      "C:\\Users\\casti\\AppData\\Local\\Temp\\ipykernel_31808\\3716661773.py:146: UserWarning: FixedFormatter should only be used together with FixedLocator\n",
      "  ax.set_xticklabels(model_outputs_ext_labels, rotation=60, ha='right')\n"
     ]
    },
    {
     "name": "stdout",
     "output_type": "stream",
     "text": [
      "Filter 65 / 128...\n"
     ]
    },
    {
     "name": "stderr",
     "output_type": "stream",
     "text": [
      "C:\\Users\\casti\\AppData\\Local\\Temp\\ipykernel_31808\\3716661773.py:146: UserWarning: FixedFormatter should only be used together with FixedLocator\n",
      "  ax.set_xticklabels(model_outputs_ext_labels, rotation=60, ha='right')\n"
     ]
    },
    {
     "name": "stdout",
     "output_type": "stream",
     "text": [
      "Filter 66 / 128...\n"
     ]
    },
    {
     "name": "stderr",
     "output_type": "stream",
     "text": [
      "C:\\Users\\casti\\AppData\\Local\\Temp\\ipykernel_31808\\3716661773.py:146: UserWarning: FixedFormatter should only be used together with FixedLocator\n",
      "  ax.set_xticklabels(model_outputs_ext_labels, rotation=60, ha='right')\n"
     ]
    },
    {
     "name": "stdout",
     "output_type": "stream",
     "text": [
      "Filter 67 / 128...\n"
     ]
    },
    {
     "name": "stderr",
     "output_type": "stream",
     "text": [
      "C:\\Users\\casti\\AppData\\Local\\Temp\\ipykernel_31808\\3716661773.py:146: UserWarning: FixedFormatter should only be used together with FixedLocator\n",
      "  ax.set_xticklabels(model_outputs_ext_labels, rotation=60, ha='right')\n"
     ]
    },
    {
     "name": "stdout",
     "output_type": "stream",
     "text": [
      "Filter 68 / 128...\n"
     ]
    },
    {
     "name": "stderr",
     "output_type": "stream",
     "text": [
      "C:\\Users\\casti\\AppData\\Local\\Temp\\ipykernel_31808\\3716661773.py:146: UserWarning: FixedFormatter should only be used together with FixedLocator\n",
      "  ax.set_xticklabels(model_outputs_ext_labels, rotation=60, ha='right')\n"
     ]
    },
    {
     "name": "stdout",
     "output_type": "stream",
     "text": [
      "Filter 69 / 128...\n"
     ]
    },
    {
     "name": "stderr",
     "output_type": "stream",
     "text": [
      "C:\\Users\\casti\\AppData\\Local\\Temp\\ipykernel_31808\\3716661773.py:146: UserWarning: FixedFormatter should only be used together with FixedLocator\n",
      "  ax.set_xticklabels(model_outputs_ext_labels, rotation=60, ha='right')\n"
     ]
    },
    {
     "name": "stdout",
     "output_type": "stream",
     "text": [
      "Filter 70 / 128...\n"
     ]
    },
    {
     "name": "stderr",
     "output_type": "stream",
     "text": [
      "C:\\Users\\casti\\AppData\\Local\\Temp\\ipykernel_31808\\3716661773.py:146: UserWarning: FixedFormatter should only be used together with FixedLocator\n",
      "  ax.set_xticklabels(model_outputs_ext_labels, rotation=60, ha='right')\n"
     ]
    },
    {
     "name": "stdout",
     "output_type": "stream",
     "text": [
      "Filter 71 / 128...\n"
     ]
    },
    {
     "name": "stderr",
     "output_type": "stream",
     "text": [
      "C:\\Users\\casti\\AppData\\Local\\Temp\\ipykernel_31808\\3716661773.py:146: UserWarning: FixedFormatter should only be used together with FixedLocator\n",
      "  ax.set_xticklabels(model_outputs_ext_labels, rotation=60, ha='right')\n"
     ]
    },
    {
     "name": "stdout",
     "output_type": "stream",
     "text": [
      "Filter 72 / 128...\n"
     ]
    },
    {
     "name": "stderr",
     "output_type": "stream",
     "text": [
      "C:\\Users\\casti\\AppData\\Local\\Temp\\ipykernel_31808\\3716661773.py:146: UserWarning: FixedFormatter should only be used together with FixedLocator\n",
      "  ax.set_xticklabels(model_outputs_ext_labels, rotation=60, ha='right')\n"
     ]
    },
    {
     "name": "stdout",
     "output_type": "stream",
     "text": [
      "Filter 73 / 128...\n"
     ]
    },
    {
     "name": "stderr",
     "output_type": "stream",
     "text": [
      "C:\\Users\\casti\\AppData\\Local\\Temp\\ipykernel_31808\\3716661773.py:146: UserWarning: FixedFormatter should only be used together with FixedLocator\n",
      "  ax.set_xticklabels(model_outputs_ext_labels, rotation=60, ha='right')\n"
     ]
    },
    {
     "name": "stdout",
     "output_type": "stream",
     "text": [
      "Filter 74 / 128...\n"
     ]
    },
    {
     "name": "stderr",
     "output_type": "stream",
     "text": [
      "C:\\Users\\casti\\AppData\\Local\\Temp\\ipykernel_31808\\3716661773.py:146: UserWarning: FixedFormatter should only be used together with FixedLocator\n",
      "  ax.set_xticklabels(model_outputs_ext_labels, rotation=60, ha='right')\n"
     ]
    },
    {
     "name": "stdout",
     "output_type": "stream",
     "text": [
      "Filter 75 / 128...\n"
     ]
    },
    {
     "name": "stderr",
     "output_type": "stream",
     "text": [
      "C:\\Users\\casti\\AppData\\Local\\Temp\\ipykernel_31808\\3716661773.py:146: UserWarning: FixedFormatter should only be used together with FixedLocator\n",
      "  ax.set_xticklabels(model_outputs_ext_labels, rotation=60, ha='right')\n"
     ]
    },
    {
     "name": "stdout",
     "output_type": "stream",
     "text": [
      "Filter 76 / 128...\n"
     ]
    },
    {
     "name": "stderr",
     "output_type": "stream",
     "text": [
      "C:\\Users\\casti\\AppData\\Local\\Temp\\ipykernel_31808\\3716661773.py:146: UserWarning: FixedFormatter should only be used together with FixedLocator\n",
      "  ax.set_xticklabels(model_outputs_ext_labels, rotation=60, ha='right')\n"
     ]
    },
    {
     "name": "stdout",
     "output_type": "stream",
     "text": [
      "Filter 77 / 128...\n"
     ]
    },
    {
     "name": "stderr",
     "output_type": "stream",
     "text": [
      "C:\\Users\\casti\\AppData\\Local\\Temp\\ipykernel_31808\\3716661773.py:146: UserWarning: FixedFormatter should only be used together with FixedLocator\n",
      "  ax.set_xticklabels(model_outputs_ext_labels, rotation=60, ha='right')\n"
     ]
    },
    {
     "name": "stdout",
     "output_type": "stream",
     "text": [
      "Filter 78 / 128...\n"
     ]
    },
    {
     "name": "stderr",
     "output_type": "stream",
     "text": [
      "C:\\Users\\casti\\AppData\\Local\\Temp\\ipykernel_31808\\3716661773.py:146: UserWarning: FixedFormatter should only be used together with FixedLocator\n",
      "  ax.set_xticklabels(model_outputs_ext_labels, rotation=60, ha='right')\n"
     ]
    },
    {
     "name": "stdout",
     "output_type": "stream",
     "text": [
      "Filter 79 / 128...\n"
     ]
    },
    {
     "name": "stderr",
     "output_type": "stream",
     "text": [
      "C:\\Users\\casti\\AppData\\Local\\Temp\\ipykernel_31808\\3716661773.py:146: UserWarning: FixedFormatter should only be used together with FixedLocator\n",
      "  ax.set_xticklabels(model_outputs_ext_labels, rotation=60, ha='right')\n"
     ]
    },
    {
     "name": "stdout",
     "output_type": "stream",
     "text": [
      "Filter 80 / 128...\n"
     ]
    },
    {
     "name": "stderr",
     "output_type": "stream",
     "text": [
      "C:\\Users\\casti\\AppData\\Local\\Temp\\ipykernel_31808\\3716661773.py:146: UserWarning: FixedFormatter should only be used together with FixedLocator\n",
      "  ax.set_xticklabels(model_outputs_ext_labels, rotation=60, ha='right')\n"
     ]
    },
    {
     "name": "stdout",
     "output_type": "stream",
     "text": [
      "Filter 81 / 128...\n"
     ]
    },
    {
     "name": "stderr",
     "output_type": "stream",
     "text": [
      "C:\\Users\\casti\\AppData\\Local\\Temp\\ipykernel_31808\\3716661773.py:146: UserWarning: FixedFormatter should only be used together with FixedLocator\n",
      "  ax.set_xticklabels(model_outputs_ext_labels, rotation=60, ha='right')\n"
     ]
    },
    {
     "name": "stdout",
     "output_type": "stream",
     "text": [
      "Filter 82 / 128...\n"
     ]
    },
    {
     "name": "stderr",
     "output_type": "stream",
     "text": [
      "C:\\Users\\casti\\AppData\\Local\\Temp\\ipykernel_31808\\3716661773.py:146: UserWarning: FixedFormatter should only be used together with FixedLocator\n",
      "  ax.set_xticklabels(model_outputs_ext_labels, rotation=60, ha='right')\n"
     ]
    },
    {
     "name": "stdout",
     "output_type": "stream",
     "text": [
      "Filter 83 / 128...\n"
     ]
    },
    {
     "name": "stderr",
     "output_type": "stream",
     "text": [
      "C:\\Users\\casti\\AppData\\Local\\Temp\\ipykernel_31808\\3716661773.py:146: UserWarning: FixedFormatter should only be used together with FixedLocator\n",
      "  ax.set_xticklabels(model_outputs_ext_labels, rotation=60, ha='right')\n"
     ]
    },
    {
     "name": "stdout",
     "output_type": "stream",
     "text": [
      "Filter 84 / 128...\n"
     ]
    },
    {
     "name": "stderr",
     "output_type": "stream",
     "text": [
      "C:\\Users\\casti\\AppData\\Local\\Temp\\ipykernel_31808\\3716661773.py:146: UserWarning: FixedFormatter should only be used together with FixedLocator\n",
      "  ax.set_xticklabels(model_outputs_ext_labels, rotation=60, ha='right')\n"
     ]
    },
    {
     "name": "stdout",
     "output_type": "stream",
     "text": [
      "Filter 85 / 128...\n"
     ]
    },
    {
     "name": "stderr",
     "output_type": "stream",
     "text": [
      "C:\\Users\\casti\\AppData\\Local\\Temp\\ipykernel_31808\\3716661773.py:146: UserWarning: FixedFormatter should only be used together with FixedLocator\n",
      "  ax.set_xticklabels(model_outputs_ext_labels, rotation=60, ha='right')\n"
     ]
    },
    {
     "name": "stdout",
     "output_type": "stream",
     "text": [
      "Filter 86 / 128...\n"
     ]
    },
    {
     "name": "stderr",
     "output_type": "stream",
     "text": [
      "C:\\Users\\casti\\AppData\\Local\\Temp\\ipykernel_31808\\3716661773.py:146: UserWarning: FixedFormatter should only be used together with FixedLocator\n",
      "  ax.set_xticklabels(model_outputs_ext_labels, rotation=60, ha='right')\n"
     ]
    },
    {
     "name": "stdout",
     "output_type": "stream",
     "text": [
      "Filter 87 / 128...\n"
     ]
    },
    {
     "name": "stderr",
     "output_type": "stream",
     "text": [
      "C:\\Users\\casti\\AppData\\Local\\Temp\\ipykernel_31808\\3716661773.py:146: UserWarning: FixedFormatter should only be used together with FixedLocator\n",
      "  ax.set_xticklabels(model_outputs_ext_labels, rotation=60, ha='right')\n"
     ]
    },
    {
     "name": "stdout",
     "output_type": "stream",
     "text": [
      "Filter 88 / 128...\n"
     ]
    },
    {
     "name": "stderr",
     "output_type": "stream",
     "text": [
      "C:\\Users\\casti\\AppData\\Local\\Temp\\ipykernel_31808\\3716661773.py:146: UserWarning: FixedFormatter should only be used together with FixedLocator\n",
      "  ax.set_xticklabels(model_outputs_ext_labels, rotation=60, ha='right')\n"
     ]
    },
    {
     "name": "stdout",
     "output_type": "stream",
     "text": [
      "Filter 89 / 128...\n"
     ]
    },
    {
     "name": "stderr",
     "output_type": "stream",
     "text": [
      "C:\\Users\\casti\\AppData\\Local\\Temp\\ipykernel_31808\\3716661773.py:146: UserWarning: FixedFormatter should only be used together with FixedLocator\n",
      "  ax.set_xticklabels(model_outputs_ext_labels, rotation=60, ha='right')\n"
     ]
    },
    {
     "name": "stdout",
     "output_type": "stream",
     "text": [
      "Filter 90 / 128...\n"
     ]
    },
    {
     "name": "stderr",
     "output_type": "stream",
     "text": [
      "C:\\Users\\casti\\AppData\\Local\\Temp\\ipykernel_31808\\3716661773.py:146: UserWarning: FixedFormatter should only be used together with FixedLocator\n",
      "  ax.set_xticklabels(model_outputs_ext_labels, rotation=60, ha='right')\n"
     ]
    },
    {
     "name": "stdout",
     "output_type": "stream",
     "text": [
      "Filter 91 / 128...\n"
     ]
    },
    {
     "name": "stderr",
     "output_type": "stream",
     "text": [
      "C:\\Users\\casti\\AppData\\Local\\Temp\\ipykernel_31808\\3716661773.py:146: UserWarning: FixedFormatter should only be used together with FixedLocator\n",
      "  ax.set_xticklabels(model_outputs_ext_labels, rotation=60, ha='right')\n"
     ]
    },
    {
     "name": "stdout",
     "output_type": "stream",
     "text": [
      "Filter 92 / 128...\n"
     ]
    },
    {
     "name": "stderr",
     "output_type": "stream",
     "text": [
      "C:\\Users\\casti\\AppData\\Local\\Temp\\ipykernel_31808\\3716661773.py:146: UserWarning: FixedFormatter should only be used together with FixedLocator\n",
      "  ax.set_xticklabels(model_outputs_ext_labels, rotation=60, ha='right')\n"
     ]
    },
    {
     "name": "stdout",
     "output_type": "stream",
     "text": [
      "Filter 93 / 128...\n"
     ]
    },
    {
     "name": "stderr",
     "output_type": "stream",
     "text": [
      "C:\\Users\\casti\\AppData\\Local\\Temp\\ipykernel_31808\\3716661773.py:146: UserWarning: FixedFormatter should only be used together with FixedLocator\n",
      "  ax.set_xticklabels(model_outputs_ext_labels, rotation=60, ha='right')\n"
     ]
    },
    {
     "name": "stdout",
     "output_type": "stream",
     "text": [
      "Filter 94 / 128...\n"
     ]
    },
    {
     "name": "stderr",
     "output_type": "stream",
     "text": [
      "C:\\Users\\casti\\AppData\\Local\\Temp\\ipykernel_31808\\3716661773.py:146: UserWarning: FixedFormatter should only be used together with FixedLocator\n",
      "  ax.set_xticklabels(model_outputs_ext_labels, rotation=60, ha='right')\n"
     ]
    },
    {
     "name": "stdout",
     "output_type": "stream",
     "text": [
      "Filter 95 / 128...\n"
     ]
    },
    {
     "name": "stderr",
     "output_type": "stream",
     "text": [
      "C:\\Users\\casti\\AppData\\Local\\Temp\\ipykernel_31808\\3716661773.py:146: UserWarning: FixedFormatter should only be used together with FixedLocator\n",
      "  ax.set_xticklabels(model_outputs_ext_labels, rotation=60, ha='right')\n"
     ]
    },
    {
     "name": "stdout",
     "output_type": "stream",
     "text": [
      "Filter 96 / 128...\n"
     ]
    },
    {
     "name": "stderr",
     "output_type": "stream",
     "text": [
      "C:\\Users\\casti\\AppData\\Local\\Temp\\ipykernel_31808\\3716661773.py:146: UserWarning: FixedFormatter should only be used together with FixedLocator\n",
      "  ax.set_xticklabels(model_outputs_ext_labels, rotation=60, ha='right')\n"
     ]
    },
    {
     "name": "stdout",
     "output_type": "stream",
     "text": [
      "Filter 97 / 128...\n"
     ]
    },
    {
     "name": "stderr",
     "output_type": "stream",
     "text": [
      "C:\\Users\\casti\\AppData\\Local\\Temp\\ipykernel_31808\\3716661773.py:146: UserWarning: FixedFormatter should only be used together with FixedLocator\n",
      "  ax.set_xticklabels(model_outputs_ext_labels, rotation=60, ha='right')\n"
     ]
    },
    {
     "name": "stdout",
     "output_type": "stream",
     "text": [
      "Filter 98 / 128...\n"
     ]
    },
    {
     "name": "stderr",
     "output_type": "stream",
     "text": [
      "C:\\Users\\casti\\AppData\\Local\\Temp\\ipykernel_31808\\3716661773.py:146: UserWarning: FixedFormatter should only be used together with FixedLocator\n",
      "  ax.set_xticklabels(model_outputs_ext_labels, rotation=60, ha='right')\n"
     ]
    },
    {
     "name": "stdout",
     "output_type": "stream",
     "text": [
      "Filter 99 / 128...\n"
     ]
    },
    {
     "name": "stderr",
     "output_type": "stream",
     "text": [
      "C:\\Users\\casti\\AppData\\Local\\Temp\\ipykernel_31808\\3716661773.py:146: UserWarning: FixedFormatter should only be used together with FixedLocator\n",
      "  ax.set_xticklabels(model_outputs_ext_labels, rotation=60, ha='right')\n"
     ]
    },
    {
     "name": "stdout",
     "output_type": "stream",
     "text": [
      "Filter 100 / 128...\n"
     ]
    },
    {
     "name": "stderr",
     "output_type": "stream",
     "text": [
      "C:\\Users\\casti\\AppData\\Local\\Temp\\ipykernel_31808\\3716661773.py:146: UserWarning: FixedFormatter should only be used together with FixedLocator\n",
      "  ax.set_xticklabels(model_outputs_ext_labels, rotation=60, ha='right')\n"
     ]
    },
    {
     "name": "stdout",
     "output_type": "stream",
     "text": [
      "Filter 101 / 128...\n"
     ]
    },
    {
     "name": "stderr",
     "output_type": "stream",
     "text": [
      "C:\\Users\\casti\\AppData\\Local\\Temp\\ipykernel_31808\\3716661773.py:146: UserWarning: FixedFormatter should only be used together with FixedLocator\n",
      "  ax.set_xticklabels(model_outputs_ext_labels, rotation=60, ha='right')\n"
     ]
    },
    {
     "name": "stdout",
     "output_type": "stream",
     "text": [
      "Filter 102 / 128...\n"
     ]
    },
    {
     "name": "stderr",
     "output_type": "stream",
     "text": [
      "C:\\Users\\casti\\AppData\\Local\\Temp\\ipykernel_31808\\3716661773.py:146: UserWarning: FixedFormatter should only be used together with FixedLocator\n",
      "  ax.set_xticklabels(model_outputs_ext_labels, rotation=60, ha='right')\n"
     ]
    },
    {
     "name": "stdout",
     "output_type": "stream",
     "text": [
      "Filter 103 / 128...\n"
     ]
    },
    {
     "name": "stderr",
     "output_type": "stream",
     "text": [
      "C:\\Users\\casti\\AppData\\Local\\Temp\\ipykernel_31808\\3716661773.py:146: UserWarning: FixedFormatter should only be used together with FixedLocator\n",
      "  ax.set_xticklabels(model_outputs_ext_labels, rotation=60, ha='right')\n"
     ]
    },
    {
     "name": "stdout",
     "output_type": "stream",
     "text": [
      "Filter 104 / 128...\n"
     ]
    },
    {
     "name": "stderr",
     "output_type": "stream",
     "text": [
      "C:\\Users\\casti\\AppData\\Local\\Temp\\ipykernel_31808\\3716661773.py:146: UserWarning: FixedFormatter should only be used together with FixedLocator\n",
      "  ax.set_xticklabels(model_outputs_ext_labels, rotation=60, ha='right')\n"
     ]
    },
    {
     "name": "stdout",
     "output_type": "stream",
     "text": [
      "Filter 105 / 128...\n"
     ]
    },
    {
     "name": "stderr",
     "output_type": "stream",
     "text": [
      "C:\\Users\\casti\\AppData\\Local\\Temp\\ipykernel_31808\\3716661773.py:146: UserWarning: FixedFormatter should only be used together with FixedLocator\n",
      "  ax.set_xticklabels(model_outputs_ext_labels, rotation=60, ha='right')\n"
     ]
    },
    {
     "name": "stdout",
     "output_type": "stream",
     "text": [
      "Filter 106 / 128...\n"
     ]
    },
    {
     "name": "stderr",
     "output_type": "stream",
     "text": [
      "C:\\Users\\casti\\AppData\\Local\\Temp\\ipykernel_31808\\3716661773.py:146: UserWarning: FixedFormatter should only be used together with FixedLocator\n",
      "  ax.set_xticklabels(model_outputs_ext_labels, rotation=60, ha='right')\n"
     ]
    },
    {
     "name": "stdout",
     "output_type": "stream",
     "text": [
      "Filter 107 / 128...\n"
     ]
    },
    {
     "name": "stderr",
     "output_type": "stream",
     "text": [
      "C:\\Users\\casti\\AppData\\Local\\Temp\\ipykernel_31808\\3716661773.py:146: UserWarning: FixedFormatter should only be used together with FixedLocator\n",
      "  ax.set_xticklabels(model_outputs_ext_labels, rotation=60, ha='right')\n"
     ]
    },
    {
     "name": "stdout",
     "output_type": "stream",
     "text": [
      "Filter 108 / 128...\n"
     ]
    },
    {
     "name": "stderr",
     "output_type": "stream",
     "text": [
      "C:\\Users\\casti\\AppData\\Local\\Temp\\ipykernel_31808\\3716661773.py:146: UserWarning: FixedFormatter should only be used together with FixedLocator\n",
      "  ax.set_xticklabels(model_outputs_ext_labels, rotation=60, ha='right')\n"
     ]
    },
    {
     "name": "stdout",
     "output_type": "stream",
     "text": [
      "Filter 109 / 128...\n"
     ]
    },
    {
     "name": "stderr",
     "output_type": "stream",
     "text": [
      "C:\\Users\\casti\\AppData\\Local\\Temp\\ipykernel_31808\\3716661773.py:146: UserWarning: FixedFormatter should only be used together with FixedLocator\n",
      "  ax.set_xticklabels(model_outputs_ext_labels, rotation=60, ha='right')\n"
     ]
    },
    {
     "name": "stdout",
     "output_type": "stream",
     "text": [
      "Filter 110 / 128...\n"
     ]
    },
    {
     "name": "stderr",
     "output_type": "stream",
     "text": [
      "C:\\Users\\casti\\AppData\\Local\\Temp\\ipykernel_31808\\3716661773.py:146: UserWarning: FixedFormatter should only be used together with FixedLocator\n",
      "  ax.set_xticklabels(model_outputs_ext_labels, rotation=60, ha='right')\n"
     ]
    },
    {
     "name": "stdout",
     "output_type": "stream",
     "text": [
      "Filter 111 / 128...\n"
     ]
    },
    {
     "name": "stderr",
     "output_type": "stream",
     "text": [
      "C:\\Users\\casti\\AppData\\Local\\Temp\\ipykernel_31808\\3716661773.py:146: UserWarning: FixedFormatter should only be used together with FixedLocator\n",
      "  ax.set_xticklabels(model_outputs_ext_labels, rotation=60, ha='right')\n"
     ]
    },
    {
     "name": "stdout",
     "output_type": "stream",
     "text": [
      "Filter 112 / 128...\n"
     ]
    },
    {
     "name": "stderr",
     "output_type": "stream",
     "text": [
      "C:\\Users\\casti\\AppData\\Local\\Temp\\ipykernel_31808\\3716661773.py:146: UserWarning: FixedFormatter should only be used together with FixedLocator\n",
      "  ax.set_xticklabels(model_outputs_ext_labels, rotation=60, ha='right')\n"
     ]
    },
    {
     "name": "stdout",
     "output_type": "stream",
     "text": [
      "Filter 113 / 128...\n"
     ]
    },
    {
     "name": "stderr",
     "output_type": "stream",
     "text": [
      "C:\\Users\\casti\\AppData\\Local\\Temp\\ipykernel_31808\\3716661773.py:146: UserWarning: FixedFormatter should only be used together with FixedLocator\n",
      "  ax.set_xticklabels(model_outputs_ext_labels, rotation=60, ha='right')\n"
     ]
    },
    {
     "name": "stdout",
     "output_type": "stream",
     "text": [
      "Filter 114 / 128...\n"
     ]
    },
    {
     "name": "stderr",
     "output_type": "stream",
     "text": [
      "C:\\Users\\casti\\AppData\\Local\\Temp\\ipykernel_31808\\3716661773.py:146: UserWarning: FixedFormatter should only be used together with FixedLocator\n",
      "  ax.set_xticklabels(model_outputs_ext_labels, rotation=60, ha='right')\n"
     ]
    },
    {
     "name": "stdout",
     "output_type": "stream",
     "text": [
      "Filter 115 / 128...\n"
     ]
    },
    {
     "name": "stderr",
     "output_type": "stream",
     "text": [
      "C:\\Users\\casti\\AppData\\Local\\Temp\\ipykernel_31808\\3716661773.py:146: UserWarning: FixedFormatter should only be used together with FixedLocator\n",
      "  ax.set_xticklabels(model_outputs_ext_labels, rotation=60, ha='right')\n"
     ]
    },
    {
     "name": "stdout",
     "output_type": "stream",
     "text": [
      "Filter 116 / 128...\n"
     ]
    },
    {
     "name": "stderr",
     "output_type": "stream",
     "text": [
      "C:\\Users\\casti\\AppData\\Local\\Temp\\ipykernel_31808\\3716661773.py:146: UserWarning: FixedFormatter should only be used together with FixedLocator\n",
      "  ax.set_xticklabels(model_outputs_ext_labels, rotation=60, ha='right')\n"
     ]
    },
    {
     "name": "stdout",
     "output_type": "stream",
     "text": [
      "Filter 117 / 128...\n"
     ]
    },
    {
     "name": "stderr",
     "output_type": "stream",
     "text": [
      "C:\\Users\\casti\\AppData\\Local\\Temp\\ipykernel_31808\\3716661773.py:146: UserWarning: FixedFormatter should only be used together with FixedLocator\n",
      "  ax.set_xticklabels(model_outputs_ext_labels, rotation=60, ha='right')\n"
     ]
    },
    {
     "name": "stdout",
     "output_type": "stream",
     "text": [
      "Filter 118 / 128...\n"
     ]
    },
    {
     "name": "stderr",
     "output_type": "stream",
     "text": [
      "C:\\Users\\casti\\AppData\\Local\\Temp\\ipykernel_31808\\3716661773.py:146: UserWarning: FixedFormatter should only be used together with FixedLocator\n",
      "  ax.set_xticklabels(model_outputs_ext_labels, rotation=60, ha='right')\n"
     ]
    },
    {
     "name": "stdout",
     "output_type": "stream",
     "text": [
      "Filter 119 / 128...\n"
     ]
    },
    {
     "name": "stderr",
     "output_type": "stream",
     "text": [
      "C:\\Users\\casti\\AppData\\Local\\Temp\\ipykernel_31808\\3716661773.py:146: UserWarning: FixedFormatter should only be used together with FixedLocator\n",
      "  ax.set_xticklabels(model_outputs_ext_labels, rotation=60, ha='right')\n"
     ]
    },
    {
     "name": "stdout",
     "output_type": "stream",
     "text": [
      "Filter 120 / 128...\n"
     ]
    },
    {
     "name": "stderr",
     "output_type": "stream",
     "text": [
      "C:\\Users\\casti\\AppData\\Local\\Temp\\ipykernel_31808\\3716661773.py:146: UserWarning: FixedFormatter should only be used together with FixedLocator\n",
      "  ax.set_xticklabels(model_outputs_ext_labels, rotation=60, ha='right')\n"
     ]
    },
    {
     "name": "stdout",
     "output_type": "stream",
     "text": [
      "Filter 121 / 128...\n"
     ]
    },
    {
     "name": "stderr",
     "output_type": "stream",
     "text": [
      "C:\\Users\\casti\\AppData\\Local\\Temp\\ipykernel_31808\\3716661773.py:146: UserWarning: FixedFormatter should only be used together with FixedLocator\n",
      "  ax.set_xticklabels(model_outputs_ext_labels, rotation=60, ha='right')\n"
     ]
    },
    {
     "name": "stdout",
     "output_type": "stream",
     "text": [
      "Filter 122 / 128...\n"
     ]
    },
    {
     "name": "stderr",
     "output_type": "stream",
     "text": [
      "C:\\Users\\casti\\AppData\\Local\\Temp\\ipykernel_31808\\3716661773.py:146: UserWarning: FixedFormatter should only be used together with FixedLocator\n",
      "  ax.set_xticklabels(model_outputs_ext_labels, rotation=60, ha='right')\n"
     ]
    },
    {
     "name": "stdout",
     "output_type": "stream",
     "text": [
      "Filter 123 / 128...\n"
     ]
    },
    {
     "name": "stderr",
     "output_type": "stream",
     "text": [
      "C:\\Users\\casti\\AppData\\Local\\Temp\\ipykernel_31808\\3716661773.py:146: UserWarning: FixedFormatter should only be used together with FixedLocator\n",
      "  ax.set_xticklabels(model_outputs_ext_labels, rotation=60, ha='right')\n"
     ]
    },
    {
     "name": "stdout",
     "output_type": "stream",
     "text": [
      "Filter 124 / 128...\n"
     ]
    },
    {
     "name": "stderr",
     "output_type": "stream",
     "text": [
      "C:\\Users\\casti\\AppData\\Local\\Temp\\ipykernel_31808\\3716661773.py:146: UserWarning: FixedFormatter should only be used together with FixedLocator\n",
      "  ax.set_xticklabels(model_outputs_ext_labels, rotation=60, ha='right')\n"
     ]
    },
    {
     "name": "stdout",
     "output_type": "stream",
     "text": [
      "Filter 125 / 128...\n"
     ]
    },
    {
     "name": "stderr",
     "output_type": "stream",
     "text": [
      "C:\\Users\\casti\\AppData\\Local\\Temp\\ipykernel_31808\\3716661773.py:146: UserWarning: FixedFormatter should only be used together with FixedLocator\n",
      "  ax.set_xticklabels(model_outputs_ext_labels, rotation=60, ha='right')\n"
     ]
    },
    {
     "name": "stdout",
     "output_type": "stream",
     "text": [
      "Filter 126 / 128...\n"
     ]
    },
    {
     "name": "stderr",
     "output_type": "stream",
     "text": [
      "C:\\Users\\casti\\AppData\\Local\\Temp\\ipykernel_31808\\3716661773.py:146: UserWarning: FixedFormatter should only be used together with FixedLocator\n",
      "  ax.set_xticklabels(model_outputs_ext_labels, rotation=60, ha='right')\n"
     ]
    },
    {
     "name": "stdout",
     "output_type": "stream",
     "text": [
      "Filter 127 / 128...\n"
     ]
    },
    {
     "name": "stderr",
     "output_type": "stream",
     "text": [
      "C:\\Users\\casti\\AppData\\Local\\Temp\\ipykernel_31808\\3716661773.py:146: UserWarning: FixedFormatter should only be used together with FixedLocator\n",
      "  ax.set_xticklabels(model_outputs_ext_labels, rotation=60, ha='right')\n"
     ]
    },
    {
     "name": "stdout",
     "output_type": "stream",
     "text": [
      "Saving meme file...\n",
      "Done with model 0.\n",
      "Processing model 1...\n",
      "Filter 0 / 128...\n"
     ]
    },
    {
     "name": "stderr",
     "output_type": "stream",
     "text": [
      "C:\\Users\\casti\\AppData\\Local\\Temp\\ipykernel_31808\\3716661773.py:146: UserWarning: FixedFormatter should only be used together with FixedLocator\n",
      "  ax.set_xticklabels(model_outputs_ext_labels, rotation=60, ha='right')\n"
     ]
    },
    {
     "name": "stdout",
     "output_type": "stream",
     "text": [
      "Filter 1 / 128...\n"
     ]
    },
    {
     "name": "stderr",
     "output_type": "stream",
     "text": [
      "C:\\Users\\casti\\AppData\\Local\\Temp\\ipykernel_31808\\3716661773.py:146: UserWarning: FixedFormatter should only be used together with FixedLocator\n",
      "  ax.set_xticklabels(model_outputs_ext_labels, rotation=60, ha='right')\n"
     ]
    },
    {
     "name": "stdout",
     "output_type": "stream",
     "text": [
      "Filter 2 / 128...\n"
     ]
    },
    {
     "name": "stderr",
     "output_type": "stream",
     "text": [
      "C:\\Users\\casti\\AppData\\Local\\Temp\\ipykernel_31808\\3716661773.py:146: UserWarning: FixedFormatter should only be used together with FixedLocator\n",
      "  ax.set_xticklabels(model_outputs_ext_labels, rotation=60, ha='right')\n"
     ]
    },
    {
     "name": "stdout",
     "output_type": "stream",
     "text": [
      "Filter 3 / 128...\n"
     ]
    },
    {
     "name": "stderr",
     "output_type": "stream",
     "text": [
      "C:\\Users\\casti\\AppData\\Local\\Temp\\ipykernel_31808\\3716661773.py:146: UserWarning: FixedFormatter should only be used together with FixedLocator\n",
      "  ax.set_xticklabels(model_outputs_ext_labels, rotation=60, ha='right')\n"
     ]
    },
    {
     "name": "stdout",
     "output_type": "stream",
     "text": [
      "Filter 4 / 128...\n"
     ]
    },
    {
     "name": "stderr",
     "output_type": "stream",
     "text": [
      "C:\\Users\\casti\\AppData\\Local\\Temp\\ipykernel_31808\\3716661773.py:146: UserWarning: FixedFormatter should only be used together with FixedLocator\n",
      "  ax.set_xticklabels(model_outputs_ext_labels, rotation=60, ha='right')\n"
     ]
    },
    {
     "name": "stdout",
     "output_type": "stream",
     "text": [
      "Filter 5 / 128...\n"
     ]
    },
    {
     "name": "stderr",
     "output_type": "stream",
     "text": [
      "C:\\Users\\casti\\AppData\\Local\\Temp\\ipykernel_31808\\3716661773.py:146: UserWarning: FixedFormatter should only be used together with FixedLocator\n",
      "  ax.set_xticklabels(model_outputs_ext_labels, rotation=60, ha='right')\n"
     ]
    },
    {
     "name": "stdout",
     "output_type": "stream",
     "text": [
      "Filter 6 / 128...\n"
     ]
    },
    {
     "name": "stderr",
     "output_type": "stream",
     "text": [
      "C:\\Users\\casti\\AppData\\Local\\Temp\\ipykernel_31808\\3716661773.py:146: UserWarning: FixedFormatter should only be used together with FixedLocator\n",
      "  ax.set_xticklabels(model_outputs_ext_labels, rotation=60, ha='right')\n"
     ]
    },
    {
     "name": "stdout",
     "output_type": "stream",
     "text": [
      "Filter 7 / 128...\n"
     ]
    },
    {
     "name": "stderr",
     "output_type": "stream",
     "text": [
      "C:\\Users\\casti\\AppData\\Local\\Temp\\ipykernel_31808\\3716661773.py:146: UserWarning: FixedFormatter should only be used together with FixedLocator\n",
      "  ax.set_xticklabels(model_outputs_ext_labels, rotation=60, ha='right')\n"
     ]
    },
    {
     "name": "stdout",
     "output_type": "stream",
     "text": [
      "Filter 8 / 128...\n"
     ]
    },
    {
     "name": "stderr",
     "output_type": "stream",
     "text": [
      "C:\\Users\\casti\\AppData\\Local\\Temp\\ipykernel_31808\\3716661773.py:146: UserWarning: FixedFormatter should only be used together with FixedLocator\n",
      "  ax.set_xticklabels(model_outputs_ext_labels, rotation=60, ha='right')\n"
     ]
    },
    {
     "name": "stdout",
     "output_type": "stream",
     "text": [
      "Filter 9 / 128...\n"
     ]
    },
    {
     "name": "stderr",
     "output_type": "stream",
     "text": [
      "C:\\Users\\casti\\AppData\\Local\\Temp\\ipykernel_31808\\3716661773.py:146: UserWarning: FixedFormatter should only be used together with FixedLocator\n",
      "  ax.set_xticklabels(model_outputs_ext_labels, rotation=60, ha='right')\n"
     ]
    },
    {
     "name": "stdout",
     "output_type": "stream",
     "text": [
      "Filter 10 / 128...\n"
     ]
    },
    {
     "name": "stderr",
     "output_type": "stream",
     "text": [
      "C:\\Users\\casti\\AppData\\Local\\Temp\\ipykernel_31808\\3716661773.py:146: UserWarning: FixedFormatter should only be used together with FixedLocator\n",
      "  ax.set_xticklabels(model_outputs_ext_labels, rotation=60, ha='right')\n"
     ]
    },
    {
     "name": "stdout",
     "output_type": "stream",
     "text": [
      "Filter 11 / 128...\n"
     ]
    },
    {
     "name": "stderr",
     "output_type": "stream",
     "text": [
      "C:\\Users\\casti\\AppData\\Local\\Temp\\ipykernel_31808\\3716661773.py:146: UserWarning: FixedFormatter should only be used together with FixedLocator\n",
      "  ax.set_xticklabels(model_outputs_ext_labels, rotation=60, ha='right')\n"
     ]
    },
    {
     "name": "stdout",
     "output_type": "stream",
     "text": [
      "Filter 12 / 128...\n"
     ]
    },
    {
     "name": "stderr",
     "output_type": "stream",
     "text": [
      "C:\\Users\\casti\\AppData\\Local\\Temp\\ipykernel_31808\\3716661773.py:146: UserWarning: FixedFormatter should only be used together with FixedLocator\n",
      "  ax.set_xticklabels(model_outputs_ext_labels, rotation=60, ha='right')\n"
     ]
    },
    {
     "name": "stdout",
     "output_type": "stream",
     "text": [
      "Filter 13 / 128...\n"
     ]
    },
    {
     "name": "stderr",
     "output_type": "stream",
     "text": [
      "C:\\Users\\casti\\AppData\\Local\\Temp\\ipykernel_31808\\3716661773.py:146: UserWarning: FixedFormatter should only be used together with FixedLocator\n",
      "  ax.set_xticklabels(model_outputs_ext_labels, rotation=60, ha='right')\n"
     ]
    },
    {
     "name": "stdout",
     "output_type": "stream",
     "text": [
      "Filter 14 / 128...\n"
     ]
    },
    {
     "name": "stderr",
     "output_type": "stream",
     "text": [
      "C:\\Users\\casti\\AppData\\Local\\Temp\\ipykernel_31808\\3716661773.py:146: UserWarning: FixedFormatter should only be used together with FixedLocator\n",
      "  ax.set_xticklabels(model_outputs_ext_labels, rotation=60, ha='right')\n"
     ]
    },
    {
     "name": "stdout",
     "output_type": "stream",
     "text": [
      "Filter 15 / 128...\n"
     ]
    },
    {
     "name": "stderr",
     "output_type": "stream",
     "text": [
      "C:\\Users\\casti\\AppData\\Local\\Temp\\ipykernel_31808\\3716661773.py:146: UserWarning: FixedFormatter should only be used together with FixedLocator\n",
      "  ax.set_xticklabels(model_outputs_ext_labels, rotation=60, ha='right')\n"
     ]
    },
    {
     "name": "stdout",
     "output_type": "stream",
     "text": [
      "Filter 16 / 128...\n"
     ]
    },
    {
     "name": "stderr",
     "output_type": "stream",
     "text": [
      "C:\\Users\\casti\\AppData\\Local\\Temp\\ipykernel_31808\\3716661773.py:146: UserWarning: FixedFormatter should only be used together with FixedLocator\n",
      "  ax.set_xticklabels(model_outputs_ext_labels, rotation=60, ha='right')\n"
     ]
    },
    {
     "name": "stdout",
     "output_type": "stream",
     "text": [
      "Filter 17 / 128...\n"
     ]
    },
    {
     "name": "stderr",
     "output_type": "stream",
     "text": [
      "C:\\Users\\casti\\AppData\\Local\\Temp\\ipykernel_31808\\3716661773.py:146: UserWarning: FixedFormatter should only be used together with FixedLocator\n",
      "  ax.set_xticklabels(model_outputs_ext_labels, rotation=60, ha='right')\n"
     ]
    },
    {
     "name": "stdout",
     "output_type": "stream",
     "text": [
      "Filter 18 / 128...\n"
     ]
    },
    {
     "name": "stderr",
     "output_type": "stream",
     "text": [
      "C:\\Users\\casti\\AppData\\Local\\Temp\\ipykernel_31808\\3716661773.py:146: UserWarning: FixedFormatter should only be used together with FixedLocator\n",
      "  ax.set_xticklabels(model_outputs_ext_labels, rotation=60, ha='right')\n"
     ]
    },
    {
     "name": "stdout",
     "output_type": "stream",
     "text": [
      "Filter 19 / 128...\n"
     ]
    },
    {
     "name": "stderr",
     "output_type": "stream",
     "text": [
      "C:\\Users\\casti\\AppData\\Local\\Temp\\ipykernel_31808\\3716661773.py:146: UserWarning: FixedFormatter should only be used together with FixedLocator\n",
      "  ax.set_xticklabels(model_outputs_ext_labels, rotation=60, ha='right')\n"
     ]
    },
    {
     "name": "stdout",
     "output_type": "stream",
     "text": [
      "Filter 20 / 128...\n"
     ]
    },
    {
     "name": "stderr",
     "output_type": "stream",
     "text": [
      "C:\\Users\\casti\\AppData\\Local\\Temp\\ipykernel_31808\\3716661773.py:146: UserWarning: FixedFormatter should only be used together with FixedLocator\n",
      "  ax.set_xticklabels(model_outputs_ext_labels, rotation=60, ha='right')\n"
     ]
    },
    {
     "name": "stdout",
     "output_type": "stream",
     "text": [
      "Filter 21 / 128...\n"
     ]
    },
    {
     "name": "stderr",
     "output_type": "stream",
     "text": [
      "C:\\Users\\casti\\AppData\\Local\\Temp\\ipykernel_31808\\3716661773.py:146: UserWarning: FixedFormatter should only be used together with FixedLocator\n",
      "  ax.set_xticklabels(model_outputs_ext_labels, rotation=60, ha='right')\n"
     ]
    },
    {
     "name": "stdout",
     "output_type": "stream",
     "text": [
      "Filter 22 / 128...\n"
     ]
    },
    {
     "name": "stderr",
     "output_type": "stream",
     "text": [
      "C:\\Users\\casti\\AppData\\Local\\Temp\\ipykernel_31808\\3716661773.py:146: UserWarning: FixedFormatter should only be used together with FixedLocator\n",
      "  ax.set_xticklabels(model_outputs_ext_labels, rotation=60, ha='right')\n"
     ]
    },
    {
     "name": "stdout",
     "output_type": "stream",
     "text": [
      "Filter 23 / 128...\n"
     ]
    },
    {
     "name": "stderr",
     "output_type": "stream",
     "text": [
      "C:\\Users\\casti\\AppData\\Local\\Temp\\ipykernel_31808\\3716661773.py:146: UserWarning: FixedFormatter should only be used together with FixedLocator\n",
      "  ax.set_xticklabels(model_outputs_ext_labels, rotation=60, ha='right')\n"
     ]
    },
    {
     "name": "stdout",
     "output_type": "stream",
     "text": [
      "Filter 24 / 128...\n"
     ]
    },
    {
     "name": "stderr",
     "output_type": "stream",
     "text": [
      "C:\\Users\\casti\\AppData\\Local\\Temp\\ipykernel_31808\\3716661773.py:146: UserWarning: FixedFormatter should only be used together with FixedLocator\n",
      "  ax.set_xticklabels(model_outputs_ext_labels, rotation=60, ha='right')\n"
     ]
    },
    {
     "name": "stdout",
     "output_type": "stream",
     "text": [
      "Filter 25 / 128...\n"
     ]
    },
    {
     "name": "stderr",
     "output_type": "stream",
     "text": [
      "C:\\Users\\casti\\AppData\\Local\\Temp\\ipykernel_31808\\3716661773.py:146: UserWarning: FixedFormatter should only be used together with FixedLocator\n",
      "  ax.set_xticklabels(model_outputs_ext_labels, rotation=60, ha='right')\n"
     ]
    },
    {
     "name": "stdout",
     "output_type": "stream",
     "text": [
      "Filter 26 / 128...\n"
     ]
    },
    {
     "name": "stderr",
     "output_type": "stream",
     "text": [
      "C:\\Users\\casti\\AppData\\Local\\Temp\\ipykernel_31808\\3716661773.py:146: UserWarning: FixedFormatter should only be used together with FixedLocator\n",
      "  ax.set_xticklabels(model_outputs_ext_labels, rotation=60, ha='right')\n"
     ]
    },
    {
     "name": "stdout",
     "output_type": "stream",
     "text": [
      "Filter 27 / 128...\n"
     ]
    },
    {
     "name": "stderr",
     "output_type": "stream",
     "text": [
      "C:\\Users\\casti\\AppData\\Local\\Temp\\ipykernel_31808\\3716661773.py:146: UserWarning: FixedFormatter should only be used together with FixedLocator\n",
      "  ax.set_xticklabels(model_outputs_ext_labels, rotation=60, ha='right')\n"
     ]
    },
    {
     "name": "stdout",
     "output_type": "stream",
     "text": [
      "Filter 28 / 128...\n"
     ]
    },
    {
     "name": "stderr",
     "output_type": "stream",
     "text": [
      "C:\\Users\\casti\\AppData\\Local\\Temp\\ipykernel_31808\\3716661773.py:146: UserWarning: FixedFormatter should only be used together with FixedLocator\n",
      "  ax.set_xticklabels(model_outputs_ext_labels, rotation=60, ha='right')\n"
     ]
    },
    {
     "name": "stdout",
     "output_type": "stream",
     "text": [
      "Filter 29 / 128...\n"
     ]
    },
    {
     "name": "stderr",
     "output_type": "stream",
     "text": [
      "C:\\Users\\casti\\AppData\\Local\\Temp\\ipykernel_31808\\3716661773.py:146: UserWarning: FixedFormatter should only be used together with FixedLocator\n",
      "  ax.set_xticklabels(model_outputs_ext_labels, rotation=60, ha='right')\n"
     ]
    },
    {
     "name": "stdout",
     "output_type": "stream",
     "text": [
      "Filter 30 / 128...\n"
     ]
    },
    {
     "name": "stderr",
     "output_type": "stream",
     "text": [
      "C:\\Users\\casti\\AppData\\Local\\Temp\\ipykernel_31808\\3716661773.py:146: UserWarning: FixedFormatter should only be used together with FixedLocator\n",
      "  ax.set_xticklabels(model_outputs_ext_labels, rotation=60, ha='right')\n"
     ]
    },
    {
     "name": "stdout",
     "output_type": "stream",
     "text": [
      "Filter 31 / 128...\n"
     ]
    },
    {
     "name": "stderr",
     "output_type": "stream",
     "text": [
      "C:\\Users\\casti\\AppData\\Local\\Temp\\ipykernel_31808\\3716661773.py:146: UserWarning: FixedFormatter should only be used together with FixedLocator\n",
      "  ax.set_xticklabels(model_outputs_ext_labels, rotation=60, ha='right')\n"
     ]
    },
    {
     "name": "stdout",
     "output_type": "stream",
     "text": [
      "Filter 32 / 128...\n"
     ]
    },
    {
     "name": "stderr",
     "output_type": "stream",
     "text": [
      "C:\\Users\\casti\\AppData\\Local\\Temp\\ipykernel_31808\\3716661773.py:146: UserWarning: FixedFormatter should only be used together with FixedLocator\n",
      "  ax.set_xticklabels(model_outputs_ext_labels, rotation=60, ha='right')\n"
     ]
    },
    {
     "name": "stdout",
     "output_type": "stream",
     "text": [
      "Filter 33 / 128...\n"
     ]
    },
    {
     "name": "stderr",
     "output_type": "stream",
     "text": [
      "C:\\Users\\casti\\AppData\\Local\\Temp\\ipykernel_31808\\3716661773.py:146: UserWarning: FixedFormatter should only be used together with FixedLocator\n",
      "  ax.set_xticklabels(model_outputs_ext_labels, rotation=60, ha='right')\n"
     ]
    },
    {
     "name": "stdout",
     "output_type": "stream",
     "text": [
      "Filter 34 / 128...\n"
     ]
    },
    {
     "name": "stderr",
     "output_type": "stream",
     "text": [
      "C:\\Users\\casti\\AppData\\Local\\Temp\\ipykernel_31808\\3716661773.py:146: UserWarning: FixedFormatter should only be used together with FixedLocator\n",
      "  ax.set_xticklabels(model_outputs_ext_labels, rotation=60, ha='right')\n"
     ]
    },
    {
     "name": "stdout",
     "output_type": "stream",
     "text": [
      "Filter 35 / 128...\n"
     ]
    },
    {
     "name": "stderr",
     "output_type": "stream",
     "text": [
      "C:\\Users\\casti\\AppData\\Local\\Temp\\ipykernel_31808\\3716661773.py:146: UserWarning: FixedFormatter should only be used together with FixedLocator\n",
      "  ax.set_xticklabels(model_outputs_ext_labels, rotation=60, ha='right')\n"
     ]
    },
    {
     "name": "stdout",
     "output_type": "stream",
     "text": [
      "Filter 36 / 128...\n"
     ]
    },
    {
     "name": "stderr",
     "output_type": "stream",
     "text": [
      "C:\\Users\\casti\\AppData\\Local\\Temp\\ipykernel_31808\\3716661773.py:146: UserWarning: FixedFormatter should only be used together with FixedLocator\n",
      "  ax.set_xticklabels(model_outputs_ext_labels, rotation=60, ha='right')\n"
     ]
    },
    {
     "name": "stdout",
     "output_type": "stream",
     "text": [
      "Filter 37 / 128...\n"
     ]
    },
    {
     "name": "stderr",
     "output_type": "stream",
     "text": [
      "C:\\Users\\casti\\AppData\\Local\\Temp\\ipykernel_31808\\3716661773.py:146: UserWarning: FixedFormatter should only be used together with FixedLocator\n",
      "  ax.set_xticklabels(model_outputs_ext_labels, rotation=60, ha='right')\n"
     ]
    },
    {
     "name": "stdout",
     "output_type": "stream",
     "text": [
      "Filter 38 / 128...\n"
     ]
    },
    {
     "name": "stderr",
     "output_type": "stream",
     "text": [
      "C:\\Users\\casti\\AppData\\Local\\Temp\\ipykernel_31808\\3716661773.py:146: UserWarning: FixedFormatter should only be used together with FixedLocator\n",
      "  ax.set_xticklabels(model_outputs_ext_labels, rotation=60, ha='right')\n"
     ]
    },
    {
     "name": "stdout",
     "output_type": "stream",
     "text": [
      "Filter 39 / 128...\n"
     ]
    },
    {
     "name": "stderr",
     "output_type": "stream",
     "text": [
      "C:\\Users\\casti\\AppData\\Local\\Temp\\ipykernel_31808\\3716661773.py:146: UserWarning: FixedFormatter should only be used together with FixedLocator\n",
      "  ax.set_xticklabels(model_outputs_ext_labels, rotation=60, ha='right')\n"
     ]
    },
    {
     "name": "stdout",
     "output_type": "stream",
     "text": [
      "Filter 40 / 128...\n"
     ]
    },
    {
     "name": "stderr",
     "output_type": "stream",
     "text": [
      "C:\\Users\\casti\\AppData\\Local\\Temp\\ipykernel_31808\\3716661773.py:146: UserWarning: FixedFormatter should only be used together with FixedLocator\n",
      "  ax.set_xticklabels(model_outputs_ext_labels, rotation=60, ha='right')\n"
     ]
    },
    {
     "name": "stdout",
     "output_type": "stream",
     "text": [
      "Filter 41 / 128...\n"
     ]
    },
    {
     "name": "stderr",
     "output_type": "stream",
     "text": [
      "C:\\Users\\casti\\AppData\\Local\\Temp\\ipykernel_31808\\3716661773.py:146: UserWarning: FixedFormatter should only be used together with FixedLocator\n",
      "  ax.set_xticklabels(model_outputs_ext_labels, rotation=60, ha='right')\n"
     ]
    },
    {
     "name": "stdout",
     "output_type": "stream",
     "text": [
      "Filter 42 / 128...\n"
     ]
    },
    {
     "name": "stderr",
     "output_type": "stream",
     "text": [
      "C:\\Users\\casti\\AppData\\Local\\Temp\\ipykernel_31808\\3716661773.py:146: UserWarning: FixedFormatter should only be used together with FixedLocator\n",
      "  ax.set_xticklabels(model_outputs_ext_labels, rotation=60, ha='right')\n"
     ]
    },
    {
     "name": "stdout",
     "output_type": "stream",
     "text": [
      "Filter 43 / 128...\n"
     ]
    },
    {
     "name": "stderr",
     "output_type": "stream",
     "text": [
      "C:\\Users\\casti\\AppData\\Local\\Temp\\ipykernel_31808\\3716661773.py:146: UserWarning: FixedFormatter should only be used together with FixedLocator\n",
      "  ax.set_xticklabels(model_outputs_ext_labels, rotation=60, ha='right')\n"
     ]
    },
    {
     "name": "stdout",
     "output_type": "stream",
     "text": [
      "Filter 44 / 128...\n"
     ]
    },
    {
     "name": "stderr",
     "output_type": "stream",
     "text": [
      "C:\\Users\\casti\\AppData\\Local\\Temp\\ipykernel_31808\\3716661773.py:146: UserWarning: FixedFormatter should only be used together with FixedLocator\n",
      "  ax.set_xticklabels(model_outputs_ext_labels, rotation=60, ha='right')\n"
     ]
    },
    {
     "name": "stdout",
     "output_type": "stream",
     "text": [
      "Filter 45 / 128...\n"
     ]
    },
    {
     "name": "stderr",
     "output_type": "stream",
     "text": [
      "C:\\Users\\casti\\AppData\\Local\\Temp\\ipykernel_31808\\3716661773.py:146: UserWarning: FixedFormatter should only be used together with FixedLocator\n",
      "  ax.set_xticklabels(model_outputs_ext_labels, rotation=60, ha='right')\n"
     ]
    },
    {
     "name": "stdout",
     "output_type": "stream",
     "text": [
      "Filter 46 / 128...\n"
     ]
    },
    {
     "name": "stderr",
     "output_type": "stream",
     "text": [
      "C:\\Users\\casti\\AppData\\Local\\Temp\\ipykernel_31808\\3716661773.py:146: UserWarning: FixedFormatter should only be used together with FixedLocator\n",
      "  ax.set_xticklabels(model_outputs_ext_labels, rotation=60, ha='right')\n"
     ]
    },
    {
     "name": "stdout",
     "output_type": "stream",
     "text": [
      "Filter 47 / 128...\n"
     ]
    },
    {
     "name": "stderr",
     "output_type": "stream",
     "text": [
      "C:\\Users\\casti\\AppData\\Local\\Temp\\ipykernel_31808\\3716661773.py:146: UserWarning: FixedFormatter should only be used together with FixedLocator\n",
      "  ax.set_xticklabels(model_outputs_ext_labels, rotation=60, ha='right')\n"
     ]
    },
    {
     "name": "stdout",
     "output_type": "stream",
     "text": [
      "Filter 48 / 128...\n"
     ]
    },
    {
     "name": "stderr",
     "output_type": "stream",
     "text": [
      "C:\\Users\\casti\\AppData\\Local\\Temp\\ipykernel_31808\\3716661773.py:146: UserWarning: FixedFormatter should only be used together with FixedLocator\n",
      "  ax.set_xticklabels(model_outputs_ext_labels, rotation=60, ha='right')\n"
     ]
    },
    {
     "name": "stdout",
     "output_type": "stream",
     "text": [
      "Filter 49 / 128...\n"
     ]
    },
    {
     "name": "stderr",
     "output_type": "stream",
     "text": [
      "C:\\Users\\casti\\AppData\\Local\\Temp\\ipykernel_31808\\3716661773.py:146: UserWarning: FixedFormatter should only be used together with FixedLocator\n",
      "  ax.set_xticklabels(model_outputs_ext_labels, rotation=60, ha='right')\n"
     ]
    },
    {
     "name": "stdout",
     "output_type": "stream",
     "text": [
      "Filter 50 / 128...\n"
     ]
    },
    {
     "name": "stderr",
     "output_type": "stream",
     "text": [
      "C:\\Users\\casti\\AppData\\Local\\Temp\\ipykernel_31808\\3716661773.py:146: UserWarning: FixedFormatter should only be used together with FixedLocator\n",
      "  ax.set_xticklabels(model_outputs_ext_labels, rotation=60, ha='right')\n"
     ]
    },
    {
     "name": "stdout",
     "output_type": "stream",
     "text": [
      "Filter 51 / 128...\n"
     ]
    },
    {
     "name": "stderr",
     "output_type": "stream",
     "text": [
      "C:\\Users\\casti\\AppData\\Local\\Temp\\ipykernel_31808\\3716661773.py:146: UserWarning: FixedFormatter should only be used together with FixedLocator\n",
      "  ax.set_xticklabels(model_outputs_ext_labels, rotation=60, ha='right')\n"
     ]
    },
    {
     "name": "stdout",
     "output_type": "stream",
     "text": [
      "Filter 52 / 128...\n"
     ]
    },
    {
     "name": "stderr",
     "output_type": "stream",
     "text": [
      "C:\\Users\\casti\\AppData\\Local\\Temp\\ipykernel_31808\\3716661773.py:146: UserWarning: FixedFormatter should only be used together with FixedLocator\n",
      "  ax.set_xticklabels(model_outputs_ext_labels, rotation=60, ha='right')\n"
     ]
    },
    {
     "name": "stdout",
     "output_type": "stream",
     "text": [
      "Filter 53 / 128...\n"
     ]
    },
    {
     "name": "stderr",
     "output_type": "stream",
     "text": [
      "C:\\Users\\casti\\AppData\\Local\\Temp\\ipykernel_31808\\3716661773.py:146: UserWarning: FixedFormatter should only be used together with FixedLocator\n",
      "  ax.set_xticklabels(model_outputs_ext_labels, rotation=60, ha='right')\n"
     ]
    },
    {
     "name": "stdout",
     "output_type": "stream",
     "text": [
      "Filter 54 / 128...\n"
     ]
    },
    {
     "name": "stderr",
     "output_type": "stream",
     "text": [
      "C:\\Users\\casti\\AppData\\Local\\Temp\\ipykernel_31808\\3716661773.py:146: UserWarning: FixedFormatter should only be used together with FixedLocator\n",
      "  ax.set_xticklabels(model_outputs_ext_labels, rotation=60, ha='right')\n"
     ]
    },
    {
     "name": "stdout",
     "output_type": "stream",
     "text": [
      "Filter 55 / 128...\n"
     ]
    },
    {
     "name": "stderr",
     "output_type": "stream",
     "text": [
      "C:\\Users\\casti\\AppData\\Local\\Temp\\ipykernel_31808\\3716661773.py:146: UserWarning: FixedFormatter should only be used together with FixedLocator\n",
      "  ax.set_xticklabels(model_outputs_ext_labels, rotation=60, ha='right')\n"
     ]
    },
    {
     "name": "stdout",
     "output_type": "stream",
     "text": [
      "Filter 56 / 128...\n"
     ]
    },
    {
     "name": "stderr",
     "output_type": "stream",
     "text": [
      "C:\\Users\\casti\\AppData\\Local\\Temp\\ipykernel_31808\\3716661773.py:146: UserWarning: FixedFormatter should only be used together with FixedLocator\n",
      "  ax.set_xticklabels(model_outputs_ext_labels, rotation=60, ha='right')\n"
     ]
    },
    {
     "name": "stdout",
     "output_type": "stream",
     "text": [
      "Filter 57 / 128...\n"
     ]
    },
    {
     "name": "stderr",
     "output_type": "stream",
     "text": [
      "C:\\Users\\casti\\AppData\\Local\\Temp\\ipykernel_31808\\3716661773.py:146: UserWarning: FixedFormatter should only be used together with FixedLocator\n",
      "  ax.set_xticklabels(model_outputs_ext_labels, rotation=60, ha='right')\n"
     ]
    },
    {
     "name": "stdout",
     "output_type": "stream",
     "text": [
      "Filter 58 / 128...\n"
     ]
    },
    {
     "name": "stderr",
     "output_type": "stream",
     "text": [
      "C:\\Users\\casti\\AppData\\Local\\Temp\\ipykernel_31808\\3716661773.py:146: UserWarning: FixedFormatter should only be used together with FixedLocator\n",
      "  ax.set_xticklabels(model_outputs_ext_labels, rotation=60, ha='right')\n"
     ]
    },
    {
     "name": "stdout",
     "output_type": "stream",
     "text": [
      "Filter 59 / 128...\n"
     ]
    },
    {
     "name": "stderr",
     "output_type": "stream",
     "text": [
      "C:\\Users\\casti\\AppData\\Local\\Temp\\ipykernel_31808\\3716661773.py:146: UserWarning: FixedFormatter should only be used together with FixedLocator\n",
      "  ax.set_xticklabels(model_outputs_ext_labels, rotation=60, ha='right')\n"
     ]
    },
    {
     "name": "stdout",
     "output_type": "stream",
     "text": [
      "Filter 60 / 128...\n"
     ]
    },
    {
     "name": "stderr",
     "output_type": "stream",
     "text": [
      "C:\\Users\\casti\\AppData\\Local\\Temp\\ipykernel_31808\\3716661773.py:146: UserWarning: FixedFormatter should only be used together with FixedLocator\n",
      "  ax.set_xticklabels(model_outputs_ext_labels, rotation=60, ha='right')\n"
     ]
    },
    {
     "name": "stdout",
     "output_type": "stream",
     "text": [
      "Filter 61 / 128...\n"
     ]
    },
    {
     "name": "stderr",
     "output_type": "stream",
     "text": [
      "C:\\Users\\casti\\AppData\\Local\\Temp\\ipykernel_31808\\3716661773.py:146: UserWarning: FixedFormatter should only be used together with FixedLocator\n",
      "  ax.set_xticklabels(model_outputs_ext_labels, rotation=60, ha='right')\n"
     ]
    },
    {
     "name": "stdout",
     "output_type": "stream",
     "text": [
      "Filter 62 / 128...\n"
     ]
    },
    {
     "name": "stderr",
     "output_type": "stream",
     "text": [
      "C:\\Users\\casti\\AppData\\Local\\Temp\\ipykernel_31808\\3716661773.py:146: UserWarning: FixedFormatter should only be used together with FixedLocator\n",
      "  ax.set_xticklabels(model_outputs_ext_labels, rotation=60, ha='right')\n"
     ]
    },
    {
     "name": "stdout",
     "output_type": "stream",
     "text": [
      "Filter 63 / 128...\n"
     ]
    },
    {
     "name": "stderr",
     "output_type": "stream",
     "text": [
      "C:\\Users\\casti\\AppData\\Local\\Temp\\ipykernel_31808\\3716661773.py:146: UserWarning: FixedFormatter should only be used together with FixedLocator\n",
      "  ax.set_xticklabels(model_outputs_ext_labels, rotation=60, ha='right')\n"
     ]
    },
    {
     "name": "stdout",
     "output_type": "stream",
     "text": [
      "Filter 64 / 128...\n"
     ]
    },
    {
     "name": "stderr",
     "output_type": "stream",
     "text": [
      "C:\\Users\\casti\\AppData\\Local\\Temp\\ipykernel_31808\\3716661773.py:146: UserWarning: FixedFormatter should only be used together with FixedLocator\n",
      "  ax.set_xticklabels(model_outputs_ext_labels, rotation=60, ha='right')\n"
     ]
    },
    {
     "name": "stdout",
     "output_type": "stream",
     "text": [
      "Filter 65 / 128...\n"
     ]
    },
    {
     "name": "stderr",
     "output_type": "stream",
     "text": [
      "C:\\Users\\casti\\AppData\\Local\\Temp\\ipykernel_31808\\3716661773.py:146: UserWarning: FixedFormatter should only be used together with FixedLocator\n",
      "  ax.set_xticklabels(model_outputs_ext_labels, rotation=60, ha='right')\n"
     ]
    },
    {
     "name": "stdout",
     "output_type": "stream",
     "text": [
      "Filter 66 / 128...\n"
     ]
    },
    {
     "name": "stderr",
     "output_type": "stream",
     "text": [
      "C:\\Users\\casti\\AppData\\Local\\Temp\\ipykernel_31808\\3716661773.py:146: UserWarning: FixedFormatter should only be used together with FixedLocator\n",
      "  ax.set_xticklabels(model_outputs_ext_labels, rotation=60, ha='right')\n"
     ]
    },
    {
     "name": "stdout",
     "output_type": "stream",
     "text": [
      "Filter 67 / 128...\n"
     ]
    },
    {
     "name": "stderr",
     "output_type": "stream",
     "text": [
      "C:\\Users\\casti\\AppData\\Local\\Temp\\ipykernel_31808\\3716661773.py:146: UserWarning: FixedFormatter should only be used together with FixedLocator\n",
      "  ax.set_xticklabels(model_outputs_ext_labels, rotation=60, ha='right')\n"
     ]
    },
    {
     "name": "stdout",
     "output_type": "stream",
     "text": [
      "Filter 68 / 128...\n"
     ]
    },
    {
     "name": "stderr",
     "output_type": "stream",
     "text": [
      "C:\\Users\\casti\\AppData\\Local\\Temp\\ipykernel_31808\\3716661773.py:146: UserWarning: FixedFormatter should only be used together with FixedLocator\n",
      "  ax.set_xticklabels(model_outputs_ext_labels, rotation=60, ha='right')\n"
     ]
    },
    {
     "name": "stdout",
     "output_type": "stream",
     "text": [
      "Filter 69 / 128...\n"
     ]
    },
    {
     "name": "stderr",
     "output_type": "stream",
     "text": [
      "C:\\Users\\casti\\AppData\\Local\\Temp\\ipykernel_31808\\3716661773.py:146: UserWarning: FixedFormatter should only be used together with FixedLocator\n",
      "  ax.set_xticklabels(model_outputs_ext_labels, rotation=60, ha='right')\n"
     ]
    },
    {
     "name": "stdout",
     "output_type": "stream",
     "text": [
      "Filter 70 / 128...\n"
     ]
    },
    {
     "name": "stderr",
     "output_type": "stream",
     "text": [
      "C:\\Users\\casti\\AppData\\Local\\Temp\\ipykernel_31808\\3716661773.py:146: UserWarning: FixedFormatter should only be used together with FixedLocator\n",
      "  ax.set_xticklabels(model_outputs_ext_labels, rotation=60, ha='right')\n"
     ]
    },
    {
     "name": "stdout",
     "output_type": "stream",
     "text": [
      "Filter 71 / 128...\n"
     ]
    },
    {
     "name": "stderr",
     "output_type": "stream",
     "text": [
      "C:\\Users\\casti\\AppData\\Local\\Temp\\ipykernel_31808\\3716661773.py:146: UserWarning: FixedFormatter should only be used together with FixedLocator\n",
      "  ax.set_xticklabels(model_outputs_ext_labels, rotation=60, ha='right')\n"
     ]
    },
    {
     "name": "stdout",
     "output_type": "stream",
     "text": [
      "Filter 72 / 128...\n"
     ]
    },
    {
     "name": "stderr",
     "output_type": "stream",
     "text": [
      "C:\\Users\\casti\\AppData\\Local\\Temp\\ipykernel_31808\\3716661773.py:146: UserWarning: FixedFormatter should only be used together with FixedLocator\n",
      "  ax.set_xticklabels(model_outputs_ext_labels, rotation=60, ha='right')\n"
     ]
    },
    {
     "name": "stdout",
     "output_type": "stream",
     "text": [
      "Filter 73 / 128...\n"
     ]
    },
    {
     "name": "stderr",
     "output_type": "stream",
     "text": [
      "C:\\Users\\casti\\AppData\\Local\\Temp\\ipykernel_31808\\3716661773.py:146: UserWarning: FixedFormatter should only be used together with FixedLocator\n",
      "  ax.set_xticklabels(model_outputs_ext_labels, rotation=60, ha='right')\n"
     ]
    },
    {
     "name": "stdout",
     "output_type": "stream",
     "text": [
      "Filter 74 / 128...\n"
     ]
    },
    {
     "name": "stderr",
     "output_type": "stream",
     "text": [
      "C:\\Users\\casti\\AppData\\Local\\Temp\\ipykernel_31808\\3716661773.py:146: UserWarning: FixedFormatter should only be used together with FixedLocator\n",
      "  ax.set_xticklabels(model_outputs_ext_labels, rotation=60, ha='right')\n"
     ]
    },
    {
     "name": "stdout",
     "output_type": "stream",
     "text": [
      "Filter 75 / 128...\n"
     ]
    },
    {
     "name": "stderr",
     "output_type": "stream",
     "text": [
      "C:\\Users\\casti\\AppData\\Local\\Temp\\ipykernel_31808\\3716661773.py:146: UserWarning: FixedFormatter should only be used together with FixedLocator\n",
      "  ax.set_xticklabels(model_outputs_ext_labels, rotation=60, ha='right')\n"
     ]
    },
    {
     "name": "stdout",
     "output_type": "stream",
     "text": [
      "Filter 76 / 128...\n"
     ]
    },
    {
     "name": "stderr",
     "output_type": "stream",
     "text": [
      "C:\\Users\\casti\\AppData\\Local\\Temp\\ipykernel_31808\\3716661773.py:146: UserWarning: FixedFormatter should only be used together with FixedLocator\n",
      "  ax.set_xticklabels(model_outputs_ext_labels, rotation=60, ha='right')\n"
     ]
    },
    {
     "name": "stdout",
     "output_type": "stream",
     "text": [
      "Filter 77 / 128...\n"
     ]
    },
    {
     "name": "stderr",
     "output_type": "stream",
     "text": [
      "C:\\Users\\casti\\AppData\\Local\\Temp\\ipykernel_31808\\3716661773.py:146: UserWarning: FixedFormatter should only be used together with FixedLocator\n",
      "  ax.set_xticklabels(model_outputs_ext_labels, rotation=60, ha='right')\n"
     ]
    },
    {
     "name": "stdout",
     "output_type": "stream",
     "text": [
      "Filter 78 / 128...\n"
     ]
    },
    {
     "name": "stderr",
     "output_type": "stream",
     "text": [
      "C:\\Users\\casti\\AppData\\Local\\Temp\\ipykernel_31808\\3716661773.py:146: UserWarning: FixedFormatter should only be used together with FixedLocator\n",
      "  ax.set_xticklabels(model_outputs_ext_labels, rotation=60, ha='right')\n"
     ]
    },
    {
     "name": "stdout",
     "output_type": "stream",
     "text": [
      "Filter 79 / 128...\n"
     ]
    },
    {
     "name": "stderr",
     "output_type": "stream",
     "text": [
      "C:\\Users\\casti\\AppData\\Local\\Temp\\ipykernel_31808\\3716661773.py:146: UserWarning: FixedFormatter should only be used together with FixedLocator\n",
      "  ax.set_xticklabels(model_outputs_ext_labels, rotation=60, ha='right')\n"
     ]
    },
    {
     "name": "stdout",
     "output_type": "stream",
     "text": [
      "Filter 80 / 128...\n"
     ]
    },
    {
     "name": "stderr",
     "output_type": "stream",
     "text": [
      "C:\\Users\\casti\\AppData\\Local\\Temp\\ipykernel_31808\\3716661773.py:146: UserWarning: FixedFormatter should only be used together with FixedLocator\n",
      "  ax.set_xticklabels(model_outputs_ext_labels, rotation=60, ha='right')\n"
     ]
    },
    {
     "name": "stdout",
     "output_type": "stream",
     "text": [
      "Filter 81 / 128...\n"
     ]
    },
    {
     "name": "stderr",
     "output_type": "stream",
     "text": [
      "C:\\Users\\casti\\AppData\\Local\\Temp\\ipykernel_31808\\3716661773.py:146: UserWarning: FixedFormatter should only be used together with FixedLocator\n",
      "  ax.set_xticklabels(model_outputs_ext_labels, rotation=60, ha='right')\n"
     ]
    },
    {
     "name": "stdout",
     "output_type": "stream",
     "text": [
      "Filter 82 / 128...\n"
     ]
    },
    {
     "name": "stderr",
     "output_type": "stream",
     "text": [
      "C:\\Users\\casti\\AppData\\Local\\Temp\\ipykernel_31808\\3716661773.py:146: UserWarning: FixedFormatter should only be used together with FixedLocator\n",
      "  ax.set_xticklabels(model_outputs_ext_labels, rotation=60, ha='right')\n"
     ]
    },
    {
     "name": "stdout",
     "output_type": "stream",
     "text": [
      "Filter 83 / 128...\n"
     ]
    },
    {
     "name": "stderr",
     "output_type": "stream",
     "text": [
      "C:\\Users\\casti\\AppData\\Local\\Temp\\ipykernel_31808\\3716661773.py:146: UserWarning: FixedFormatter should only be used together with FixedLocator\n",
      "  ax.set_xticklabels(model_outputs_ext_labels, rotation=60, ha='right')\n"
     ]
    },
    {
     "name": "stdout",
     "output_type": "stream",
     "text": [
      "Filter 84 / 128...\n"
     ]
    },
    {
     "name": "stderr",
     "output_type": "stream",
     "text": [
      "C:\\Users\\casti\\AppData\\Local\\Temp\\ipykernel_31808\\3716661773.py:146: UserWarning: FixedFormatter should only be used together with FixedLocator\n",
      "  ax.set_xticklabels(model_outputs_ext_labels, rotation=60, ha='right')\n"
     ]
    },
    {
     "name": "stdout",
     "output_type": "stream",
     "text": [
      "Filter 85 / 128...\n"
     ]
    },
    {
     "name": "stderr",
     "output_type": "stream",
     "text": [
      "C:\\Users\\casti\\AppData\\Local\\Temp\\ipykernel_31808\\3716661773.py:146: UserWarning: FixedFormatter should only be used together with FixedLocator\n",
      "  ax.set_xticklabels(model_outputs_ext_labels, rotation=60, ha='right')\n"
     ]
    },
    {
     "name": "stdout",
     "output_type": "stream",
     "text": [
      "Filter 86 / 128...\n"
     ]
    },
    {
     "name": "stderr",
     "output_type": "stream",
     "text": [
      "C:\\Users\\casti\\AppData\\Local\\Temp\\ipykernel_31808\\3716661773.py:146: UserWarning: FixedFormatter should only be used together with FixedLocator\n",
      "  ax.set_xticklabels(model_outputs_ext_labels, rotation=60, ha='right')\n"
     ]
    },
    {
     "name": "stdout",
     "output_type": "stream",
     "text": [
      "Filter 87 / 128...\n"
     ]
    },
    {
     "name": "stderr",
     "output_type": "stream",
     "text": [
      "C:\\Users\\casti\\AppData\\Local\\Temp\\ipykernel_31808\\3716661773.py:146: UserWarning: FixedFormatter should only be used together with FixedLocator\n",
      "  ax.set_xticklabels(model_outputs_ext_labels, rotation=60, ha='right')\n"
     ]
    },
    {
     "name": "stdout",
     "output_type": "stream",
     "text": [
      "Filter 88 / 128...\n"
     ]
    },
    {
     "name": "stderr",
     "output_type": "stream",
     "text": [
      "C:\\Users\\casti\\AppData\\Local\\Temp\\ipykernel_31808\\3716661773.py:146: UserWarning: FixedFormatter should only be used together with FixedLocator\n",
      "  ax.set_xticklabels(model_outputs_ext_labels, rotation=60, ha='right')\n"
     ]
    },
    {
     "name": "stdout",
     "output_type": "stream",
     "text": [
      "Filter 89 / 128...\n"
     ]
    },
    {
     "name": "stderr",
     "output_type": "stream",
     "text": [
      "C:\\Users\\casti\\AppData\\Local\\Temp\\ipykernel_31808\\3716661773.py:146: UserWarning: FixedFormatter should only be used together with FixedLocator\n",
      "  ax.set_xticklabels(model_outputs_ext_labels, rotation=60, ha='right')\n"
     ]
    },
    {
     "name": "stdout",
     "output_type": "stream",
     "text": [
      "Filter 90 / 128...\n"
     ]
    },
    {
     "name": "stderr",
     "output_type": "stream",
     "text": [
      "C:\\Users\\casti\\AppData\\Local\\Temp\\ipykernel_31808\\3716661773.py:146: UserWarning: FixedFormatter should only be used together with FixedLocator\n",
      "  ax.set_xticklabels(model_outputs_ext_labels, rotation=60, ha='right')\n"
     ]
    },
    {
     "name": "stdout",
     "output_type": "stream",
     "text": [
      "Filter 91 / 128...\n"
     ]
    },
    {
     "name": "stderr",
     "output_type": "stream",
     "text": [
      "C:\\Users\\casti\\AppData\\Local\\Temp\\ipykernel_31808\\3716661773.py:146: UserWarning: FixedFormatter should only be used together with FixedLocator\n",
      "  ax.set_xticklabels(model_outputs_ext_labels, rotation=60, ha='right')\n"
     ]
    },
    {
     "name": "stdout",
     "output_type": "stream",
     "text": [
      "Filter 92 / 128...\n"
     ]
    },
    {
     "name": "stderr",
     "output_type": "stream",
     "text": [
      "C:\\Users\\casti\\AppData\\Local\\Temp\\ipykernel_31808\\3716661773.py:146: UserWarning: FixedFormatter should only be used together with FixedLocator\n",
      "  ax.set_xticklabels(model_outputs_ext_labels, rotation=60, ha='right')\n"
     ]
    },
    {
     "name": "stdout",
     "output_type": "stream",
     "text": [
      "Filter 93 / 128...\n"
     ]
    },
    {
     "name": "stderr",
     "output_type": "stream",
     "text": [
      "C:\\Users\\casti\\AppData\\Local\\Temp\\ipykernel_31808\\3716661773.py:146: UserWarning: FixedFormatter should only be used together with FixedLocator\n",
      "  ax.set_xticklabels(model_outputs_ext_labels, rotation=60, ha='right')\n"
     ]
    },
    {
     "name": "stdout",
     "output_type": "stream",
     "text": [
      "Filter 94 / 128...\n"
     ]
    },
    {
     "name": "stderr",
     "output_type": "stream",
     "text": [
      "C:\\Users\\casti\\AppData\\Local\\Temp\\ipykernel_31808\\3716661773.py:146: UserWarning: FixedFormatter should only be used together with FixedLocator\n",
      "  ax.set_xticklabels(model_outputs_ext_labels, rotation=60, ha='right')\n"
     ]
    },
    {
     "name": "stdout",
     "output_type": "stream",
     "text": [
      "Filter 95 / 128...\n"
     ]
    },
    {
     "name": "stderr",
     "output_type": "stream",
     "text": [
      "C:\\Users\\casti\\AppData\\Local\\Temp\\ipykernel_31808\\3716661773.py:146: UserWarning: FixedFormatter should only be used together with FixedLocator\n",
      "  ax.set_xticklabels(model_outputs_ext_labels, rotation=60, ha='right')\n"
     ]
    },
    {
     "name": "stdout",
     "output_type": "stream",
     "text": [
      "Filter 96 / 128...\n"
     ]
    },
    {
     "name": "stderr",
     "output_type": "stream",
     "text": [
      "C:\\Users\\casti\\AppData\\Local\\Temp\\ipykernel_31808\\3716661773.py:146: UserWarning: FixedFormatter should only be used together with FixedLocator\n",
      "  ax.set_xticklabels(model_outputs_ext_labels, rotation=60, ha='right')\n"
     ]
    },
    {
     "name": "stdout",
     "output_type": "stream",
     "text": [
      "Filter 97 / 128...\n"
     ]
    },
    {
     "name": "stderr",
     "output_type": "stream",
     "text": [
      "C:\\Users\\casti\\AppData\\Local\\Temp\\ipykernel_31808\\3716661773.py:146: UserWarning: FixedFormatter should only be used together with FixedLocator\n",
      "  ax.set_xticklabels(model_outputs_ext_labels, rotation=60, ha='right')\n"
     ]
    },
    {
     "name": "stdout",
     "output_type": "stream",
     "text": [
      "Filter 98 / 128...\n"
     ]
    },
    {
     "name": "stderr",
     "output_type": "stream",
     "text": [
      "C:\\Users\\casti\\AppData\\Local\\Temp\\ipykernel_31808\\3716661773.py:146: UserWarning: FixedFormatter should only be used together with FixedLocator\n",
      "  ax.set_xticklabels(model_outputs_ext_labels, rotation=60, ha='right')\n"
     ]
    },
    {
     "name": "stdout",
     "output_type": "stream",
     "text": [
      "Filter 99 / 128...\n"
     ]
    },
    {
     "name": "stderr",
     "output_type": "stream",
     "text": [
      "C:\\Users\\casti\\AppData\\Local\\Temp\\ipykernel_31808\\3716661773.py:146: UserWarning: FixedFormatter should only be used together with FixedLocator\n",
      "  ax.set_xticklabels(model_outputs_ext_labels, rotation=60, ha='right')\n"
     ]
    },
    {
     "name": "stdout",
     "output_type": "stream",
     "text": [
      "Filter 100 / 128...\n"
     ]
    },
    {
     "name": "stderr",
     "output_type": "stream",
     "text": [
      "C:\\Users\\casti\\AppData\\Local\\Temp\\ipykernel_31808\\3716661773.py:146: UserWarning: FixedFormatter should only be used together with FixedLocator\n",
      "  ax.set_xticklabels(model_outputs_ext_labels, rotation=60, ha='right')\n"
     ]
    },
    {
     "name": "stdout",
     "output_type": "stream",
     "text": [
      "Filter 101 / 128...\n"
     ]
    },
    {
     "name": "stderr",
     "output_type": "stream",
     "text": [
      "C:\\Users\\casti\\AppData\\Local\\Temp\\ipykernel_31808\\3716661773.py:146: UserWarning: FixedFormatter should only be used together with FixedLocator\n",
      "  ax.set_xticklabels(model_outputs_ext_labels, rotation=60, ha='right')\n"
     ]
    },
    {
     "name": "stdout",
     "output_type": "stream",
     "text": [
      "Filter 102 / 128...\n"
     ]
    },
    {
     "name": "stderr",
     "output_type": "stream",
     "text": [
      "C:\\Users\\casti\\AppData\\Local\\Temp\\ipykernel_31808\\3716661773.py:146: UserWarning: FixedFormatter should only be used together with FixedLocator\n",
      "  ax.set_xticklabels(model_outputs_ext_labels, rotation=60, ha='right')\n"
     ]
    },
    {
     "name": "stdout",
     "output_type": "stream",
     "text": [
      "Filter 103 / 128...\n"
     ]
    },
    {
     "name": "stderr",
     "output_type": "stream",
     "text": [
      "C:\\Users\\casti\\AppData\\Local\\Temp\\ipykernel_31808\\3716661773.py:146: UserWarning: FixedFormatter should only be used together with FixedLocator\n",
      "  ax.set_xticklabels(model_outputs_ext_labels, rotation=60, ha='right')\n"
     ]
    },
    {
     "name": "stdout",
     "output_type": "stream",
     "text": [
      "Filter 104 / 128...\n"
     ]
    },
    {
     "name": "stderr",
     "output_type": "stream",
     "text": [
      "C:\\Users\\casti\\AppData\\Local\\Temp\\ipykernel_31808\\3716661773.py:146: UserWarning: FixedFormatter should only be used together with FixedLocator\n",
      "  ax.set_xticklabels(model_outputs_ext_labels, rotation=60, ha='right')\n"
     ]
    },
    {
     "name": "stdout",
     "output_type": "stream",
     "text": [
      "Filter 105 / 128...\n"
     ]
    },
    {
     "name": "stderr",
     "output_type": "stream",
     "text": [
      "C:\\Users\\casti\\AppData\\Local\\Temp\\ipykernel_31808\\3716661773.py:146: UserWarning: FixedFormatter should only be used together with FixedLocator\n",
      "  ax.set_xticklabels(model_outputs_ext_labels, rotation=60, ha='right')\n"
     ]
    },
    {
     "name": "stdout",
     "output_type": "stream",
     "text": [
      "Filter 106 / 128...\n"
     ]
    },
    {
     "name": "stderr",
     "output_type": "stream",
     "text": [
      "C:\\Users\\casti\\AppData\\Local\\Temp\\ipykernel_31808\\3716661773.py:146: UserWarning: FixedFormatter should only be used together with FixedLocator\n",
      "  ax.set_xticklabels(model_outputs_ext_labels, rotation=60, ha='right')\n"
     ]
    },
    {
     "name": "stdout",
     "output_type": "stream",
     "text": [
      "Filter 107 / 128...\n"
     ]
    },
    {
     "name": "stderr",
     "output_type": "stream",
     "text": [
      "C:\\Users\\casti\\AppData\\Local\\Temp\\ipykernel_31808\\3716661773.py:146: UserWarning: FixedFormatter should only be used together with FixedLocator\n",
      "  ax.set_xticklabels(model_outputs_ext_labels, rotation=60, ha='right')\n"
     ]
    },
    {
     "name": "stdout",
     "output_type": "stream",
     "text": [
      "Filter 108 / 128...\n"
     ]
    },
    {
     "name": "stderr",
     "output_type": "stream",
     "text": [
      "C:\\Users\\casti\\AppData\\Local\\Temp\\ipykernel_31808\\3716661773.py:146: UserWarning: FixedFormatter should only be used together with FixedLocator\n",
      "  ax.set_xticklabels(model_outputs_ext_labels, rotation=60, ha='right')\n"
     ]
    },
    {
     "name": "stdout",
     "output_type": "stream",
     "text": [
      "Filter 109 / 128...\n"
     ]
    },
    {
     "name": "stderr",
     "output_type": "stream",
     "text": [
      "C:\\Users\\casti\\AppData\\Local\\Temp\\ipykernel_31808\\3716661773.py:146: UserWarning: FixedFormatter should only be used together with FixedLocator\n",
      "  ax.set_xticklabels(model_outputs_ext_labels, rotation=60, ha='right')\n"
     ]
    },
    {
     "name": "stdout",
     "output_type": "stream",
     "text": [
      "Filter 110 / 128...\n"
     ]
    },
    {
     "name": "stderr",
     "output_type": "stream",
     "text": [
      "C:\\Users\\casti\\AppData\\Local\\Temp\\ipykernel_31808\\3716661773.py:146: UserWarning: FixedFormatter should only be used together with FixedLocator\n",
      "  ax.set_xticklabels(model_outputs_ext_labels, rotation=60, ha='right')\n"
     ]
    },
    {
     "name": "stdout",
     "output_type": "stream",
     "text": [
      "Filter 111 / 128...\n"
     ]
    },
    {
     "name": "stderr",
     "output_type": "stream",
     "text": [
      "C:\\Users\\casti\\AppData\\Local\\Temp\\ipykernel_31808\\3716661773.py:146: UserWarning: FixedFormatter should only be used together with FixedLocator\n",
      "  ax.set_xticklabels(model_outputs_ext_labels, rotation=60, ha='right')\n"
     ]
    },
    {
     "name": "stdout",
     "output_type": "stream",
     "text": [
      "Filter 112 / 128...\n"
     ]
    },
    {
     "name": "stderr",
     "output_type": "stream",
     "text": [
      "C:\\Users\\casti\\AppData\\Local\\Temp\\ipykernel_31808\\3716661773.py:146: UserWarning: FixedFormatter should only be used together with FixedLocator\n",
      "  ax.set_xticklabels(model_outputs_ext_labels, rotation=60, ha='right')\n"
     ]
    },
    {
     "name": "stdout",
     "output_type": "stream",
     "text": [
      "Filter 113 / 128...\n"
     ]
    },
    {
     "name": "stderr",
     "output_type": "stream",
     "text": [
      "C:\\Users\\casti\\AppData\\Local\\Temp\\ipykernel_31808\\3716661773.py:146: UserWarning: FixedFormatter should only be used together with FixedLocator\n",
      "  ax.set_xticklabels(model_outputs_ext_labels, rotation=60, ha='right')\n"
     ]
    },
    {
     "name": "stdout",
     "output_type": "stream",
     "text": [
      "Filter 114 / 128...\n"
     ]
    },
    {
     "name": "stderr",
     "output_type": "stream",
     "text": [
      "C:\\Users\\casti\\AppData\\Local\\Temp\\ipykernel_31808\\3716661773.py:146: UserWarning: FixedFormatter should only be used together with FixedLocator\n",
      "  ax.set_xticklabels(model_outputs_ext_labels, rotation=60, ha='right')\n"
     ]
    },
    {
     "name": "stdout",
     "output_type": "stream",
     "text": [
      "Filter 115 / 128...\n"
     ]
    },
    {
     "name": "stderr",
     "output_type": "stream",
     "text": [
      "C:\\Users\\casti\\AppData\\Local\\Temp\\ipykernel_31808\\3716661773.py:146: UserWarning: FixedFormatter should only be used together with FixedLocator\n",
      "  ax.set_xticklabels(model_outputs_ext_labels, rotation=60, ha='right')\n"
     ]
    },
    {
     "name": "stdout",
     "output_type": "stream",
     "text": [
      "Filter 116 / 128...\n"
     ]
    },
    {
     "name": "stderr",
     "output_type": "stream",
     "text": [
      "C:\\Users\\casti\\AppData\\Local\\Temp\\ipykernel_31808\\3716661773.py:146: UserWarning: FixedFormatter should only be used together with FixedLocator\n",
      "  ax.set_xticklabels(model_outputs_ext_labels, rotation=60, ha='right')\n"
     ]
    },
    {
     "name": "stdout",
     "output_type": "stream",
     "text": [
      "Filter 117 / 128...\n"
     ]
    },
    {
     "name": "stderr",
     "output_type": "stream",
     "text": [
      "C:\\Users\\casti\\AppData\\Local\\Temp\\ipykernel_31808\\3716661773.py:146: UserWarning: FixedFormatter should only be used together with FixedLocator\n",
      "  ax.set_xticklabels(model_outputs_ext_labels, rotation=60, ha='right')\n"
     ]
    },
    {
     "name": "stdout",
     "output_type": "stream",
     "text": [
      "Filter 118 / 128...\n"
     ]
    },
    {
     "name": "stderr",
     "output_type": "stream",
     "text": [
      "C:\\Users\\casti\\AppData\\Local\\Temp\\ipykernel_31808\\3716661773.py:146: UserWarning: FixedFormatter should only be used together with FixedLocator\n",
      "  ax.set_xticklabels(model_outputs_ext_labels, rotation=60, ha='right')\n"
     ]
    },
    {
     "name": "stdout",
     "output_type": "stream",
     "text": [
      "Filter 119 / 128...\n"
     ]
    },
    {
     "name": "stderr",
     "output_type": "stream",
     "text": [
      "C:\\Users\\casti\\AppData\\Local\\Temp\\ipykernel_31808\\3716661773.py:146: UserWarning: FixedFormatter should only be used together with FixedLocator\n",
      "  ax.set_xticklabels(model_outputs_ext_labels, rotation=60, ha='right')\n"
     ]
    },
    {
     "name": "stdout",
     "output_type": "stream",
     "text": [
      "Filter 120 / 128...\n"
     ]
    },
    {
     "name": "stderr",
     "output_type": "stream",
     "text": [
      "C:\\Users\\casti\\AppData\\Local\\Temp\\ipykernel_31808\\3716661773.py:146: UserWarning: FixedFormatter should only be used together with FixedLocator\n",
      "  ax.set_xticklabels(model_outputs_ext_labels, rotation=60, ha='right')\n"
     ]
    },
    {
     "name": "stdout",
     "output_type": "stream",
     "text": [
      "Filter 121 / 128...\n"
     ]
    },
    {
     "name": "stderr",
     "output_type": "stream",
     "text": [
      "C:\\Users\\casti\\AppData\\Local\\Temp\\ipykernel_31808\\3716661773.py:146: UserWarning: FixedFormatter should only be used together with FixedLocator\n",
      "  ax.set_xticklabels(model_outputs_ext_labels, rotation=60, ha='right')\n"
     ]
    },
    {
     "name": "stdout",
     "output_type": "stream",
     "text": [
      "Filter 122 / 128...\n"
     ]
    },
    {
     "name": "stderr",
     "output_type": "stream",
     "text": [
      "C:\\Users\\casti\\AppData\\Local\\Temp\\ipykernel_31808\\3716661773.py:146: UserWarning: FixedFormatter should only be used together with FixedLocator\n",
      "  ax.set_xticklabels(model_outputs_ext_labels, rotation=60, ha='right')\n"
     ]
    },
    {
     "name": "stdout",
     "output_type": "stream",
     "text": [
      "Filter 123 / 128...\n"
     ]
    },
    {
     "name": "stderr",
     "output_type": "stream",
     "text": [
      "C:\\Users\\casti\\AppData\\Local\\Temp\\ipykernel_31808\\3716661773.py:146: UserWarning: FixedFormatter should only be used together with FixedLocator\n",
      "  ax.set_xticklabels(model_outputs_ext_labels, rotation=60, ha='right')\n"
     ]
    },
    {
     "name": "stdout",
     "output_type": "stream",
     "text": [
      "Filter 124 / 128...\n"
     ]
    },
    {
     "name": "stderr",
     "output_type": "stream",
     "text": [
      "C:\\Users\\casti\\AppData\\Local\\Temp\\ipykernel_31808\\3716661773.py:146: UserWarning: FixedFormatter should only be used together with FixedLocator\n",
      "  ax.set_xticklabels(model_outputs_ext_labels, rotation=60, ha='right')\n"
     ]
    },
    {
     "name": "stdout",
     "output_type": "stream",
     "text": [
      "Filter 125 / 128...\n"
     ]
    },
    {
     "name": "stderr",
     "output_type": "stream",
     "text": [
      "C:\\Users\\casti\\AppData\\Local\\Temp\\ipykernel_31808\\3716661773.py:146: UserWarning: FixedFormatter should only be used together with FixedLocator\n",
      "  ax.set_xticklabels(model_outputs_ext_labels, rotation=60, ha='right')\n"
     ]
    },
    {
     "name": "stdout",
     "output_type": "stream",
     "text": [
      "Filter 126 / 128...\n"
     ]
    },
    {
     "name": "stderr",
     "output_type": "stream",
     "text": [
      "C:\\Users\\casti\\AppData\\Local\\Temp\\ipykernel_31808\\3716661773.py:146: UserWarning: FixedFormatter should only be used together with FixedLocator\n",
      "  ax.set_xticklabels(model_outputs_ext_labels, rotation=60, ha='right')\n"
     ]
    },
    {
     "name": "stdout",
     "output_type": "stream",
     "text": [
      "Filter 127 / 128...\n"
     ]
    },
    {
     "name": "stderr",
     "output_type": "stream",
     "text": [
      "C:\\Users\\casti\\AppData\\Local\\Temp\\ipykernel_31808\\3716661773.py:146: UserWarning: FixedFormatter should only be used together with FixedLocator\n",
      "  ax.set_xticklabels(model_outputs_ext_labels, rotation=60, ha='right')\n"
     ]
    },
    {
     "name": "stdout",
     "output_type": "stream",
     "text": [
      "Saving meme file...\n",
      "Done with model 1.\n",
      "Processing model 2...\n",
      "Filter 0 / 128...\n"
     ]
    },
    {
     "name": "stderr",
     "output_type": "stream",
     "text": [
      "C:\\Users\\casti\\AppData\\Local\\Temp\\ipykernel_31808\\3716661773.py:146: UserWarning: FixedFormatter should only be used together with FixedLocator\n",
      "  ax.set_xticklabels(model_outputs_ext_labels, rotation=60, ha='right')\n"
     ]
    },
    {
     "name": "stdout",
     "output_type": "stream",
     "text": [
      "Filter 1 / 128...\n"
     ]
    },
    {
     "name": "stderr",
     "output_type": "stream",
     "text": [
      "C:\\Users\\casti\\AppData\\Local\\Temp\\ipykernel_31808\\3716661773.py:146: UserWarning: FixedFormatter should only be used together with FixedLocator\n",
      "  ax.set_xticklabels(model_outputs_ext_labels, rotation=60, ha='right')\n"
     ]
    },
    {
     "name": "stdout",
     "output_type": "stream",
     "text": [
      "Filter 2 / 128...\n"
     ]
    },
    {
     "name": "stderr",
     "output_type": "stream",
     "text": [
      "C:\\Users\\casti\\AppData\\Local\\Temp\\ipykernel_31808\\3716661773.py:146: UserWarning: FixedFormatter should only be used together with FixedLocator\n",
      "  ax.set_xticklabels(model_outputs_ext_labels, rotation=60, ha='right')\n"
     ]
    },
    {
     "name": "stdout",
     "output_type": "stream",
     "text": [
      "Filter 3 / 128...\n"
     ]
    },
    {
     "name": "stderr",
     "output_type": "stream",
     "text": [
      "C:\\Users\\casti\\AppData\\Local\\Temp\\ipykernel_31808\\3716661773.py:146: UserWarning: FixedFormatter should only be used together with FixedLocator\n",
      "  ax.set_xticklabels(model_outputs_ext_labels, rotation=60, ha='right')\n"
     ]
    },
    {
     "name": "stdout",
     "output_type": "stream",
     "text": [
      "Filter 4 / 128...\n"
     ]
    },
    {
     "name": "stderr",
     "output_type": "stream",
     "text": [
      "C:\\Users\\casti\\AppData\\Local\\Temp\\ipykernel_31808\\3716661773.py:146: UserWarning: FixedFormatter should only be used together with FixedLocator\n",
      "  ax.set_xticklabels(model_outputs_ext_labels, rotation=60, ha='right')\n"
     ]
    },
    {
     "name": "stdout",
     "output_type": "stream",
     "text": [
      "Filter 5 / 128...\n"
     ]
    },
    {
     "name": "stderr",
     "output_type": "stream",
     "text": [
      "C:\\Users\\casti\\AppData\\Local\\Temp\\ipykernel_31808\\3716661773.py:146: UserWarning: FixedFormatter should only be used together with FixedLocator\n",
      "  ax.set_xticklabels(model_outputs_ext_labels, rotation=60, ha='right')\n"
     ]
    },
    {
     "name": "stdout",
     "output_type": "stream",
     "text": [
      "Filter 6 / 128...\n"
     ]
    },
    {
     "name": "stderr",
     "output_type": "stream",
     "text": [
      "C:\\Users\\casti\\AppData\\Local\\Temp\\ipykernel_31808\\3716661773.py:146: UserWarning: FixedFormatter should only be used together with FixedLocator\n",
      "  ax.set_xticklabels(model_outputs_ext_labels, rotation=60, ha='right')\n"
     ]
    },
    {
     "name": "stdout",
     "output_type": "stream",
     "text": [
      "Filter 7 / 128...\n"
     ]
    },
    {
     "name": "stderr",
     "output_type": "stream",
     "text": [
      "C:\\Users\\casti\\AppData\\Local\\Temp\\ipykernel_31808\\3716661773.py:146: UserWarning: FixedFormatter should only be used together with FixedLocator\n",
      "  ax.set_xticklabels(model_outputs_ext_labels, rotation=60, ha='right')\n"
     ]
    },
    {
     "name": "stdout",
     "output_type": "stream",
     "text": [
      "Filter 8 / 128...\n"
     ]
    },
    {
     "name": "stderr",
     "output_type": "stream",
     "text": [
      "C:\\Users\\casti\\AppData\\Local\\Temp\\ipykernel_31808\\3716661773.py:146: UserWarning: FixedFormatter should only be used together with FixedLocator\n",
      "  ax.set_xticklabels(model_outputs_ext_labels, rotation=60, ha='right')\n"
     ]
    },
    {
     "name": "stdout",
     "output_type": "stream",
     "text": [
      "Filter 9 / 128...\n"
     ]
    },
    {
     "name": "stderr",
     "output_type": "stream",
     "text": [
      "C:\\Users\\casti\\AppData\\Local\\Temp\\ipykernel_31808\\3716661773.py:146: UserWarning: FixedFormatter should only be used together with FixedLocator\n",
      "  ax.set_xticklabels(model_outputs_ext_labels, rotation=60, ha='right')\n"
     ]
    },
    {
     "name": "stdout",
     "output_type": "stream",
     "text": [
      "Filter 10 / 128...\n"
     ]
    },
    {
     "name": "stderr",
     "output_type": "stream",
     "text": [
      "C:\\Users\\casti\\AppData\\Local\\Temp\\ipykernel_31808\\3716661773.py:146: UserWarning: FixedFormatter should only be used together with FixedLocator\n",
      "  ax.set_xticklabels(model_outputs_ext_labels, rotation=60, ha='right')\n"
     ]
    },
    {
     "name": "stdout",
     "output_type": "stream",
     "text": [
      "Filter 11 / 128...\n"
     ]
    },
    {
     "name": "stderr",
     "output_type": "stream",
     "text": [
      "C:\\Users\\casti\\AppData\\Local\\Temp\\ipykernel_31808\\3716661773.py:146: UserWarning: FixedFormatter should only be used together with FixedLocator\n",
      "  ax.set_xticklabels(model_outputs_ext_labels, rotation=60, ha='right')\n"
     ]
    },
    {
     "name": "stdout",
     "output_type": "stream",
     "text": [
      "Filter 12 / 128...\n"
     ]
    },
    {
     "name": "stderr",
     "output_type": "stream",
     "text": [
      "C:\\Users\\casti\\AppData\\Local\\Temp\\ipykernel_31808\\3716661773.py:146: UserWarning: FixedFormatter should only be used together with FixedLocator\n",
      "  ax.set_xticklabels(model_outputs_ext_labels, rotation=60, ha='right')\n"
     ]
    },
    {
     "name": "stdout",
     "output_type": "stream",
     "text": [
      "Filter 13 / 128...\n"
     ]
    },
    {
     "name": "stderr",
     "output_type": "stream",
     "text": [
      "C:\\Users\\casti\\AppData\\Local\\Temp\\ipykernel_31808\\3716661773.py:146: UserWarning: FixedFormatter should only be used together with FixedLocator\n",
      "  ax.set_xticklabels(model_outputs_ext_labels, rotation=60, ha='right')\n"
     ]
    },
    {
     "name": "stdout",
     "output_type": "stream",
     "text": [
      "Filter 14 / 128...\n"
     ]
    },
    {
     "name": "stderr",
     "output_type": "stream",
     "text": [
      "C:\\Users\\casti\\AppData\\Local\\Temp\\ipykernel_31808\\3716661773.py:146: UserWarning: FixedFormatter should only be used together with FixedLocator\n",
      "  ax.set_xticklabels(model_outputs_ext_labels, rotation=60, ha='right')\n"
     ]
    },
    {
     "name": "stdout",
     "output_type": "stream",
     "text": [
      "Filter 15 / 128...\n"
     ]
    },
    {
     "name": "stderr",
     "output_type": "stream",
     "text": [
      "C:\\Users\\casti\\AppData\\Local\\Temp\\ipykernel_31808\\3716661773.py:146: UserWarning: FixedFormatter should only be used together with FixedLocator\n",
      "  ax.set_xticklabels(model_outputs_ext_labels, rotation=60, ha='right')\n"
     ]
    },
    {
     "name": "stdout",
     "output_type": "stream",
     "text": [
      "Filter 16 / 128...\n"
     ]
    },
    {
     "name": "stderr",
     "output_type": "stream",
     "text": [
      "C:\\Users\\casti\\AppData\\Local\\Temp\\ipykernel_31808\\3716661773.py:146: UserWarning: FixedFormatter should only be used together with FixedLocator\n",
      "  ax.set_xticklabels(model_outputs_ext_labels, rotation=60, ha='right')\n"
     ]
    },
    {
     "name": "stdout",
     "output_type": "stream",
     "text": [
      "Filter 17 / 128...\n"
     ]
    },
    {
     "name": "stderr",
     "output_type": "stream",
     "text": [
      "C:\\Users\\casti\\AppData\\Local\\Temp\\ipykernel_31808\\3716661773.py:146: UserWarning: FixedFormatter should only be used together with FixedLocator\n",
      "  ax.set_xticklabels(model_outputs_ext_labels, rotation=60, ha='right')\n"
     ]
    },
    {
     "name": "stdout",
     "output_type": "stream",
     "text": [
      "Filter 18 / 128...\n"
     ]
    },
    {
     "name": "stderr",
     "output_type": "stream",
     "text": [
      "C:\\Users\\casti\\AppData\\Local\\Temp\\ipykernel_31808\\3716661773.py:146: UserWarning: FixedFormatter should only be used together with FixedLocator\n",
      "  ax.set_xticklabels(model_outputs_ext_labels, rotation=60, ha='right')\n"
     ]
    },
    {
     "name": "stdout",
     "output_type": "stream",
     "text": [
      "Filter 19 / 128...\n"
     ]
    },
    {
     "name": "stderr",
     "output_type": "stream",
     "text": [
      "C:\\Users\\casti\\AppData\\Local\\Temp\\ipykernel_31808\\3716661773.py:146: UserWarning: FixedFormatter should only be used together with FixedLocator\n",
      "  ax.set_xticklabels(model_outputs_ext_labels, rotation=60, ha='right')\n"
     ]
    },
    {
     "name": "stdout",
     "output_type": "stream",
     "text": [
      "Filter 20 / 128...\n"
     ]
    },
    {
     "name": "stderr",
     "output_type": "stream",
     "text": [
      "C:\\Users\\casti\\AppData\\Local\\Temp\\ipykernel_31808\\3716661773.py:146: UserWarning: FixedFormatter should only be used together with FixedLocator\n",
      "  ax.set_xticklabels(model_outputs_ext_labels, rotation=60, ha='right')\n"
     ]
    },
    {
     "name": "stdout",
     "output_type": "stream",
     "text": [
      "Filter 21 / 128...\n"
     ]
    },
    {
     "name": "stderr",
     "output_type": "stream",
     "text": [
      "C:\\Users\\casti\\AppData\\Local\\Temp\\ipykernel_31808\\3716661773.py:146: UserWarning: FixedFormatter should only be used together with FixedLocator\n",
      "  ax.set_xticklabels(model_outputs_ext_labels, rotation=60, ha='right')\n"
     ]
    },
    {
     "name": "stdout",
     "output_type": "stream",
     "text": [
      "Filter 22 / 128...\n"
     ]
    },
    {
     "name": "stderr",
     "output_type": "stream",
     "text": [
      "C:\\Users\\casti\\AppData\\Local\\Temp\\ipykernel_31808\\3716661773.py:146: UserWarning: FixedFormatter should only be used together with FixedLocator\n",
      "  ax.set_xticklabels(model_outputs_ext_labels, rotation=60, ha='right')\n"
     ]
    },
    {
     "name": "stdout",
     "output_type": "stream",
     "text": [
      "Filter 23 / 128...\n"
     ]
    },
    {
     "name": "stderr",
     "output_type": "stream",
     "text": [
      "C:\\Users\\casti\\AppData\\Local\\Temp\\ipykernel_31808\\3716661773.py:146: UserWarning: FixedFormatter should only be used together with FixedLocator\n",
      "  ax.set_xticklabels(model_outputs_ext_labels, rotation=60, ha='right')\n"
     ]
    },
    {
     "name": "stdout",
     "output_type": "stream",
     "text": [
      "Filter 24 / 128...\n"
     ]
    },
    {
     "name": "stderr",
     "output_type": "stream",
     "text": [
      "C:\\Users\\casti\\AppData\\Local\\Temp\\ipykernel_31808\\3716661773.py:146: UserWarning: FixedFormatter should only be used together with FixedLocator\n",
      "  ax.set_xticklabels(model_outputs_ext_labels, rotation=60, ha='right')\n"
     ]
    },
    {
     "name": "stdout",
     "output_type": "stream",
     "text": [
      "Filter 25 / 128...\n"
     ]
    },
    {
     "name": "stderr",
     "output_type": "stream",
     "text": [
      "C:\\Users\\casti\\AppData\\Local\\Temp\\ipykernel_31808\\3716661773.py:146: UserWarning: FixedFormatter should only be used together with FixedLocator\n",
      "  ax.set_xticklabels(model_outputs_ext_labels, rotation=60, ha='right')\n"
     ]
    },
    {
     "name": "stdout",
     "output_type": "stream",
     "text": [
      "Filter 26 / 128...\n"
     ]
    },
    {
     "name": "stderr",
     "output_type": "stream",
     "text": [
      "C:\\Users\\casti\\AppData\\Local\\Temp\\ipykernel_31808\\3716661773.py:146: UserWarning: FixedFormatter should only be used together with FixedLocator\n",
      "  ax.set_xticklabels(model_outputs_ext_labels, rotation=60, ha='right')\n"
     ]
    },
    {
     "name": "stdout",
     "output_type": "stream",
     "text": [
      "Filter 27 / 128...\n"
     ]
    },
    {
     "name": "stderr",
     "output_type": "stream",
     "text": [
      "C:\\Users\\casti\\AppData\\Local\\Temp\\ipykernel_31808\\3716661773.py:146: UserWarning: FixedFormatter should only be used together with FixedLocator\n",
      "  ax.set_xticklabels(model_outputs_ext_labels, rotation=60, ha='right')\n"
     ]
    },
    {
     "name": "stdout",
     "output_type": "stream",
     "text": [
      "Filter 28 / 128...\n"
     ]
    },
    {
     "name": "stderr",
     "output_type": "stream",
     "text": [
      "C:\\Users\\casti\\AppData\\Local\\Temp\\ipykernel_31808\\3716661773.py:146: UserWarning: FixedFormatter should only be used together with FixedLocator\n",
      "  ax.set_xticklabels(model_outputs_ext_labels, rotation=60, ha='right')\n"
     ]
    },
    {
     "name": "stdout",
     "output_type": "stream",
     "text": [
      "Filter 29 / 128...\n"
     ]
    },
    {
     "name": "stderr",
     "output_type": "stream",
     "text": [
      "C:\\Users\\casti\\AppData\\Local\\Temp\\ipykernel_31808\\3716661773.py:146: UserWarning: FixedFormatter should only be used together with FixedLocator\n",
      "  ax.set_xticklabels(model_outputs_ext_labels, rotation=60, ha='right')\n"
     ]
    },
    {
     "name": "stdout",
     "output_type": "stream",
     "text": [
      "Filter 30 / 128...\n"
     ]
    },
    {
     "name": "stderr",
     "output_type": "stream",
     "text": [
      "C:\\Users\\casti\\AppData\\Local\\Temp\\ipykernel_31808\\3716661773.py:146: UserWarning: FixedFormatter should only be used together with FixedLocator\n",
      "  ax.set_xticklabels(model_outputs_ext_labels, rotation=60, ha='right')\n"
     ]
    },
    {
     "name": "stdout",
     "output_type": "stream",
     "text": [
      "Filter 31 / 128...\n"
     ]
    },
    {
     "name": "stderr",
     "output_type": "stream",
     "text": [
      "C:\\Users\\casti\\AppData\\Local\\Temp\\ipykernel_31808\\3716661773.py:146: UserWarning: FixedFormatter should only be used together with FixedLocator\n",
      "  ax.set_xticklabels(model_outputs_ext_labels, rotation=60, ha='right')\n"
     ]
    },
    {
     "name": "stdout",
     "output_type": "stream",
     "text": [
      "Filter 32 / 128...\n"
     ]
    },
    {
     "name": "stderr",
     "output_type": "stream",
     "text": [
      "C:\\Users\\casti\\AppData\\Local\\Temp\\ipykernel_31808\\3716661773.py:146: UserWarning: FixedFormatter should only be used together with FixedLocator\n",
      "  ax.set_xticklabels(model_outputs_ext_labels, rotation=60, ha='right')\n"
     ]
    },
    {
     "name": "stdout",
     "output_type": "stream",
     "text": [
      "Filter 33 / 128...\n"
     ]
    },
    {
     "name": "stderr",
     "output_type": "stream",
     "text": [
      "C:\\Users\\casti\\AppData\\Local\\Temp\\ipykernel_31808\\3716661773.py:146: UserWarning: FixedFormatter should only be used together with FixedLocator\n",
      "  ax.set_xticklabels(model_outputs_ext_labels, rotation=60, ha='right')\n"
     ]
    },
    {
     "name": "stdout",
     "output_type": "stream",
     "text": [
      "Filter 34 / 128...\n"
     ]
    },
    {
     "name": "stderr",
     "output_type": "stream",
     "text": [
      "C:\\Users\\casti\\AppData\\Local\\Temp\\ipykernel_31808\\3716661773.py:146: UserWarning: FixedFormatter should only be used together with FixedLocator\n",
      "  ax.set_xticklabels(model_outputs_ext_labels, rotation=60, ha='right')\n"
     ]
    },
    {
     "name": "stdout",
     "output_type": "stream",
     "text": [
      "Filter 35 / 128...\n"
     ]
    },
    {
     "name": "stderr",
     "output_type": "stream",
     "text": [
      "C:\\Users\\casti\\AppData\\Local\\Temp\\ipykernel_31808\\3716661773.py:146: UserWarning: FixedFormatter should only be used together with FixedLocator\n",
      "  ax.set_xticklabels(model_outputs_ext_labels, rotation=60, ha='right')\n"
     ]
    },
    {
     "name": "stdout",
     "output_type": "stream",
     "text": [
      "Filter 36 / 128...\n"
     ]
    },
    {
     "name": "stderr",
     "output_type": "stream",
     "text": [
      "C:\\Users\\casti\\AppData\\Local\\Temp\\ipykernel_31808\\3716661773.py:146: UserWarning: FixedFormatter should only be used together with FixedLocator\n",
      "  ax.set_xticklabels(model_outputs_ext_labels, rotation=60, ha='right')\n"
     ]
    },
    {
     "name": "stdout",
     "output_type": "stream",
     "text": [
      "Filter 37 / 128...\n"
     ]
    },
    {
     "name": "stderr",
     "output_type": "stream",
     "text": [
      "C:\\Users\\casti\\AppData\\Local\\Temp\\ipykernel_31808\\3716661773.py:146: UserWarning: FixedFormatter should only be used together with FixedLocator\n",
      "  ax.set_xticklabels(model_outputs_ext_labels, rotation=60, ha='right')\n"
     ]
    },
    {
     "name": "stdout",
     "output_type": "stream",
     "text": [
      "Filter 38 / 128...\n"
     ]
    },
    {
     "name": "stderr",
     "output_type": "stream",
     "text": [
      "C:\\Users\\casti\\AppData\\Local\\Temp\\ipykernel_31808\\3716661773.py:146: UserWarning: FixedFormatter should only be used together with FixedLocator\n",
      "  ax.set_xticklabels(model_outputs_ext_labels, rotation=60, ha='right')\n"
     ]
    },
    {
     "name": "stdout",
     "output_type": "stream",
     "text": [
      "Filter 39 / 128...\n"
     ]
    },
    {
     "name": "stderr",
     "output_type": "stream",
     "text": [
      "C:\\Users\\casti\\AppData\\Local\\Temp\\ipykernel_31808\\3716661773.py:146: UserWarning: FixedFormatter should only be used together with FixedLocator\n",
      "  ax.set_xticklabels(model_outputs_ext_labels, rotation=60, ha='right')\n"
     ]
    },
    {
     "name": "stdout",
     "output_type": "stream",
     "text": [
      "Filter 40 / 128...\n"
     ]
    },
    {
     "name": "stderr",
     "output_type": "stream",
     "text": [
      "C:\\Users\\casti\\AppData\\Local\\Temp\\ipykernel_31808\\3716661773.py:146: UserWarning: FixedFormatter should only be used together with FixedLocator\n",
      "  ax.set_xticklabels(model_outputs_ext_labels, rotation=60, ha='right')\n"
     ]
    },
    {
     "name": "stdout",
     "output_type": "stream",
     "text": [
      "Filter 41 / 128...\n"
     ]
    },
    {
     "name": "stderr",
     "output_type": "stream",
     "text": [
      "C:\\Users\\casti\\AppData\\Local\\Temp\\ipykernel_31808\\3716661773.py:146: UserWarning: FixedFormatter should only be used together with FixedLocator\n",
      "  ax.set_xticklabels(model_outputs_ext_labels, rotation=60, ha='right')\n"
     ]
    },
    {
     "name": "stdout",
     "output_type": "stream",
     "text": [
      "Filter 42 / 128...\n"
     ]
    },
    {
     "name": "stderr",
     "output_type": "stream",
     "text": [
      "C:\\Users\\casti\\AppData\\Local\\Temp\\ipykernel_31808\\3716661773.py:146: UserWarning: FixedFormatter should only be used together with FixedLocator\n",
      "  ax.set_xticklabels(model_outputs_ext_labels, rotation=60, ha='right')\n"
     ]
    },
    {
     "name": "stdout",
     "output_type": "stream",
     "text": [
      "Filter 43 / 128...\n"
     ]
    },
    {
     "name": "stderr",
     "output_type": "stream",
     "text": [
      "C:\\Users\\casti\\AppData\\Local\\Temp\\ipykernel_31808\\3716661773.py:146: UserWarning: FixedFormatter should only be used together with FixedLocator\n",
      "  ax.set_xticklabels(model_outputs_ext_labels, rotation=60, ha='right')\n"
     ]
    },
    {
     "name": "stdout",
     "output_type": "stream",
     "text": [
      "Filter 44 / 128...\n"
     ]
    },
    {
     "name": "stderr",
     "output_type": "stream",
     "text": [
      "C:\\Users\\casti\\AppData\\Local\\Temp\\ipykernel_31808\\3716661773.py:146: UserWarning: FixedFormatter should only be used together with FixedLocator\n",
      "  ax.set_xticklabels(model_outputs_ext_labels, rotation=60, ha='right')\n"
     ]
    },
    {
     "name": "stdout",
     "output_type": "stream",
     "text": [
      "Filter 45 / 128...\n"
     ]
    },
    {
     "name": "stderr",
     "output_type": "stream",
     "text": [
      "C:\\Users\\casti\\AppData\\Local\\Temp\\ipykernel_31808\\3716661773.py:146: UserWarning: FixedFormatter should only be used together with FixedLocator\n",
      "  ax.set_xticklabels(model_outputs_ext_labels, rotation=60, ha='right')\n"
     ]
    },
    {
     "name": "stdout",
     "output_type": "stream",
     "text": [
      "Filter 46 / 128...\n"
     ]
    },
    {
     "name": "stderr",
     "output_type": "stream",
     "text": [
      "C:\\Users\\casti\\AppData\\Local\\Temp\\ipykernel_31808\\3716661773.py:146: UserWarning: FixedFormatter should only be used together with FixedLocator\n",
      "  ax.set_xticklabels(model_outputs_ext_labels, rotation=60, ha='right')\n"
     ]
    },
    {
     "name": "stdout",
     "output_type": "stream",
     "text": [
      "Filter 47 / 128...\n"
     ]
    },
    {
     "name": "stderr",
     "output_type": "stream",
     "text": [
      "C:\\Users\\casti\\AppData\\Local\\Temp\\ipykernel_31808\\3716661773.py:146: UserWarning: FixedFormatter should only be used together with FixedLocator\n",
      "  ax.set_xticklabels(model_outputs_ext_labels, rotation=60, ha='right')\n"
     ]
    },
    {
     "name": "stdout",
     "output_type": "stream",
     "text": [
      "Filter 48 / 128...\n"
     ]
    },
    {
     "name": "stderr",
     "output_type": "stream",
     "text": [
      "C:\\Users\\casti\\AppData\\Local\\Temp\\ipykernel_31808\\3716661773.py:146: UserWarning: FixedFormatter should only be used together with FixedLocator\n",
      "  ax.set_xticklabels(model_outputs_ext_labels, rotation=60, ha='right')\n"
     ]
    },
    {
     "name": "stdout",
     "output_type": "stream",
     "text": [
      "Filter 49 / 128...\n"
     ]
    },
    {
     "name": "stderr",
     "output_type": "stream",
     "text": [
      "C:\\Users\\casti\\AppData\\Local\\Temp\\ipykernel_31808\\3716661773.py:146: UserWarning: FixedFormatter should only be used together with FixedLocator\n",
      "  ax.set_xticklabels(model_outputs_ext_labels, rotation=60, ha='right')\n"
     ]
    },
    {
     "name": "stdout",
     "output_type": "stream",
     "text": [
      "Filter 50 / 128...\n"
     ]
    },
    {
     "name": "stderr",
     "output_type": "stream",
     "text": [
      "C:\\Users\\casti\\AppData\\Local\\Temp\\ipykernel_31808\\3716661773.py:146: UserWarning: FixedFormatter should only be used together with FixedLocator\n",
      "  ax.set_xticklabels(model_outputs_ext_labels, rotation=60, ha='right')\n"
     ]
    },
    {
     "name": "stdout",
     "output_type": "stream",
     "text": [
      "Filter 51 / 128...\n"
     ]
    },
    {
     "name": "stderr",
     "output_type": "stream",
     "text": [
      "C:\\Users\\casti\\AppData\\Local\\Temp\\ipykernel_31808\\3716661773.py:146: UserWarning: FixedFormatter should only be used together with FixedLocator\n",
      "  ax.set_xticklabels(model_outputs_ext_labels, rotation=60, ha='right')\n"
     ]
    },
    {
     "name": "stdout",
     "output_type": "stream",
     "text": [
      "Filter 52 / 128...\n"
     ]
    },
    {
     "name": "stderr",
     "output_type": "stream",
     "text": [
      "C:\\Users\\casti\\AppData\\Local\\Temp\\ipykernel_31808\\3716661773.py:146: UserWarning: FixedFormatter should only be used together with FixedLocator\n",
      "  ax.set_xticklabels(model_outputs_ext_labels, rotation=60, ha='right')\n"
     ]
    },
    {
     "name": "stdout",
     "output_type": "stream",
     "text": [
      "Filter 53 / 128...\n"
     ]
    },
    {
     "name": "stderr",
     "output_type": "stream",
     "text": [
      "C:\\Users\\casti\\AppData\\Local\\Temp\\ipykernel_31808\\3716661773.py:146: UserWarning: FixedFormatter should only be used together with FixedLocator\n",
      "  ax.set_xticklabels(model_outputs_ext_labels, rotation=60, ha='right')\n"
     ]
    },
    {
     "name": "stdout",
     "output_type": "stream",
     "text": [
      "Filter 54 / 128...\n"
     ]
    },
    {
     "name": "stderr",
     "output_type": "stream",
     "text": [
      "C:\\Users\\casti\\AppData\\Local\\Temp\\ipykernel_31808\\3716661773.py:146: UserWarning: FixedFormatter should only be used together with FixedLocator\n",
      "  ax.set_xticklabels(model_outputs_ext_labels, rotation=60, ha='right')\n"
     ]
    },
    {
     "name": "stdout",
     "output_type": "stream",
     "text": [
      "Filter 55 / 128...\n"
     ]
    },
    {
     "name": "stderr",
     "output_type": "stream",
     "text": [
      "C:\\Users\\casti\\AppData\\Local\\Temp\\ipykernel_31808\\3716661773.py:146: UserWarning: FixedFormatter should only be used together with FixedLocator\n",
      "  ax.set_xticklabels(model_outputs_ext_labels, rotation=60, ha='right')\n"
     ]
    },
    {
     "name": "stdout",
     "output_type": "stream",
     "text": [
      "Filter 56 / 128...\n"
     ]
    },
    {
     "name": "stderr",
     "output_type": "stream",
     "text": [
      "C:\\Users\\casti\\AppData\\Local\\Temp\\ipykernel_31808\\3716661773.py:146: UserWarning: FixedFormatter should only be used together with FixedLocator\n",
      "  ax.set_xticklabels(model_outputs_ext_labels, rotation=60, ha='right')\n"
     ]
    },
    {
     "name": "stdout",
     "output_type": "stream",
     "text": [
      "Filter 57 / 128...\n"
     ]
    },
    {
     "name": "stderr",
     "output_type": "stream",
     "text": [
      "C:\\Users\\casti\\AppData\\Local\\Temp\\ipykernel_31808\\3716661773.py:146: UserWarning: FixedFormatter should only be used together with FixedLocator\n",
      "  ax.set_xticklabels(model_outputs_ext_labels, rotation=60, ha='right')\n"
     ]
    },
    {
     "name": "stdout",
     "output_type": "stream",
     "text": [
      "Filter 58 / 128...\n"
     ]
    },
    {
     "name": "stderr",
     "output_type": "stream",
     "text": [
      "C:\\Users\\casti\\AppData\\Local\\Temp\\ipykernel_31808\\3716661773.py:146: UserWarning: FixedFormatter should only be used together with FixedLocator\n",
      "  ax.set_xticklabels(model_outputs_ext_labels, rotation=60, ha='right')\n"
     ]
    },
    {
     "name": "stdout",
     "output_type": "stream",
     "text": [
      "Filter 59 / 128...\n"
     ]
    },
    {
     "name": "stderr",
     "output_type": "stream",
     "text": [
      "C:\\Users\\casti\\AppData\\Local\\Temp\\ipykernel_31808\\3716661773.py:146: UserWarning: FixedFormatter should only be used together with FixedLocator\n",
      "  ax.set_xticklabels(model_outputs_ext_labels, rotation=60, ha='right')\n"
     ]
    },
    {
     "name": "stdout",
     "output_type": "stream",
     "text": [
      "Filter 60 / 128...\n"
     ]
    },
    {
     "name": "stderr",
     "output_type": "stream",
     "text": [
      "C:\\Users\\casti\\AppData\\Local\\Temp\\ipykernel_31808\\3716661773.py:146: UserWarning: FixedFormatter should only be used together with FixedLocator\n",
      "  ax.set_xticklabels(model_outputs_ext_labels, rotation=60, ha='right')\n"
     ]
    },
    {
     "name": "stdout",
     "output_type": "stream",
     "text": [
      "Filter 61 / 128...\n"
     ]
    },
    {
     "name": "stderr",
     "output_type": "stream",
     "text": [
      "C:\\Users\\casti\\AppData\\Local\\Temp\\ipykernel_31808\\3716661773.py:146: UserWarning: FixedFormatter should only be used together with FixedLocator\n",
      "  ax.set_xticklabels(model_outputs_ext_labels, rotation=60, ha='right')\n"
     ]
    },
    {
     "name": "stdout",
     "output_type": "stream",
     "text": [
      "Filter 62 / 128...\n"
     ]
    },
    {
     "name": "stderr",
     "output_type": "stream",
     "text": [
      "C:\\Users\\casti\\AppData\\Local\\Temp\\ipykernel_31808\\3716661773.py:146: UserWarning: FixedFormatter should only be used together with FixedLocator\n",
      "  ax.set_xticklabels(model_outputs_ext_labels, rotation=60, ha='right')\n"
     ]
    },
    {
     "name": "stdout",
     "output_type": "stream",
     "text": [
      "Filter 63 / 128...\n"
     ]
    },
    {
     "name": "stderr",
     "output_type": "stream",
     "text": [
      "C:\\Users\\casti\\AppData\\Local\\Temp\\ipykernel_31808\\3716661773.py:146: UserWarning: FixedFormatter should only be used together with FixedLocator\n",
      "  ax.set_xticklabels(model_outputs_ext_labels, rotation=60, ha='right')\n"
     ]
    },
    {
     "name": "stdout",
     "output_type": "stream",
     "text": [
      "Filter 64 / 128...\n"
     ]
    },
    {
     "name": "stderr",
     "output_type": "stream",
     "text": [
      "C:\\Users\\casti\\AppData\\Local\\Temp\\ipykernel_31808\\3716661773.py:146: UserWarning: FixedFormatter should only be used together with FixedLocator\n",
      "  ax.set_xticklabels(model_outputs_ext_labels, rotation=60, ha='right')\n"
     ]
    },
    {
     "name": "stdout",
     "output_type": "stream",
     "text": [
      "Filter 65 / 128...\n"
     ]
    },
    {
     "name": "stderr",
     "output_type": "stream",
     "text": [
      "C:\\Users\\casti\\AppData\\Local\\Temp\\ipykernel_31808\\3716661773.py:146: UserWarning: FixedFormatter should only be used together with FixedLocator\n",
      "  ax.set_xticklabels(model_outputs_ext_labels, rotation=60, ha='right')\n"
     ]
    },
    {
     "name": "stdout",
     "output_type": "stream",
     "text": [
      "Filter 66 / 128...\n"
     ]
    },
    {
     "name": "stderr",
     "output_type": "stream",
     "text": [
      "C:\\Users\\casti\\AppData\\Local\\Temp\\ipykernel_31808\\3716661773.py:146: UserWarning: FixedFormatter should only be used together with FixedLocator\n",
      "  ax.set_xticklabels(model_outputs_ext_labels, rotation=60, ha='right')\n"
     ]
    },
    {
     "name": "stdout",
     "output_type": "stream",
     "text": [
      "Filter 67 / 128...\n"
     ]
    },
    {
     "name": "stderr",
     "output_type": "stream",
     "text": [
      "C:\\Users\\casti\\AppData\\Local\\Temp\\ipykernel_31808\\3716661773.py:146: UserWarning: FixedFormatter should only be used together with FixedLocator\n",
      "  ax.set_xticklabels(model_outputs_ext_labels, rotation=60, ha='right')\n"
     ]
    },
    {
     "name": "stdout",
     "output_type": "stream",
     "text": [
      "Filter 68 / 128...\n"
     ]
    },
    {
     "name": "stderr",
     "output_type": "stream",
     "text": [
      "C:\\Users\\casti\\AppData\\Local\\Temp\\ipykernel_31808\\3716661773.py:146: UserWarning: FixedFormatter should only be used together with FixedLocator\n",
      "  ax.set_xticklabels(model_outputs_ext_labels, rotation=60, ha='right')\n"
     ]
    },
    {
     "name": "stdout",
     "output_type": "stream",
     "text": [
      "Filter 69 / 128...\n",
      "Filter 70 / 128...\n"
     ]
    },
    {
     "name": "stderr",
     "output_type": "stream",
     "text": [
      "C:\\Users\\casti\\AppData\\Local\\Temp\\ipykernel_31808\\3716661773.py:146: UserWarning: FixedFormatter should only be used together with FixedLocator\n",
      "  ax.set_xticklabels(model_outputs_ext_labels, rotation=60, ha='right')\n"
     ]
    },
    {
     "name": "stdout",
     "output_type": "stream",
     "text": [
      "Filter 71 / 128...\n"
     ]
    },
    {
     "name": "stderr",
     "output_type": "stream",
     "text": [
      "C:\\Users\\casti\\AppData\\Local\\Temp\\ipykernel_31808\\3716661773.py:146: UserWarning: FixedFormatter should only be used together with FixedLocator\n",
      "  ax.set_xticklabels(model_outputs_ext_labels, rotation=60, ha='right')\n"
     ]
    },
    {
     "name": "stdout",
     "output_type": "stream",
     "text": [
      "Filter 72 / 128...\n"
     ]
    },
    {
     "name": "stderr",
     "output_type": "stream",
     "text": [
      "C:\\Users\\casti\\AppData\\Local\\Temp\\ipykernel_31808\\3716661773.py:146: UserWarning: FixedFormatter should only be used together with FixedLocator\n",
      "  ax.set_xticklabels(model_outputs_ext_labels, rotation=60, ha='right')\n"
     ]
    },
    {
     "name": "stdout",
     "output_type": "stream",
     "text": [
      "Filter 73 / 128...\n"
     ]
    },
    {
     "name": "stderr",
     "output_type": "stream",
     "text": [
      "C:\\Users\\casti\\AppData\\Local\\Temp\\ipykernel_31808\\3716661773.py:146: UserWarning: FixedFormatter should only be used together with FixedLocator\n",
      "  ax.set_xticklabels(model_outputs_ext_labels, rotation=60, ha='right')\n"
     ]
    },
    {
     "name": "stdout",
     "output_type": "stream",
     "text": [
      "Filter 74 / 128...\n"
     ]
    },
    {
     "name": "stderr",
     "output_type": "stream",
     "text": [
      "C:\\Users\\casti\\AppData\\Local\\Temp\\ipykernel_31808\\3716661773.py:146: UserWarning: FixedFormatter should only be used together with FixedLocator\n",
      "  ax.set_xticklabels(model_outputs_ext_labels, rotation=60, ha='right')\n"
     ]
    },
    {
     "name": "stdout",
     "output_type": "stream",
     "text": [
      "Filter 75 / 128...\n"
     ]
    },
    {
     "name": "stderr",
     "output_type": "stream",
     "text": [
      "C:\\Users\\casti\\AppData\\Local\\Temp\\ipykernel_31808\\3716661773.py:146: UserWarning: FixedFormatter should only be used together with FixedLocator\n",
      "  ax.set_xticklabels(model_outputs_ext_labels, rotation=60, ha='right')\n"
     ]
    },
    {
     "name": "stdout",
     "output_type": "stream",
     "text": [
      "Filter 76 / 128...\n"
     ]
    },
    {
     "name": "stderr",
     "output_type": "stream",
     "text": [
      "C:\\Users\\casti\\AppData\\Local\\Temp\\ipykernel_31808\\3716661773.py:146: UserWarning: FixedFormatter should only be used together with FixedLocator\n",
      "  ax.set_xticklabels(model_outputs_ext_labels, rotation=60, ha='right')\n"
     ]
    },
    {
     "name": "stdout",
     "output_type": "stream",
     "text": [
      "Filter 77 / 128...\n"
     ]
    },
    {
     "name": "stderr",
     "output_type": "stream",
     "text": [
      "C:\\Users\\casti\\AppData\\Local\\Temp\\ipykernel_31808\\3716661773.py:146: UserWarning: FixedFormatter should only be used together with FixedLocator\n",
      "  ax.set_xticklabels(model_outputs_ext_labels, rotation=60, ha='right')\n"
     ]
    },
    {
     "name": "stdout",
     "output_type": "stream",
     "text": [
      "Filter 78 / 128...\n"
     ]
    },
    {
     "name": "stderr",
     "output_type": "stream",
     "text": [
      "C:\\Users\\casti\\AppData\\Local\\Temp\\ipykernel_31808\\3716661773.py:146: UserWarning: FixedFormatter should only be used together with FixedLocator\n",
      "  ax.set_xticklabels(model_outputs_ext_labels, rotation=60, ha='right')\n"
     ]
    },
    {
     "name": "stdout",
     "output_type": "stream",
     "text": [
      "Filter 79 / 128...\n"
     ]
    },
    {
     "name": "stderr",
     "output_type": "stream",
     "text": [
      "C:\\Users\\casti\\AppData\\Local\\Temp\\ipykernel_31808\\3716661773.py:146: UserWarning: FixedFormatter should only be used together with FixedLocator\n",
      "  ax.set_xticklabels(model_outputs_ext_labels, rotation=60, ha='right')\n"
     ]
    },
    {
     "name": "stdout",
     "output_type": "stream",
     "text": [
      "Filter 80 / 128...\n"
     ]
    },
    {
     "name": "stderr",
     "output_type": "stream",
     "text": [
      "C:\\Users\\casti\\AppData\\Local\\Temp\\ipykernel_31808\\3716661773.py:146: UserWarning: FixedFormatter should only be used together with FixedLocator\n",
      "  ax.set_xticklabels(model_outputs_ext_labels, rotation=60, ha='right')\n"
     ]
    },
    {
     "name": "stdout",
     "output_type": "stream",
     "text": [
      "Filter 81 / 128...\n"
     ]
    },
    {
     "name": "stderr",
     "output_type": "stream",
     "text": [
      "C:\\Users\\casti\\AppData\\Local\\Temp\\ipykernel_31808\\3716661773.py:146: UserWarning: FixedFormatter should only be used together with FixedLocator\n",
      "  ax.set_xticklabels(model_outputs_ext_labels, rotation=60, ha='right')\n"
     ]
    },
    {
     "name": "stdout",
     "output_type": "stream",
     "text": [
      "Filter 82 / 128...\n"
     ]
    },
    {
     "name": "stderr",
     "output_type": "stream",
     "text": [
      "C:\\Users\\casti\\AppData\\Local\\Temp\\ipykernel_31808\\3716661773.py:146: UserWarning: FixedFormatter should only be used together with FixedLocator\n",
      "  ax.set_xticklabels(model_outputs_ext_labels, rotation=60, ha='right')\n"
     ]
    },
    {
     "name": "stdout",
     "output_type": "stream",
     "text": [
      "Filter 83 / 128...\n"
     ]
    },
    {
     "name": "stderr",
     "output_type": "stream",
     "text": [
      "C:\\Users\\casti\\AppData\\Local\\Temp\\ipykernel_31808\\3716661773.py:146: UserWarning: FixedFormatter should only be used together with FixedLocator\n",
      "  ax.set_xticklabels(model_outputs_ext_labels, rotation=60, ha='right')\n"
     ]
    },
    {
     "name": "stdout",
     "output_type": "stream",
     "text": [
      "Filter 84 / 128...\n"
     ]
    },
    {
     "name": "stderr",
     "output_type": "stream",
     "text": [
      "C:\\Users\\casti\\AppData\\Local\\Temp\\ipykernel_31808\\3716661773.py:146: UserWarning: FixedFormatter should only be used together with FixedLocator\n",
      "  ax.set_xticklabels(model_outputs_ext_labels, rotation=60, ha='right')\n"
     ]
    },
    {
     "name": "stdout",
     "output_type": "stream",
     "text": [
      "Filter 85 / 128...\n"
     ]
    },
    {
     "name": "stderr",
     "output_type": "stream",
     "text": [
      "C:\\Users\\casti\\AppData\\Local\\Temp\\ipykernel_31808\\3716661773.py:146: UserWarning: FixedFormatter should only be used together with FixedLocator\n",
      "  ax.set_xticklabels(model_outputs_ext_labels, rotation=60, ha='right')\n"
     ]
    },
    {
     "name": "stdout",
     "output_type": "stream",
     "text": [
      "Filter 86 / 128...\n"
     ]
    },
    {
     "name": "stderr",
     "output_type": "stream",
     "text": [
      "C:\\Users\\casti\\AppData\\Local\\Temp\\ipykernel_31808\\3716661773.py:146: UserWarning: FixedFormatter should only be used together with FixedLocator\n",
      "  ax.set_xticklabels(model_outputs_ext_labels, rotation=60, ha='right')\n"
     ]
    },
    {
     "name": "stdout",
     "output_type": "stream",
     "text": [
      "Filter 87 / 128...\n"
     ]
    },
    {
     "name": "stderr",
     "output_type": "stream",
     "text": [
      "C:\\Users\\casti\\AppData\\Local\\Temp\\ipykernel_31808\\3716661773.py:146: UserWarning: FixedFormatter should only be used together with FixedLocator\n",
      "  ax.set_xticklabels(model_outputs_ext_labels, rotation=60, ha='right')\n"
     ]
    },
    {
     "name": "stdout",
     "output_type": "stream",
     "text": [
      "Filter 88 / 128...\n"
     ]
    },
    {
     "name": "stderr",
     "output_type": "stream",
     "text": [
      "C:\\Users\\casti\\AppData\\Local\\Temp\\ipykernel_31808\\3716661773.py:146: UserWarning: FixedFormatter should only be used together with FixedLocator\n",
      "  ax.set_xticklabels(model_outputs_ext_labels, rotation=60, ha='right')\n"
     ]
    },
    {
     "name": "stdout",
     "output_type": "stream",
     "text": [
      "Filter 89 / 128...\n"
     ]
    },
    {
     "name": "stderr",
     "output_type": "stream",
     "text": [
      "C:\\Users\\casti\\AppData\\Local\\Temp\\ipykernel_31808\\3716661773.py:146: UserWarning: FixedFormatter should only be used together with FixedLocator\n",
      "  ax.set_xticklabels(model_outputs_ext_labels, rotation=60, ha='right')\n"
     ]
    },
    {
     "name": "stdout",
     "output_type": "stream",
     "text": [
      "Filter 90 / 128...\n"
     ]
    },
    {
     "name": "stderr",
     "output_type": "stream",
     "text": [
      "C:\\Users\\casti\\AppData\\Local\\Temp\\ipykernel_31808\\3716661773.py:146: UserWarning: FixedFormatter should only be used together with FixedLocator\n",
      "  ax.set_xticklabels(model_outputs_ext_labels, rotation=60, ha='right')\n"
     ]
    },
    {
     "name": "stdout",
     "output_type": "stream",
     "text": [
      "Filter 91 / 128...\n"
     ]
    },
    {
     "name": "stderr",
     "output_type": "stream",
     "text": [
      "C:\\Users\\casti\\AppData\\Local\\Temp\\ipykernel_31808\\3716661773.py:146: UserWarning: FixedFormatter should only be used together with FixedLocator\n",
      "  ax.set_xticklabels(model_outputs_ext_labels, rotation=60, ha='right')\n"
     ]
    },
    {
     "name": "stdout",
     "output_type": "stream",
     "text": [
      "Filter 92 / 128...\n"
     ]
    },
    {
     "name": "stderr",
     "output_type": "stream",
     "text": [
      "C:\\Users\\casti\\AppData\\Local\\Temp\\ipykernel_31808\\3716661773.py:146: UserWarning: FixedFormatter should only be used together with FixedLocator\n",
      "  ax.set_xticklabels(model_outputs_ext_labels, rotation=60, ha='right')\n"
     ]
    },
    {
     "name": "stdout",
     "output_type": "stream",
     "text": [
      "Filter 93 / 128...\n"
     ]
    },
    {
     "name": "stderr",
     "output_type": "stream",
     "text": [
      "C:\\Users\\casti\\AppData\\Local\\Temp\\ipykernel_31808\\3716661773.py:146: UserWarning: FixedFormatter should only be used together with FixedLocator\n",
      "  ax.set_xticklabels(model_outputs_ext_labels, rotation=60, ha='right')\n"
     ]
    },
    {
     "name": "stdout",
     "output_type": "stream",
     "text": [
      "Filter 94 / 128...\n"
     ]
    },
    {
     "name": "stderr",
     "output_type": "stream",
     "text": [
      "C:\\Users\\casti\\AppData\\Local\\Temp\\ipykernel_31808\\3716661773.py:146: UserWarning: FixedFormatter should only be used together with FixedLocator\n",
      "  ax.set_xticklabels(model_outputs_ext_labels, rotation=60, ha='right')\n"
     ]
    },
    {
     "name": "stdout",
     "output_type": "stream",
     "text": [
      "Filter 95 / 128...\n"
     ]
    },
    {
     "name": "stderr",
     "output_type": "stream",
     "text": [
      "C:\\Users\\casti\\AppData\\Local\\Temp\\ipykernel_31808\\3716661773.py:146: UserWarning: FixedFormatter should only be used together with FixedLocator\n",
      "  ax.set_xticklabels(model_outputs_ext_labels, rotation=60, ha='right')\n"
     ]
    },
    {
     "name": "stdout",
     "output_type": "stream",
     "text": [
      "Filter 96 / 128...\n"
     ]
    },
    {
     "name": "stderr",
     "output_type": "stream",
     "text": [
      "C:\\Users\\casti\\AppData\\Local\\Temp\\ipykernel_31808\\3716661773.py:146: UserWarning: FixedFormatter should only be used together with FixedLocator\n",
      "  ax.set_xticklabels(model_outputs_ext_labels, rotation=60, ha='right')\n"
     ]
    },
    {
     "name": "stdout",
     "output_type": "stream",
     "text": [
      "Filter 97 / 128...\n"
     ]
    },
    {
     "name": "stderr",
     "output_type": "stream",
     "text": [
      "C:\\Users\\casti\\AppData\\Local\\Temp\\ipykernel_31808\\3716661773.py:146: UserWarning: FixedFormatter should only be used together with FixedLocator\n",
      "  ax.set_xticklabels(model_outputs_ext_labels, rotation=60, ha='right')\n"
     ]
    },
    {
     "name": "stdout",
     "output_type": "stream",
     "text": [
      "Filter 98 / 128...\n"
     ]
    },
    {
     "name": "stderr",
     "output_type": "stream",
     "text": [
      "C:\\Users\\casti\\AppData\\Local\\Temp\\ipykernel_31808\\3716661773.py:146: UserWarning: FixedFormatter should only be used together with FixedLocator\n",
      "  ax.set_xticklabels(model_outputs_ext_labels, rotation=60, ha='right')\n"
     ]
    },
    {
     "name": "stdout",
     "output_type": "stream",
     "text": [
      "Filter 99 / 128...\n"
     ]
    },
    {
     "name": "stderr",
     "output_type": "stream",
     "text": [
      "C:\\Users\\casti\\AppData\\Local\\Temp\\ipykernel_31808\\3716661773.py:146: UserWarning: FixedFormatter should only be used together with FixedLocator\n",
      "  ax.set_xticklabels(model_outputs_ext_labels, rotation=60, ha='right')\n"
     ]
    },
    {
     "name": "stdout",
     "output_type": "stream",
     "text": [
      "Filter 100 / 128...\n"
     ]
    },
    {
     "name": "stderr",
     "output_type": "stream",
     "text": [
      "C:\\Users\\casti\\AppData\\Local\\Temp\\ipykernel_31808\\3716661773.py:146: UserWarning: FixedFormatter should only be used together with FixedLocator\n",
      "  ax.set_xticklabels(model_outputs_ext_labels, rotation=60, ha='right')\n"
     ]
    },
    {
     "name": "stdout",
     "output_type": "stream",
     "text": [
      "Filter 101 / 128...\n"
     ]
    },
    {
     "name": "stderr",
     "output_type": "stream",
     "text": [
      "C:\\Users\\casti\\AppData\\Local\\Temp\\ipykernel_31808\\3716661773.py:146: UserWarning: FixedFormatter should only be used together with FixedLocator\n",
      "  ax.set_xticklabels(model_outputs_ext_labels, rotation=60, ha='right')\n"
     ]
    },
    {
     "name": "stdout",
     "output_type": "stream",
     "text": [
      "Filter 102 / 128...\n"
     ]
    },
    {
     "name": "stderr",
     "output_type": "stream",
     "text": [
      "C:\\Users\\casti\\AppData\\Local\\Temp\\ipykernel_31808\\3716661773.py:146: UserWarning: FixedFormatter should only be used together with FixedLocator\n",
      "  ax.set_xticklabels(model_outputs_ext_labels, rotation=60, ha='right')\n"
     ]
    },
    {
     "name": "stdout",
     "output_type": "stream",
     "text": [
      "Filter 103 / 128...\n"
     ]
    },
    {
     "name": "stderr",
     "output_type": "stream",
     "text": [
      "C:\\Users\\casti\\AppData\\Local\\Temp\\ipykernel_31808\\3716661773.py:146: UserWarning: FixedFormatter should only be used together with FixedLocator\n",
      "  ax.set_xticklabels(model_outputs_ext_labels, rotation=60, ha='right')\n"
     ]
    },
    {
     "name": "stdout",
     "output_type": "stream",
     "text": [
      "Filter 104 / 128...\n"
     ]
    },
    {
     "name": "stderr",
     "output_type": "stream",
     "text": [
      "C:\\Users\\casti\\AppData\\Local\\Temp\\ipykernel_31808\\3716661773.py:146: UserWarning: FixedFormatter should only be used together with FixedLocator\n",
      "  ax.set_xticklabels(model_outputs_ext_labels, rotation=60, ha='right')\n"
     ]
    },
    {
     "name": "stdout",
     "output_type": "stream",
     "text": [
      "Filter 105 / 128...\n"
     ]
    },
    {
     "name": "stderr",
     "output_type": "stream",
     "text": [
      "C:\\Users\\casti\\AppData\\Local\\Temp\\ipykernel_31808\\3716661773.py:146: UserWarning: FixedFormatter should only be used together with FixedLocator\n",
      "  ax.set_xticklabels(model_outputs_ext_labels, rotation=60, ha='right')\n"
     ]
    },
    {
     "name": "stdout",
     "output_type": "stream",
     "text": [
      "Filter 106 / 128...\n"
     ]
    },
    {
     "name": "stderr",
     "output_type": "stream",
     "text": [
      "C:\\Users\\casti\\AppData\\Local\\Temp\\ipykernel_31808\\3716661773.py:146: UserWarning: FixedFormatter should only be used together with FixedLocator\n",
      "  ax.set_xticklabels(model_outputs_ext_labels, rotation=60, ha='right')\n"
     ]
    },
    {
     "name": "stdout",
     "output_type": "stream",
     "text": [
      "Filter 107 / 128...\n"
     ]
    },
    {
     "name": "stderr",
     "output_type": "stream",
     "text": [
      "C:\\Users\\casti\\AppData\\Local\\Temp\\ipykernel_31808\\3716661773.py:146: UserWarning: FixedFormatter should only be used together with FixedLocator\n",
      "  ax.set_xticklabels(model_outputs_ext_labels, rotation=60, ha='right')\n"
     ]
    },
    {
     "name": "stdout",
     "output_type": "stream",
     "text": [
      "Filter 108 / 128...\n"
     ]
    },
    {
     "name": "stderr",
     "output_type": "stream",
     "text": [
      "C:\\Users\\casti\\AppData\\Local\\Temp\\ipykernel_31808\\3716661773.py:146: UserWarning: FixedFormatter should only be used together with FixedLocator\n",
      "  ax.set_xticklabels(model_outputs_ext_labels, rotation=60, ha='right')\n"
     ]
    },
    {
     "name": "stdout",
     "output_type": "stream",
     "text": [
      "Filter 109 / 128...\n"
     ]
    },
    {
     "name": "stderr",
     "output_type": "stream",
     "text": [
      "C:\\Users\\casti\\AppData\\Local\\Temp\\ipykernel_31808\\3716661773.py:146: UserWarning: FixedFormatter should only be used together with FixedLocator\n",
      "  ax.set_xticklabels(model_outputs_ext_labels, rotation=60, ha='right')\n"
     ]
    },
    {
     "name": "stdout",
     "output_type": "stream",
     "text": [
      "Filter 110 / 128...\n"
     ]
    },
    {
     "name": "stderr",
     "output_type": "stream",
     "text": [
      "C:\\Users\\casti\\AppData\\Local\\Temp\\ipykernel_31808\\3716661773.py:146: UserWarning: FixedFormatter should only be used together with FixedLocator\n",
      "  ax.set_xticklabels(model_outputs_ext_labels, rotation=60, ha='right')\n"
     ]
    },
    {
     "name": "stdout",
     "output_type": "stream",
     "text": [
      "Filter 111 / 128...\n"
     ]
    },
    {
     "name": "stderr",
     "output_type": "stream",
     "text": [
      "C:\\Users\\casti\\AppData\\Local\\Temp\\ipykernel_31808\\3716661773.py:146: UserWarning: FixedFormatter should only be used together with FixedLocator\n",
      "  ax.set_xticklabels(model_outputs_ext_labels, rotation=60, ha='right')\n"
     ]
    },
    {
     "name": "stdout",
     "output_type": "stream",
     "text": [
      "Filter 112 / 128...\n"
     ]
    },
    {
     "name": "stderr",
     "output_type": "stream",
     "text": [
      "C:\\Users\\casti\\AppData\\Local\\Temp\\ipykernel_31808\\3716661773.py:146: UserWarning: FixedFormatter should only be used together with FixedLocator\n",
      "  ax.set_xticklabels(model_outputs_ext_labels, rotation=60, ha='right')\n"
     ]
    },
    {
     "name": "stdout",
     "output_type": "stream",
     "text": [
      "Filter 113 / 128...\n"
     ]
    },
    {
     "name": "stderr",
     "output_type": "stream",
     "text": [
      "C:\\Users\\casti\\AppData\\Local\\Temp\\ipykernel_31808\\3716661773.py:146: UserWarning: FixedFormatter should only be used together with FixedLocator\n",
      "  ax.set_xticklabels(model_outputs_ext_labels, rotation=60, ha='right')\n"
     ]
    },
    {
     "name": "stdout",
     "output_type": "stream",
     "text": [
      "Filter 114 / 128...\n"
     ]
    },
    {
     "name": "stderr",
     "output_type": "stream",
     "text": [
      "C:\\Users\\casti\\AppData\\Local\\Temp\\ipykernel_31808\\3716661773.py:146: UserWarning: FixedFormatter should only be used together with FixedLocator\n",
      "  ax.set_xticklabels(model_outputs_ext_labels, rotation=60, ha='right')\n"
     ]
    },
    {
     "name": "stdout",
     "output_type": "stream",
     "text": [
      "Filter 115 / 128...\n"
     ]
    },
    {
     "name": "stderr",
     "output_type": "stream",
     "text": [
      "C:\\Users\\casti\\AppData\\Local\\Temp\\ipykernel_31808\\3716661773.py:146: UserWarning: FixedFormatter should only be used together with FixedLocator\n",
      "  ax.set_xticklabels(model_outputs_ext_labels, rotation=60, ha='right')\n"
     ]
    },
    {
     "name": "stdout",
     "output_type": "stream",
     "text": [
      "Filter 116 / 128...\n"
     ]
    },
    {
     "name": "stderr",
     "output_type": "stream",
     "text": [
      "C:\\Users\\casti\\AppData\\Local\\Temp\\ipykernel_31808\\3716661773.py:146: UserWarning: FixedFormatter should only be used together with FixedLocator\n",
      "  ax.set_xticklabels(model_outputs_ext_labels, rotation=60, ha='right')\n"
     ]
    },
    {
     "name": "stdout",
     "output_type": "stream",
     "text": [
      "Filter 117 / 128...\n"
     ]
    },
    {
     "name": "stderr",
     "output_type": "stream",
     "text": [
      "C:\\Users\\casti\\AppData\\Local\\Temp\\ipykernel_31808\\3716661773.py:146: UserWarning: FixedFormatter should only be used together with FixedLocator\n",
      "  ax.set_xticklabels(model_outputs_ext_labels, rotation=60, ha='right')\n"
     ]
    },
    {
     "name": "stdout",
     "output_type": "stream",
     "text": [
      "Filter 118 / 128...\n"
     ]
    },
    {
     "name": "stderr",
     "output_type": "stream",
     "text": [
      "C:\\Users\\casti\\AppData\\Local\\Temp\\ipykernel_31808\\3716661773.py:146: UserWarning: FixedFormatter should only be used together with FixedLocator\n",
      "  ax.set_xticklabels(model_outputs_ext_labels, rotation=60, ha='right')\n"
     ]
    },
    {
     "name": "stdout",
     "output_type": "stream",
     "text": [
      "Filter 119 / 128...\n"
     ]
    },
    {
     "name": "stderr",
     "output_type": "stream",
     "text": [
      "C:\\Users\\casti\\AppData\\Local\\Temp\\ipykernel_31808\\3716661773.py:146: UserWarning: FixedFormatter should only be used together with FixedLocator\n",
      "  ax.set_xticklabels(model_outputs_ext_labels, rotation=60, ha='right')\n"
     ]
    },
    {
     "name": "stdout",
     "output_type": "stream",
     "text": [
      "Filter 120 / 128...\n"
     ]
    },
    {
     "name": "stderr",
     "output_type": "stream",
     "text": [
      "C:\\Users\\casti\\AppData\\Local\\Temp\\ipykernel_31808\\3716661773.py:146: UserWarning: FixedFormatter should only be used together with FixedLocator\n",
      "  ax.set_xticklabels(model_outputs_ext_labels, rotation=60, ha='right')\n"
     ]
    },
    {
     "name": "stdout",
     "output_type": "stream",
     "text": [
      "Filter 121 / 128...\n"
     ]
    },
    {
     "name": "stderr",
     "output_type": "stream",
     "text": [
      "C:\\Users\\casti\\AppData\\Local\\Temp\\ipykernel_31808\\3716661773.py:146: UserWarning: FixedFormatter should only be used together with FixedLocator\n",
      "  ax.set_xticklabels(model_outputs_ext_labels, rotation=60, ha='right')\n"
     ]
    },
    {
     "name": "stdout",
     "output_type": "stream",
     "text": [
      "Filter 122 / 128...\n"
     ]
    },
    {
     "name": "stderr",
     "output_type": "stream",
     "text": [
      "C:\\Users\\casti\\AppData\\Local\\Temp\\ipykernel_31808\\3716661773.py:146: UserWarning: FixedFormatter should only be used together with FixedLocator\n",
      "  ax.set_xticklabels(model_outputs_ext_labels, rotation=60, ha='right')\n"
     ]
    },
    {
     "name": "stdout",
     "output_type": "stream",
     "text": [
      "Filter 123 / 128...\n"
     ]
    },
    {
     "name": "stderr",
     "output_type": "stream",
     "text": [
      "C:\\Users\\casti\\AppData\\Local\\Temp\\ipykernel_31808\\3716661773.py:146: UserWarning: FixedFormatter should only be used together with FixedLocator\n",
      "  ax.set_xticklabels(model_outputs_ext_labels, rotation=60, ha='right')\n"
     ]
    },
    {
     "name": "stdout",
     "output_type": "stream",
     "text": [
      "Filter 124 / 128...\n"
     ]
    },
    {
     "name": "stderr",
     "output_type": "stream",
     "text": [
      "C:\\Users\\casti\\AppData\\Local\\Temp\\ipykernel_31808\\3716661773.py:146: UserWarning: FixedFormatter should only be used together with FixedLocator\n",
      "  ax.set_xticklabels(model_outputs_ext_labels, rotation=60, ha='right')\n"
     ]
    },
    {
     "name": "stdout",
     "output_type": "stream",
     "text": [
      "Filter 125 / 128...\n"
     ]
    },
    {
     "name": "stderr",
     "output_type": "stream",
     "text": [
      "C:\\Users\\casti\\AppData\\Local\\Temp\\ipykernel_31808\\3716661773.py:146: UserWarning: FixedFormatter should only be used together with FixedLocator\n",
      "  ax.set_xticklabels(model_outputs_ext_labels, rotation=60, ha='right')\n"
     ]
    },
    {
     "name": "stdout",
     "output_type": "stream",
     "text": [
      "Filter 126 / 128...\n"
     ]
    },
    {
     "name": "stderr",
     "output_type": "stream",
     "text": [
      "C:\\Users\\casti\\AppData\\Local\\Temp\\ipykernel_31808\\3716661773.py:146: UserWarning: FixedFormatter should only be used together with FixedLocator\n",
      "  ax.set_xticklabels(model_outputs_ext_labels, rotation=60, ha='right')\n"
     ]
    },
    {
     "name": "stdout",
     "output_type": "stream",
     "text": [
      "Filter 127 / 128...\n"
     ]
    },
    {
     "name": "stderr",
     "output_type": "stream",
     "text": [
      "C:\\Users\\casti\\AppData\\Local\\Temp\\ipykernel_31808\\3716661773.py:146: UserWarning: FixedFormatter should only be used together with FixedLocator\n",
      "  ax.set_xticklabels(model_outputs_ext_labels, rotation=60, ha='right')\n"
     ]
    },
    {
     "name": "stdout",
     "output_type": "stream",
     "text": [
      "Saving meme file...\n",
      "Done with model 2.\n",
      "Processing model 3...\n",
      "Filter 0 / 128...\n"
     ]
    },
    {
     "name": "stderr",
     "output_type": "stream",
     "text": [
      "C:\\Users\\casti\\AppData\\Local\\Temp\\ipykernel_31808\\3716661773.py:146: UserWarning: FixedFormatter should only be used together with FixedLocator\n",
      "  ax.set_xticklabels(model_outputs_ext_labels, rotation=60, ha='right')\n"
     ]
    },
    {
     "name": "stdout",
     "output_type": "stream",
     "text": [
      "Filter 1 / 128...\n"
     ]
    },
    {
     "name": "stderr",
     "output_type": "stream",
     "text": [
      "C:\\Users\\casti\\AppData\\Local\\Temp\\ipykernel_31808\\3716661773.py:146: UserWarning: FixedFormatter should only be used together with FixedLocator\n",
      "  ax.set_xticklabels(model_outputs_ext_labels, rotation=60, ha='right')\n"
     ]
    },
    {
     "name": "stdout",
     "output_type": "stream",
     "text": [
      "Filter 2 / 128...\n"
     ]
    },
    {
     "name": "stderr",
     "output_type": "stream",
     "text": [
      "C:\\Users\\casti\\AppData\\Local\\Temp\\ipykernel_31808\\3716661773.py:146: UserWarning: FixedFormatter should only be used together with FixedLocator\n",
      "  ax.set_xticklabels(model_outputs_ext_labels, rotation=60, ha='right')\n"
     ]
    },
    {
     "name": "stdout",
     "output_type": "stream",
     "text": [
      "Filter 3 / 128...\n"
     ]
    },
    {
     "name": "stderr",
     "output_type": "stream",
     "text": [
      "C:\\Users\\casti\\AppData\\Local\\Temp\\ipykernel_31808\\3716661773.py:146: UserWarning: FixedFormatter should only be used together with FixedLocator\n",
      "  ax.set_xticklabels(model_outputs_ext_labels, rotation=60, ha='right')\n"
     ]
    },
    {
     "name": "stdout",
     "output_type": "stream",
     "text": [
      "Filter 4 / 128...\n"
     ]
    },
    {
     "name": "stderr",
     "output_type": "stream",
     "text": [
      "C:\\Users\\casti\\AppData\\Local\\Temp\\ipykernel_31808\\3716661773.py:146: UserWarning: FixedFormatter should only be used together with FixedLocator\n",
      "  ax.set_xticklabels(model_outputs_ext_labels, rotation=60, ha='right')\n"
     ]
    },
    {
     "name": "stdout",
     "output_type": "stream",
     "text": [
      "Filter 5 / 128...\n"
     ]
    },
    {
     "name": "stderr",
     "output_type": "stream",
     "text": [
      "C:\\Users\\casti\\AppData\\Local\\Temp\\ipykernel_31808\\3716661773.py:146: UserWarning: FixedFormatter should only be used together with FixedLocator\n",
      "  ax.set_xticklabels(model_outputs_ext_labels, rotation=60, ha='right')\n"
     ]
    },
    {
     "name": "stdout",
     "output_type": "stream",
     "text": [
      "Filter 6 / 128...\n"
     ]
    },
    {
     "name": "stderr",
     "output_type": "stream",
     "text": [
      "C:\\Users\\casti\\AppData\\Local\\Temp\\ipykernel_31808\\3716661773.py:146: UserWarning: FixedFormatter should only be used together with FixedLocator\n",
      "  ax.set_xticklabels(model_outputs_ext_labels, rotation=60, ha='right')\n"
     ]
    },
    {
     "name": "stdout",
     "output_type": "stream",
     "text": [
      "Filter 7 / 128...\n"
     ]
    },
    {
     "name": "stderr",
     "output_type": "stream",
     "text": [
      "C:\\Users\\casti\\AppData\\Local\\Temp\\ipykernel_31808\\3716661773.py:146: UserWarning: FixedFormatter should only be used together with FixedLocator\n",
      "  ax.set_xticklabels(model_outputs_ext_labels, rotation=60, ha='right')\n"
     ]
    },
    {
     "name": "stdout",
     "output_type": "stream",
     "text": [
      "Filter 8 / 128...\n"
     ]
    },
    {
     "name": "stderr",
     "output_type": "stream",
     "text": [
      "C:\\Users\\casti\\AppData\\Local\\Temp\\ipykernel_31808\\3716661773.py:146: UserWarning: FixedFormatter should only be used together with FixedLocator\n",
      "  ax.set_xticklabels(model_outputs_ext_labels, rotation=60, ha='right')\n"
     ]
    },
    {
     "name": "stdout",
     "output_type": "stream",
     "text": [
      "Filter 9 / 128...\n"
     ]
    },
    {
     "name": "stderr",
     "output_type": "stream",
     "text": [
      "C:\\Users\\casti\\AppData\\Local\\Temp\\ipykernel_31808\\3716661773.py:146: UserWarning: FixedFormatter should only be used together with FixedLocator\n",
      "  ax.set_xticklabels(model_outputs_ext_labels, rotation=60, ha='right')\n"
     ]
    },
    {
     "name": "stdout",
     "output_type": "stream",
     "text": [
      "Filter 10 / 128...\n"
     ]
    },
    {
     "name": "stderr",
     "output_type": "stream",
     "text": [
      "C:\\Users\\casti\\AppData\\Local\\Temp\\ipykernel_31808\\3716661773.py:146: UserWarning: FixedFormatter should only be used together with FixedLocator\n",
      "  ax.set_xticklabels(model_outputs_ext_labels, rotation=60, ha='right')\n"
     ]
    },
    {
     "name": "stdout",
     "output_type": "stream",
     "text": [
      "Filter 11 / 128...\n"
     ]
    },
    {
     "name": "stderr",
     "output_type": "stream",
     "text": [
      "C:\\Users\\casti\\AppData\\Local\\Temp\\ipykernel_31808\\3716661773.py:146: UserWarning: FixedFormatter should only be used together with FixedLocator\n",
      "  ax.set_xticklabels(model_outputs_ext_labels, rotation=60, ha='right')\n"
     ]
    },
    {
     "name": "stdout",
     "output_type": "stream",
     "text": [
      "Filter 12 / 128...\n"
     ]
    },
    {
     "name": "stderr",
     "output_type": "stream",
     "text": [
      "C:\\Users\\casti\\AppData\\Local\\Temp\\ipykernel_31808\\3716661773.py:146: UserWarning: FixedFormatter should only be used together with FixedLocator\n",
      "  ax.set_xticklabels(model_outputs_ext_labels, rotation=60, ha='right')\n"
     ]
    },
    {
     "name": "stdout",
     "output_type": "stream",
     "text": [
      "Filter 13 / 128...\n"
     ]
    },
    {
     "name": "stderr",
     "output_type": "stream",
     "text": [
      "C:\\Users\\casti\\AppData\\Local\\Temp\\ipykernel_31808\\3716661773.py:146: UserWarning: FixedFormatter should only be used together with FixedLocator\n",
      "  ax.set_xticklabels(model_outputs_ext_labels, rotation=60, ha='right')\n"
     ]
    },
    {
     "name": "stdout",
     "output_type": "stream",
     "text": [
      "Filter 14 / 128...\n"
     ]
    },
    {
     "name": "stderr",
     "output_type": "stream",
     "text": [
      "C:\\Users\\casti\\AppData\\Local\\Temp\\ipykernel_31808\\3716661773.py:146: UserWarning: FixedFormatter should only be used together with FixedLocator\n",
      "  ax.set_xticklabels(model_outputs_ext_labels, rotation=60, ha='right')\n"
     ]
    },
    {
     "name": "stdout",
     "output_type": "stream",
     "text": [
      "Filter 15 / 128...\n"
     ]
    },
    {
     "name": "stderr",
     "output_type": "stream",
     "text": [
      "C:\\Users\\casti\\AppData\\Local\\Temp\\ipykernel_31808\\3716661773.py:146: UserWarning: FixedFormatter should only be used together with FixedLocator\n",
      "  ax.set_xticklabels(model_outputs_ext_labels, rotation=60, ha='right')\n"
     ]
    },
    {
     "name": "stdout",
     "output_type": "stream",
     "text": [
      "Filter 16 / 128...\n"
     ]
    },
    {
     "name": "stderr",
     "output_type": "stream",
     "text": [
      "C:\\Users\\casti\\AppData\\Local\\Temp\\ipykernel_31808\\3716661773.py:146: UserWarning: FixedFormatter should only be used together with FixedLocator\n",
      "  ax.set_xticklabels(model_outputs_ext_labels, rotation=60, ha='right')\n"
     ]
    },
    {
     "name": "stdout",
     "output_type": "stream",
     "text": [
      "Filter 17 / 128...\n"
     ]
    },
    {
     "name": "stderr",
     "output_type": "stream",
     "text": [
      "C:\\Users\\casti\\AppData\\Local\\Temp\\ipykernel_31808\\3716661773.py:146: UserWarning: FixedFormatter should only be used together with FixedLocator\n",
      "  ax.set_xticklabels(model_outputs_ext_labels, rotation=60, ha='right')\n"
     ]
    },
    {
     "name": "stdout",
     "output_type": "stream",
     "text": [
      "Filter 18 / 128...\n"
     ]
    },
    {
     "name": "stderr",
     "output_type": "stream",
     "text": [
      "C:\\Users\\casti\\AppData\\Local\\Temp\\ipykernel_31808\\3716661773.py:146: UserWarning: FixedFormatter should only be used together with FixedLocator\n",
      "  ax.set_xticklabels(model_outputs_ext_labels, rotation=60, ha='right')\n"
     ]
    },
    {
     "name": "stdout",
     "output_type": "stream",
     "text": [
      "Filter 19 / 128...\n"
     ]
    },
    {
     "name": "stderr",
     "output_type": "stream",
     "text": [
      "C:\\Users\\casti\\AppData\\Local\\Temp\\ipykernel_31808\\3716661773.py:146: UserWarning: FixedFormatter should only be used together with FixedLocator\n",
      "  ax.set_xticklabels(model_outputs_ext_labels, rotation=60, ha='right')\n"
     ]
    },
    {
     "name": "stdout",
     "output_type": "stream",
     "text": [
      "Filter 20 / 128...\n"
     ]
    },
    {
     "name": "stderr",
     "output_type": "stream",
     "text": [
      "C:\\Users\\casti\\AppData\\Local\\Temp\\ipykernel_31808\\3716661773.py:146: UserWarning: FixedFormatter should only be used together with FixedLocator\n",
      "  ax.set_xticklabels(model_outputs_ext_labels, rotation=60, ha='right')\n"
     ]
    },
    {
     "name": "stdout",
     "output_type": "stream",
     "text": [
      "Filter 21 / 128...\n"
     ]
    },
    {
     "name": "stderr",
     "output_type": "stream",
     "text": [
      "C:\\Users\\casti\\AppData\\Local\\Temp\\ipykernel_31808\\3716661773.py:146: UserWarning: FixedFormatter should only be used together with FixedLocator\n",
      "  ax.set_xticklabels(model_outputs_ext_labels, rotation=60, ha='right')\n"
     ]
    },
    {
     "name": "stdout",
     "output_type": "stream",
     "text": [
      "Filter 22 / 128...\n"
     ]
    },
    {
     "name": "stderr",
     "output_type": "stream",
     "text": [
      "C:\\Users\\casti\\AppData\\Local\\Temp\\ipykernel_31808\\3716661773.py:146: UserWarning: FixedFormatter should only be used together with FixedLocator\n",
      "  ax.set_xticklabels(model_outputs_ext_labels, rotation=60, ha='right')\n"
     ]
    },
    {
     "name": "stdout",
     "output_type": "stream",
     "text": [
      "Filter 23 / 128...\n"
     ]
    },
    {
     "name": "stderr",
     "output_type": "stream",
     "text": [
      "C:\\Users\\casti\\AppData\\Local\\Temp\\ipykernel_31808\\3716661773.py:146: UserWarning: FixedFormatter should only be used together with FixedLocator\n",
      "  ax.set_xticklabels(model_outputs_ext_labels, rotation=60, ha='right')\n"
     ]
    },
    {
     "name": "stdout",
     "output_type": "stream",
     "text": [
      "Filter 24 / 128...\n"
     ]
    },
    {
     "name": "stderr",
     "output_type": "stream",
     "text": [
      "C:\\Users\\casti\\AppData\\Local\\Temp\\ipykernel_31808\\3716661773.py:146: UserWarning: FixedFormatter should only be used together with FixedLocator\n",
      "  ax.set_xticklabels(model_outputs_ext_labels, rotation=60, ha='right')\n"
     ]
    },
    {
     "name": "stdout",
     "output_type": "stream",
     "text": [
      "Filter 25 / 128...\n"
     ]
    },
    {
     "name": "stderr",
     "output_type": "stream",
     "text": [
      "C:\\Users\\casti\\AppData\\Local\\Temp\\ipykernel_31808\\3716661773.py:146: UserWarning: FixedFormatter should only be used together with FixedLocator\n",
      "  ax.set_xticklabels(model_outputs_ext_labels, rotation=60, ha='right')\n"
     ]
    },
    {
     "name": "stdout",
     "output_type": "stream",
     "text": [
      "Filter 26 / 128...\n"
     ]
    },
    {
     "name": "stderr",
     "output_type": "stream",
     "text": [
      "C:\\Users\\casti\\AppData\\Local\\Temp\\ipykernel_31808\\3716661773.py:146: UserWarning: FixedFormatter should only be used together with FixedLocator\n",
      "  ax.set_xticklabels(model_outputs_ext_labels, rotation=60, ha='right')\n"
     ]
    },
    {
     "name": "stdout",
     "output_type": "stream",
     "text": [
      "Filter 27 / 128...\n"
     ]
    },
    {
     "name": "stderr",
     "output_type": "stream",
     "text": [
      "C:\\Users\\casti\\AppData\\Local\\Temp\\ipykernel_31808\\3716661773.py:146: UserWarning: FixedFormatter should only be used together with FixedLocator\n",
      "  ax.set_xticklabels(model_outputs_ext_labels, rotation=60, ha='right')\n"
     ]
    },
    {
     "name": "stdout",
     "output_type": "stream",
     "text": [
      "Filter 28 / 128...\n"
     ]
    },
    {
     "name": "stderr",
     "output_type": "stream",
     "text": [
      "C:\\Users\\casti\\AppData\\Local\\Temp\\ipykernel_31808\\3716661773.py:146: UserWarning: FixedFormatter should only be used together with FixedLocator\n",
      "  ax.set_xticklabels(model_outputs_ext_labels, rotation=60, ha='right')\n"
     ]
    },
    {
     "name": "stdout",
     "output_type": "stream",
     "text": [
      "Filter 29 / 128...\n"
     ]
    },
    {
     "name": "stderr",
     "output_type": "stream",
     "text": [
      "C:\\Users\\casti\\AppData\\Local\\Temp\\ipykernel_31808\\3716661773.py:146: UserWarning: FixedFormatter should only be used together with FixedLocator\n",
      "  ax.set_xticklabels(model_outputs_ext_labels, rotation=60, ha='right')\n"
     ]
    },
    {
     "name": "stdout",
     "output_type": "stream",
     "text": [
      "Filter 30 / 128...\n"
     ]
    },
    {
     "name": "stderr",
     "output_type": "stream",
     "text": [
      "C:\\Users\\casti\\AppData\\Local\\Temp\\ipykernel_31808\\3716661773.py:146: UserWarning: FixedFormatter should only be used together with FixedLocator\n",
      "  ax.set_xticklabels(model_outputs_ext_labels, rotation=60, ha='right')\n"
     ]
    },
    {
     "name": "stdout",
     "output_type": "stream",
     "text": [
      "Filter 31 / 128...\n"
     ]
    },
    {
     "name": "stderr",
     "output_type": "stream",
     "text": [
      "C:\\Users\\casti\\AppData\\Local\\Temp\\ipykernel_31808\\3716661773.py:146: UserWarning: FixedFormatter should only be used together with FixedLocator\n",
      "  ax.set_xticklabels(model_outputs_ext_labels, rotation=60, ha='right')\n"
     ]
    },
    {
     "name": "stdout",
     "output_type": "stream",
     "text": [
      "Filter 32 / 128...\n"
     ]
    },
    {
     "name": "stderr",
     "output_type": "stream",
     "text": [
      "C:\\Users\\casti\\AppData\\Local\\Temp\\ipykernel_31808\\3716661773.py:146: UserWarning: FixedFormatter should only be used together with FixedLocator\n",
      "  ax.set_xticklabels(model_outputs_ext_labels, rotation=60, ha='right')\n"
     ]
    },
    {
     "name": "stdout",
     "output_type": "stream",
     "text": [
      "Filter 33 / 128...\n"
     ]
    },
    {
     "name": "stderr",
     "output_type": "stream",
     "text": [
      "C:\\Users\\casti\\AppData\\Local\\Temp\\ipykernel_31808\\3716661773.py:146: UserWarning: FixedFormatter should only be used together with FixedLocator\n",
      "  ax.set_xticklabels(model_outputs_ext_labels, rotation=60, ha='right')\n"
     ]
    },
    {
     "name": "stdout",
     "output_type": "stream",
     "text": [
      "Filter 34 / 128...\n"
     ]
    },
    {
     "name": "stderr",
     "output_type": "stream",
     "text": [
      "C:\\Users\\casti\\AppData\\Local\\Temp\\ipykernel_31808\\3716661773.py:146: UserWarning: FixedFormatter should only be used together with FixedLocator\n",
      "  ax.set_xticklabels(model_outputs_ext_labels, rotation=60, ha='right')\n"
     ]
    },
    {
     "name": "stdout",
     "output_type": "stream",
     "text": [
      "Filter 35 / 128...\n"
     ]
    },
    {
     "name": "stderr",
     "output_type": "stream",
     "text": [
      "C:\\Users\\casti\\AppData\\Local\\Temp\\ipykernel_31808\\3716661773.py:146: UserWarning: FixedFormatter should only be used together with FixedLocator\n",
      "  ax.set_xticklabels(model_outputs_ext_labels, rotation=60, ha='right')\n"
     ]
    },
    {
     "name": "stdout",
     "output_type": "stream",
     "text": [
      "Filter 36 / 128...\n"
     ]
    },
    {
     "name": "stderr",
     "output_type": "stream",
     "text": [
      "C:\\Users\\casti\\AppData\\Local\\Temp\\ipykernel_31808\\3716661773.py:146: UserWarning: FixedFormatter should only be used together with FixedLocator\n",
      "  ax.set_xticklabels(model_outputs_ext_labels, rotation=60, ha='right')\n"
     ]
    },
    {
     "name": "stdout",
     "output_type": "stream",
     "text": [
      "Filter 37 / 128...\n"
     ]
    },
    {
     "name": "stderr",
     "output_type": "stream",
     "text": [
      "C:\\Users\\casti\\AppData\\Local\\Temp\\ipykernel_31808\\3716661773.py:146: UserWarning: FixedFormatter should only be used together with FixedLocator\n",
      "  ax.set_xticklabels(model_outputs_ext_labels, rotation=60, ha='right')\n"
     ]
    },
    {
     "name": "stdout",
     "output_type": "stream",
     "text": [
      "Filter 38 / 128...\n"
     ]
    },
    {
     "name": "stderr",
     "output_type": "stream",
     "text": [
      "C:\\Users\\casti\\AppData\\Local\\Temp\\ipykernel_31808\\3716661773.py:146: UserWarning: FixedFormatter should only be used together with FixedLocator\n",
      "  ax.set_xticklabels(model_outputs_ext_labels, rotation=60, ha='right')\n"
     ]
    },
    {
     "name": "stdout",
     "output_type": "stream",
     "text": [
      "Filter 39 / 128...\n"
     ]
    },
    {
     "name": "stderr",
     "output_type": "stream",
     "text": [
      "C:\\Users\\casti\\AppData\\Local\\Temp\\ipykernel_31808\\3716661773.py:146: UserWarning: FixedFormatter should only be used together with FixedLocator\n",
      "  ax.set_xticklabels(model_outputs_ext_labels, rotation=60, ha='right')\n"
     ]
    },
    {
     "name": "stdout",
     "output_type": "stream",
     "text": [
      "Filter 40 / 128...\n"
     ]
    },
    {
     "name": "stderr",
     "output_type": "stream",
     "text": [
      "C:\\Users\\casti\\AppData\\Local\\Temp\\ipykernel_31808\\3716661773.py:146: UserWarning: FixedFormatter should only be used together with FixedLocator\n",
      "  ax.set_xticklabels(model_outputs_ext_labels, rotation=60, ha='right')\n"
     ]
    },
    {
     "name": "stdout",
     "output_type": "stream",
     "text": [
      "Filter 41 / 128...\n"
     ]
    },
    {
     "name": "stderr",
     "output_type": "stream",
     "text": [
      "C:\\Users\\casti\\AppData\\Local\\Temp\\ipykernel_31808\\3716661773.py:146: UserWarning: FixedFormatter should only be used together with FixedLocator\n",
      "  ax.set_xticklabels(model_outputs_ext_labels, rotation=60, ha='right')\n"
     ]
    },
    {
     "name": "stdout",
     "output_type": "stream",
     "text": [
      "Filter 42 / 128...\n"
     ]
    },
    {
     "name": "stderr",
     "output_type": "stream",
     "text": [
      "C:\\Users\\casti\\AppData\\Local\\Temp\\ipykernel_31808\\3716661773.py:146: UserWarning: FixedFormatter should only be used together with FixedLocator\n",
      "  ax.set_xticklabels(model_outputs_ext_labels, rotation=60, ha='right')\n"
     ]
    },
    {
     "name": "stdout",
     "output_type": "stream",
     "text": [
      "Filter 43 / 128...\n"
     ]
    },
    {
     "name": "stderr",
     "output_type": "stream",
     "text": [
      "C:\\Users\\casti\\AppData\\Local\\Temp\\ipykernel_31808\\3716661773.py:146: UserWarning: FixedFormatter should only be used together with FixedLocator\n",
      "  ax.set_xticklabels(model_outputs_ext_labels, rotation=60, ha='right')\n"
     ]
    },
    {
     "name": "stdout",
     "output_type": "stream",
     "text": [
      "Filter 44 / 128...\n"
     ]
    },
    {
     "name": "stderr",
     "output_type": "stream",
     "text": [
      "C:\\Users\\casti\\AppData\\Local\\Temp\\ipykernel_31808\\3716661773.py:146: UserWarning: FixedFormatter should only be used together with FixedLocator\n",
      "  ax.set_xticklabels(model_outputs_ext_labels, rotation=60, ha='right')\n"
     ]
    },
    {
     "name": "stdout",
     "output_type": "stream",
     "text": [
      "Filter 45 / 128...\n"
     ]
    },
    {
     "name": "stderr",
     "output_type": "stream",
     "text": [
      "C:\\Users\\casti\\AppData\\Local\\Temp\\ipykernel_31808\\3716661773.py:146: UserWarning: FixedFormatter should only be used together with FixedLocator\n",
      "  ax.set_xticklabels(model_outputs_ext_labels, rotation=60, ha='right')\n"
     ]
    },
    {
     "name": "stdout",
     "output_type": "stream",
     "text": [
      "Filter 46 / 128...\n"
     ]
    },
    {
     "name": "stderr",
     "output_type": "stream",
     "text": [
      "C:\\Users\\casti\\AppData\\Local\\Temp\\ipykernel_31808\\3716661773.py:146: UserWarning: FixedFormatter should only be used together with FixedLocator\n",
      "  ax.set_xticklabels(model_outputs_ext_labels, rotation=60, ha='right')\n"
     ]
    },
    {
     "name": "stdout",
     "output_type": "stream",
     "text": [
      "Filter 47 / 128...\n"
     ]
    },
    {
     "name": "stderr",
     "output_type": "stream",
     "text": [
      "C:\\Users\\casti\\AppData\\Local\\Temp\\ipykernel_31808\\3716661773.py:146: UserWarning: FixedFormatter should only be used together with FixedLocator\n",
      "  ax.set_xticklabels(model_outputs_ext_labels, rotation=60, ha='right')\n"
     ]
    },
    {
     "name": "stdout",
     "output_type": "stream",
     "text": [
      "Filter 48 / 128...\n"
     ]
    },
    {
     "name": "stderr",
     "output_type": "stream",
     "text": [
      "C:\\Users\\casti\\AppData\\Local\\Temp\\ipykernel_31808\\3716661773.py:146: UserWarning: FixedFormatter should only be used together with FixedLocator\n",
      "  ax.set_xticklabels(model_outputs_ext_labels, rotation=60, ha='right')\n"
     ]
    },
    {
     "name": "stdout",
     "output_type": "stream",
     "text": [
      "Filter 49 / 128...\n"
     ]
    },
    {
     "name": "stderr",
     "output_type": "stream",
     "text": [
      "C:\\Users\\casti\\AppData\\Local\\Temp\\ipykernel_31808\\3716661773.py:146: UserWarning: FixedFormatter should only be used together with FixedLocator\n",
      "  ax.set_xticklabels(model_outputs_ext_labels, rotation=60, ha='right')\n"
     ]
    },
    {
     "name": "stdout",
     "output_type": "stream",
     "text": [
      "Filter 50 / 128...\n"
     ]
    },
    {
     "name": "stderr",
     "output_type": "stream",
     "text": [
      "C:\\Users\\casti\\AppData\\Local\\Temp\\ipykernel_31808\\3716661773.py:146: UserWarning: FixedFormatter should only be used together with FixedLocator\n",
      "  ax.set_xticklabels(model_outputs_ext_labels, rotation=60, ha='right')\n"
     ]
    },
    {
     "name": "stdout",
     "output_type": "stream",
     "text": [
      "Filter 51 / 128...\n"
     ]
    },
    {
     "name": "stderr",
     "output_type": "stream",
     "text": [
      "C:\\Users\\casti\\AppData\\Local\\Temp\\ipykernel_31808\\3716661773.py:146: UserWarning: FixedFormatter should only be used together with FixedLocator\n",
      "  ax.set_xticklabels(model_outputs_ext_labels, rotation=60, ha='right')\n"
     ]
    },
    {
     "name": "stdout",
     "output_type": "stream",
     "text": [
      "Filter 52 / 128...\n"
     ]
    },
    {
     "name": "stderr",
     "output_type": "stream",
     "text": [
      "C:\\Users\\casti\\AppData\\Local\\Temp\\ipykernel_31808\\3716661773.py:146: UserWarning: FixedFormatter should only be used together with FixedLocator\n",
      "  ax.set_xticklabels(model_outputs_ext_labels, rotation=60, ha='right')\n"
     ]
    },
    {
     "name": "stdout",
     "output_type": "stream",
     "text": [
      "Filter 53 / 128...\n"
     ]
    },
    {
     "name": "stderr",
     "output_type": "stream",
     "text": [
      "C:\\Users\\casti\\AppData\\Local\\Temp\\ipykernel_31808\\3716661773.py:146: UserWarning: FixedFormatter should only be used together with FixedLocator\n",
      "  ax.set_xticklabels(model_outputs_ext_labels, rotation=60, ha='right')\n"
     ]
    },
    {
     "name": "stdout",
     "output_type": "stream",
     "text": [
      "Filter 54 / 128...\n"
     ]
    },
    {
     "name": "stderr",
     "output_type": "stream",
     "text": [
      "C:\\Users\\casti\\AppData\\Local\\Temp\\ipykernel_31808\\3716661773.py:146: UserWarning: FixedFormatter should only be used together with FixedLocator\n",
      "  ax.set_xticklabels(model_outputs_ext_labels, rotation=60, ha='right')\n"
     ]
    },
    {
     "name": "stdout",
     "output_type": "stream",
     "text": [
      "Filter 55 / 128...\n"
     ]
    },
    {
     "name": "stderr",
     "output_type": "stream",
     "text": [
      "C:\\Users\\casti\\AppData\\Local\\Temp\\ipykernel_31808\\3716661773.py:146: UserWarning: FixedFormatter should only be used together with FixedLocator\n",
      "  ax.set_xticklabels(model_outputs_ext_labels, rotation=60, ha='right')\n"
     ]
    },
    {
     "name": "stdout",
     "output_type": "stream",
     "text": [
      "Filter 56 / 128...\n"
     ]
    },
    {
     "name": "stderr",
     "output_type": "stream",
     "text": [
      "C:\\Users\\casti\\AppData\\Local\\Temp\\ipykernel_31808\\3716661773.py:146: UserWarning: FixedFormatter should only be used together with FixedLocator\n",
      "  ax.set_xticklabels(model_outputs_ext_labels, rotation=60, ha='right')\n"
     ]
    },
    {
     "name": "stdout",
     "output_type": "stream",
     "text": [
      "Filter 57 / 128...\n"
     ]
    },
    {
     "name": "stderr",
     "output_type": "stream",
     "text": [
      "C:\\Users\\casti\\AppData\\Local\\Temp\\ipykernel_31808\\3716661773.py:146: UserWarning: FixedFormatter should only be used together with FixedLocator\n",
      "  ax.set_xticklabels(model_outputs_ext_labels, rotation=60, ha='right')\n"
     ]
    },
    {
     "name": "stdout",
     "output_type": "stream",
     "text": [
      "Filter 58 / 128...\n"
     ]
    },
    {
     "name": "stderr",
     "output_type": "stream",
     "text": [
      "C:\\Users\\casti\\AppData\\Local\\Temp\\ipykernel_31808\\3716661773.py:146: UserWarning: FixedFormatter should only be used together with FixedLocator\n",
      "  ax.set_xticklabels(model_outputs_ext_labels, rotation=60, ha='right')\n"
     ]
    },
    {
     "name": "stdout",
     "output_type": "stream",
     "text": [
      "Filter 59 / 128...\n"
     ]
    },
    {
     "name": "stderr",
     "output_type": "stream",
     "text": [
      "C:\\Users\\casti\\AppData\\Local\\Temp\\ipykernel_31808\\3716661773.py:146: UserWarning: FixedFormatter should only be used together with FixedLocator\n",
      "  ax.set_xticklabels(model_outputs_ext_labels, rotation=60, ha='right')\n"
     ]
    },
    {
     "name": "stdout",
     "output_type": "stream",
     "text": [
      "Filter 60 / 128...\n"
     ]
    },
    {
     "name": "stderr",
     "output_type": "stream",
     "text": [
      "C:\\Users\\casti\\AppData\\Local\\Temp\\ipykernel_31808\\3716661773.py:146: UserWarning: FixedFormatter should only be used together with FixedLocator\n",
      "  ax.set_xticklabels(model_outputs_ext_labels, rotation=60, ha='right')\n"
     ]
    },
    {
     "name": "stdout",
     "output_type": "stream",
     "text": [
      "Filter 61 / 128...\n"
     ]
    },
    {
     "name": "stderr",
     "output_type": "stream",
     "text": [
      "C:\\Users\\casti\\AppData\\Local\\Temp\\ipykernel_31808\\3716661773.py:146: UserWarning: FixedFormatter should only be used together with FixedLocator\n",
      "  ax.set_xticklabels(model_outputs_ext_labels, rotation=60, ha='right')\n"
     ]
    },
    {
     "name": "stdout",
     "output_type": "stream",
     "text": [
      "Filter 62 / 128...\n"
     ]
    },
    {
     "name": "stderr",
     "output_type": "stream",
     "text": [
      "C:\\Users\\casti\\AppData\\Local\\Temp\\ipykernel_31808\\3716661773.py:146: UserWarning: FixedFormatter should only be used together with FixedLocator\n",
      "  ax.set_xticklabels(model_outputs_ext_labels, rotation=60, ha='right')\n"
     ]
    },
    {
     "name": "stdout",
     "output_type": "stream",
     "text": [
      "Filter 63 / 128...\n"
     ]
    },
    {
     "name": "stderr",
     "output_type": "stream",
     "text": [
      "C:\\Users\\casti\\AppData\\Local\\Temp\\ipykernel_31808\\3716661773.py:146: UserWarning: FixedFormatter should only be used together with FixedLocator\n",
      "  ax.set_xticklabels(model_outputs_ext_labels, rotation=60, ha='right')\n"
     ]
    },
    {
     "name": "stdout",
     "output_type": "stream",
     "text": [
      "Filter 64 / 128...\n"
     ]
    },
    {
     "name": "stderr",
     "output_type": "stream",
     "text": [
      "C:\\Users\\casti\\AppData\\Local\\Temp\\ipykernel_31808\\3716661773.py:146: UserWarning: FixedFormatter should only be used together with FixedLocator\n",
      "  ax.set_xticklabels(model_outputs_ext_labels, rotation=60, ha='right')\n"
     ]
    },
    {
     "name": "stdout",
     "output_type": "stream",
     "text": [
      "Filter 65 / 128...\n"
     ]
    },
    {
     "name": "stderr",
     "output_type": "stream",
     "text": [
      "C:\\Users\\casti\\AppData\\Local\\Temp\\ipykernel_31808\\3716661773.py:146: UserWarning: FixedFormatter should only be used together with FixedLocator\n",
      "  ax.set_xticklabels(model_outputs_ext_labels, rotation=60, ha='right')\n"
     ]
    },
    {
     "name": "stdout",
     "output_type": "stream",
     "text": [
      "Filter 66 / 128...\n"
     ]
    },
    {
     "name": "stderr",
     "output_type": "stream",
     "text": [
      "C:\\Users\\casti\\AppData\\Local\\Temp\\ipykernel_31808\\3716661773.py:146: UserWarning: FixedFormatter should only be used together with FixedLocator\n",
      "  ax.set_xticklabels(model_outputs_ext_labels, rotation=60, ha='right')\n"
     ]
    },
    {
     "name": "stdout",
     "output_type": "stream",
     "text": [
      "Filter 67 / 128...\n"
     ]
    },
    {
     "name": "stderr",
     "output_type": "stream",
     "text": [
      "C:\\Users\\casti\\AppData\\Local\\Temp\\ipykernel_31808\\3716661773.py:146: UserWarning: FixedFormatter should only be used together with FixedLocator\n",
      "  ax.set_xticklabels(model_outputs_ext_labels, rotation=60, ha='right')\n"
     ]
    },
    {
     "name": "stdout",
     "output_type": "stream",
     "text": [
      "Filter 68 / 128...\n"
     ]
    },
    {
     "name": "stderr",
     "output_type": "stream",
     "text": [
      "C:\\Users\\casti\\AppData\\Local\\Temp\\ipykernel_31808\\3716661773.py:146: UserWarning: FixedFormatter should only be used together with FixedLocator\n",
      "  ax.set_xticklabels(model_outputs_ext_labels, rotation=60, ha='right')\n"
     ]
    },
    {
     "name": "stdout",
     "output_type": "stream",
     "text": [
      "Filter 69 / 128...\n"
     ]
    },
    {
     "name": "stderr",
     "output_type": "stream",
     "text": [
      "C:\\Users\\casti\\AppData\\Local\\Temp\\ipykernel_31808\\3716661773.py:146: UserWarning: FixedFormatter should only be used together with FixedLocator\n",
      "  ax.set_xticklabels(model_outputs_ext_labels, rotation=60, ha='right')\n"
     ]
    },
    {
     "name": "stdout",
     "output_type": "stream",
     "text": [
      "Filter 70 / 128...\n"
     ]
    },
    {
     "name": "stderr",
     "output_type": "stream",
     "text": [
      "C:\\Users\\casti\\AppData\\Local\\Temp\\ipykernel_31808\\3716661773.py:146: UserWarning: FixedFormatter should only be used together with FixedLocator\n",
      "  ax.set_xticklabels(model_outputs_ext_labels, rotation=60, ha='right')\n"
     ]
    },
    {
     "name": "stdout",
     "output_type": "stream",
     "text": [
      "Filter 71 / 128...\n"
     ]
    },
    {
     "name": "stderr",
     "output_type": "stream",
     "text": [
      "C:\\Users\\casti\\AppData\\Local\\Temp\\ipykernel_31808\\3716661773.py:146: UserWarning: FixedFormatter should only be used together with FixedLocator\n",
      "  ax.set_xticklabels(model_outputs_ext_labels, rotation=60, ha='right')\n"
     ]
    },
    {
     "name": "stdout",
     "output_type": "stream",
     "text": [
      "Filter 72 / 128...\n"
     ]
    },
    {
     "name": "stderr",
     "output_type": "stream",
     "text": [
      "C:\\Users\\casti\\AppData\\Local\\Temp\\ipykernel_31808\\3716661773.py:146: UserWarning: FixedFormatter should only be used together with FixedLocator\n",
      "  ax.set_xticklabels(model_outputs_ext_labels, rotation=60, ha='right')\n"
     ]
    },
    {
     "name": "stdout",
     "output_type": "stream",
     "text": [
      "Filter 73 / 128...\n"
     ]
    },
    {
     "name": "stderr",
     "output_type": "stream",
     "text": [
      "C:\\Users\\casti\\AppData\\Local\\Temp\\ipykernel_31808\\3716661773.py:146: UserWarning: FixedFormatter should only be used together with FixedLocator\n",
      "  ax.set_xticklabels(model_outputs_ext_labels, rotation=60, ha='right')\n"
     ]
    },
    {
     "name": "stdout",
     "output_type": "stream",
     "text": [
      "Filter 74 / 128...\n"
     ]
    },
    {
     "name": "stderr",
     "output_type": "stream",
     "text": [
      "C:\\Users\\casti\\AppData\\Local\\Temp\\ipykernel_31808\\3716661773.py:146: UserWarning: FixedFormatter should only be used together with FixedLocator\n",
      "  ax.set_xticklabels(model_outputs_ext_labels, rotation=60, ha='right')\n"
     ]
    },
    {
     "name": "stdout",
     "output_type": "stream",
     "text": [
      "Filter 75 / 128...\n"
     ]
    },
    {
     "name": "stderr",
     "output_type": "stream",
     "text": [
      "C:\\Users\\casti\\AppData\\Local\\Temp\\ipykernel_31808\\3716661773.py:146: UserWarning: FixedFormatter should only be used together with FixedLocator\n",
      "  ax.set_xticklabels(model_outputs_ext_labels, rotation=60, ha='right')\n"
     ]
    },
    {
     "name": "stdout",
     "output_type": "stream",
     "text": [
      "Filter 76 / 128...\n"
     ]
    },
    {
     "name": "stderr",
     "output_type": "stream",
     "text": [
      "C:\\Users\\casti\\AppData\\Local\\Temp\\ipykernel_31808\\3716661773.py:146: UserWarning: FixedFormatter should only be used together with FixedLocator\n",
      "  ax.set_xticklabels(model_outputs_ext_labels, rotation=60, ha='right')\n"
     ]
    },
    {
     "name": "stdout",
     "output_type": "stream",
     "text": [
      "Filter 77 / 128...\n"
     ]
    },
    {
     "name": "stderr",
     "output_type": "stream",
     "text": [
      "C:\\Users\\casti\\AppData\\Local\\Temp\\ipykernel_31808\\3716661773.py:146: UserWarning: FixedFormatter should only be used together with FixedLocator\n",
      "  ax.set_xticklabels(model_outputs_ext_labels, rotation=60, ha='right')\n"
     ]
    },
    {
     "name": "stdout",
     "output_type": "stream",
     "text": [
      "Filter 78 / 128...\n"
     ]
    },
    {
     "name": "stderr",
     "output_type": "stream",
     "text": [
      "C:\\Users\\casti\\AppData\\Local\\Temp\\ipykernel_31808\\3716661773.py:146: UserWarning: FixedFormatter should only be used together with FixedLocator\n",
      "  ax.set_xticklabels(model_outputs_ext_labels, rotation=60, ha='right')\n"
     ]
    },
    {
     "name": "stdout",
     "output_type": "stream",
     "text": [
      "Filter 79 / 128...\n"
     ]
    },
    {
     "name": "stderr",
     "output_type": "stream",
     "text": [
      "C:\\Users\\casti\\AppData\\Local\\Temp\\ipykernel_31808\\3716661773.py:146: UserWarning: FixedFormatter should only be used together with FixedLocator\n",
      "  ax.set_xticklabels(model_outputs_ext_labels, rotation=60, ha='right')\n"
     ]
    },
    {
     "name": "stdout",
     "output_type": "stream",
     "text": [
      "Filter 80 / 128...\n"
     ]
    },
    {
     "name": "stderr",
     "output_type": "stream",
     "text": [
      "C:\\Users\\casti\\AppData\\Local\\Temp\\ipykernel_31808\\3716661773.py:146: UserWarning: FixedFormatter should only be used together with FixedLocator\n",
      "  ax.set_xticklabels(model_outputs_ext_labels, rotation=60, ha='right')\n"
     ]
    },
    {
     "name": "stdout",
     "output_type": "stream",
     "text": [
      "Filter 81 / 128...\n"
     ]
    },
    {
     "name": "stderr",
     "output_type": "stream",
     "text": [
      "C:\\Users\\casti\\AppData\\Local\\Temp\\ipykernel_31808\\3716661773.py:146: UserWarning: FixedFormatter should only be used together with FixedLocator\n",
      "  ax.set_xticklabels(model_outputs_ext_labels, rotation=60, ha='right')\n"
     ]
    },
    {
     "name": "stdout",
     "output_type": "stream",
     "text": [
      "Filter 82 / 128...\n"
     ]
    },
    {
     "name": "stderr",
     "output_type": "stream",
     "text": [
      "C:\\Users\\casti\\AppData\\Local\\Temp\\ipykernel_31808\\3716661773.py:146: UserWarning: FixedFormatter should only be used together with FixedLocator\n",
      "  ax.set_xticklabels(model_outputs_ext_labels, rotation=60, ha='right')\n"
     ]
    },
    {
     "name": "stdout",
     "output_type": "stream",
     "text": [
      "Filter 83 / 128...\n"
     ]
    },
    {
     "name": "stderr",
     "output_type": "stream",
     "text": [
      "C:\\Users\\casti\\AppData\\Local\\Temp\\ipykernel_31808\\3716661773.py:146: UserWarning: FixedFormatter should only be used together with FixedLocator\n",
      "  ax.set_xticklabels(model_outputs_ext_labels, rotation=60, ha='right')\n"
     ]
    },
    {
     "name": "stdout",
     "output_type": "stream",
     "text": [
      "Filter 84 / 128...\n"
     ]
    },
    {
     "name": "stderr",
     "output_type": "stream",
     "text": [
      "C:\\Users\\casti\\AppData\\Local\\Temp\\ipykernel_31808\\3716661773.py:146: UserWarning: FixedFormatter should only be used together with FixedLocator\n",
      "  ax.set_xticklabels(model_outputs_ext_labels, rotation=60, ha='right')\n"
     ]
    },
    {
     "name": "stdout",
     "output_type": "stream",
     "text": [
      "Filter 85 / 128...\n"
     ]
    },
    {
     "name": "stderr",
     "output_type": "stream",
     "text": [
      "C:\\Users\\casti\\AppData\\Local\\Temp\\ipykernel_31808\\3716661773.py:146: UserWarning: FixedFormatter should only be used together with FixedLocator\n",
      "  ax.set_xticklabels(model_outputs_ext_labels, rotation=60, ha='right')\n"
     ]
    },
    {
     "name": "stdout",
     "output_type": "stream",
     "text": [
      "Filter 86 / 128...\n"
     ]
    },
    {
     "name": "stderr",
     "output_type": "stream",
     "text": [
      "C:\\Users\\casti\\AppData\\Local\\Temp\\ipykernel_31808\\3716661773.py:146: UserWarning: FixedFormatter should only be used together with FixedLocator\n",
      "  ax.set_xticklabels(model_outputs_ext_labels, rotation=60, ha='right')\n"
     ]
    },
    {
     "name": "stdout",
     "output_type": "stream",
     "text": [
      "Filter 87 / 128...\n",
      "Filter 88 / 128...\n"
     ]
    },
    {
     "name": "stderr",
     "output_type": "stream",
     "text": [
      "C:\\Users\\casti\\AppData\\Local\\Temp\\ipykernel_31808\\3716661773.py:146: UserWarning: FixedFormatter should only be used together with FixedLocator\n",
      "  ax.set_xticklabels(model_outputs_ext_labels, rotation=60, ha='right')\n"
     ]
    },
    {
     "name": "stdout",
     "output_type": "stream",
     "text": [
      "Filter 89 / 128...\n"
     ]
    },
    {
     "name": "stderr",
     "output_type": "stream",
     "text": [
      "C:\\Users\\casti\\AppData\\Local\\Temp\\ipykernel_31808\\3716661773.py:146: UserWarning: FixedFormatter should only be used together with FixedLocator\n",
      "  ax.set_xticklabels(model_outputs_ext_labels, rotation=60, ha='right')\n"
     ]
    },
    {
     "name": "stdout",
     "output_type": "stream",
     "text": [
      "Filter 90 / 128...\n"
     ]
    },
    {
     "name": "stderr",
     "output_type": "stream",
     "text": [
      "C:\\Users\\casti\\AppData\\Local\\Temp\\ipykernel_31808\\3716661773.py:146: UserWarning: FixedFormatter should only be used together with FixedLocator\n",
      "  ax.set_xticklabels(model_outputs_ext_labels, rotation=60, ha='right')\n"
     ]
    },
    {
     "name": "stdout",
     "output_type": "stream",
     "text": [
      "Filter 91 / 128...\n"
     ]
    },
    {
     "name": "stderr",
     "output_type": "stream",
     "text": [
      "C:\\Users\\casti\\AppData\\Local\\Temp\\ipykernel_31808\\3716661773.py:146: UserWarning: FixedFormatter should only be used together with FixedLocator\n",
      "  ax.set_xticklabels(model_outputs_ext_labels, rotation=60, ha='right')\n"
     ]
    },
    {
     "name": "stdout",
     "output_type": "stream",
     "text": [
      "Filter 92 / 128...\n"
     ]
    },
    {
     "name": "stderr",
     "output_type": "stream",
     "text": [
      "C:\\Users\\casti\\AppData\\Local\\Temp\\ipykernel_31808\\3716661773.py:146: UserWarning: FixedFormatter should only be used together with FixedLocator\n",
      "  ax.set_xticklabels(model_outputs_ext_labels, rotation=60, ha='right')\n"
     ]
    },
    {
     "name": "stdout",
     "output_type": "stream",
     "text": [
      "Filter 93 / 128...\n"
     ]
    },
    {
     "name": "stderr",
     "output_type": "stream",
     "text": [
      "C:\\Users\\casti\\AppData\\Local\\Temp\\ipykernel_31808\\3716661773.py:146: UserWarning: FixedFormatter should only be used together with FixedLocator\n",
      "  ax.set_xticklabels(model_outputs_ext_labels, rotation=60, ha='right')\n"
     ]
    },
    {
     "name": "stdout",
     "output_type": "stream",
     "text": [
      "Filter 94 / 128...\n"
     ]
    },
    {
     "name": "stderr",
     "output_type": "stream",
     "text": [
      "C:\\Users\\casti\\AppData\\Local\\Temp\\ipykernel_31808\\3716661773.py:146: UserWarning: FixedFormatter should only be used together with FixedLocator\n",
      "  ax.set_xticklabels(model_outputs_ext_labels, rotation=60, ha='right')\n"
     ]
    },
    {
     "name": "stdout",
     "output_type": "stream",
     "text": [
      "Filter 95 / 128...\n"
     ]
    },
    {
     "name": "stderr",
     "output_type": "stream",
     "text": [
      "C:\\Users\\casti\\AppData\\Local\\Temp\\ipykernel_31808\\3716661773.py:146: UserWarning: FixedFormatter should only be used together with FixedLocator\n",
      "  ax.set_xticklabels(model_outputs_ext_labels, rotation=60, ha='right')\n"
     ]
    },
    {
     "name": "stdout",
     "output_type": "stream",
     "text": [
      "Filter 96 / 128...\n"
     ]
    },
    {
     "name": "stderr",
     "output_type": "stream",
     "text": [
      "C:\\Users\\casti\\AppData\\Local\\Temp\\ipykernel_31808\\3716661773.py:146: UserWarning: FixedFormatter should only be used together with FixedLocator\n",
      "  ax.set_xticklabels(model_outputs_ext_labels, rotation=60, ha='right')\n"
     ]
    },
    {
     "name": "stdout",
     "output_type": "stream",
     "text": [
      "Filter 97 / 128...\n"
     ]
    },
    {
     "name": "stderr",
     "output_type": "stream",
     "text": [
      "C:\\Users\\casti\\AppData\\Local\\Temp\\ipykernel_31808\\3716661773.py:146: UserWarning: FixedFormatter should only be used together with FixedLocator\n",
      "  ax.set_xticklabels(model_outputs_ext_labels, rotation=60, ha='right')\n"
     ]
    },
    {
     "name": "stdout",
     "output_type": "stream",
     "text": [
      "Filter 98 / 128...\n"
     ]
    },
    {
     "name": "stderr",
     "output_type": "stream",
     "text": [
      "C:\\Users\\casti\\AppData\\Local\\Temp\\ipykernel_31808\\3716661773.py:146: UserWarning: FixedFormatter should only be used together with FixedLocator\n",
      "  ax.set_xticklabels(model_outputs_ext_labels, rotation=60, ha='right')\n"
     ]
    },
    {
     "name": "stdout",
     "output_type": "stream",
     "text": [
      "Filter 99 / 128...\n"
     ]
    },
    {
     "name": "stderr",
     "output_type": "stream",
     "text": [
      "C:\\Users\\casti\\AppData\\Local\\Temp\\ipykernel_31808\\3716661773.py:146: UserWarning: FixedFormatter should only be used together with FixedLocator\n",
      "  ax.set_xticklabels(model_outputs_ext_labels, rotation=60, ha='right')\n"
     ]
    },
    {
     "name": "stdout",
     "output_type": "stream",
     "text": [
      "Filter 100 / 128...\n"
     ]
    },
    {
     "name": "stderr",
     "output_type": "stream",
     "text": [
      "C:\\Users\\casti\\AppData\\Local\\Temp\\ipykernel_31808\\3716661773.py:146: UserWarning: FixedFormatter should only be used together with FixedLocator\n",
      "  ax.set_xticklabels(model_outputs_ext_labels, rotation=60, ha='right')\n"
     ]
    },
    {
     "name": "stdout",
     "output_type": "stream",
     "text": [
      "Filter 101 / 128...\n"
     ]
    },
    {
     "name": "stderr",
     "output_type": "stream",
     "text": [
      "C:\\Users\\casti\\AppData\\Local\\Temp\\ipykernel_31808\\3716661773.py:146: UserWarning: FixedFormatter should only be used together with FixedLocator\n",
      "  ax.set_xticklabels(model_outputs_ext_labels, rotation=60, ha='right')\n"
     ]
    },
    {
     "name": "stdout",
     "output_type": "stream",
     "text": [
      "Filter 102 / 128...\n"
     ]
    },
    {
     "name": "stderr",
     "output_type": "stream",
     "text": [
      "C:\\Users\\casti\\AppData\\Local\\Temp\\ipykernel_31808\\3716661773.py:146: UserWarning: FixedFormatter should only be used together with FixedLocator\n",
      "  ax.set_xticklabels(model_outputs_ext_labels, rotation=60, ha='right')\n"
     ]
    },
    {
     "name": "stdout",
     "output_type": "stream",
     "text": [
      "Filter 103 / 128...\n"
     ]
    },
    {
     "name": "stderr",
     "output_type": "stream",
     "text": [
      "C:\\Users\\casti\\AppData\\Local\\Temp\\ipykernel_31808\\3716661773.py:146: UserWarning: FixedFormatter should only be used together with FixedLocator\n",
      "  ax.set_xticklabels(model_outputs_ext_labels, rotation=60, ha='right')\n"
     ]
    },
    {
     "name": "stdout",
     "output_type": "stream",
     "text": [
      "Filter 104 / 128...\n"
     ]
    },
    {
     "name": "stderr",
     "output_type": "stream",
     "text": [
      "C:\\Users\\casti\\AppData\\Local\\Temp\\ipykernel_31808\\3716661773.py:146: UserWarning: FixedFormatter should only be used together with FixedLocator\n",
      "  ax.set_xticklabels(model_outputs_ext_labels, rotation=60, ha='right')\n"
     ]
    },
    {
     "name": "stdout",
     "output_type": "stream",
     "text": [
      "Filter 105 / 128...\n"
     ]
    },
    {
     "name": "stderr",
     "output_type": "stream",
     "text": [
      "C:\\Users\\casti\\AppData\\Local\\Temp\\ipykernel_31808\\3716661773.py:146: UserWarning: FixedFormatter should only be used together with FixedLocator\n",
      "  ax.set_xticklabels(model_outputs_ext_labels, rotation=60, ha='right')\n"
     ]
    },
    {
     "name": "stdout",
     "output_type": "stream",
     "text": [
      "Filter 106 / 128...\n"
     ]
    },
    {
     "name": "stderr",
     "output_type": "stream",
     "text": [
      "C:\\Users\\casti\\AppData\\Local\\Temp\\ipykernel_31808\\3716661773.py:146: UserWarning: FixedFormatter should only be used together with FixedLocator\n",
      "  ax.set_xticklabels(model_outputs_ext_labels, rotation=60, ha='right')\n"
     ]
    },
    {
     "name": "stdout",
     "output_type": "stream",
     "text": [
      "Filter 107 / 128...\n"
     ]
    },
    {
     "name": "stderr",
     "output_type": "stream",
     "text": [
      "C:\\Users\\casti\\AppData\\Local\\Temp\\ipykernel_31808\\3716661773.py:146: UserWarning: FixedFormatter should only be used together with FixedLocator\n",
      "  ax.set_xticklabels(model_outputs_ext_labels, rotation=60, ha='right')\n"
     ]
    },
    {
     "name": "stdout",
     "output_type": "stream",
     "text": [
      "Filter 108 / 128...\n"
     ]
    },
    {
     "name": "stderr",
     "output_type": "stream",
     "text": [
      "C:\\Users\\casti\\AppData\\Local\\Temp\\ipykernel_31808\\3716661773.py:146: UserWarning: FixedFormatter should only be used together with FixedLocator\n",
      "  ax.set_xticklabels(model_outputs_ext_labels, rotation=60, ha='right')\n"
     ]
    },
    {
     "name": "stdout",
     "output_type": "stream",
     "text": [
      "Filter 109 / 128...\n"
     ]
    },
    {
     "name": "stderr",
     "output_type": "stream",
     "text": [
      "C:\\Users\\casti\\AppData\\Local\\Temp\\ipykernel_31808\\3716661773.py:146: UserWarning: FixedFormatter should only be used together with FixedLocator\n",
      "  ax.set_xticklabels(model_outputs_ext_labels, rotation=60, ha='right')\n"
     ]
    },
    {
     "name": "stdout",
     "output_type": "stream",
     "text": [
      "Filter 110 / 128...\n"
     ]
    },
    {
     "name": "stderr",
     "output_type": "stream",
     "text": [
      "C:\\Users\\casti\\AppData\\Local\\Temp\\ipykernel_31808\\3716661773.py:146: UserWarning: FixedFormatter should only be used together with FixedLocator\n",
      "  ax.set_xticklabels(model_outputs_ext_labels, rotation=60, ha='right')\n"
     ]
    },
    {
     "name": "stdout",
     "output_type": "stream",
     "text": [
      "Filter 111 / 128...\n"
     ]
    },
    {
     "name": "stderr",
     "output_type": "stream",
     "text": [
      "C:\\Users\\casti\\AppData\\Local\\Temp\\ipykernel_31808\\3716661773.py:146: UserWarning: FixedFormatter should only be used together with FixedLocator\n",
      "  ax.set_xticklabels(model_outputs_ext_labels, rotation=60, ha='right')\n"
     ]
    },
    {
     "name": "stdout",
     "output_type": "stream",
     "text": [
      "Filter 112 / 128...\n"
     ]
    },
    {
     "name": "stderr",
     "output_type": "stream",
     "text": [
      "C:\\Users\\casti\\AppData\\Local\\Temp\\ipykernel_31808\\3716661773.py:146: UserWarning: FixedFormatter should only be used together with FixedLocator\n",
      "  ax.set_xticklabels(model_outputs_ext_labels, rotation=60, ha='right')\n"
     ]
    },
    {
     "name": "stdout",
     "output_type": "stream",
     "text": [
      "Filter 113 / 128...\n"
     ]
    },
    {
     "name": "stderr",
     "output_type": "stream",
     "text": [
      "C:\\Users\\casti\\AppData\\Local\\Temp\\ipykernel_31808\\3716661773.py:146: UserWarning: FixedFormatter should only be used together with FixedLocator\n",
      "  ax.set_xticklabels(model_outputs_ext_labels, rotation=60, ha='right')\n"
     ]
    },
    {
     "name": "stdout",
     "output_type": "stream",
     "text": [
      "Filter 114 / 128...\n"
     ]
    },
    {
     "name": "stderr",
     "output_type": "stream",
     "text": [
      "C:\\Users\\casti\\AppData\\Local\\Temp\\ipykernel_31808\\3716661773.py:146: UserWarning: FixedFormatter should only be used together with FixedLocator\n",
      "  ax.set_xticklabels(model_outputs_ext_labels, rotation=60, ha='right')\n"
     ]
    },
    {
     "name": "stdout",
     "output_type": "stream",
     "text": [
      "Filter 115 / 128...\n"
     ]
    },
    {
     "name": "stderr",
     "output_type": "stream",
     "text": [
      "C:\\Users\\casti\\AppData\\Local\\Temp\\ipykernel_31808\\3716661773.py:146: UserWarning: FixedFormatter should only be used together with FixedLocator\n",
      "  ax.set_xticklabels(model_outputs_ext_labels, rotation=60, ha='right')\n"
     ]
    },
    {
     "name": "stdout",
     "output_type": "stream",
     "text": [
      "Filter 116 / 128...\n"
     ]
    },
    {
     "name": "stderr",
     "output_type": "stream",
     "text": [
      "C:\\Users\\casti\\AppData\\Local\\Temp\\ipykernel_31808\\3716661773.py:146: UserWarning: FixedFormatter should only be used together with FixedLocator\n",
      "  ax.set_xticklabels(model_outputs_ext_labels, rotation=60, ha='right')\n"
     ]
    },
    {
     "name": "stdout",
     "output_type": "stream",
     "text": [
      "Filter 117 / 128...\n"
     ]
    },
    {
     "name": "stderr",
     "output_type": "stream",
     "text": [
      "C:\\Users\\casti\\AppData\\Local\\Temp\\ipykernel_31808\\3716661773.py:146: UserWarning: FixedFormatter should only be used together with FixedLocator\n",
      "  ax.set_xticklabels(model_outputs_ext_labels, rotation=60, ha='right')\n"
     ]
    },
    {
     "name": "stdout",
     "output_type": "stream",
     "text": [
      "Filter 118 / 128...\n"
     ]
    },
    {
     "name": "stderr",
     "output_type": "stream",
     "text": [
      "C:\\Users\\casti\\AppData\\Local\\Temp\\ipykernel_31808\\3716661773.py:146: UserWarning: FixedFormatter should only be used together with FixedLocator\n",
      "  ax.set_xticklabels(model_outputs_ext_labels, rotation=60, ha='right')\n"
     ]
    },
    {
     "name": "stdout",
     "output_type": "stream",
     "text": [
      "Filter 119 / 128...\n"
     ]
    },
    {
     "name": "stderr",
     "output_type": "stream",
     "text": [
      "C:\\Users\\casti\\AppData\\Local\\Temp\\ipykernel_31808\\3716661773.py:146: UserWarning: FixedFormatter should only be used together with FixedLocator\n",
      "  ax.set_xticklabels(model_outputs_ext_labels, rotation=60, ha='right')\n"
     ]
    },
    {
     "name": "stdout",
     "output_type": "stream",
     "text": [
      "Filter 120 / 128...\n"
     ]
    },
    {
     "name": "stderr",
     "output_type": "stream",
     "text": [
      "C:\\Users\\casti\\AppData\\Local\\Temp\\ipykernel_31808\\3716661773.py:146: UserWarning: FixedFormatter should only be used together with FixedLocator\n",
      "  ax.set_xticklabels(model_outputs_ext_labels, rotation=60, ha='right')\n"
     ]
    },
    {
     "name": "stdout",
     "output_type": "stream",
     "text": [
      "Filter 121 / 128...\n"
     ]
    },
    {
     "name": "stderr",
     "output_type": "stream",
     "text": [
      "C:\\Users\\casti\\AppData\\Local\\Temp\\ipykernel_31808\\3716661773.py:146: UserWarning: FixedFormatter should only be used together with FixedLocator\n",
      "  ax.set_xticklabels(model_outputs_ext_labels, rotation=60, ha='right')\n"
     ]
    },
    {
     "name": "stdout",
     "output_type": "stream",
     "text": [
      "Filter 122 / 128...\n"
     ]
    },
    {
     "name": "stderr",
     "output_type": "stream",
     "text": [
      "C:\\Users\\casti\\AppData\\Local\\Temp\\ipykernel_31808\\3716661773.py:146: UserWarning: FixedFormatter should only be used together with FixedLocator\n",
      "  ax.set_xticklabels(model_outputs_ext_labels, rotation=60, ha='right')\n"
     ]
    },
    {
     "name": "stdout",
     "output_type": "stream",
     "text": [
      "Filter 123 / 128...\n"
     ]
    },
    {
     "name": "stderr",
     "output_type": "stream",
     "text": [
      "C:\\Users\\casti\\AppData\\Local\\Temp\\ipykernel_31808\\3716661773.py:146: UserWarning: FixedFormatter should only be used together with FixedLocator\n",
      "  ax.set_xticklabels(model_outputs_ext_labels, rotation=60, ha='right')\n"
     ]
    },
    {
     "name": "stdout",
     "output_type": "stream",
     "text": [
      "Filter 124 / 128...\n"
     ]
    },
    {
     "name": "stderr",
     "output_type": "stream",
     "text": [
      "C:\\Users\\casti\\AppData\\Local\\Temp\\ipykernel_31808\\3716661773.py:146: UserWarning: FixedFormatter should only be used together with FixedLocator\n",
      "  ax.set_xticklabels(model_outputs_ext_labels, rotation=60, ha='right')\n"
     ]
    },
    {
     "name": "stdout",
     "output_type": "stream",
     "text": [
      "Filter 125 / 128...\n"
     ]
    },
    {
     "name": "stderr",
     "output_type": "stream",
     "text": [
      "C:\\Users\\casti\\AppData\\Local\\Temp\\ipykernel_31808\\3716661773.py:146: UserWarning: FixedFormatter should only be used together with FixedLocator\n",
      "  ax.set_xticklabels(model_outputs_ext_labels, rotation=60, ha='right')\n"
     ]
    },
    {
     "name": "stdout",
     "output_type": "stream",
     "text": [
      "Filter 126 / 128...\n"
     ]
    },
    {
     "name": "stderr",
     "output_type": "stream",
     "text": [
      "C:\\Users\\casti\\AppData\\Local\\Temp\\ipykernel_31808\\3716661773.py:146: UserWarning: FixedFormatter should only be used together with FixedLocator\n",
      "  ax.set_xticklabels(model_outputs_ext_labels, rotation=60, ha='right')\n"
     ]
    },
    {
     "name": "stdout",
     "output_type": "stream",
     "text": [
      "Filter 127 / 128...\n"
     ]
    },
    {
     "name": "stderr",
     "output_type": "stream",
     "text": [
      "C:\\Users\\casti\\AppData\\Local\\Temp\\ipykernel_31808\\3716661773.py:146: UserWarning: FixedFormatter should only be used together with FixedLocator\n",
      "  ax.set_xticklabels(model_outputs_ext_labels, rotation=60, ha='right')\n"
     ]
    },
    {
     "name": "stdout",
     "output_type": "stream",
     "text": [
      "Saving meme file...\n",
      "Done with model 3.\n",
      "Processing model 4...\n",
      "Filter 0 / 128...\n"
     ]
    },
    {
     "name": "stderr",
     "output_type": "stream",
     "text": [
      "C:\\Users\\casti\\AppData\\Local\\Temp\\ipykernel_31808\\3716661773.py:146: UserWarning: FixedFormatter should only be used together with FixedLocator\n",
      "  ax.set_xticklabels(model_outputs_ext_labels, rotation=60, ha='right')\n"
     ]
    },
    {
     "name": "stdout",
     "output_type": "stream",
     "text": [
      "Filter 1 / 128...\n"
     ]
    },
    {
     "name": "stderr",
     "output_type": "stream",
     "text": [
      "C:\\Users\\casti\\AppData\\Local\\Temp\\ipykernel_31808\\3716661773.py:146: UserWarning: FixedFormatter should only be used together with FixedLocator\n",
      "  ax.set_xticklabels(model_outputs_ext_labels, rotation=60, ha='right')\n"
     ]
    },
    {
     "name": "stdout",
     "output_type": "stream",
     "text": [
      "Filter 2 / 128...\n"
     ]
    },
    {
     "name": "stderr",
     "output_type": "stream",
     "text": [
      "C:\\Users\\casti\\AppData\\Local\\Temp\\ipykernel_31808\\3716661773.py:146: UserWarning: FixedFormatter should only be used together with FixedLocator\n",
      "  ax.set_xticklabels(model_outputs_ext_labels, rotation=60, ha='right')\n"
     ]
    },
    {
     "name": "stdout",
     "output_type": "stream",
     "text": [
      "Filter 3 / 128...\n"
     ]
    },
    {
     "name": "stderr",
     "output_type": "stream",
     "text": [
      "C:\\Users\\casti\\AppData\\Local\\Temp\\ipykernel_31808\\3716661773.py:146: UserWarning: FixedFormatter should only be used together with FixedLocator\n",
      "  ax.set_xticklabels(model_outputs_ext_labels, rotation=60, ha='right')\n"
     ]
    },
    {
     "name": "stdout",
     "output_type": "stream",
     "text": [
      "Filter 4 / 128...\n"
     ]
    },
    {
     "name": "stderr",
     "output_type": "stream",
     "text": [
      "C:\\Users\\casti\\AppData\\Local\\Temp\\ipykernel_31808\\3716661773.py:146: UserWarning: FixedFormatter should only be used together with FixedLocator\n",
      "  ax.set_xticklabels(model_outputs_ext_labels, rotation=60, ha='right')\n"
     ]
    },
    {
     "name": "stdout",
     "output_type": "stream",
     "text": [
      "Filter 5 / 128...\n"
     ]
    },
    {
     "name": "stderr",
     "output_type": "stream",
     "text": [
      "C:\\Users\\casti\\AppData\\Local\\Temp\\ipykernel_31808\\3716661773.py:146: UserWarning: FixedFormatter should only be used together with FixedLocator\n",
      "  ax.set_xticklabels(model_outputs_ext_labels, rotation=60, ha='right')\n"
     ]
    },
    {
     "name": "stdout",
     "output_type": "stream",
     "text": [
      "Filter 6 / 128...\n"
     ]
    },
    {
     "name": "stderr",
     "output_type": "stream",
     "text": [
      "C:\\Users\\casti\\AppData\\Local\\Temp\\ipykernel_31808\\3716661773.py:146: UserWarning: FixedFormatter should only be used together with FixedLocator\n",
      "  ax.set_xticklabels(model_outputs_ext_labels, rotation=60, ha='right')\n"
     ]
    },
    {
     "name": "stdout",
     "output_type": "stream",
     "text": [
      "Filter 7 / 128...\n"
     ]
    },
    {
     "name": "stderr",
     "output_type": "stream",
     "text": [
      "C:\\Users\\casti\\AppData\\Local\\Temp\\ipykernel_31808\\3716661773.py:146: UserWarning: FixedFormatter should only be used together with FixedLocator\n",
      "  ax.set_xticklabels(model_outputs_ext_labels, rotation=60, ha='right')\n"
     ]
    },
    {
     "name": "stdout",
     "output_type": "stream",
     "text": [
      "Filter 8 / 128...\n"
     ]
    },
    {
     "name": "stderr",
     "output_type": "stream",
     "text": [
      "C:\\Users\\casti\\AppData\\Local\\Temp\\ipykernel_31808\\3716661773.py:146: UserWarning: FixedFormatter should only be used together with FixedLocator\n",
      "  ax.set_xticklabels(model_outputs_ext_labels, rotation=60, ha='right')\n"
     ]
    },
    {
     "name": "stdout",
     "output_type": "stream",
     "text": [
      "Filter 9 / 128...\n"
     ]
    },
    {
     "name": "stderr",
     "output_type": "stream",
     "text": [
      "C:\\Users\\casti\\AppData\\Local\\Temp\\ipykernel_31808\\3716661773.py:146: UserWarning: FixedFormatter should only be used together with FixedLocator\n",
      "  ax.set_xticklabels(model_outputs_ext_labels, rotation=60, ha='right')\n"
     ]
    },
    {
     "name": "stdout",
     "output_type": "stream",
     "text": [
      "Filter 10 / 128...\n"
     ]
    },
    {
     "name": "stderr",
     "output_type": "stream",
     "text": [
      "C:\\Users\\casti\\AppData\\Local\\Temp\\ipykernel_31808\\3716661773.py:146: UserWarning: FixedFormatter should only be used together with FixedLocator\n",
      "  ax.set_xticklabels(model_outputs_ext_labels, rotation=60, ha='right')\n"
     ]
    },
    {
     "name": "stdout",
     "output_type": "stream",
     "text": [
      "Filter 11 / 128...\n"
     ]
    },
    {
     "name": "stderr",
     "output_type": "stream",
     "text": [
      "C:\\Users\\casti\\AppData\\Local\\Temp\\ipykernel_31808\\3716661773.py:146: UserWarning: FixedFormatter should only be used together with FixedLocator\n",
      "  ax.set_xticklabels(model_outputs_ext_labels, rotation=60, ha='right')\n"
     ]
    },
    {
     "name": "stdout",
     "output_type": "stream",
     "text": [
      "Filter 12 / 128...\n"
     ]
    },
    {
     "name": "stderr",
     "output_type": "stream",
     "text": [
      "C:\\Users\\casti\\AppData\\Local\\Temp\\ipykernel_31808\\3716661773.py:146: UserWarning: FixedFormatter should only be used together with FixedLocator\n",
      "  ax.set_xticklabels(model_outputs_ext_labels, rotation=60, ha='right')\n"
     ]
    },
    {
     "name": "stdout",
     "output_type": "stream",
     "text": [
      "Filter 13 / 128...\n"
     ]
    },
    {
     "name": "stderr",
     "output_type": "stream",
     "text": [
      "C:\\Users\\casti\\AppData\\Local\\Temp\\ipykernel_31808\\3716661773.py:146: UserWarning: FixedFormatter should only be used together with FixedLocator\n",
      "  ax.set_xticklabels(model_outputs_ext_labels, rotation=60, ha='right')\n"
     ]
    },
    {
     "name": "stdout",
     "output_type": "stream",
     "text": [
      "Filter 14 / 128...\n"
     ]
    },
    {
     "name": "stderr",
     "output_type": "stream",
     "text": [
      "C:\\Users\\casti\\AppData\\Local\\Temp\\ipykernel_31808\\3716661773.py:146: UserWarning: FixedFormatter should only be used together with FixedLocator\n",
      "  ax.set_xticklabels(model_outputs_ext_labels, rotation=60, ha='right')\n"
     ]
    },
    {
     "name": "stdout",
     "output_type": "stream",
     "text": [
      "Filter 15 / 128...\n"
     ]
    },
    {
     "name": "stderr",
     "output_type": "stream",
     "text": [
      "C:\\Users\\casti\\AppData\\Local\\Temp\\ipykernel_31808\\3716661773.py:146: UserWarning: FixedFormatter should only be used together with FixedLocator\n",
      "  ax.set_xticklabels(model_outputs_ext_labels, rotation=60, ha='right')\n"
     ]
    },
    {
     "name": "stdout",
     "output_type": "stream",
     "text": [
      "Filter 16 / 128...\n"
     ]
    },
    {
     "name": "stderr",
     "output_type": "stream",
     "text": [
      "C:\\Users\\casti\\AppData\\Local\\Temp\\ipykernel_31808\\3716661773.py:146: UserWarning: FixedFormatter should only be used together with FixedLocator\n",
      "  ax.set_xticklabels(model_outputs_ext_labels, rotation=60, ha='right')\n"
     ]
    },
    {
     "name": "stdout",
     "output_type": "stream",
     "text": [
      "Filter 17 / 128...\n"
     ]
    },
    {
     "name": "stderr",
     "output_type": "stream",
     "text": [
      "C:\\Users\\casti\\AppData\\Local\\Temp\\ipykernel_31808\\3716661773.py:146: UserWarning: FixedFormatter should only be used together with FixedLocator\n",
      "  ax.set_xticklabels(model_outputs_ext_labels, rotation=60, ha='right')\n"
     ]
    },
    {
     "name": "stdout",
     "output_type": "stream",
     "text": [
      "Filter 18 / 128...\n"
     ]
    },
    {
     "name": "stderr",
     "output_type": "stream",
     "text": [
      "C:\\Users\\casti\\AppData\\Local\\Temp\\ipykernel_31808\\3716661773.py:146: UserWarning: FixedFormatter should only be used together with FixedLocator\n",
      "  ax.set_xticklabels(model_outputs_ext_labels, rotation=60, ha='right')\n"
     ]
    },
    {
     "name": "stdout",
     "output_type": "stream",
     "text": [
      "Filter 19 / 128...\n"
     ]
    },
    {
     "name": "stderr",
     "output_type": "stream",
     "text": [
      "C:\\Users\\casti\\AppData\\Local\\Temp\\ipykernel_31808\\3716661773.py:146: UserWarning: FixedFormatter should only be used together with FixedLocator\n",
      "  ax.set_xticklabels(model_outputs_ext_labels, rotation=60, ha='right')\n"
     ]
    },
    {
     "name": "stdout",
     "output_type": "stream",
     "text": [
      "Filter 20 / 128...\n"
     ]
    },
    {
     "name": "stderr",
     "output_type": "stream",
     "text": [
      "C:\\Users\\casti\\AppData\\Local\\Temp\\ipykernel_31808\\3716661773.py:146: UserWarning: FixedFormatter should only be used together with FixedLocator\n",
      "  ax.set_xticklabels(model_outputs_ext_labels, rotation=60, ha='right')\n"
     ]
    },
    {
     "name": "stdout",
     "output_type": "stream",
     "text": [
      "Filter 21 / 128...\n"
     ]
    },
    {
     "name": "stderr",
     "output_type": "stream",
     "text": [
      "C:\\Users\\casti\\AppData\\Local\\Temp\\ipykernel_31808\\3716661773.py:146: UserWarning: FixedFormatter should only be used together with FixedLocator\n",
      "  ax.set_xticklabels(model_outputs_ext_labels, rotation=60, ha='right')\n"
     ]
    },
    {
     "name": "stdout",
     "output_type": "stream",
     "text": [
      "Filter 22 / 128...\n"
     ]
    },
    {
     "name": "stderr",
     "output_type": "stream",
     "text": [
      "C:\\Users\\casti\\AppData\\Local\\Temp\\ipykernel_31808\\3716661773.py:146: UserWarning: FixedFormatter should only be used together with FixedLocator\n",
      "  ax.set_xticklabels(model_outputs_ext_labels, rotation=60, ha='right')\n"
     ]
    },
    {
     "name": "stdout",
     "output_type": "stream",
     "text": [
      "Filter 23 / 128...\n"
     ]
    },
    {
     "name": "stderr",
     "output_type": "stream",
     "text": [
      "C:\\Users\\casti\\AppData\\Local\\Temp\\ipykernel_31808\\3716661773.py:146: UserWarning: FixedFormatter should only be used together with FixedLocator\n",
      "  ax.set_xticklabels(model_outputs_ext_labels, rotation=60, ha='right')\n"
     ]
    },
    {
     "name": "stdout",
     "output_type": "stream",
     "text": [
      "Filter 24 / 128...\n"
     ]
    },
    {
     "name": "stderr",
     "output_type": "stream",
     "text": [
      "C:\\Users\\casti\\AppData\\Local\\Temp\\ipykernel_31808\\3716661773.py:146: UserWarning: FixedFormatter should only be used together with FixedLocator\n",
      "  ax.set_xticklabels(model_outputs_ext_labels, rotation=60, ha='right')\n"
     ]
    },
    {
     "name": "stdout",
     "output_type": "stream",
     "text": [
      "Filter 25 / 128...\n"
     ]
    },
    {
     "name": "stderr",
     "output_type": "stream",
     "text": [
      "C:\\Users\\casti\\AppData\\Local\\Temp\\ipykernel_31808\\3716661773.py:146: UserWarning: FixedFormatter should only be used together with FixedLocator\n",
      "  ax.set_xticklabels(model_outputs_ext_labels, rotation=60, ha='right')\n"
     ]
    },
    {
     "name": "stdout",
     "output_type": "stream",
     "text": [
      "Filter 26 / 128...\n"
     ]
    },
    {
     "name": "stderr",
     "output_type": "stream",
     "text": [
      "C:\\Users\\casti\\AppData\\Local\\Temp\\ipykernel_31808\\3716661773.py:146: UserWarning: FixedFormatter should only be used together with FixedLocator\n",
      "  ax.set_xticklabels(model_outputs_ext_labels, rotation=60, ha='right')\n"
     ]
    },
    {
     "name": "stdout",
     "output_type": "stream",
     "text": [
      "Filter 27 / 128...\n"
     ]
    },
    {
     "name": "stderr",
     "output_type": "stream",
     "text": [
      "C:\\Users\\casti\\AppData\\Local\\Temp\\ipykernel_31808\\3716661773.py:146: UserWarning: FixedFormatter should only be used together with FixedLocator\n",
      "  ax.set_xticklabels(model_outputs_ext_labels, rotation=60, ha='right')\n"
     ]
    },
    {
     "name": "stdout",
     "output_type": "stream",
     "text": [
      "Filter 28 / 128...\n"
     ]
    },
    {
     "name": "stderr",
     "output_type": "stream",
     "text": [
      "C:\\Users\\casti\\AppData\\Local\\Temp\\ipykernel_31808\\3716661773.py:146: UserWarning: FixedFormatter should only be used together with FixedLocator\n",
      "  ax.set_xticklabels(model_outputs_ext_labels, rotation=60, ha='right')\n"
     ]
    },
    {
     "name": "stdout",
     "output_type": "stream",
     "text": [
      "Filter 29 / 128...\n"
     ]
    },
    {
     "name": "stderr",
     "output_type": "stream",
     "text": [
      "C:\\Users\\casti\\AppData\\Local\\Temp\\ipykernel_31808\\3716661773.py:146: UserWarning: FixedFormatter should only be used together with FixedLocator\n",
      "  ax.set_xticklabels(model_outputs_ext_labels, rotation=60, ha='right')\n"
     ]
    },
    {
     "name": "stdout",
     "output_type": "stream",
     "text": [
      "Filter 30 / 128...\n"
     ]
    },
    {
     "name": "stderr",
     "output_type": "stream",
     "text": [
      "C:\\Users\\casti\\AppData\\Local\\Temp\\ipykernel_31808\\3716661773.py:146: UserWarning: FixedFormatter should only be used together with FixedLocator\n",
      "  ax.set_xticklabels(model_outputs_ext_labels, rotation=60, ha='right')\n"
     ]
    },
    {
     "name": "stdout",
     "output_type": "stream",
     "text": [
      "Filter 31 / 128...\n"
     ]
    },
    {
     "name": "stderr",
     "output_type": "stream",
     "text": [
      "C:\\Users\\casti\\AppData\\Local\\Temp\\ipykernel_31808\\3716661773.py:146: UserWarning: FixedFormatter should only be used together with FixedLocator\n",
      "  ax.set_xticklabels(model_outputs_ext_labels, rotation=60, ha='right')\n"
     ]
    },
    {
     "name": "stdout",
     "output_type": "stream",
     "text": [
      "Filter 32 / 128...\n"
     ]
    },
    {
     "name": "stderr",
     "output_type": "stream",
     "text": [
      "C:\\Users\\casti\\AppData\\Local\\Temp\\ipykernel_31808\\3716661773.py:146: UserWarning: FixedFormatter should only be used together with FixedLocator\n",
      "  ax.set_xticklabels(model_outputs_ext_labels, rotation=60, ha='right')\n"
     ]
    },
    {
     "name": "stdout",
     "output_type": "stream",
     "text": [
      "Filter 33 / 128...\n"
     ]
    },
    {
     "name": "stderr",
     "output_type": "stream",
     "text": [
      "C:\\Users\\casti\\AppData\\Local\\Temp\\ipykernel_31808\\3716661773.py:146: UserWarning: FixedFormatter should only be used together with FixedLocator\n",
      "  ax.set_xticklabels(model_outputs_ext_labels, rotation=60, ha='right')\n"
     ]
    },
    {
     "name": "stdout",
     "output_type": "stream",
     "text": [
      "Filter 34 / 128...\n"
     ]
    },
    {
     "name": "stderr",
     "output_type": "stream",
     "text": [
      "C:\\Users\\casti\\AppData\\Local\\Temp\\ipykernel_31808\\3716661773.py:146: UserWarning: FixedFormatter should only be used together with FixedLocator\n",
      "  ax.set_xticklabels(model_outputs_ext_labels, rotation=60, ha='right')\n"
     ]
    },
    {
     "name": "stdout",
     "output_type": "stream",
     "text": [
      "Filter 35 / 128...\n"
     ]
    },
    {
     "name": "stderr",
     "output_type": "stream",
     "text": [
      "C:\\Users\\casti\\AppData\\Local\\Temp\\ipykernel_31808\\3716661773.py:146: UserWarning: FixedFormatter should only be used together with FixedLocator\n",
      "  ax.set_xticklabels(model_outputs_ext_labels, rotation=60, ha='right')\n"
     ]
    },
    {
     "name": "stdout",
     "output_type": "stream",
     "text": [
      "Filter 36 / 128...\n",
      "Filter 37 / 128...\n"
     ]
    },
    {
     "name": "stderr",
     "output_type": "stream",
     "text": [
      "C:\\Users\\casti\\AppData\\Local\\Temp\\ipykernel_31808\\3716661773.py:146: UserWarning: FixedFormatter should only be used together with FixedLocator\n",
      "  ax.set_xticklabels(model_outputs_ext_labels, rotation=60, ha='right')\n"
     ]
    },
    {
     "name": "stdout",
     "output_type": "stream",
     "text": [
      "Filter 38 / 128...\n"
     ]
    },
    {
     "name": "stderr",
     "output_type": "stream",
     "text": [
      "C:\\Users\\casti\\AppData\\Local\\Temp\\ipykernel_31808\\3716661773.py:146: UserWarning: FixedFormatter should only be used together with FixedLocator\n",
      "  ax.set_xticklabels(model_outputs_ext_labels, rotation=60, ha='right')\n"
     ]
    },
    {
     "name": "stdout",
     "output_type": "stream",
     "text": [
      "Filter 39 / 128...\n"
     ]
    },
    {
     "name": "stderr",
     "output_type": "stream",
     "text": [
      "C:\\Users\\casti\\AppData\\Local\\Temp\\ipykernel_31808\\3716661773.py:146: UserWarning: FixedFormatter should only be used together with FixedLocator\n",
      "  ax.set_xticklabels(model_outputs_ext_labels, rotation=60, ha='right')\n"
     ]
    },
    {
     "name": "stdout",
     "output_type": "stream",
     "text": [
      "Filter 40 / 128...\n"
     ]
    },
    {
     "name": "stderr",
     "output_type": "stream",
     "text": [
      "C:\\Users\\casti\\AppData\\Local\\Temp\\ipykernel_31808\\3716661773.py:146: UserWarning: FixedFormatter should only be used together with FixedLocator\n",
      "  ax.set_xticklabels(model_outputs_ext_labels, rotation=60, ha='right')\n"
     ]
    },
    {
     "name": "stdout",
     "output_type": "stream",
     "text": [
      "Filter 41 / 128...\n"
     ]
    },
    {
     "name": "stderr",
     "output_type": "stream",
     "text": [
      "C:\\Users\\casti\\AppData\\Local\\Temp\\ipykernel_31808\\3716661773.py:146: UserWarning: FixedFormatter should only be used together with FixedLocator\n",
      "  ax.set_xticklabels(model_outputs_ext_labels, rotation=60, ha='right')\n"
     ]
    },
    {
     "name": "stdout",
     "output_type": "stream",
     "text": [
      "Filter 42 / 128...\n"
     ]
    },
    {
     "name": "stderr",
     "output_type": "stream",
     "text": [
      "C:\\Users\\casti\\AppData\\Local\\Temp\\ipykernel_31808\\3716661773.py:146: UserWarning: FixedFormatter should only be used together with FixedLocator\n",
      "  ax.set_xticklabels(model_outputs_ext_labels, rotation=60, ha='right')\n"
     ]
    },
    {
     "name": "stdout",
     "output_type": "stream",
     "text": [
      "Filter 43 / 128...\n"
     ]
    },
    {
     "name": "stderr",
     "output_type": "stream",
     "text": [
      "C:\\Users\\casti\\AppData\\Local\\Temp\\ipykernel_31808\\3716661773.py:146: UserWarning: FixedFormatter should only be used together with FixedLocator\n",
      "  ax.set_xticklabels(model_outputs_ext_labels, rotation=60, ha='right')\n"
     ]
    },
    {
     "name": "stdout",
     "output_type": "stream",
     "text": [
      "Filter 44 / 128...\n"
     ]
    },
    {
     "name": "stderr",
     "output_type": "stream",
     "text": [
      "C:\\Users\\casti\\AppData\\Local\\Temp\\ipykernel_31808\\3716661773.py:146: UserWarning: FixedFormatter should only be used together with FixedLocator\n",
      "  ax.set_xticklabels(model_outputs_ext_labels, rotation=60, ha='right')\n"
     ]
    },
    {
     "name": "stdout",
     "output_type": "stream",
     "text": [
      "Filter 45 / 128...\n"
     ]
    },
    {
     "name": "stderr",
     "output_type": "stream",
     "text": [
      "C:\\Users\\casti\\AppData\\Local\\Temp\\ipykernel_31808\\3716661773.py:146: UserWarning: FixedFormatter should only be used together with FixedLocator\n",
      "  ax.set_xticklabels(model_outputs_ext_labels, rotation=60, ha='right')\n"
     ]
    },
    {
     "name": "stdout",
     "output_type": "stream",
     "text": [
      "Filter 46 / 128...\n"
     ]
    },
    {
     "name": "stderr",
     "output_type": "stream",
     "text": [
      "C:\\Users\\casti\\AppData\\Local\\Temp\\ipykernel_31808\\3716661773.py:146: UserWarning: FixedFormatter should only be used together with FixedLocator\n",
      "  ax.set_xticklabels(model_outputs_ext_labels, rotation=60, ha='right')\n"
     ]
    },
    {
     "name": "stdout",
     "output_type": "stream",
     "text": [
      "Filter 47 / 128...\n"
     ]
    },
    {
     "name": "stderr",
     "output_type": "stream",
     "text": [
      "C:\\Users\\casti\\AppData\\Local\\Temp\\ipykernel_31808\\3716661773.py:146: UserWarning: FixedFormatter should only be used together with FixedLocator\n",
      "  ax.set_xticklabels(model_outputs_ext_labels, rotation=60, ha='right')\n"
     ]
    },
    {
     "name": "stdout",
     "output_type": "stream",
     "text": [
      "Filter 48 / 128...\n"
     ]
    },
    {
     "name": "stderr",
     "output_type": "stream",
     "text": [
      "C:\\Users\\casti\\AppData\\Local\\Temp\\ipykernel_31808\\3716661773.py:146: UserWarning: FixedFormatter should only be used together with FixedLocator\n",
      "  ax.set_xticklabels(model_outputs_ext_labels, rotation=60, ha='right')\n"
     ]
    },
    {
     "name": "stdout",
     "output_type": "stream",
     "text": [
      "Filter 49 / 128...\n"
     ]
    },
    {
     "name": "stderr",
     "output_type": "stream",
     "text": [
      "C:\\Users\\casti\\AppData\\Local\\Temp\\ipykernel_31808\\3716661773.py:146: UserWarning: FixedFormatter should only be used together with FixedLocator\n",
      "  ax.set_xticklabels(model_outputs_ext_labels, rotation=60, ha='right')\n"
     ]
    },
    {
     "name": "stdout",
     "output_type": "stream",
     "text": [
      "Filter 50 / 128...\n"
     ]
    },
    {
     "name": "stderr",
     "output_type": "stream",
     "text": [
      "C:\\Users\\casti\\AppData\\Local\\Temp\\ipykernel_31808\\3716661773.py:146: UserWarning: FixedFormatter should only be used together with FixedLocator\n",
      "  ax.set_xticklabels(model_outputs_ext_labels, rotation=60, ha='right')\n"
     ]
    },
    {
     "name": "stdout",
     "output_type": "stream",
     "text": [
      "Filter 51 / 128...\n"
     ]
    },
    {
     "name": "stderr",
     "output_type": "stream",
     "text": [
      "C:\\Users\\casti\\AppData\\Local\\Temp\\ipykernel_31808\\3716661773.py:146: UserWarning: FixedFormatter should only be used together with FixedLocator\n",
      "  ax.set_xticklabels(model_outputs_ext_labels, rotation=60, ha='right')\n"
     ]
    },
    {
     "name": "stdout",
     "output_type": "stream",
     "text": [
      "Filter 52 / 128...\n"
     ]
    },
    {
     "name": "stderr",
     "output_type": "stream",
     "text": [
      "C:\\Users\\casti\\AppData\\Local\\Temp\\ipykernel_31808\\3716661773.py:146: UserWarning: FixedFormatter should only be used together with FixedLocator\n",
      "  ax.set_xticklabels(model_outputs_ext_labels, rotation=60, ha='right')\n"
     ]
    },
    {
     "name": "stdout",
     "output_type": "stream",
     "text": [
      "Filter 53 / 128...\n"
     ]
    },
    {
     "name": "stderr",
     "output_type": "stream",
     "text": [
      "C:\\Users\\casti\\AppData\\Local\\Temp\\ipykernel_31808\\3716661773.py:146: UserWarning: FixedFormatter should only be used together with FixedLocator\n",
      "  ax.set_xticklabels(model_outputs_ext_labels, rotation=60, ha='right')\n"
     ]
    },
    {
     "name": "stdout",
     "output_type": "stream",
     "text": [
      "Filter 54 / 128...\n"
     ]
    },
    {
     "name": "stderr",
     "output_type": "stream",
     "text": [
      "C:\\Users\\casti\\AppData\\Local\\Temp\\ipykernel_31808\\3716661773.py:146: UserWarning: FixedFormatter should only be used together with FixedLocator\n",
      "  ax.set_xticklabels(model_outputs_ext_labels, rotation=60, ha='right')\n"
     ]
    },
    {
     "name": "stdout",
     "output_type": "stream",
     "text": [
      "Filter 55 / 128...\n"
     ]
    },
    {
     "name": "stderr",
     "output_type": "stream",
     "text": [
      "C:\\Users\\casti\\AppData\\Local\\Temp\\ipykernel_31808\\3716661773.py:146: UserWarning: FixedFormatter should only be used together with FixedLocator\n",
      "  ax.set_xticklabels(model_outputs_ext_labels, rotation=60, ha='right')\n"
     ]
    },
    {
     "name": "stdout",
     "output_type": "stream",
     "text": [
      "Filter 56 / 128...\n"
     ]
    },
    {
     "name": "stderr",
     "output_type": "stream",
     "text": [
      "C:\\Users\\casti\\AppData\\Local\\Temp\\ipykernel_31808\\3716661773.py:146: UserWarning: FixedFormatter should only be used together with FixedLocator\n",
      "  ax.set_xticklabels(model_outputs_ext_labels, rotation=60, ha='right')\n"
     ]
    },
    {
     "name": "stdout",
     "output_type": "stream",
     "text": [
      "Filter 57 / 128...\n"
     ]
    },
    {
     "name": "stderr",
     "output_type": "stream",
     "text": [
      "C:\\Users\\casti\\AppData\\Local\\Temp\\ipykernel_31808\\3716661773.py:146: UserWarning: FixedFormatter should only be used together with FixedLocator\n",
      "  ax.set_xticklabels(model_outputs_ext_labels, rotation=60, ha='right')\n"
     ]
    },
    {
     "name": "stdout",
     "output_type": "stream",
     "text": [
      "Filter 58 / 128...\n"
     ]
    },
    {
     "name": "stderr",
     "output_type": "stream",
     "text": [
      "C:\\Users\\casti\\AppData\\Local\\Temp\\ipykernel_31808\\3716661773.py:146: UserWarning: FixedFormatter should only be used together with FixedLocator\n",
      "  ax.set_xticklabels(model_outputs_ext_labels, rotation=60, ha='right')\n"
     ]
    },
    {
     "name": "stdout",
     "output_type": "stream",
     "text": [
      "Filter 59 / 128...\n"
     ]
    },
    {
     "name": "stderr",
     "output_type": "stream",
     "text": [
      "C:\\Users\\casti\\AppData\\Local\\Temp\\ipykernel_31808\\3716661773.py:146: UserWarning: FixedFormatter should only be used together with FixedLocator\n",
      "  ax.set_xticklabels(model_outputs_ext_labels, rotation=60, ha='right')\n"
     ]
    },
    {
     "name": "stdout",
     "output_type": "stream",
     "text": [
      "Filter 60 / 128...\n"
     ]
    },
    {
     "name": "stderr",
     "output_type": "stream",
     "text": [
      "C:\\Users\\casti\\AppData\\Local\\Temp\\ipykernel_31808\\3716661773.py:146: UserWarning: FixedFormatter should only be used together with FixedLocator\n",
      "  ax.set_xticklabels(model_outputs_ext_labels, rotation=60, ha='right')\n"
     ]
    },
    {
     "name": "stdout",
     "output_type": "stream",
     "text": [
      "Filter 61 / 128...\n"
     ]
    },
    {
     "name": "stderr",
     "output_type": "stream",
     "text": [
      "C:\\Users\\casti\\AppData\\Local\\Temp\\ipykernel_31808\\3716661773.py:146: UserWarning: FixedFormatter should only be used together with FixedLocator\n",
      "  ax.set_xticklabels(model_outputs_ext_labels, rotation=60, ha='right')\n"
     ]
    },
    {
     "name": "stdout",
     "output_type": "stream",
     "text": [
      "Filter 62 / 128...\n"
     ]
    },
    {
     "name": "stderr",
     "output_type": "stream",
     "text": [
      "C:\\Users\\casti\\AppData\\Local\\Temp\\ipykernel_31808\\3716661773.py:146: UserWarning: FixedFormatter should only be used together with FixedLocator\n",
      "  ax.set_xticklabels(model_outputs_ext_labels, rotation=60, ha='right')\n"
     ]
    },
    {
     "name": "stdout",
     "output_type": "stream",
     "text": [
      "Filter 63 / 128...\n"
     ]
    },
    {
     "name": "stderr",
     "output_type": "stream",
     "text": [
      "C:\\Users\\casti\\AppData\\Local\\Temp\\ipykernel_31808\\3716661773.py:146: UserWarning: FixedFormatter should only be used together with FixedLocator\n",
      "  ax.set_xticklabels(model_outputs_ext_labels, rotation=60, ha='right')\n"
     ]
    },
    {
     "name": "stdout",
     "output_type": "stream",
     "text": [
      "Filter 64 / 128...\n"
     ]
    },
    {
     "name": "stderr",
     "output_type": "stream",
     "text": [
      "C:\\Users\\casti\\AppData\\Local\\Temp\\ipykernel_31808\\3716661773.py:146: UserWarning: FixedFormatter should only be used together with FixedLocator\n",
      "  ax.set_xticklabels(model_outputs_ext_labels, rotation=60, ha='right')\n"
     ]
    },
    {
     "name": "stdout",
     "output_type": "stream",
     "text": [
      "Filter 65 / 128...\n"
     ]
    },
    {
     "name": "stderr",
     "output_type": "stream",
     "text": [
      "C:\\Users\\casti\\AppData\\Local\\Temp\\ipykernel_31808\\3716661773.py:146: UserWarning: FixedFormatter should only be used together with FixedLocator\n",
      "  ax.set_xticklabels(model_outputs_ext_labels, rotation=60, ha='right')\n"
     ]
    },
    {
     "name": "stdout",
     "output_type": "stream",
     "text": [
      "Filter 66 / 128...\n"
     ]
    },
    {
     "name": "stderr",
     "output_type": "stream",
     "text": [
      "C:\\Users\\casti\\AppData\\Local\\Temp\\ipykernel_31808\\3716661773.py:146: UserWarning: FixedFormatter should only be used together with FixedLocator\n",
      "  ax.set_xticklabels(model_outputs_ext_labels, rotation=60, ha='right')\n"
     ]
    },
    {
     "name": "stdout",
     "output_type": "stream",
     "text": [
      "Filter 67 / 128...\n"
     ]
    },
    {
     "name": "stderr",
     "output_type": "stream",
     "text": [
      "C:\\Users\\casti\\AppData\\Local\\Temp\\ipykernel_31808\\3716661773.py:146: UserWarning: FixedFormatter should only be used together with FixedLocator\n",
      "  ax.set_xticklabels(model_outputs_ext_labels, rotation=60, ha='right')\n"
     ]
    },
    {
     "name": "stdout",
     "output_type": "stream",
     "text": [
      "Filter 68 / 128...\n"
     ]
    },
    {
     "name": "stderr",
     "output_type": "stream",
     "text": [
      "C:\\Users\\casti\\AppData\\Local\\Temp\\ipykernel_31808\\3716661773.py:146: UserWarning: FixedFormatter should only be used together with FixedLocator\n",
      "  ax.set_xticklabels(model_outputs_ext_labels, rotation=60, ha='right')\n"
     ]
    },
    {
     "name": "stdout",
     "output_type": "stream",
     "text": [
      "Filter 69 / 128...\n"
     ]
    },
    {
     "name": "stderr",
     "output_type": "stream",
     "text": [
      "C:\\Users\\casti\\AppData\\Local\\Temp\\ipykernel_31808\\3716661773.py:146: UserWarning: FixedFormatter should only be used together with FixedLocator\n",
      "  ax.set_xticklabels(model_outputs_ext_labels, rotation=60, ha='right')\n"
     ]
    },
    {
     "name": "stdout",
     "output_type": "stream",
     "text": [
      "Filter 70 / 128...\n"
     ]
    },
    {
     "name": "stderr",
     "output_type": "stream",
     "text": [
      "C:\\Users\\casti\\AppData\\Local\\Temp\\ipykernel_31808\\3716661773.py:146: UserWarning: FixedFormatter should only be used together with FixedLocator\n",
      "  ax.set_xticklabels(model_outputs_ext_labels, rotation=60, ha='right')\n"
     ]
    },
    {
     "name": "stdout",
     "output_type": "stream",
     "text": [
      "Filter 71 / 128...\n"
     ]
    },
    {
     "name": "stderr",
     "output_type": "stream",
     "text": [
      "C:\\Users\\casti\\AppData\\Local\\Temp\\ipykernel_31808\\3716661773.py:146: UserWarning: FixedFormatter should only be used together with FixedLocator\n",
      "  ax.set_xticklabels(model_outputs_ext_labels, rotation=60, ha='right')\n"
     ]
    },
    {
     "name": "stdout",
     "output_type": "stream",
     "text": [
      "Filter 72 / 128...\n"
     ]
    },
    {
     "name": "stderr",
     "output_type": "stream",
     "text": [
      "C:\\Users\\casti\\AppData\\Local\\Temp\\ipykernel_31808\\3716661773.py:146: UserWarning: FixedFormatter should only be used together with FixedLocator\n",
      "  ax.set_xticklabels(model_outputs_ext_labels, rotation=60, ha='right')\n"
     ]
    },
    {
     "name": "stdout",
     "output_type": "stream",
     "text": [
      "Filter 73 / 128...\n"
     ]
    },
    {
     "name": "stderr",
     "output_type": "stream",
     "text": [
      "C:\\Users\\casti\\AppData\\Local\\Temp\\ipykernel_31808\\3716661773.py:146: UserWarning: FixedFormatter should only be used together with FixedLocator\n",
      "  ax.set_xticklabels(model_outputs_ext_labels, rotation=60, ha='right')\n"
     ]
    },
    {
     "name": "stdout",
     "output_type": "stream",
     "text": [
      "Filter 74 / 128...\n"
     ]
    },
    {
     "name": "stderr",
     "output_type": "stream",
     "text": [
      "C:\\Users\\casti\\AppData\\Local\\Temp\\ipykernel_31808\\3716661773.py:146: UserWarning: FixedFormatter should only be used together with FixedLocator\n",
      "  ax.set_xticklabels(model_outputs_ext_labels, rotation=60, ha='right')\n"
     ]
    },
    {
     "name": "stdout",
     "output_type": "stream",
     "text": [
      "Filter 75 / 128...\n"
     ]
    },
    {
     "name": "stderr",
     "output_type": "stream",
     "text": [
      "C:\\Users\\casti\\AppData\\Local\\Temp\\ipykernel_31808\\3716661773.py:146: UserWarning: FixedFormatter should only be used together with FixedLocator\n",
      "  ax.set_xticklabels(model_outputs_ext_labels, rotation=60, ha='right')\n"
     ]
    },
    {
     "name": "stdout",
     "output_type": "stream",
     "text": [
      "Filter 76 / 128...\n"
     ]
    },
    {
     "name": "stderr",
     "output_type": "stream",
     "text": [
      "C:\\Users\\casti\\AppData\\Local\\Temp\\ipykernel_31808\\3716661773.py:146: UserWarning: FixedFormatter should only be used together with FixedLocator\n",
      "  ax.set_xticklabels(model_outputs_ext_labels, rotation=60, ha='right')\n"
     ]
    },
    {
     "name": "stdout",
     "output_type": "stream",
     "text": [
      "Filter 77 / 128...\n"
     ]
    },
    {
     "name": "stderr",
     "output_type": "stream",
     "text": [
      "C:\\Users\\casti\\AppData\\Local\\Temp\\ipykernel_31808\\3716661773.py:146: UserWarning: FixedFormatter should only be used together with FixedLocator\n",
      "  ax.set_xticklabels(model_outputs_ext_labels, rotation=60, ha='right')\n"
     ]
    },
    {
     "name": "stdout",
     "output_type": "stream",
     "text": [
      "Filter 78 / 128...\n"
     ]
    },
    {
     "name": "stderr",
     "output_type": "stream",
     "text": [
      "C:\\Users\\casti\\AppData\\Local\\Temp\\ipykernel_31808\\3716661773.py:146: UserWarning: FixedFormatter should only be used together with FixedLocator\n",
      "  ax.set_xticklabels(model_outputs_ext_labels, rotation=60, ha='right')\n"
     ]
    },
    {
     "name": "stdout",
     "output_type": "stream",
     "text": [
      "Filter 79 / 128...\n"
     ]
    },
    {
     "name": "stderr",
     "output_type": "stream",
     "text": [
      "C:\\Users\\casti\\AppData\\Local\\Temp\\ipykernel_31808\\3716661773.py:146: UserWarning: FixedFormatter should only be used together with FixedLocator\n",
      "  ax.set_xticklabels(model_outputs_ext_labels, rotation=60, ha='right')\n"
     ]
    },
    {
     "name": "stdout",
     "output_type": "stream",
     "text": [
      "Filter 80 / 128...\n"
     ]
    },
    {
     "name": "stderr",
     "output_type": "stream",
     "text": [
      "C:\\Users\\casti\\AppData\\Local\\Temp\\ipykernel_31808\\3716661773.py:146: UserWarning: FixedFormatter should only be used together with FixedLocator\n",
      "  ax.set_xticklabels(model_outputs_ext_labels, rotation=60, ha='right')\n"
     ]
    },
    {
     "name": "stdout",
     "output_type": "stream",
     "text": [
      "Filter 81 / 128...\n"
     ]
    },
    {
     "name": "stderr",
     "output_type": "stream",
     "text": [
      "C:\\Users\\casti\\AppData\\Local\\Temp\\ipykernel_31808\\3716661773.py:146: UserWarning: FixedFormatter should only be used together with FixedLocator\n",
      "  ax.set_xticklabels(model_outputs_ext_labels, rotation=60, ha='right')\n"
     ]
    },
    {
     "name": "stdout",
     "output_type": "stream",
     "text": [
      "Filter 82 / 128...\n"
     ]
    },
    {
     "name": "stderr",
     "output_type": "stream",
     "text": [
      "C:\\Users\\casti\\AppData\\Local\\Temp\\ipykernel_31808\\3716661773.py:146: UserWarning: FixedFormatter should only be used together with FixedLocator\n",
      "  ax.set_xticklabels(model_outputs_ext_labels, rotation=60, ha='right')\n"
     ]
    },
    {
     "name": "stdout",
     "output_type": "stream",
     "text": [
      "Filter 83 / 128...\n"
     ]
    },
    {
     "name": "stderr",
     "output_type": "stream",
     "text": [
      "C:\\Users\\casti\\AppData\\Local\\Temp\\ipykernel_31808\\3716661773.py:146: UserWarning: FixedFormatter should only be used together with FixedLocator\n",
      "  ax.set_xticklabels(model_outputs_ext_labels, rotation=60, ha='right')\n"
     ]
    },
    {
     "name": "stdout",
     "output_type": "stream",
     "text": [
      "Filter 84 / 128...\n"
     ]
    },
    {
     "name": "stderr",
     "output_type": "stream",
     "text": [
      "C:\\Users\\casti\\AppData\\Local\\Temp\\ipykernel_31808\\3716661773.py:146: UserWarning: FixedFormatter should only be used together with FixedLocator\n",
      "  ax.set_xticklabels(model_outputs_ext_labels, rotation=60, ha='right')\n"
     ]
    },
    {
     "name": "stdout",
     "output_type": "stream",
     "text": [
      "Filter 85 / 128...\n"
     ]
    },
    {
     "name": "stderr",
     "output_type": "stream",
     "text": [
      "C:\\Users\\casti\\AppData\\Local\\Temp\\ipykernel_31808\\3716661773.py:146: UserWarning: FixedFormatter should only be used together with FixedLocator\n",
      "  ax.set_xticklabels(model_outputs_ext_labels, rotation=60, ha='right')\n"
     ]
    },
    {
     "name": "stdout",
     "output_type": "stream",
     "text": [
      "Filter 86 / 128...\n"
     ]
    },
    {
     "name": "stderr",
     "output_type": "stream",
     "text": [
      "C:\\Users\\casti\\AppData\\Local\\Temp\\ipykernel_31808\\3716661773.py:146: UserWarning: FixedFormatter should only be used together with FixedLocator\n",
      "  ax.set_xticklabels(model_outputs_ext_labels, rotation=60, ha='right')\n"
     ]
    },
    {
     "name": "stdout",
     "output_type": "stream",
     "text": [
      "Filter 87 / 128...\n"
     ]
    },
    {
     "name": "stderr",
     "output_type": "stream",
     "text": [
      "C:\\Users\\casti\\AppData\\Local\\Temp\\ipykernel_31808\\3716661773.py:146: UserWarning: FixedFormatter should only be used together with FixedLocator\n",
      "  ax.set_xticklabels(model_outputs_ext_labels, rotation=60, ha='right')\n"
     ]
    },
    {
     "name": "stdout",
     "output_type": "stream",
     "text": [
      "Filter 88 / 128...\n"
     ]
    },
    {
     "name": "stderr",
     "output_type": "stream",
     "text": [
      "C:\\Users\\casti\\AppData\\Local\\Temp\\ipykernel_31808\\3716661773.py:146: UserWarning: FixedFormatter should only be used together with FixedLocator\n",
      "  ax.set_xticklabels(model_outputs_ext_labels, rotation=60, ha='right')\n"
     ]
    },
    {
     "name": "stdout",
     "output_type": "stream",
     "text": [
      "Filter 89 / 128...\n"
     ]
    },
    {
     "name": "stderr",
     "output_type": "stream",
     "text": [
      "C:\\Users\\casti\\AppData\\Local\\Temp\\ipykernel_31808\\3716661773.py:146: UserWarning: FixedFormatter should only be used together with FixedLocator\n",
      "  ax.set_xticklabels(model_outputs_ext_labels, rotation=60, ha='right')\n"
     ]
    },
    {
     "name": "stdout",
     "output_type": "stream",
     "text": [
      "Filter 90 / 128...\n"
     ]
    },
    {
     "name": "stderr",
     "output_type": "stream",
     "text": [
      "C:\\Users\\casti\\AppData\\Local\\Temp\\ipykernel_31808\\3716661773.py:146: UserWarning: FixedFormatter should only be used together with FixedLocator\n",
      "  ax.set_xticklabels(model_outputs_ext_labels, rotation=60, ha='right')\n"
     ]
    },
    {
     "name": "stdout",
     "output_type": "stream",
     "text": [
      "Filter 91 / 128...\n"
     ]
    },
    {
     "name": "stderr",
     "output_type": "stream",
     "text": [
      "C:\\Users\\casti\\AppData\\Local\\Temp\\ipykernel_31808\\3716661773.py:146: UserWarning: FixedFormatter should only be used together with FixedLocator\n",
      "  ax.set_xticklabels(model_outputs_ext_labels, rotation=60, ha='right')\n"
     ]
    },
    {
     "name": "stdout",
     "output_type": "stream",
     "text": [
      "Filter 92 / 128...\n"
     ]
    },
    {
     "name": "stderr",
     "output_type": "stream",
     "text": [
      "C:\\Users\\casti\\AppData\\Local\\Temp\\ipykernel_31808\\3716661773.py:146: UserWarning: FixedFormatter should only be used together with FixedLocator\n",
      "  ax.set_xticklabels(model_outputs_ext_labels, rotation=60, ha='right')\n"
     ]
    },
    {
     "name": "stdout",
     "output_type": "stream",
     "text": [
      "Filter 93 / 128...\n"
     ]
    },
    {
     "name": "stderr",
     "output_type": "stream",
     "text": [
      "C:\\Users\\casti\\AppData\\Local\\Temp\\ipykernel_31808\\3716661773.py:146: UserWarning: FixedFormatter should only be used together with FixedLocator\n",
      "  ax.set_xticklabels(model_outputs_ext_labels, rotation=60, ha='right')\n"
     ]
    },
    {
     "name": "stdout",
     "output_type": "stream",
     "text": [
      "Filter 94 / 128...\n"
     ]
    },
    {
     "name": "stderr",
     "output_type": "stream",
     "text": [
      "C:\\Users\\casti\\AppData\\Local\\Temp\\ipykernel_31808\\3716661773.py:146: UserWarning: FixedFormatter should only be used together with FixedLocator\n",
      "  ax.set_xticklabels(model_outputs_ext_labels, rotation=60, ha='right')\n"
     ]
    },
    {
     "name": "stdout",
     "output_type": "stream",
     "text": [
      "Filter 95 / 128...\n"
     ]
    },
    {
     "name": "stderr",
     "output_type": "stream",
     "text": [
      "C:\\Users\\casti\\AppData\\Local\\Temp\\ipykernel_31808\\3716661773.py:146: UserWarning: FixedFormatter should only be used together with FixedLocator\n",
      "  ax.set_xticklabels(model_outputs_ext_labels, rotation=60, ha='right')\n"
     ]
    },
    {
     "name": "stdout",
     "output_type": "stream",
     "text": [
      "Filter 96 / 128...\n"
     ]
    },
    {
     "name": "stderr",
     "output_type": "stream",
     "text": [
      "C:\\Users\\casti\\AppData\\Local\\Temp\\ipykernel_31808\\3716661773.py:146: UserWarning: FixedFormatter should only be used together with FixedLocator\n",
      "  ax.set_xticklabels(model_outputs_ext_labels, rotation=60, ha='right')\n"
     ]
    },
    {
     "name": "stdout",
     "output_type": "stream",
     "text": [
      "Filter 97 / 128...\n"
     ]
    },
    {
     "name": "stderr",
     "output_type": "stream",
     "text": [
      "C:\\Users\\casti\\AppData\\Local\\Temp\\ipykernel_31808\\3716661773.py:146: UserWarning: FixedFormatter should only be used together with FixedLocator\n",
      "  ax.set_xticklabels(model_outputs_ext_labels, rotation=60, ha='right')\n"
     ]
    },
    {
     "name": "stdout",
     "output_type": "stream",
     "text": [
      "Filter 98 / 128...\n"
     ]
    },
    {
     "name": "stderr",
     "output_type": "stream",
     "text": [
      "C:\\Users\\casti\\AppData\\Local\\Temp\\ipykernel_31808\\3716661773.py:146: UserWarning: FixedFormatter should only be used together with FixedLocator\n",
      "  ax.set_xticklabels(model_outputs_ext_labels, rotation=60, ha='right')\n"
     ]
    },
    {
     "name": "stdout",
     "output_type": "stream",
     "text": [
      "Filter 99 / 128...\n"
     ]
    },
    {
     "name": "stderr",
     "output_type": "stream",
     "text": [
      "C:\\Users\\casti\\AppData\\Local\\Temp\\ipykernel_31808\\3716661773.py:146: UserWarning: FixedFormatter should only be used together with FixedLocator\n",
      "  ax.set_xticklabels(model_outputs_ext_labels, rotation=60, ha='right')\n"
     ]
    },
    {
     "name": "stdout",
     "output_type": "stream",
     "text": [
      "Filter 100 / 128...\n"
     ]
    },
    {
     "name": "stderr",
     "output_type": "stream",
     "text": [
      "C:\\Users\\casti\\AppData\\Local\\Temp\\ipykernel_31808\\3716661773.py:146: UserWarning: FixedFormatter should only be used together with FixedLocator\n",
      "  ax.set_xticklabels(model_outputs_ext_labels, rotation=60, ha='right')\n"
     ]
    },
    {
     "name": "stdout",
     "output_type": "stream",
     "text": [
      "Filter 101 / 128...\n"
     ]
    },
    {
     "name": "stderr",
     "output_type": "stream",
     "text": [
      "C:\\Users\\casti\\AppData\\Local\\Temp\\ipykernel_31808\\3716661773.py:146: UserWarning: FixedFormatter should only be used together with FixedLocator\n",
      "  ax.set_xticklabels(model_outputs_ext_labels, rotation=60, ha='right')\n"
     ]
    },
    {
     "name": "stdout",
     "output_type": "stream",
     "text": [
      "Filter 102 / 128...\n"
     ]
    },
    {
     "name": "stderr",
     "output_type": "stream",
     "text": [
      "C:\\Users\\casti\\AppData\\Local\\Temp\\ipykernel_31808\\3716661773.py:146: UserWarning: FixedFormatter should only be used together with FixedLocator\n",
      "  ax.set_xticklabels(model_outputs_ext_labels, rotation=60, ha='right')\n"
     ]
    },
    {
     "name": "stdout",
     "output_type": "stream",
     "text": [
      "Filter 103 / 128...\n"
     ]
    },
    {
     "name": "stderr",
     "output_type": "stream",
     "text": [
      "C:\\Users\\casti\\AppData\\Local\\Temp\\ipykernel_31808\\3716661773.py:146: UserWarning: FixedFormatter should only be used together with FixedLocator\n",
      "  ax.set_xticklabels(model_outputs_ext_labels, rotation=60, ha='right')\n"
     ]
    },
    {
     "name": "stdout",
     "output_type": "stream",
     "text": [
      "Filter 104 / 128...\n"
     ]
    },
    {
     "name": "stderr",
     "output_type": "stream",
     "text": [
      "C:\\Users\\casti\\AppData\\Local\\Temp\\ipykernel_31808\\3716661773.py:146: UserWarning: FixedFormatter should only be used together with FixedLocator\n",
      "  ax.set_xticklabels(model_outputs_ext_labels, rotation=60, ha='right')\n"
     ]
    },
    {
     "name": "stdout",
     "output_type": "stream",
     "text": [
      "Filter 105 / 128...\n"
     ]
    },
    {
     "name": "stderr",
     "output_type": "stream",
     "text": [
      "C:\\Users\\casti\\AppData\\Local\\Temp\\ipykernel_31808\\3716661773.py:146: UserWarning: FixedFormatter should only be used together with FixedLocator\n",
      "  ax.set_xticklabels(model_outputs_ext_labels, rotation=60, ha='right')\n"
     ]
    },
    {
     "name": "stdout",
     "output_type": "stream",
     "text": [
      "Filter 106 / 128...\n"
     ]
    },
    {
     "name": "stderr",
     "output_type": "stream",
     "text": [
      "C:\\Users\\casti\\AppData\\Local\\Temp\\ipykernel_31808\\3716661773.py:146: UserWarning: FixedFormatter should only be used together with FixedLocator\n",
      "  ax.set_xticklabels(model_outputs_ext_labels, rotation=60, ha='right')\n"
     ]
    },
    {
     "name": "stdout",
     "output_type": "stream",
     "text": [
      "Filter 107 / 128...\n"
     ]
    },
    {
     "name": "stderr",
     "output_type": "stream",
     "text": [
      "C:\\Users\\casti\\AppData\\Local\\Temp\\ipykernel_31808\\3716661773.py:146: UserWarning: FixedFormatter should only be used together with FixedLocator\n",
      "  ax.set_xticklabels(model_outputs_ext_labels, rotation=60, ha='right')\n"
     ]
    },
    {
     "name": "stdout",
     "output_type": "stream",
     "text": [
      "Filter 108 / 128...\n"
     ]
    },
    {
     "name": "stderr",
     "output_type": "stream",
     "text": [
      "C:\\Users\\casti\\AppData\\Local\\Temp\\ipykernel_31808\\3716661773.py:146: UserWarning: FixedFormatter should only be used together with FixedLocator\n",
      "  ax.set_xticklabels(model_outputs_ext_labels, rotation=60, ha='right')\n"
     ]
    },
    {
     "name": "stdout",
     "output_type": "stream",
     "text": [
      "Filter 109 / 128...\n"
     ]
    },
    {
     "name": "stderr",
     "output_type": "stream",
     "text": [
      "C:\\Users\\casti\\AppData\\Local\\Temp\\ipykernel_31808\\3716661773.py:146: UserWarning: FixedFormatter should only be used together with FixedLocator\n",
      "  ax.set_xticklabels(model_outputs_ext_labels, rotation=60, ha='right')\n"
     ]
    },
    {
     "name": "stdout",
     "output_type": "stream",
     "text": [
      "Filter 110 / 128...\n"
     ]
    },
    {
     "name": "stderr",
     "output_type": "stream",
     "text": [
      "C:\\Users\\casti\\AppData\\Local\\Temp\\ipykernel_31808\\3716661773.py:146: UserWarning: FixedFormatter should only be used together with FixedLocator\n",
      "  ax.set_xticklabels(model_outputs_ext_labels, rotation=60, ha='right')\n"
     ]
    },
    {
     "name": "stdout",
     "output_type": "stream",
     "text": [
      "Filter 111 / 128...\n"
     ]
    },
    {
     "name": "stderr",
     "output_type": "stream",
     "text": [
      "C:\\Users\\casti\\AppData\\Local\\Temp\\ipykernel_31808\\3716661773.py:146: UserWarning: FixedFormatter should only be used together with FixedLocator\n",
      "  ax.set_xticklabels(model_outputs_ext_labels, rotation=60, ha='right')\n"
     ]
    },
    {
     "name": "stdout",
     "output_type": "stream",
     "text": [
      "Filter 112 / 128...\n"
     ]
    },
    {
     "name": "stderr",
     "output_type": "stream",
     "text": [
      "C:\\Users\\casti\\AppData\\Local\\Temp\\ipykernel_31808\\3716661773.py:146: UserWarning: FixedFormatter should only be used together with FixedLocator\n",
      "  ax.set_xticklabels(model_outputs_ext_labels, rotation=60, ha='right')\n"
     ]
    },
    {
     "name": "stdout",
     "output_type": "stream",
     "text": [
      "Filter 113 / 128...\n"
     ]
    },
    {
     "name": "stderr",
     "output_type": "stream",
     "text": [
      "C:\\Users\\casti\\AppData\\Local\\Temp\\ipykernel_31808\\3716661773.py:146: UserWarning: FixedFormatter should only be used together with FixedLocator\n",
      "  ax.set_xticklabels(model_outputs_ext_labels, rotation=60, ha='right')\n"
     ]
    },
    {
     "name": "stdout",
     "output_type": "stream",
     "text": [
      "Filter 114 / 128...\n"
     ]
    },
    {
     "name": "stderr",
     "output_type": "stream",
     "text": [
      "C:\\Users\\casti\\AppData\\Local\\Temp\\ipykernel_31808\\3716661773.py:146: UserWarning: FixedFormatter should only be used together with FixedLocator\n",
      "  ax.set_xticklabels(model_outputs_ext_labels, rotation=60, ha='right')\n"
     ]
    },
    {
     "name": "stdout",
     "output_type": "stream",
     "text": [
      "Filter 115 / 128...\n"
     ]
    },
    {
     "name": "stderr",
     "output_type": "stream",
     "text": [
      "C:\\Users\\casti\\AppData\\Local\\Temp\\ipykernel_31808\\3716661773.py:146: UserWarning: FixedFormatter should only be used together with FixedLocator\n",
      "  ax.set_xticklabels(model_outputs_ext_labels, rotation=60, ha='right')\n"
     ]
    },
    {
     "name": "stdout",
     "output_type": "stream",
     "text": [
      "Filter 116 / 128...\n"
     ]
    },
    {
     "name": "stderr",
     "output_type": "stream",
     "text": [
      "C:\\Users\\casti\\AppData\\Local\\Temp\\ipykernel_31808\\3716661773.py:146: UserWarning: FixedFormatter should only be used together with FixedLocator\n",
      "  ax.set_xticklabels(model_outputs_ext_labels, rotation=60, ha='right')\n"
     ]
    },
    {
     "name": "stdout",
     "output_type": "stream",
     "text": [
      "Filter 117 / 128...\n"
     ]
    },
    {
     "name": "stderr",
     "output_type": "stream",
     "text": [
      "C:\\Users\\casti\\AppData\\Local\\Temp\\ipykernel_31808\\3716661773.py:146: UserWarning: FixedFormatter should only be used together with FixedLocator\n",
      "  ax.set_xticklabels(model_outputs_ext_labels, rotation=60, ha='right')\n"
     ]
    },
    {
     "name": "stdout",
     "output_type": "stream",
     "text": [
      "Filter 118 / 128...\n"
     ]
    },
    {
     "name": "stderr",
     "output_type": "stream",
     "text": [
      "C:\\Users\\casti\\AppData\\Local\\Temp\\ipykernel_31808\\3716661773.py:146: UserWarning: FixedFormatter should only be used together with FixedLocator\n",
      "  ax.set_xticklabels(model_outputs_ext_labels, rotation=60, ha='right')\n"
     ]
    },
    {
     "name": "stdout",
     "output_type": "stream",
     "text": [
      "Filter 119 / 128...\n"
     ]
    },
    {
     "name": "stderr",
     "output_type": "stream",
     "text": [
      "C:\\Users\\casti\\AppData\\Local\\Temp\\ipykernel_31808\\3716661773.py:146: UserWarning: FixedFormatter should only be used together with FixedLocator\n",
      "  ax.set_xticklabels(model_outputs_ext_labels, rotation=60, ha='right')\n"
     ]
    },
    {
     "name": "stdout",
     "output_type": "stream",
     "text": [
      "Filter 120 / 128...\n"
     ]
    },
    {
     "name": "stderr",
     "output_type": "stream",
     "text": [
      "C:\\Users\\casti\\AppData\\Local\\Temp\\ipykernel_31808\\3716661773.py:146: UserWarning: FixedFormatter should only be used together with FixedLocator\n",
      "  ax.set_xticklabels(model_outputs_ext_labels, rotation=60, ha='right')\n"
     ]
    },
    {
     "name": "stdout",
     "output_type": "stream",
     "text": [
      "Filter 121 / 128...\n"
     ]
    },
    {
     "name": "stderr",
     "output_type": "stream",
     "text": [
      "C:\\Users\\casti\\AppData\\Local\\Temp\\ipykernel_31808\\3716661773.py:146: UserWarning: FixedFormatter should only be used together with FixedLocator\n",
      "  ax.set_xticklabels(model_outputs_ext_labels, rotation=60, ha='right')\n"
     ]
    },
    {
     "name": "stdout",
     "output_type": "stream",
     "text": [
      "Filter 122 / 128...\n"
     ]
    },
    {
     "name": "stderr",
     "output_type": "stream",
     "text": [
      "C:\\Users\\casti\\AppData\\Local\\Temp\\ipykernel_31808\\3716661773.py:146: UserWarning: FixedFormatter should only be used together with FixedLocator\n",
      "  ax.set_xticklabels(model_outputs_ext_labels, rotation=60, ha='right')\n"
     ]
    },
    {
     "name": "stdout",
     "output_type": "stream",
     "text": [
      "Filter 123 / 128...\n"
     ]
    },
    {
     "name": "stderr",
     "output_type": "stream",
     "text": [
      "C:\\Users\\casti\\AppData\\Local\\Temp\\ipykernel_31808\\3716661773.py:146: UserWarning: FixedFormatter should only be used together with FixedLocator\n",
      "  ax.set_xticklabels(model_outputs_ext_labels, rotation=60, ha='right')\n"
     ]
    },
    {
     "name": "stdout",
     "output_type": "stream",
     "text": [
      "Filter 124 / 128...\n"
     ]
    },
    {
     "name": "stderr",
     "output_type": "stream",
     "text": [
      "C:\\Users\\casti\\AppData\\Local\\Temp\\ipykernel_31808\\3716661773.py:146: UserWarning: FixedFormatter should only be used together with FixedLocator\n",
      "  ax.set_xticklabels(model_outputs_ext_labels, rotation=60, ha='right')\n"
     ]
    },
    {
     "name": "stdout",
     "output_type": "stream",
     "text": [
      "Filter 125 / 128...\n"
     ]
    },
    {
     "name": "stderr",
     "output_type": "stream",
     "text": [
      "C:\\Users\\casti\\AppData\\Local\\Temp\\ipykernel_31808\\3716661773.py:146: UserWarning: FixedFormatter should only be used together with FixedLocator\n",
      "  ax.set_xticklabels(model_outputs_ext_labels, rotation=60, ha='right')\n"
     ]
    },
    {
     "name": "stdout",
     "output_type": "stream",
     "text": [
      "Filter 126 / 128...\n"
     ]
    },
    {
     "name": "stderr",
     "output_type": "stream",
     "text": [
      "C:\\Users\\casti\\AppData\\Local\\Temp\\ipykernel_31808\\3716661773.py:146: UserWarning: FixedFormatter should only be used together with FixedLocator\n",
      "  ax.set_xticklabels(model_outputs_ext_labels, rotation=60, ha='right')\n"
     ]
    },
    {
     "name": "stdout",
     "output_type": "stream",
     "text": [
      "Filter 127 / 128...\n"
     ]
    },
    {
     "name": "stderr",
     "output_type": "stream",
     "text": [
      "C:\\Users\\casti\\AppData\\Local\\Temp\\ipykernel_31808\\3716661773.py:146: UserWarning: FixedFormatter should only be used together with FixedLocator\n",
      "  ax.set_xticklabels(model_outputs_ext_labels, rotation=60, ha='right')\n"
     ]
    },
    {
     "name": "stdout",
     "output_type": "stream",
     "text": [
      "Saving meme file...\n",
      "Done with model 4.\n",
      "Processing model 5...\n",
      "Filter 0 / 128...\n"
     ]
    },
    {
     "name": "stderr",
     "output_type": "stream",
     "text": [
      "C:\\Users\\casti\\AppData\\Local\\Temp\\ipykernel_31808\\3716661773.py:146: UserWarning: FixedFormatter should only be used together with FixedLocator\n",
      "  ax.set_xticklabels(model_outputs_ext_labels, rotation=60, ha='right')\n"
     ]
    },
    {
     "name": "stdout",
     "output_type": "stream",
     "text": [
      "Filter 1 / 128...\n"
     ]
    },
    {
     "name": "stderr",
     "output_type": "stream",
     "text": [
      "C:\\Users\\casti\\AppData\\Local\\Temp\\ipykernel_31808\\3716661773.py:146: UserWarning: FixedFormatter should only be used together with FixedLocator\n",
      "  ax.set_xticklabels(model_outputs_ext_labels, rotation=60, ha='right')\n"
     ]
    },
    {
     "name": "stdout",
     "output_type": "stream",
     "text": [
      "Filter 2 / 128...\n"
     ]
    },
    {
     "name": "stderr",
     "output_type": "stream",
     "text": [
      "C:\\Users\\casti\\AppData\\Local\\Temp\\ipykernel_31808\\3716661773.py:146: UserWarning: FixedFormatter should only be used together with FixedLocator\n",
      "  ax.set_xticklabels(model_outputs_ext_labels, rotation=60, ha='right')\n"
     ]
    },
    {
     "name": "stdout",
     "output_type": "stream",
     "text": [
      "Filter 3 / 128...\n"
     ]
    },
    {
     "name": "stderr",
     "output_type": "stream",
     "text": [
      "C:\\Users\\casti\\AppData\\Local\\Temp\\ipykernel_31808\\3716661773.py:146: UserWarning: FixedFormatter should only be used together with FixedLocator\n",
      "  ax.set_xticklabels(model_outputs_ext_labels, rotation=60, ha='right')\n"
     ]
    },
    {
     "name": "stdout",
     "output_type": "stream",
     "text": [
      "Filter 4 / 128...\n"
     ]
    },
    {
     "name": "stderr",
     "output_type": "stream",
     "text": [
      "C:\\Users\\casti\\AppData\\Local\\Temp\\ipykernel_31808\\3716661773.py:146: UserWarning: FixedFormatter should only be used together with FixedLocator\n",
      "  ax.set_xticklabels(model_outputs_ext_labels, rotation=60, ha='right')\n"
     ]
    },
    {
     "name": "stdout",
     "output_type": "stream",
     "text": [
      "Filter 5 / 128...\n"
     ]
    },
    {
     "name": "stderr",
     "output_type": "stream",
     "text": [
      "C:\\Users\\casti\\AppData\\Local\\Temp\\ipykernel_31808\\3716661773.py:146: UserWarning: FixedFormatter should only be used together with FixedLocator\n",
      "  ax.set_xticklabels(model_outputs_ext_labels, rotation=60, ha='right')\n"
     ]
    },
    {
     "name": "stdout",
     "output_type": "stream",
     "text": [
      "Filter 6 / 128...\n"
     ]
    },
    {
     "name": "stderr",
     "output_type": "stream",
     "text": [
      "C:\\Users\\casti\\AppData\\Local\\Temp\\ipykernel_31808\\3716661773.py:146: UserWarning: FixedFormatter should only be used together with FixedLocator\n",
      "  ax.set_xticklabels(model_outputs_ext_labels, rotation=60, ha='right')\n"
     ]
    },
    {
     "name": "stdout",
     "output_type": "stream",
     "text": [
      "Filter 7 / 128...\n"
     ]
    },
    {
     "name": "stderr",
     "output_type": "stream",
     "text": [
      "C:\\Users\\casti\\AppData\\Local\\Temp\\ipykernel_31808\\3716661773.py:146: UserWarning: FixedFormatter should only be used together with FixedLocator\n",
      "  ax.set_xticklabels(model_outputs_ext_labels, rotation=60, ha='right')\n"
     ]
    },
    {
     "name": "stdout",
     "output_type": "stream",
     "text": [
      "Filter 8 / 128...\n"
     ]
    },
    {
     "name": "stderr",
     "output_type": "stream",
     "text": [
      "C:\\Users\\casti\\AppData\\Local\\Temp\\ipykernel_31808\\3716661773.py:146: UserWarning: FixedFormatter should only be used together with FixedLocator\n",
      "  ax.set_xticklabels(model_outputs_ext_labels, rotation=60, ha='right')\n"
     ]
    },
    {
     "name": "stdout",
     "output_type": "stream",
     "text": [
      "Filter 9 / 128...\n"
     ]
    },
    {
     "name": "stderr",
     "output_type": "stream",
     "text": [
      "C:\\Users\\casti\\AppData\\Local\\Temp\\ipykernel_31808\\3716661773.py:146: UserWarning: FixedFormatter should only be used together with FixedLocator\n",
      "  ax.set_xticklabels(model_outputs_ext_labels, rotation=60, ha='right')\n"
     ]
    },
    {
     "name": "stdout",
     "output_type": "stream",
     "text": [
      "Filter 10 / 128...\n"
     ]
    },
    {
     "name": "stderr",
     "output_type": "stream",
     "text": [
      "C:\\Users\\casti\\AppData\\Local\\Temp\\ipykernel_31808\\3716661773.py:146: UserWarning: FixedFormatter should only be used together with FixedLocator\n",
      "  ax.set_xticklabels(model_outputs_ext_labels, rotation=60, ha='right')\n"
     ]
    },
    {
     "name": "stdout",
     "output_type": "stream",
     "text": [
      "Filter 11 / 128...\n"
     ]
    },
    {
     "name": "stderr",
     "output_type": "stream",
     "text": [
      "C:\\Users\\casti\\AppData\\Local\\Temp\\ipykernel_31808\\3716661773.py:146: UserWarning: FixedFormatter should only be used together with FixedLocator\n",
      "  ax.set_xticklabels(model_outputs_ext_labels, rotation=60, ha='right')\n"
     ]
    },
    {
     "name": "stdout",
     "output_type": "stream",
     "text": [
      "Filter 12 / 128...\n"
     ]
    },
    {
     "name": "stderr",
     "output_type": "stream",
     "text": [
      "C:\\Users\\casti\\AppData\\Local\\Temp\\ipykernel_31808\\3716661773.py:146: UserWarning: FixedFormatter should only be used together with FixedLocator\n",
      "  ax.set_xticklabels(model_outputs_ext_labels, rotation=60, ha='right')\n"
     ]
    },
    {
     "name": "stdout",
     "output_type": "stream",
     "text": [
      "Filter 13 / 128...\n"
     ]
    },
    {
     "name": "stderr",
     "output_type": "stream",
     "text": [
      "C:\\Users\\casti\\AppData\\Local\\Temp\\ipykernel_31808\\3716661773.py:146: UserWarning: FixedFormatter should only be used together with FixedLocator\n",
      "  ax.set_xticklabels(model_outputs_ext_labels, rotation=60, ha='right')\n"
     ]
    },
    {
     "name": "stdout",
     "output_type": "stream",
     "text": [
      "Filter 14 / 128...\n"
     ]
    },
    {
     "name": "stderr",
     "output_type": "stream",
     "text": [
      "C:\\Users\\casti\\AppData\\Local\\Temp\\ipykernel_31808\\3716661773.py:146: UserWarning: FixedFormatter should only be used together with FixedLocator\n",
      "  ax.set_xticklabels(model_outputs_ext_labels, rotation=60, ha='right')\n"
     ]
    },
    {
     "name": "stdout",
     "output_type": "stream",
     "text": [
      "Filter 15 / 128...\n"
     ]
    },
    {
     "name": "stderr",
     "output_type": "stream",
     "text": [
      "C:\\Users\\casti\\AppData\\Local\\Temp\\ipykernel_31808\\3716661773.py:146: UserWarning: FixedFormatter should only be used together with FixedLocator\n",
      "  ax.set_xticklabels(model_outputs_ext_labels, rotation=60, ha='right')\n"
     ]
    },
    {
     "name": "stdout",
     "output_type": "stream",
     "text": [
      "Filter 16 / 128...\n"
     ]
    },
    {
     "name": "stderr",
     "output_type": "stream",
     "text": [
      "C:\\Users\\casti\\AppData\\Local\\Temp\\ipykernel_31808\\3716661773.py:146: UserWarning: FixedFormatter should only be used together with FixedLocator\n",
      "  ax.set_xticklabels(model_outputs_ext_labels, rotation=60, ha='right')\n"
     ]
    },
    {
     "name": "stdout",
     "output_type": "stream",
     "text": [
      "Filter 17 / 128...\n"
     ]
    },
    {
     "name": "stderr",
     "output_type": "stream",
     "text": [
      "C:\\Users\\casti\\AppData\\Local\\Temp\\ipykernel_31808\\3716661773.py:146: UserWarning: FixedFormatter should only be used together with FixedLocator\n",
      "  ax.set_xticklabels(model_outputs_ext_labels, rotation=60, ha='right')\n"
     ]
    },
    {
     "name": "stdout",
     "output_type": "stream",
     "text": [
      "Filter 18 / 128...\n"
     ]
    },
    {
     "name": "stderr",
     "output_type": "stream",
     "text": [
      "C:\\Users\\casti\\AppData\\Local\\Temp\\ipykernel_31808\\3716661773.py:146: UserWarning: FixedFormatter should only be used together with FixedLocator\n",
      "  ax.set_xticklabels(model_outputs_ext_labels, rotation=60, ha='right')\n"
     ]
    },
    {
     "name": "stdout",
     "output_type": "stream",
     "text": [
      "Filter 19 / 128...\n"
     ]
    },
    {
     "name": "stderr",
     "output_type": "stream",
     "text": [
      "C:\\Users\\casti\\AppData\\Local\\Temp\\ipykernel_31808\\3716661773.py:146: UserWarning: FixedFormatter should only be used together with FixedLocator\n",
      "  ax.set_xticklabels(model_outputs_ext_labels, rotation=60, ha='right')\n"
     ]
    },
    {
     "name": "stdout",
     "output_type": "stream",
     "text": [
      "Filter 20 / 128...\n"
     ]
    },
    {
     "name": "stderr",
     "output_type": "stream",
     "text": [
      "C:\\Users\\casti\\AppData\\Local\\Temp\\ipykernel_31808\\3716661773.py:146: UserWarning: FixedFormatter should only be used together with FixedLocator\n",
      "  ax.set_xticklabels(model_outputs_ext_labels, rotation=60, ha='right')\n"
     ]
    },
    {
     "name": "stdout",
     "output_type": "stream",
     "text": [
      "Filter 21 / 128...\n"
     ]
    },
    {
     "name": "stderr",
     "output_type": "stream",
     "text": [
      "C:\\Users\\casti\\AppData\\Local\\Temp\\ipykernel_31808\\3716661773.py:146: UserWarning: FixedFormatter should only be used together with FixedLocator\n",
      "  ax.set_xticklabels(model_outputs_ext_labels, rotation=60, ha='right')\n"
     ]
    },
    {
     "name": "stdout",
     "output_type": "stream",
     "text": [
      "Filter 22 / 128...\n"
     ]
    },
    {
     "name": "stderr",
     "output_type": "stream",
     "text": [
      "C:\\Users\\casti\\AppData\\Local\\Temp\\ipykernel_31808\\3716661773.py:146: UserWarning: FixedFormatter should only be used together with FixedLocator\n",
      "  ax.set_xticklabels(model_outputs_ext_labels, rotation=60, ha='right')\n"
     ]
    },
    {
     "name": "stdout",
     "output_type": "stream",
     "text": [
      "Filter 23 / 128...\n"
     ]
    },
    {
     "name": "stderr",
     "output_type": "stream",
     "text": [
      "C:\\Users\\casti\\AppData\\Local\\Temp\\ipykernel_31808\\3716661773.py:146: UserWarning: FixedFormatter should only be used together with FixedLocator\n",
      "  ax.set_xticklabels(model_outputs_ext_labels, rotation=60, ha='right')\n"
     ]
    },
    {
     "name": "stdout",
     "output_type": "stream",
     "text": [
      "Filter 24 / 128...\n"
     ]
    },
    {
     "name": "stderr",
     "output_type": "stream",
     "text": [
      "C:\\Users\\casti\\AppData\\Local\\Temp\\ipykernel_31808\\3716661773.py:146: UserWarning: FixedFormatter should only be used together with FixedLocator\n",
      "  ax.set_xticklabels(model_outputs_ext_labels, rotation=60, ha='right')\n"
     ]
    },
    {
     "name": "stdout",
     "output_type": "stream",
     "text": [
      "Filter 25 / 128...\n"
     ]
    },
    {
     "name": "stderr",
     "output_type": "stream",
     "text": [
      "C:\\Users\\casti\\AppData\\Local\\Temp\\ipykernel_31808\\3716661773.py:146: UserWarning: FixedFormatter should only be used together with FixedLocator\n",
      "  ax.set_xticklabels(model_outputs_ext_labels, rotation=60, ha='right')\n"
     ]
    },
    {
     "name": "stdout",
     "output_type": "stream",
     "text": [
      "Filter 26 / 128...\n"
     ]
    },
    {
     "name": "stderr",
     "output_type": "stream",
     "text": [
      "C:\\Users\\casti\\AppData\\Local\\Temp\\ipykernel_31808\\3716661773.py:146: UserWarning: FixedFormatter should only be used together with FixedLocator\n",
      "  ax.set_xticklabels(model_outputs_ext_labels, rotation=60, ha='right')\n"
     ]
    },
    {
     "name": "stdout",
     "output_type": "stream",
     "text": [
      "Filter 27 / 128...\n"
     ]
    },
    {
     "name": "stderr",
     "output_type": "stream",
     "text": [
      "C:\\Users\\casti\\AppData\\Local\\Temp\\ipykernel_31808\\3716661773.py:146: UserWarning: FixedFormatter should only be used together with FixedLocator\n",
      "  ax.set_xticklabels(model_outputs_ext_labels, rotation=60, ha='right')\n"
     ]
    },
    {
     "name": "stdout",
     "output_type": "stream",
     "text": [
      "Filter 28 / 128...\n"
     ]
    },
    {
     "name": "stderr",
     "output_type": "stream",
     "text": [
      "C:\\Users\\casti\\AppData\\Local\\Temp\\ipykernel_31808\\3716661773.py:146: UserWarning: FixedFormatter should only be used together with FixedLocator\n",
      "  ax.set_xticklabels(model_outputs_ext_labels, rotation=60, ha='right')\n"
     ]
    },
    {
     "name": "stdout",
     "output_type": "stream",
     "text": [
      "Filter 29 / 128...\n"
     ]
    },
    {
     "name": "stderr",
     "output_type": "stream",
     "text": [
      "C:\\Users\\casti\\AppData\\Local\\Temp\\ipykernel_31808\\3716661773.py:146: UserWarning: FixedFormatter should only be used together with FixedLocator\n",
      "  ax.set_xticklabels(model_outputs_ext_labels, rotation=60, ha='right')\n"
     ]
    },
    {
     "name": "stdout",
     "output_type": "stream",
     "text": [
      "Filter 30 / 128...\n"
     ]
    },
    {
     "name": "stderr",
     "output_type": "stream",
     "text": [
      "C:\\Users\\casti\\AppData\\Local\\Temp\\ipykernel_31808\\3716661773.py:146: UserWarning: FixedFormatter should only be used together with FixedLocator\n",
      "  ax.set_xticklabels(model_outputs_ext_labels, rotation=60, ha='right')\n"
     ]
    },
    {
     "name": "stdout",
     "output_type": "stream",
     "text": [
      "Filter 31 / 128...\n"
     ]
    },
    {
     "name": "stderr",
     "output_type": "stream",
     "text": [
      "C:\\Users\\casti\\AppData\\Local\\Temp\\ipykernel_31808\\3716661773.py:146: UserWarning: FixedFormatter should only be used together with FixedLocator\n",
      "  ax.set_xticklabels(model_outputs_ext_labels, rotation=60, ha='right')\n"
     ]
    },
    {
     "name": "stdout",
     "output_type": "stream",
     "text": [
      "Filter 32 / 128...\n"
     ]
    },
    {
     "name": "stderr",
     "output_type": "stream",
     "text": [
      "C:\\Users\\casti\\AppData\\Local\\Temp\\ipykernel_31808\\3716661773.py:146: UserWarning: FixedFormatter should only be used together with FixedLocator\n",
      "  ax.set_xticklabels(model_outputs_ext_labels, rotation=60, ha='right')\n"
     ]
    },
    {
     "name": "stdout",
     "output_type": "stream",
     "text": [
      "Filter 33 / 128...\n"
     ]
    },
    {
     "name": "stderr",
     "output_type": "stream",
     "text": [
      "C:\\Users\\casti\\AppData\\Local\\Temp\\ipykernel_31808\\3716661773.py:146: UserWarning: FixedFormatter should only be used together with FixedLocator\n",
      "  ax.set_xticklabels(model_outputs_ext_labels, rotation=60, ha='right')\n"
     ]
    },
    {
     "name": "stdout",
     "output_type": "stream",
     "text": [
      "Filter 34 / 128...\n"
     ]
    },
    {
     "name": "stderr",
     "output_type": "stream",
     "text": [
      "C:\\Users\\casti\\AppData\\Local\\Temp\\ipykernel_31808\\3716661773.py:146: UserWarning: FixedFormatter should only be used together with FixedLocator\n",
      "  ax.set_xticklabels(model_outputs_ext_labels, rotation=60, ha='right')\n"
     ]
    },
    {
     "name": "stdout",
     "output_type": "stream",
     "text": [
      "Filter 35 / 128...\n"
     ]
    },
    {
     "name": "stderr",
     "output_type": "stream",
     "text": [
      "C:\\Users\\casti\\AppData\\Local\\Temp\\ipykernel_31808\\3716661773.py:146: UserWarning: FixedFormatter should only be used together with FixedLocator\n",
      "  ax.set_xticklabels(model_outputs_ext_labels, rotation=60, ha='right')\n"
     ]
    },
    {
     "name": "stdout",
     "output_type": "stream",
     "text": [
      "Filter 36 / 128...\n"
     ]
    },
    {
     "name": "stderr",
     "output_type": "stream",
     "text": [
      "C:\\Users\\casti\\AppData\\Local\\Temp\\ipykernel_31808\\3716661773.py:146: UserWarning: FixedFormatter should only be used together with FixedLocator\n",
      "  ax.set_xticklabels(model_outputs_ext_labels, rotation=60, ha='right')\n"
     ]
    },
    {
     "name": "stdout",
     "output_type": "stream",
     "text": [
      "Filter 37 / 128...\n"
     ]
    },
    {
     "name": "stderr",
     "output_type": "stream",
     "text": [
      "C:\\Users\\casti\\AppData\\Local\\Temp\\ipykernel_31808\\3716661773.py:146: UserWarning: FixedFormatter should only be used together with FixedLocator\n",
      "  ax.set_xticklabels(model_outputs_ext_labels, rotation=60, ha='right')\n"
     ]
    },
    {
     "name": "stdout",
     "output_type": "stream",
     "text": [
      "Filter 38 / 128...\n"
     ]
    },
    {
     "name": "stderr",
     "output_type": "stream",
     "text": [
      "C:\\Users\\casti\\AppData\\Local\\Temp\\ipykernel_31808\\3716661773.py:146: UserWarning: FixedFormatter should only be used together with FixedLocator\n",
      "  ax.set_xticklabels(model_outputs_ext_labels, rotation=60, ha='right')\n"
     ]
    },
    {
     "name": "stdout",
     "output_type": "stream",
     "text": [
      "Filter 39 / 128...\n"
     ]
    },
    {
     "name": "stderr",
     "output_type": "stream",
     "text": [
      "C:\\Users\\casti\\AppData\\Local\\Temp\\ipykernel_31808\\3716661773.py:146: UserWarning: FixedFormatter should only be used together with FixedLocator\n",
      "  ax.set_xticklabels(model_outputs_ext_labels, rotation=60, ha='right')\n"
     ]
    },
    {
     "name": "stdout",
     "output_type": "stream",
     "text": [
      "Filter 40 / 128...\n"
     ]
    },
    {
     "name": "stderr",
     "output_type": "stream",
     "text": [
      "C:\\Users\\casti\\AppData\\Local\\Temp\\ipykernel_31808\\3716661773.py:146: UserWarning: FixedFormatter should only be used together with FixedLocator\n",
      "  ax.set_xticklabels(model_outputs_ext_labels, rotation=60, ha='right')\n"
     ]
    },
    {
     "name": "stdout",
     "output_type": "stream",
     "text": [
      "Filter 41 / 128...\n"
     ]
    },
    {
     "name": "stderr",
     "output_type": "stream",
     "text": [
      "C:\\Users\\casti\\AppData\\Local\\Temp\\ipykernel_31808\\3716661773.py:146: UserWarning: FixedFormatter should only be used together with FixedLocator\n",
      "  ax.set_xticklabels(model_outputs_ext_labels, rotation=60, ha='right')\n"
     ]
    },
    {
     "name": "stdout",
     "output_type": "stream",
     "text": [
      "Filter 42 / 128...\n"
     ]
    },
    {
     "name": "stderr",
     "output_type": "stream",
     "text": [
      "C:\\Users\\casti\\AppData\\Local\\Temp\\ipykernel_31808\\3716661773.py:146: UserWarning: FixedFormatter should only be used together with FixedLocator\n",
      "  ax.set_xticklabels(model_outputs_ext_labels, rotation=60, ha='right')\n"
     ]
    },
    {
     "name": "stdout",
     "output_type": "stream",
     "text": [
      "Filter 43 / 128...\n"
     ]
    },
    {
     "name": "stderr",
     "output_type": "stream",
     "text": [
      "C:\\Users\\casti\\AppData\\Local\\Temp\\ipykernel_31808\\3716661773.py:146: UserWarning: FixedFormatter should only be used together with FixedLocator\n",
      "  ax.set_xticklabels(model_outputs_ext_labels, rotation=60, ha='right')\n"
     ]
    },
    {
     "name": "stdout",
     "output_type": "stream",
     "text": [
      "Filter 44 / 128...\n"
     ]
    },
    {
     "name": "stderr",
     "output_type": "stream",
     "text": [
      "C:\\Users\\casti\\AppData\\Local\\Temp\\ipykernel_31808\\3716661773.py:146: UserWarning: FixedFormatter should only be used together with FixedLocator\n",
      "  ax.set_xticklabels(model_outputs_ext_labels, rotation=60, ha='right')\n"
     ]
    },
    {
     "name": "stdout",
     "output_type": "stream",
     "text": [
      "Filter 45 / 128...\n"
     ]
    },
    {
     "name": "stderr",
     "output_type": "stream",
     "text": [
      "C:\\Users\\casti\\AppData\\Local\\Temp\\ipykernel_31808\\3716661773.py:146: UserWarning: FixedFormatter should only be used together with FixedLocator\n",
      "  ax.set_xticklabels(model_outputs_ext_labels, rotation=60, ha='right')\n"
     ]
    },
    {
     "name": "stdout",
     "output_type": "stream",
     "text": [
      "Filter 46 / 128...\n"
     ]
    },
    {
     "name": "stderr",
     "output_type": "stream",
     "text": [
      "C:\\Users\\casti\\AppData\\Local\\Temp\\ipykernel_31808\\3716661773.py:146: UserWarning: FixedFormatter should only be used together with FixedLocator\n",
      "  ax.set_xticklabels(model_outputs_ext_labels, rotation=60, ha='right')\n"
     ]
    },
    {
     "name": "stdout",
     "output_type": "stream",
     "text": [
      "Filter 47 / 128...\n"
     ]
    },
    {
     "name": "stderr",
     "output_type": "stream",
     "text": [
      "C:\\Users\\casti\\AppData\\Local\\Temp\\ipykernel_31808\\3716661773.py:146: UserWarning: FixedFormatter should only be used together with FixedLocator\n",
      "  ax.set_xticklabels(model_outputs_ext_labels, rotation=60, ha='right')\n"
     ]
    },
    {
     "name": "stdout",
     "output_type": "stream",
     "text": [
      "Filter 48 / 128...\n"
     ]
    },
    {
     "name": "stderr",
     "output_type": "stream",
     "text": [
      "C:\\Users\\casti\\AppData\\Local\\Temp\\ipykernel_31808\\3716661773.py:146: UserWarning: FixedFormatter should only be used together with FixedLocator\n",
      "  ax.set_xticklabels(model_outputs_ext_labels, rotation=60, ha='right')\n"
     ]
    },
    {
     "name": "stdout",
     "output_type": "stream",
     "text": [
      "Filter 49 / 128...\n"
     ]
    },
    {
     "name": "stderr",
     "output_type": "stream",
     "text": [
      "C:\\Users\\casti\\AppData\\Local\\Temp\\ipykernel_31808\\3716661773.py:146: UserWarning: FixedFormatter should only be used together with FixedLocator\n",
      "  ax.set_xticklabels(model_outputs_ext_labels, rotation=60, ha='right')\n"
     ]
    },
    {
     "name": "stdout",
     "output_type": "stream",
     "text": [
      "Filter 50 / 128...\n"
     ]
    },
    {
     "name": "stderr",
     "output_type": "stream",
     "text": [
      "C:\\Users\\casti\\AppData\\Local\\Temp\\ipykernel_31808\\3716661773.py:146: UserWarning: FixedFormatter should only be used together with FixedLocator\n",
      "  ax.set_xticklabels(model_outputs_ext_labels, rotation=60, ha='right')\n"
     ]
    },
    {
     "name": "stdout",
     "output_type": "stream",
     "text": [
      "Filter 51 / 128...\n"
     ]
    },
    {
     "name": "stderr",
     "output_type": "stream",
     "text": [
      "C:\\Users\\casti\\AppData\\Local\\Temp\\ipykernel_31808\\3716661773.py:146: UserWarning: FixedFormatter should only be used together with FixedLocator\n",
      "  ax.set_xticklabels(model_outputs_ext_labels, rotation=60, ha='right')\n"
     ]
    },
    {
     "name": "stdout",
     "output_type": "stream",
     "text": [
      "Filter 52 / 128...\n"
     ]
    },
    {
     "name": "stderr",
     "output_type": "stream",
     "text": [
      "C:\\Users\\casti\\AppData\\Local\\Temp\\ipykernel_31808\\3716661773.py:146: UserWarning: FixedFormatter should only be used together with FixedLocator\n",
      "  ax.set_xticklabels(model_outputs_ext_labels, rotation=60, ha='right')\n"
     ]
    },
    {
     "name": "stdout",
     "output_type": "stream",
     "text": [
      "Filter 53 / 128...\n"
     ]
    },
    {
     "name": "stderr",
     "output_type": "stream",
     "text": [
      "C:\\Users\\casti\\AppData\\Local\\Temp\\ipykernel_31808\\3716661773.py:146: UserWarning: FixedFormatter should only be used together with FixedLocator\n",
      "  ax.set_xticklabels(model_outputs_ext_labels, rotation=60, ha='right')\n"
     ]
    },
    {
     "name": "stdout",
     "output_type": "stream",
     "text": [
      "Filter 54 / 128...\n"
     ]
    },
    {
     "name": "stderr",
     "output_type": "stream",
     "text": [
      "C:\\Users\\casti\\AppData\\Local\\Temp\\ipykernel_31808\\3716661773.py:146: UserWarning: FixedFormatter should only be used together with FixedLocator\n",
      "  ax.set_xticklabels(model_outputs_ext_labels, rotation=60, ha='right')\n"
     ]
    },
    {
     "name": "stdout",
     "output_type": "stream",
     "text": [
      "Filter 55 / 128...\n"
     ]
    },
    {
     "name": "stderr",
     "output_type": "stream",
     "text": [
      "C:\\Users\\casti\\AppData\\Local\\Temp\\ipykernel_31808\\3716661773.py:146: UserWarning: FixedFormatter should only be used together with FixedLocator\n",
      "  ax.set_xticklabels(model_outputs_ext_labels, rotation=60, ha='right')\n"
     ]
    },
    {
     "name": "stdout",
     "output_type": "stream",
     "text": [
      "Filter 56 / 128...\n"
     ]
    },
    {
     "name": "stderr",
     "output_type": "stream",
     "text": [
      "C:\\Users\\casti\\AppData\\Local\\Temp\\ipykernel_31808\\3716661773.py:146: UserWarning: FixedFormatter should only be used together with FixedLocator\n",
      "  ax.set_xticklabels(model_outputs_ext_labels, rotation=60, ha='right')\n"
     ]
    },
    {
     "name": "stdout",
     "output_type": "stream",
     "text": [
      "Filter 57 / 128...\n"
     ]
    },
    {
     "name": "stderr",
     "output_type": "stream",
     "text": [
      "C:\\Users\\casti\\AppData\\Local\\Temp\\ipykernel_31808\\3716661773.py:146: UserWarning: FixedFormatter should only be used together with FixedLocator\n",
      "  ax.set_xticklabels(model_outputs_ext_labels, rotation=60, ha='right')\n"
     ]
    },
    {
     "name": "stdout",
     "output_type": "stream",
     "text": [
      "Filter 58 / 128...\n"
     ]
    },
    {
     "name": "stderr",
     "output_type": "stream",
     "text": [
      "C:\\Users\\casti\\AppData\\Local\\Temp\\ipykernel_31808\\3716661773.py:146: UserWarning: FixedFormatter should only be used together with FixedLocator\n",
      "  ax.set_xticklabels(model_outputs_ext_labels, rotation=60, ha='right')\n"
     ]
    },
    {
     "name": "stdout",
     "output_type": "stream",
     "text": [
      "Filter 59 / 128...\n"
     ]
    },
    {
     "name": "stderr",
     "output_type": "stream",
     "text": [
      "C:\\Users\\casti\\AppData\\Local\\Temp\\ipykernel_31808\\3716661773.py:146: UserWarning: FixedFormatter should only be used together with FixedLocator\n",
      "  ax.set_xticklabels(model_outputs_ext_labels, rotation=60, ha='right')\n"
     ]
    },
    {
     "name": "stdout",
     "output_type": "stream",
     "text": [
      "Filter 60 / 128...\n"
     ]
    },
    {
     "name": "stderr",
     "output_type": "stream",
     "text": [
      "C:\\Users\\casti\\AppData\\Local\\Temp\\ipykernel_31808\\3716661773.py:146: UserWarning: FixedFormatter should only be used together with FixedLocator\n",
      "  ax.set_xticklabels(model_outputs_ext_labels, rotation=60, ha='right')\n"
     ]
    },
    {
     "name": "stdout",
     "output_type": "stream",
     "text": [
      "Filter 61 / 128...\n"
     ]
    },
    {
     "name": "stderr",
     "output_type": "stream",
     "text": [
      "C:\\Users\\casti\\AppData\\Local\\Temp\\ipykernel_31808\\3716661773.py:146: UserWarning: FixedFormatter should only be used together with FixedLocator\n",
      "  ax.set_xticklabels(model_outputs_ext_labels, rotation=60, ha='right')\n"
     ]
    },
    {
     "name": "stdout",
     "output_type": "stream",
     "text": [
      "Filter 62 / 128...\n"
     ]
    },
    {
     "name": "stderr",
     "output_type": "stream",
     "text": [
      "C:\\Users\\casti\\AppData\\Local\\Temp\\ipykernel_31808\\3716661773.py:146: UserWarning: FixedFormatter should only be used together with FixedLocator\n",
      "  ax.set_xticklabels(model_outputs_ext_labels, rotation=60, ha='right')\n"
     ]
    },
    {
     "name": "stdout",
     "output_type": "stream",
     "text": [
      "Filter 63 / 128...\n"
     ]
    },
    {
     "name": "stderr",
     "output_type": "stream",
     "text": [
      "C:\\Users\\casti\\AppData\\Local\\Temp\\ipykernel_31808\\3716661773.py:146: UserWarning: FixedFormatter should only be used together with FixedLocator\n",
      "  ax.set_xticklabels(model_outputs_ext_labels, rotation=60, ha='right')\n"
     ]
    },
    {
     "name": "stdout",
     "output_type": "stream",
     "text": [
      "Filter 64 / 128...\n"
     ]
    },
    {
     "name": "stderr",
     "output_type": "stream",
     "text": [
      "C:\\Users\\casti\\AppData\\Local\\Temp\\ipykernel_31808\\3716661773.py:146: UserWarning: FixedFormatter should only be used together with FixedLocator\n",
      "  ax.set_xticklabels(model_outputs_ext_labels, rotation=60, ha='right')\n"
     ]
    },
    {
     "name": "stdout",
     "output_type": "stream",
     "text": [
      "Filter 65 / 128...\n"
     ]
    },
    {
     "name": "stderr",
     "output_type": "stream",
     "text": [
      "C:\\Users\\casti\\AppData\\Local\\Temp\\ipykernel_31808\\3716661773.py:146: UserWarning: FixedFormatter should only be used together with FixedLocator\n",
      "  ax.set_xticklabels(model_outputs_ext_labels, rotation=60, ha='right')\n"
     ]
    },
    {
     "name": "stdout",
     "output_type": "stream",
     "text": [
      "Filter 66 / 128...\n"
     ]
    },
    {
     "name": "stderr",
     "output_type": "stream",
     "text": [
      "C:\\Users\\casti\\AppData\\Local\\Temp\\ipykernel_31808\\3716661773.py:146: UserWarning: FixedFormatter should only be used together with FixedLocator\n",
      "  ax.set_xticklabels(model_outputs_ext_labels, rotation=60, ha='right')\n"
     ]
    },
    {
     "name": "stdout",
     "output_type": "stream",
     "text": [
      "Filter 67 / 128...\n"
     ]
    },
    {
     "name": "stderr",
     "output_type": "stream",
     "text": [
      "C:\\Users\\casti\\AppData\\Local\\Temp\\ipykernel_31808\\3716661773.py:146: UserWarning: FixedFormatter should only be used together with FixedLocator\n",
      "  ax.set_xticklabels(model_outputs_ext_labels, rotation=60, ha='right')\n"
     ]
    },
    {
     "name": "stdout",
     "output_type": "stream",
     "text": [
      "Filter 68 / 128...\n"
     ]
    },
    {
     "name": "stderr",
     "output_type": "stream",
     "text": [
      "C:\\Users\\casti\\AppData\\Local\\Temp\\ipykernel_31808\\3716661773.py:146: UserWarning: FixedFormatter should only be used together with FixedLocator\n",
      "  ax.set_xticklabels(model_outputs_ext_labels, rotation=60, ha='right')\n"
     ]
    },
    {
     "name": "stdout",
     "output_type": "stream",
     "text": [
      "Filter 69 / 128...\n"
     ]
    },
    {
     "name": "stderr",
     "output_type": "stream",
     "text": [
      "C:\\Users\\casti\\AppData\\Local\\Temp\\ipykernel_31808\\3716661773.py:146: UserWarning: FixedFormatter should only be used together with FixedLocator\n",
      "  ax.set_xticklabels(model_outputs_ext_labels, rotation=60, ha='right')\n"
     ]
    },
    {
     "name": "stdout",
     "output_type": "stream",
     "text": [
      "Filter 70 / 128...\n"
     ]
    },
    {
     "name": "stderr",
     "output_type": "stream",
     "text": [
      "C:\\Users\\casti\\AppData\\Local\\Temp\\ipykernel_31808\\3716661773.py:146: UserWarning: FixedFormatter should only be used together with FixedLocator\n",
      "  ax.set_xticklabels(model_outputs_ext_labels, rotation=60, ha='right')\n"
     ]
    },
    {
     "name": "stdout",
     "output_type": "stream",
     "text": [
      "Filter 71 / 128...\n"
     ]
    },
    {
     "name": "stderr",
     "output_type": "stream",
     "text": [
      "C:\\Users\\casti\\AppData\\Local\\Temp\\ipykernel_31808\\3716661773.py:146: UserWarning: FixedFormatter should only be used together with FixedLocator\n",
      "  ax.set_xticklabels(model_outputs_ext_labels, rotation=60, ha='right')\n"
     ]
    },
    {
     "name": "stdout",
     "output_type": "stream",
     "text": [
      "Filter 72 / 128...\n"
     ]
    },
    {
     "name": "stderr",
     "output_type": "stream",
     "text": [
      "C:\\Users\\casti\\AppData\\Local\\Temp\\ipykernel_31808\\3716661773.py:146: UserWarning: FixedFormatter should only be used together with FixedLocator\n",
      "  ax.set_xticklabels(model_outputs_ext_labels, rotation=60, ha='right')\n"
     ]
    },
    {
     "name": "stdout",
     "output_type": "stream",
     "text": [
      "Filter 73 / 128...\n"
     ]
    },
    {
     "name": "stderr",
     "output_type": "stream",
     "text": [
      "C:\\Users\\casti\\AppData\\Local\\Temp\\ipykernel_31808\\3716661773.py:146: UserWarning: FixedFormatter should only be used together with FixedLocator\n",
      "  ax.set_xticklabels(model_outputs_ext_labels, rotation=60, ha='right')\n"
     ]
    },
    {
     "name": "stdout",
     "output_type": "stream",
     "text": [
      "Filter 74 / 128...\n"
     ]
    },
    {
     "name": "stderr",
     "output_type": "stream",
     "text": [
      "C:\\Users\\casti\\AppData\\Local\\Temp\\ipykernel_31808\\3716661773.py:146: UserWarning: FixedFormatter should only be used together with FixedLocator\n",
      "  ax.set_xticklabels(model_outputs_ext_labels, rotation=60, ha='right')\n"
     ]
    },
    {
     "name": "stdout",
     "output_type": "stream",
     "text": [
      "Filter 75 / 128...\n"
     ]
    },
    {
     "name": "stderr",
     "output_type": "stream",
     "text": [
      "C:\\Users\\casti\\AppData\\Local\\Temp\\ipykernel_31808\\3716661773.py:146: UserWarning: FixedFormatter should only be used together with FixedLocator\n",
      "  ax.set_xticklabels(model_outputs_ext_labels, rotation=60, ha='right')\n"
     ]
    },
    {
     "name": "stdout",
     "output_type": "stream",
     "text": [
      "Filter 76 / 128...\n"
     ]
    },
    {
     "name": "stderr",
     "output_type": "stream",
     "text": [
      "C:\\Users\\casti\\AppData\\Local\\Temp\\ipykernel_31808\\3716661773.py:146: UserWarning: FixedFormatter should only be used together with FixedLocator\n",
      "  ax.set_xticklabels(model_outputs_ext_labels, rotation=60, ha='right')\n"
     ]
    },
    {
     "name": "stdout",
     "output_type": "stream",
     "text": [
      "Filter 77 / 128...\n",
      "Filter 78 / 128...\n"
     ]
    },
    {
     "name": "stderr",
     "output_type": "stream",
     "text": [
      "C:\\Users\\casti\\AppData\\Local\\Temp\\ipykernel_31808\\3716661773.py:146: UserWarning: FixedFormatter should only be used together with FixedLocator\n",
      "  ax.set_xticklabels(model_outputs_ext_labels, rotation=60, ha='right')\n"
     ]
    },
    {
     "name": "stdout",
     "output_type": "stream",
     "text": [
      "Filter 79 / 128...\n"
     ]
    },
    {
     "name": "stderr",
     "output_type": "stream",
     "text": [
      "C:\\Users\\casti\\AppData\\Local\\Temp\\ipykernel_31808\\3716661773.py:146: UserWarning: FixedFormatter should only be used together with FixedLocator\n",
      "  ax.set_xticklabels(model_outputs_ext_labels, rotation=60, ha='right')\n"
     ]
    },
    {
     "name": "stdout",
     "output_type": "stream",
     "text": [
      "Filter 80 / 128...\n"
     ]
    },
    {
     "name": "stderr",
     "output_type": "stream",
     "text": [
      "C:\\Users\\casti\\AppData\\Local\\Temp\\ipykernel_31808\\3716661773.py:146: UserWarning: FixedFormatter should only be used together with FixedLocator\n",
      "  ax.set_xticklabels(model_outputs_ext_labels, rotation=60, ha='right')\n"
     ]
    },
    {
     "name": "stdout",
     "output_type": "stream",
     "text": [
      "Filter 81 / 128...\n"
     ]
    },
    {
     "name": "stderr",
     "output_type": "stream",
     "text": [
      "C:\\Users\\casti\\AppData\\Local\\Temp\\ipykernel_31808\\3716661773.py:146: UserWarning: FixedFormatter should only be used together with FixedLocator\n",
      "  ax.set_xticklabels(model_outputs_ext_labels, rotation=60, ha='right')\n"
     ]
    },
    {
     "name": "stdout",
     "output_type": "stream",
     "text": [
      "Filter 82 / 128...\n"
     ]
    },
    {
     "name": "stderr",
     "output_type": "stream",
     "text": [
      "C:\\Users\\casti\\AppData\\Local\\Temp\\ipykernel_31808\\3716661773.py:146: UserWarning: FixedFormatter should only be used together with FixedLocator\n",
      "  ax.set_xticklabels(model_outputs_ext_labels, rotation=60, ha='right')\n"
     ]
    },
    {
     "name": "stdout",
     "output_type": "stream",
     "text": [
      "Filter 83 / 128...\n"
     ]
    },
    {
     "name": "stderr",
     "output_type": "stream",
     "text": [
      "C:\\Users\\casti\\AppData\\Local\\Temp\\ipykernel_31808\\3716661773.py:146: UserWarning: FixedFormatter should only be used together with FixedLocator\n",
      "  ax.set_xticklabels(model_outputs_ext_labels, rotation=60, ha='right')\n"
     ]
    },
    {
     "name": "stdout",
     "output_type": "stream",
     "text": [
      "Filter 84 / 128...\n"
     ]
    },
    {
     "name": "stderr",
     "output_type": "stream",
     "text": [
      "C:\\Users\\casti\\AppData\\Local\\Temp\\ipykernel_31808\\3716661773.py:146: UserWarning: FixedFormatter should only be used together with FixedLocator\n",
      "  ax.set_xticklabels(model_outputs_ext_labels, rotation=60, ha='right')\n"
     ]
    },
    {
     "name": "stdout",
     "output_type": "stream",
     "text": [
      "Filter 85 / 128...\n"
     ]
    },
    {
     "name": "stderr",
     "output_type": "stream",
     "text": [
      "C:\\Users\\casti\\AppData\\Local\\Temp\\ipykernel_31808\\3716661773.py:146: UserWarning: FixedFormatter should only be used together with FixedLocator\n",
      "  ax.set_xticklabels(model_outputs_ext_labels, rotation=60, ha='right')\n"
     ]
    },
    {
     "name": "stdout",
     "output_type": "stream",
     "text": [
      "Filter 86 / 128...\n"
     ]
    },
    {
     "name": "stderr",
     "output_type": "stream",
     "text": [
      "C:\\Users\\casti\\AppData\\Local\\Temp\\ipykernel_31808\\3716661773.py:146: UserWarning: FixedFormatter should only be used together with FixedLocator\n",
      "  ax.set_xticklabels(model_outputs_ext_labels, rotation=60, ha='right')\n"
     ]
    },
    {
     "name": "stdout",
     "output_type": "stream",
     "text": [
      "Filter 87 / 128...\n"
     ]
    },
    {
     "name": "stderr",
     "output_type": "stream",
     "text": [
      "C:\\Users\\casti\\AppData\\Local\\Temp\\ipykernel_31808\\3716661773.py:146: UserWarning: FixedFormatter should only be used together with FixedLocator\n",
      "  ax.set_xticklabels(model_outputs_ext_labels, rotation=60, ha='right')\n"
     ]
    },
    {
     "name": "stdout",
     "output_type": "stream",
     "text": [
      "Filter 88 / 128...\n"
     ]
    },
    {
     "name": "stderr",
     "output_type": "stream",
     "text": [
      "C:\\Users\\casti\\AppData\\Local\\Temp\\ipykernel_31808\\3716661773.py:146: UserWarning: FixedFormatter should only be used together with FixedLocator\n",
      "  ax.set_xticklabels(model_outputs_ext_labels, rotation=60, ha='right')\n"
     ]
    },
    {
     "name": "stdout",
     "output_type": "stream",
     "text": [
      "Filter 89 / 128...\n"
     ]
    },
    {
     "name": "stderr",
     "output_type": "stream",
     "text": [
      "C:\\Users\\casti\\AppData\\Local\\Temp\\ipykernel_31808\\3716661773.py:146: UserWarning: FixedFormatter should only be used together with FixedLocator\n",
      "  ax.set_xticklabels(model_outputs_ext_labels, rotation=60, ha='right')\n"
     ]
    },
    {
     "name": "stdout",
     "output_type": "stream",
     "text": [
      "Filter 90 / 128...\n"
     ]
    },
    {
     "name": "stderr",
     "output_type": "stream",
     "text": [
      "C:\\Users\\casti\\AppData\\Local\\Temp\\ipykernel_31808\\3716661773.py:146: UserWarning: FixedFormatter should only be used together with FixedLocator\n",
      "  ax.set_xticklabels(model_outputs_ext_labels, rotation=60, ha='right')\n"
     ]
    },
    {
     "name": "stdout",
     "output_type": "stream",
     "text": [
      "Filter 91 / 128...\n"
     ]
    },
    {
     "name": "stderr",
     "output_type": "stream",
     "text": [
      "C:\\Users\\casti\\AppData\\Local\\Temp\\ipykernel_31808\\3716661773.py:146: UserWarning: FixedFormatter should only be used together with FixedLocator\n",
      "  ax.set_xticklabels(model_outputs_ext_labels, rotation=60, ha='right')\n"
     ]
    },
    {
     "name": "stdout",
     "output_type": "stream",
     "text": [
      "Filter 92 / 128...\n"
     ]
    },
    {
     "name": "stderr",
     "output_type": "stream",
     "text": [
      "C:\\Users\\casti\\AppData\\Local\\Temp\\ipykernel_31808\\3716661773.py:146: UserWarning: FixedFormatter should only be used together with FixedLocator\n",
      "  ax.set_xticklabels(model_outputs_ext_labels, rotation=60, ha='right')\n"
     ]
    },
    {
     "name": "stdout",
     "output_type": "stream",
     "text": [
      "Filter 93 / 128...\n"
     ]
    },
    {
     "name": "stderr",
     "output_type": "stream",
     "text": [
      "C:\\Users\\casti\\AppData\\Local\\Temp\\ipykernel_31808\\3716661773.py:146: UserWarning: FixedFormatter should only be used together with FixedLocator\n",
      "  ax.set_xticklabels(model_outputs_ext_labels, rotation=60, ha='right')\n"
     ]
    },
    {
     "name": "stdout",
     "output_type": "stream",
     "text": [
      "Filter 94 / 128...\n"
     ]
    },
    {
     "name": "stderr",
     "output_type": "stream",
     "text": [
      "C:\\Users\\casti\\AppData\\Local\\Temp\\ipykernel_31808\\3716661773.py:146: UserWarning: FixedFormatter should only be used together with FixedLocator\n",
      "  ax.set_xticklabels(model_outputs_ext_labels, rotation=60, ha='right')\n"
     ]
    },
    {
     "name": "stdout",
     "output_type": "stream",
     "text": [
      "Filter 95 / 128...\n"
     ]
    },
    {
     "name": "stderr",
     "output_type": "stream",
     "text": [
      "C:\\Users\\casti\\AppData\\Local\\Temp\\ipykernel_31808\\3716661773.py:146: UserWarning: FixedFormatter should only be used together with FixedLocator\n",
      "  ax.set_xticklabels(model_outputs_ext_labels, rotation=60, ha='right')\n"
     ]
    },
    {
     "name": "stdout",
     "output_type": "stream",
     "text": [
      "Filter 96 / 128...\n"
     ]
    },
    {
     "name": "stderr",
     "output_type": "stream",
     "text": [
      "C:\\Users\\casti\\AppData\\Local\\Temp\\ipykernel_31808\\3716661773.py:146: UserWarning: FixedFormatter should only be used together with FixedLocator\n",
      "  ax.set_xticklabels(model_outputs_ext_labels, rotation=60, ha='right')\n"
     ]
    },
    {
     "name": "stdout",
     "output_type": "stream",
     "text": [
      "Filter 97 / 128...\n"
     ]
    },
    {
     "name": "stderr",
     "output_type": "stream",
     "text": [
      "C:\\Users\\casti\\AppData\\Local\\Temp\\ipykernel_31808\\3716661773.py:146: UserWarning: FixedFormatter should only be used together with FixedLocator\n",
      "  ax.set_xticklabels(model_outputs_ext_labels, rotation=60, ha='right')\n"
     ]
    },
    {
     "name": "stdout",
     "output_type": "stream",
     "text": [
      "Filter 98 / 128...\n"
     ]
    },
    {
     "name": "stderr",
     "output_type": "stream",
     "text": [
      "C:\\Users\\casti\\AppData\\Local\\Temp\\ipykernel_31808\\3716661773.py:146: UserWarning: FixedFormatter should only be used together with FixedLocator\n",
      "  ax.set_xticklabels(model_outputs_ext_labels, rotation=60, ha='right')\n"
     ]
    },
    {
     "name": "stdout",
     "output_type": "stream",
     "text": [
      "Filter 99 / 128...\n"
     ]
    },
    {
     "name": "stderr",
     "output_type": "stream",
     "text": [
      "C:\\Users\\casti\\AppData\\Local\\Temp\\ipykernel_31808\\3716661773.py:146: UserWarning: FixedFormatter should only be used together with FixedLocator\n",
      "  ax.set_xticklabels(model_outputs_ext_labels, rotation=60, ha='right')\n"
     ]
    },
    {
     "name": "stdout",
     "output_type": "stream",
     "text": [
      "Filter 100 / 128...\n"
     ]
    },
    {
     "name": "stderr",
     "output_type": "stream",
     "text": [
      "C:\\Users\\casti\\AppData\\Local\\Temp\\ipykernel_31808\\3716661773.py:146: UserWarning: FixedFormatter should only be used together with FixedLocator\n",
      "  ax.set_xticklabels(model_outputs_ext_labels, rotation=60, ha='right')\n"
     ]
    },
    {
     "name": "stdout",
     "output_type": "stream",
     "text": [
      "Filter 101 / 128...\n"
     ]
    },
    {
     "name": "stderr",
     "output_type": "stream",
     "text": [
      "C:\\Users\\casti\\AppData\\Local\\Temp\\ipykernel_31808\\3716661773.py:146: UserWarning: FixedFormatter should only be used together with FixedLocator\n",
      "  ax.set_xticklabels(model_outputs_ext_labels, rotation=60, ha='right')\n"
     ]
    },
    {
     "name": "stdout",
     "output_type": "stream",
     "text": [
      "Filter 102 / 128...\n"
     ]
    },
    {
     "name": "stderr",
     "output_type": "stream",
     "text": [
      "C:\\Users\\casti\\AppData\\Local\\Temp\\ipykernel_31808\\3716661773.py:146: UserWarning: FixedFormatter should only be used together with FixedLocator\n",
      "  ax.set_xticklabels(model_outputs_ext_labels, rotation=60, ha='right')\n"
     ]
    },
    {
     "name": "stdout",
     "output_type": "stream",
     "text": [
      "Filter 103 / 128...\n"
     ]
    },
    {
     "name": "stderr",
     "output_type": "stream",
     "text": [
      "C:\\Users\\casti\\AppData\\Local\\Temp\\ipykernel_31808\\3716661773.py:146: UserWarning: FixedFormatter should only be used together with FixedLocator\n",
      "  ax.set_xticklabels(model_outputs_ext_labels, rotation=60, ha='right')\n"
     ]
    },
    {
     "name": "stdout",
     "output_type": "stream",
     "text": [
      "Filter 104 / 128...\n"
     ]
    },
    {
     "name": "stderr",
     "output_type": "stream",
     "text": [
      "C:\\Users\\casti\\AppData\\Local\\Temp\\ipykernel_31808\\3716661773.py:146: UserWarning: FixedFormatter should only be used together with FixedLocator\n",
      "  ax.set_xticklabels(model_outputs_ext_labels, rotation=60, ha='right')\n"
     ]
    },
    {
     "name": "stdout",
     "output_type": "stream",
     "text": [
      "Filter 105 / 128...\n"
     ]
    },
    {
     "name": "stderr",
     "output_type": "stream",
     "text": [
      "C:\\Users\\casti\\AppData\\Local\\Temp\\ipykernel_31808\\3716661773.py:146: UserWarning: FixedFormatter should only be used together with FixedLocator\n",
      "  ax.set_xticklabels(model_outputs_ext_labels, rotation=60, ha='right')\n"
     ]
    },
    {
     "name": "stdout",
     "output_type": "stream",
     "text": [
      "Filter 106 / 128...\n"
     ]
    },
    {
     "name": "stderr",
     "output_type": "stream",
     "text": [
      "C:\\Users\\casti\\AppData\\Local\\Temp\\ipykernel_31808\\3716661773.py:146: UserWarning: FixedFormatter should only be used together with FixedLocator\n",
      "  ax.set_xticklabels(model_outputs_ext_labels, rotation=60, ha='right')\n"
     ]
    },
    {
     "name": "stdout",
     "output_type": "stream",
     "text": [
      "Filter 107 / 128...\n"
     ]
    },
    {
     "name": "stderr",
     "output_type": "stream",
     "text": [
      "C:\\Users\\casti\\AppData\\Local\\Temp\\ipykernel_31808\\3716661773.py:146: UserWarning: FixedFormatter should only be used together with FixedLocator\n",
      "  ax.set_xticklabels(model_outputs_ext_labels, rotation=60, ha='right')\n"
     ]
    },
    {
     "name": "stdout",
     "output_type": "stream",
     "text": [
      "Filter 108 / 128...\n"
     ]
    },
    {
     "name": "stderr",
     "output_type": "stream",
     "text": [
      "C:\\Users\\casti\\AppData\\Local\\Temp\\ipykernel_31808\\3716661773.py:146: UserWarning: FixedFormatter should only be used together with FixedLocator\n",
      "  ax.set_xticklabels(model_outputs_ext_labels, rotation=60, ha='right')\n"
     ]
    },
    {
     "name": "stdout",
     "output_type": "stream",
     "text": [
      "Filter 109 / 128...\n"
     ]
    },
    {
     "name": "stderr",
     "output_type": "stream",
     "text": [
      "C:\\Users\\casti\\AppData\\Local\\Temp\\ipykernel_31808\\3716661773.py:146: UserWarning: FixedFormatter should only be used together with FixedLocator\n",
      "  ax.set_xticklabels(model_outputs_ext_labels, rotation=60, ha='right')\n"
     ]
    },
    {
     "name": "stdout",
     "output_type": "stream",
     "text": [
      "Filter 110 / 128...\n"
     ]
    },
    {
     "name": "stderr",
     "output_type": "stream",
     "text": [
      "C:\\Users\\casti\\AppData\\Local\\Temp\\ipykernel_31808\\3716661773.py:146: UserWarning: FixedFormatter should only be used together with FixedLocator\n",
      "  ax.set_xticklabels(model_outputs_ext_labels, rotation=60, ha='right')\n"
     ]
    },
    {
     "name": "stdout",
     "output_type": "stream",
     "text": [
      "Filter 111 / 128...\n"
     ]
    },
    {
     "name": "stderr",
     "output_type": "stream",
     "text": [
      "C:\\Users\\casti\\AppData\\Local\\Temp\\ipykernel_31808\\3716661773.py:146: UserWarning: FixedFormatter should only be used together with FixedLocator\n",
      "  ax.set_xticklabels(model_outputs_ext_labels, rotation=60, ha='right')\n"
     ]
    },
    {
     "name": "stdout",
     "output_type": "stream",
     "text": [
      "Filter 112 / 128...\n"
     ]
    },
    {
     "name": "stderr",
     "output_type": "stream",
     "text": [
      "C:\\Users\\casti\\AppData\\Local\\Temp\\ipykernel_31808\\3716661773.py:146: UserWarning: FixedFormatter should only be used together with FixedLocator\n",
      "  ax.set_xticklabels(model_outputs_ext_labels, rotation=60, ha='right')\n"
     ]
    },
    {
     "name": "stdout",
     "output_type": "stream",
     "text": [
      "Filter 113 / 128...\n"
     ]
    },
    {
     "name": "stderr",
     "output_type": "stream",
     "text": [
      "C:\\Users\\casti\\AppData\\Local\\Temp\\ipykernel_31808\\3716661773.py:146: UserWarning: FixedFormatter should only be used together with FixedLocator\n",
      "  ax.set_xticklabels(model_outputs_ext_labels, rotation=60, ha='right')\n"
     ]
    },
    {
     "name": "stdout",
     "output_type": "stream",
     "text": [
      "Filter 114 / 128...\n"
     ]
    },
    {
     "name": "stderr",
     "output_type": "stream",
     "text": [
      "C:\\Users\\casti\\AppData\\Local\\Temp\\ipykernel_31808\\3716661773.py:146: UserWarning: FixedFormatter should only be used together with FixedLocator\n",
      "  ax.set_xticklabels(model_outputs_ext_labels, rotation=60, ha='right')\n"
     ]
    },
    {
     "name": "stdout",
     "output_type": "stream",
     "text": [
      "Filter 115 / 128...\n"
     ]
    },
    {
     "name": "stderr",
     "output_type": "stream",
     "text": [
      "C:\\Users\\casti\\AppData\\Local\\Temp\\ipykernel_31808\\3716661773.py:146: UserWarning: FixedFormatter should only be used together with FixedLocator\n",
      "  ax.set_xticklabels(model_outputs_ext_labels, rotation=60, ha='right')\n"
     ]
    },
    {
     "name": "stdout",
     "output_type": "stream",
     "text": [
      "Filter 116 / 128...\n"
     ]
    },
    {
     "name": "stderr",
     "output_type": "stream",
     "text": [
      "C:\\Users\\casti\\AppData\\Local\\Temp\\ipykernel_31808\\3716661773.py:146: UserWarning: FixedFormatter should only be used together with FixedLocator\n",
      "  ax.set_xticklabels(model_outputs_ext_labels, rotation=60, ha='right')\n"
     ]
    },
    {
     "name": "stdout",
     "output_type": "stream",
     "text": [
      "Filter 117 / 128...\n"
     ]
    },
    {
     "name": "stderr",
     "output_type": "stream",
     "text": [
      "C:\\Users\\casti\\AppData\\Local\\Temp\\ipykernel_31808\\3716661773.py:146: UserWarning: FixedFormatter should only be used together with FixedLocator\n",
      "  ax.set_xticklabels(model_outputs_ext_labels, rotation=60, ha='right')\n"
     ]
    },
    {
     "name": "stdout",
     "output_type": "stream",
     "text": [
      "Filter 118 / 128...\n"
     ]
    },
    {
     "name": "stderr",
     "output_type": "stream",
     "text": [
      "C:\\Users\\casti\\AppData\\Local\\Temp\\ipykernel_31808\\3716661773.py:146: UserWarning: FixedFormatter should only be used together with FixedLocator\n",
      "  ax.set_xticklabels(model_outputs_ext_labels, rotation=60, ha='right')\n"
     ]
    },
    {
     "name": "stdout",
     "output_type": "stream",
     "text": [
      "Filter 119 / 128...\n"
     ]
    },
    {
     "name": "stderr",
     "output_type": "stream",
     "text": [
      "C:\\Users\\casti\\AppData\\Local\\Temp\\ipykernel_31808\\3716661773.py:146: UserWarning: FixedFormatter should only be used together with FixedLocator\n",
      "  ax.set_xticklabels(model_outputs_ext_labels, rotation=60, ha='right')\n"
     ]
    },
    {
     "name": "stdout",
     "output_type": "stream",
     "text": [
      "Filter 120 / 128...\n"
     ]
    },
    {
     "name": "stderr",
     "output_type": "stream",
     "text": [
      "C:\\Users\\casti\\AppData\\Local\\Temp\\ipykernel_31808\\3716661773.py:146: UserWarning: FixedFormatter should only be used together with FixedLocator\n",
      "  ax.set_xticklabels(model_outputs_ext_labels, rotation=60, ha='right')\n"
     ]
    },
    {
     "name": "stdout",
     "output_type": "stream",
     "text": [
      "Filter 121 / 128...\n"
     ]
    },
    {
     "name": "stderr",
     "output_type": "stream",
     "text": [
      "C:\\Users\\casti\\AppData\\Local\\Temp\\ipykernel_31808\\3716661773.py:146: UserWarning: FixedFormatter should only be used together with FixedLocator\n",
      "  ax.set_xticklabels(model_outputs_ext_labels, rotation=60, ha='right')\n"
     ]
    },
    {
     "name": "stdout",
     "output_type": "stream",
     "text": [
      "Filter 122 / 128...\n"
     ]
    },
    {
     "name": "stderr",
     "output_type": "stream",
     "text": [
      "C:\\Users\\casti\\AppData\\Local\\Temp\\ipykernel_31808\\3716661773.py:146: UserWarning: FixedFormatter should only be used together with FixedLocator\n",
      "  ax.set_xticklabels(model_outputs_ext_labels, rotation=60, ha='right')\n"
     ]
    },
    {
     "name": "stdout",
     "output_type": "stream",
     "text": [
      "Filter 123 / 128...\n"
     ]
    },
    {
     "name": "stderr",
     "output_type": "stream",
     "text": [
      "C:\\Users\\casti\\AppData\\Local\\Temp\\ipykernel_31808\\3716661773.py:146: UserWarning: FixedFormatter should only be used together with FixedLocator\n",
      "  ax.set_xticklabels(model_outputs_ext_labels, rotation=60, ha='right')\n"
     ]
    },
    {
     "name": "stdout",
     "output_type": "stream",
     "text": [
      "Filter 124 / 128...\n"
     ]
    },
    {
     "name": "stderr",
     "output_type": "stream",
     "text": [
      "C:\\Users\\casti\\AppData\\Local\\Temp\\ipykernel_31808\\3716661773.py:146: UserWarning: FixedFormatter should only be used together with FixedLocator\n",
      "  ax.set_xticklabels(model_outputs_ext_labels, rotation=60, ha='right')\n"
     ]
    },
    {
     "name": "stdout",
     "output_type": "stream",
     "text": [
      "Filter 125 / 128...\n"
     ]
    },
    {
     "name": "stderr",
     "output_type": "stream",
     "text": [
      "C:\\Users\\casti\\AppData\\Local\\Temp\\ipykernel_31808\\3716661773.py:146: UserWarning: FixedFormatter should only be used together with FixedLocator\n",
      "  ax.set_xticklabels(model_outputs_ext_labels, rotation=60, ha='right')\n"
     ]
    },
    {
     "name": "stdout",
     "output_type": "stream",
     "text": [
      "Filter 126 / 128...\n"
     ]
    },
    {
     "name": "stderr",
     "output_type": "stream",
     "text": [
      "C:\\Users\\casti\\AppData\\Local\\Temp\\ipykernel_31808\\3716661773.py:146: UserWarning: FixedFormatter should only be used together with FixedLocator\n",
      "  ax.set_xticklabels(model_outputs_ext_labels, rotation=60, ha='right')\n"
     ]
    },
    {
     "name": "stdout",
     "output_type": "stream",
     "text": [
      "Filter 127 / 128...\n"
     ]
    },
    {
     "name": "stderr",
     "output_type": "stream",
     "text": [
      "C:\\Users\\casti\\AppData\\Local\\Temp\\ipykernel_31808\\3716661773.py:146: UserWarning: FixedFormatter should only be used together with FixedLocator\n",
      "  ax.set_xticklabels(model_outputs_ext_labels, rotation=60, ha='right')\n"
     ]
    },
    {
     "name": "stdout",
     "output_type": "stream",
     "text": [
      "Saving meme file...\n",
      "Done with model 5.\n",
      "Processing model 6...\n",
      "Filter 0 / 128...\n"
     ]
    },
    {
     "name": "stderr",
     "output_type": "stream",
     "text": [
      "C:\\Users\\casti\\AppData\\Local\\Temp\\ipykernel_31808\\3716661773.py:146: UserWarning: FixedFormatter should only be used together with FixedLocator\n",
      "  ax.set_xticklabels(model_outputs_ext_labels, rotation=60, ha='right')\n"
     ]
    },
    {
     "name": "stdout",
     "output_type": "stream",
     "text": [
      "Filter 1 / 128...\n"
     ]
    },
    {
     "name": "stderr",
     "output_type": "stream",
     "text": [
      "C:\\Users\\casti\\AppData\\Local\\Temp\\ipykernel_31808\\3716661773.py:146: UserWarning: FixedFormatter should only be used together with FixedLocator\n",
      "  ax.set_xticklabels(model_outputs_ext_labels, rotation=60, ha='right')\n"
     ]
    },
    {
     "name": "stdout",
     "output_type": "stream",
     "text": [
      "Filter 2 / 128...\n"
     ]
    },
    {
     "name": "stderr",
     "output_type": "stream",
     "text": [
      "C:\\Users\\casti\\AppData\\Local\\Temp\\ipykernel_31808\\3716661773.py:146: UserWarning: FixedFormatter should only be used together with FixedLocator\n",
      "  ax.set_xticklabels(model_outputs_ext_labels, rotation=60, ha='right')\n"
     ]
    },
    {
     "name": "stdout",
     "output_type": "stream",
     "text": [
      "Filter 3 / 128...\n"
     ]
    },
    {
     "name": "stderr",
     "output_type": "stream",
     "text": [
      "C:\\Users\\casti\\AppData\\Local\\Temp\\ipykernel_31808\\3716661773.py:146: UserWarning: FixedFormatter should only be used together with FixedLocator\n",
      "  ax.set_xticklabels(model_outputs_ext_labels, rotation=60, ha='right')\n"
     ]
    },
    {
     "name": "stdout",
     "output_type": "stream",
     "text": [
      "Filter 4 / 128...\n"
     ]
    },
    {
     "name": "stderr",
     "output_type": "stream",
     "text": [
      "C:\\Users\\casti\\AppData\\Local\\Temp\\ipykernel_31808\\3716661773.py:146: UserWarning: FixedFormatter should only be used together with FixedLocator\n",
      "  ax.set_xticklabels(model_outputs_ext_labels, rotation=60, ha='right')\n"
     ]
    },
    {
     "name": "stdout",
     "output_type": "stream",
     "text": [
      "Filter 5 / 128...\n"
     ]
    },
    {
     "name": "stderr",
     "output_type": "stream",
     "text": [
      "C:\\Users\\casti\\AppData\\Local\\Temp\\ipykernel_31808\\3716661773.py:146: UserWarning: FixedFormatter should only be used together with FixedLocator\n",
      "  ax.set_xticklabels(model_outputs_ext_labels, rotation=60, ha='right')\n"
     ]
    },
    {
     "name": "stdout",
     "output_type": "stream",
     "text": [
      "Filter 6 / 128...\n"
     ]
    },
    {
     "name": "stderr",
     "output_type": "stream",
     "text": [
      "C:\\Users\\casti\\AppData\\Local\\Temp\\ipykernel_31808\\3716661773.py:146: UserWarning: FixedFormatter should only be used together with FixedLocator\n",
      "  ax.set_xticklabels(model_outputs_ext_labels, rotation=60, ha='right')\n"
     ]
    },
    {
     "name": "stdout",
     "output_type": "stream",
     "text": [
      "Filter 7 / 128...\n"
     ]
    },
    {
     "name": "stderr",
     "output_type": "stream",
     "text": [
      "C:\\Users\\casti\\AppData\\Local\\Temp\\ipykernel_31808\\3716661773.py:146: UserWarning: FixedFormatter should only be used together with FixedLocator\n",
      "  ax.set_xticklabels(model_outputs_ext_labels, rotation=60, ha='right')\n"
     ]
    },
    {
     "name": "stdout",
     "output_type": "stream",
     "text": [
      "Filter 8 / 128...\n"
     ]
    },
    {
     "name": "stderr",
     "output_type": "stream",
     "text": [
      "C:\\Users\\casti\\AppData\\Local\\Temp\\ipykernel_31808\\3716661773.py:146: UserWarning: FixedFormatter should only be used together with FixedLocator\n",
      "  ax.set_xticklabels(model_outputs_ext_labels, rotation=60, ha='right')\n"
     ]
    },
    {
     "name": "stdout",
     "output_type": "stream",
     "text": [
      "Filter 9 / 128...\n"
     ]
    },
    {
     "name": "stderr",
     "output_type": "stream",
     "text": [
      "C:\\Users\\casti\\AppData\\Local\\Temp\\ipykernel_31808\\3716661773.py:146: UserWarning: FixedFormatter should only be used together with FixedLocator\n",
      "  ax.set_xticklabels(model_outputs_ext_labels, rotation=60, ha='right')\n"
     ]
    },
    {
     "name": "stdout",
     "output_type": "stream",
     "text": [
      "Filter 10 / 128...\n"
     ]
    },
    {
     "name": "stderr",
     "output_type": "stream",
     "text": [
      "C:\\Users\\casti\\AppData\\Local\\Temp\\ipykernel_31808\\3716661773.py:146: UserWarning: FixedFormatter should only be used together with FixedLocator\n",
      "  ax.set_xticklabels(model_outputs_ext_labels, rotation=60, ha='right')\n"
     ]
    },
    {
     "name": "stdout",
     "output_type": "stream",
     "text": [
      "Filter 11 / 128...\n"
     ]
    },
    {
     "name": "stderr",
     "output_type": "stream",
     "text": [
      "C:\\Users\\casti\\AppData\\Local\\Temp\\ipykernel_31808\\3716661773.py:146: UserWarning: FixedFormatter should only be used together with FixedLocator\n",
      "  ax.set_xticklabels(model_outputs_ext_labels, rotation=60, ha='right')\n"
     ]
    },
    {
     "name": "stdout",
     "output_type": "stream",
     "text": [
      "Filter 12 / 128...\n"
     ]
    },
    {
     "name": "stderr",
     "output_type": "stream",
     "text": [
      "C:\\Users\\casti\\AppData\\Local\\Temp\\ipykernel_31808\\3716661773.py:146: UserWarning: FixedFormatter should only be used together with FixedLocator\n",
      "  ax.set_xticklabels(model_outputs_ext_labels, rotation=60, ha='right')\n"
     ]
    },
    {
     "name": "stdout",
     "output_type": "stream",
     "text": [
      "Filter 13 / 128...\n"
     ]
    },
    {
     "name": "stderr",
     "output_type": "stream",
     "text": [
      "C:\\Users\\casti\\AppData\\Local\\Temp\\ipykernel_31808\\3716661773.py:146: UserWarning: FixedFormatter should only be used together with FixedLocator\n",
      "  ax.set_xticklabels(model_outputs_ext_labels, rotation=60, ha='right')\n"
     ]
    },
    {
     "name": "stdout",
     "output_type": "stream",
     "text": [
      "Filter 14 / 128...\n"
     ]
    },
    {
     "name": "stderr",
     "output_type": "stream",
     "text": [
      "C:\\Users\\casti\\AppData\\Local\\Temp\\ipykernel_31808\\3716661773.py:146: UserWarning: FixedFormatter should only be used together with FixedLocator\n",
      "  ax.set_xticklabels(model_outputs_ext_labels, rotation=60, ha='right')\n"
     ]
    },
    {
     "name": "stdout",
     "output_type": "stream",
     "text": [
      "Filter 15 / 128...\n"
     ]
    },
    {
     "name": "stderr",
     "output_type": "stream",
     "text": [
      "C:\\Users\\casti\\AppData\\Local\\Temp\\ipykernel_31808\\3716661773.py:146: UserWarning: FixedFormatter should only be used together with FixedLocator\n",
      "  ax.set_xticklabels(model_outputs_ext_labels, rotation=60, ha='right')\n"
     ]
    },
    {
     "name": "stdout",
     "output_type": "stream",
     "text": [
      "Filter 16 / 128...\n"
     ]
    },
    {
     "name": "stderr",
     "output_type": "stream",
     "text": [
      "C:\\Users\\casti\\AppData\\Local\\Temp\\ipykernel_31808\\3716661773.py:146: UserWarning: FixedFormatter should only be used together with FixedLocator\n",
      "  ax.set_xticklabels(model_outputs_ext_labels, rotation=60, ha='right')\n"
     ]
    },
    {
     "name": "stdout",
     "output_type": "stream",
     "text": [
      "Filter 17 / 128...\n"
     ]
    },
    {
     "name": "stderr",
     "output_type": "stream",
     "text": [
      "C:\\Users\\casti\\AppData\\Local\\Temp\\ipykernel_31808\\3716661773.py:146: UserWarning: FixedFormatter should only be used together with FixedLocator\n",
      "  ax.set_xticklabels(model_outputs_ext_labels, rotation=60, ha='right')\n"
     ]
    },
    {
     "name": "stdout",
     "output_type": "stream",
     "text": [
      "Filter 18 / 128...\n"
     ]
    },
    {
     "name": "stderr",
     "output_type": "stream",
     "text": [
      "C:\\Users\\casti\\AppData\\Local\\Temp\\ipykernel_31808\\3716661773.py:146: UserWarning: FixedFormatter should only be used together with FixedLocator\n",
      "  ax.set_xticklabels(model_outputs_ext_labels, rotation=60, ha='right')\n"
     ]
    },
    {
     "name": "stdout",
     "output_type": "stream",
     "text": [
      "Filter 19 / 128...\n"
     ]
    },
    {
     "name": "stderr",
     "output_type": "stream",
     "text": [
      "C:\\Users\\casti\\AppData\\Local\\Temp\\ipykernel_31808\\3716661773.py:146: UserWarning: FixedFormatter should only be used together with FixedLocator\n",
      "  ax.set_xticklabels(model_outputs_ext_labels, rotation=60, ha='right')\n"
     ]
    },
    {
     "name": "stdout",
     "output_type": "stream",
     "text": [
      "Filter 20 / 128...\n"
     ]
    },
    {
     "name": "stderr",
     "output_type": "stream",
     "text": [
      "C:\\Users\\casti\\AppData\\Local\\Temp\\ipykernel_31808\\3716661773.py:146: UserWarning: FixedFormatter should only be used together with FixedLocator\n",
      "  ax.set_xticklabels(model_outputs_ext_labels, rotation=60, ha='right')\n"
     ]
    },
    {
     "name": "stdout",
     "output_type": "stream",
     "text": [
      "Filter 21 / 128...\n"
     ]
    },
    {
     "name": "stderr",
     "output_type": "stream",
     "text": [
      "C:\\Users\\casti\\AppData\\Local\\Temp\\ipykernel_31808\\3716661773.py:146: UserWarning: FixedFormatter should only be used together with FixedLocator\n",
      "  ax.set_xticklabels(model_outputs_ext_labels, rotation=60, ha='right')\n"
     ]
    },
    {
     "name": "stdout",
     "output_type": "stream",
     "text": [
      "Filter 22 / 128...\n"
     ]
    },
    {
     "name": "stderr",
     "output_type": "stream",
     "text": [
      "C:\\Users\\casti\\AppData\\Local\\Temp\\ipykernel_31808\\3716661773.py:146: UserWarning: FixedFormatter should only be used together with FixedLocator\n",
      "  ax.set_xticklabels(model_outputs_ext_labels, rotation=60, ha='right')\n"
     ]
    },
    {
     "name": "stdout",
     "output_type": "stream",
     "text": [
      "Filter 23 / 128...\n"
     ]
    },
    {
     "name": "stderr",
     "output_type": "stream",
     "text": [
      "C:\\Users\\casti\\AppData\\Local\\Temp\\ipykernel_31808\\3716661773.py:146: UserWarning: FixedFormatter should only be used together with FixedLocator\n",
      "  ax.set_xticklabels(model_outputs_ext_labels, rotation=60, ha='right')\n"
     ]
    },
    {
     "name": "stdout",
     "output_type": "stream",
     "text": [
      "Filter 24 / 128...\n"
     ]
    },
    {
     "name": "stderr",
     "output_type": "stream",
     "text": [
      "C:\\Users\\casti\\AppData\\Local\\Temp\\ipykernel_31808\\3716661773.py:146: UserWarning: FixedFormatter should only be used together with FixedLocator\n",
      "  ax.set_xticklabels(model_outputs_ext_labels, rotation=60, ha='right')\n"
     ]
    },
    {
     "name": "stdout",
     "output_type": "stream",
     "text": [
      "Filter 25 / 128...\n"
     ]
    },
    {
     "name": "stderr",
     "output_type": "stream",
     "text": [
      "C:\\Users\\casti\\AppData\\Local\\Temp\\ipykernel_31808\\3716661773.py:146: UserWarning: FixedFormatter should only be used together with FixedLocator\n",
      "  ax.set_xticklabels(model_outputs_ext_labels, rotation=60, ha='right')\n"
     ]
    },
    {
     "name": "stdout",
     "output_type": "stream",
     "text": [
      "Filter 26 / 128...\n"
     ]
    },
    {
     "name": "stderr",
     "output_type": "stream",
     "text": [
      "C:\\Users\\casti\\AppData\\Local\\Temp\\ipykernel_31808\\3716661773.py:146: UserWarning: FixedFormatter should only be used together with FixedLocator\n",
      "  ax.set_xticklabels(model_outputs_ext_labels, rotation=60, ha='right')\n"
     ]
    },
    {
     "name": "stdout",
     "output_type": "stream",
     "text": [
      "Filter 27 / 128...\n"
     ]
    },
    {
     "name": "stderr",
     "output_type": "stream",
     "text": [
      "C:\\Users\\casti\\AppData\\Local\\Temp\\ipykernel_31808\\3716661773.py:146: UserWarning: FixedFormatter should only be used together with FixedLocator\n",
      "  ax.set_xticklabels(model_outputs_ext_labels, rotation=60, ha='right')\n"
     ]
    },
    {
     "name": "stdout",
     "output_type": "stream",
     "text": [
      "Filter 28 / 128...\n"
     ]
    },
    {
     "name": "stderr",
     "output_type": "stream",
     "text": [
      "C:\\Users\\casti\\AppData\\Local\\Temp\\ipykernel_31808\\3716661773.py:146: UserWarning: FixedFormatter should only be used together with FixedLocator\n",
      "  ax.set_xticklabels(model_outputs_ext_labels, rotation=60, ha='right')\n"
     ]
    },
    {
     "name": "stdout",
     "output_type": "stream",
     "text": [
      "Filter 29 / 128...\n"
     ]
    },
    {
     "name": "stderr",
     "output_type": "stream",
     "text": [
      "C:\\Users\\casti\\AppData\\Local\\Temp\\ipykernel_31808\\3716661773.py:146: UserWarning: FixedFormatter should only be used together with FixedLocator\n",
      "  ax.set_xticklabels(model_outputs_ext_labels, rotation=60, ha='right')\n"
     ]
    },
    {
     "name": "stdout",
     "output_type": "stream",
     "text": [
      "Filter 30 / 128...\n"
     ]
    },
    {
     "name": "stderr",
     "output_type": "stream",
     "text": [
      "C:\\Users\\casti\\AppData\\Local\\Temp\\ipykernel_31808\\3716661773.py:146: UserWarning: FixedFormatter should only be used together with FixedLocator\n",
      "  ax.set_xticklabels(model_outputs_ext_labels, rotation=60, ha='right')\n"
     ]
    },
    {
     "name": "stdout",
     "output_type": "stream",
     "text": [
      "Filter 31 / 128...\n"
     ]
    },
    {
     "name": "stderr",
     "output_type": "stream",
     "text": [
      "C:\\Users\\casti\\AppData\\Local\\Temp\\ipykernel_31808\\3716661773.py:146: UserWarning: FixedFormatter should only be used together with FixedLocator\n",
      "  ax.set_xticklabels(model_outputs_ext_labels, rotation=60, ha='right')\n"
     ]
    },
    {
     "name": "stdout",
     "output_type": "stream",
     "text": [
      "Filter 32 / 128...\n"
     ]
    },
    {
     "name": "stderr",
     "output_type": "stream",
     "text": [
      "C:\\Users\\casti\\AppData\\Local\\Temp\\ipykernel_31808\\3716661773.py:146: UserWarning: FixedFormatter should only be used together with FixedLocator\n",
      "  ax.set_xticklabels(model_outputs_ext_labels, rotation=60, ha='right')\n"
     ]
    },
    {
     "name": "stdout",
     "output_type": "stream",
     "text": [
      "Filter 33 / 128...\n"
     ]
    },
    {
     "name": "stderr",
     "output_type": "stream",
     "text": [
      "C:\\Users\\casti\\AppData\\Local\\Temp\\ipykernel_31808\\3716661773.py:146: UserWarning: FixedFormatter should only be used together with FixedLocator\n",
      "  ax.set_xticklabels(model_outputs_ext_labels, rotation=60, ha='right')\n"
     ]
    },
    {
     "name": "stdout",
     "output_type": "stream",
     "text": [
      "Filter 34 / 128...\n"
     ]
    },
    {
     "name": "stderr",
     "output_type": "stream",
     "text": [
      "C:\\Users\\casti\\AppData\\Local\\Temp\\ipykernel_31808\\3716661773.py:146: UserWarning: FixedFormatter should only be used together with FixedLocator\n",
      "  ax.set_xticklabels(model_outputs_ext_labels, rotation=60, ha='right')\n"
     ]
    },
    {
     "name": "stdout",
     "output_type": "stream",
     "text": [
      "Filter 35 / 128...\n"
     ]
    },
    {
     "name": "stderr",
     "output_type": "stream",
     "text": [
      "C:\\Users\\casti\\AppData\\Local\\Temp\\ipykernel_31808\\3716661773.py:146: UserWarning: FixedFormatter should only be used together with FixedLocator\n",
      "  ax.set_xticklabels(model_outputs_ext_labels, rotation=60, ha='right')\n"
     ]
    },
    {
     "name": "stdout",
     "output_type": "stream",
     "text": [
      "Filter 36 / 128...\n"
     ]
    },
    {
     "name": "stderr",
     "output_type": "stream",
     "text": [
      "C:\\Users\\casti\\AppData\\Local\\Temp\\ipykernel_31808\\3716661773.py:146: UserWarning: FixedFormatter should only be used together with FixedLocator\n",
      "  ax.set_xticklabels(model_outputs_ext_labels, rotation=60, ha='right')\n"
     ]
    },
    {
     "name": "stdout",
     "output_type": "stream",
     "text": [
      "Filter 37 / 128...\n"
     ]
    },
    {
     "name": "stderr",
     "output_type": "stream",
     "text": [
      "C:\\Users\\casti\\AppData\\Local\\Temp\\ipykernel_31808\\3716661773.py:146: UserWarning: FixedFormatter should only be used together with FixedLocator\n",
      "  ax.set_xticklabels(model_outputs_ext_labels, rotation=60, ha='right')\n"
     ]
    },
    {
     "name": "stdout",
     "output_type": "stream",
     "text": [
      "Filter 38 / 128...\n"
     ]
    },
    {
     "name": "stderr",
     "output_type": "stream",
     "text": [
      "C:\\Users\\casti\\AppData\\Local\\Temp\\ipykernel_31808\\3716661773.py:146: UserWarning: FixedFormatter should only be used together with FixedLocator\n",
      "  ax.set_xticklabels(model_outputs_ext_labels, rotation=60, ha='right')\n"
     ]
    },
    {
     "name": "stdout",
     "output_type": "stream",
     "text": [
      "Filter 39 / 128...\n"
     ]
    },
    {
     "name": "stderr",
     "output_type": "stream",
     "text": [
      "C:\\Users\\casti\\AppData\\Local\\Temp\\ipykernel_31808\\3716661773.py:146: UserWarning: FixedFormatter should only be used together with FixedLocator\n",
      "  ax.set_xticklabels(model_outputs_ext_labels, rotation=60, ha='right')\n"
     ]
    },
    {
     "name": "stdout",
     "output_type": "stream",
     "text": [
      "Filter 40 / 128...\n"
     ]
    },
    {
     "name": "stderr",
     "output_type": "stream",
     "text": [
      "C:\\Users\\casti\\AppData\\Local\\Temp\\ipykernel_31808\\3716661773.py:146: UserWarning: FixedFormatter should only be used together with FixedLocator\n",
      "  ax.set_xticklabels(model_outputs_ext_labels, rotation=60, ha='right')\n"
     ]
    },
    {
     "name": "stdout",
     "output_type": "stream",
     "text": [
      "Filter 41 / 128...\n"
     ]
    },
    {
     "name": "stderr",
     "output_type": "stream",
     "text": [
      "C:\\Users\\casti\\AppData\\Local\\Temp\\ipykernel_31808\\3716661773.py:146: UserWarning: FixedFormatter should only be used together with FixedLocator\n",
      "  ax.set_xticklabels(model_outputs_ext_labels, rotation=60, ha='right')\n"
     ]
    },
    {
     "name": "stdout",
     "output_type": "stream",
     "text": [
      "Filter 42 / 128...\n"
     ]
    },
    {
     "name": "stderr",
     "output_type": "stream",
     "text": [
      "C:\\Users\\casti\\AppData\\Local\\Temp\\ipykernel_31808\\3716661773.py:146: UserWarning: FixedFormatter should only be used together with FixedLocator\n",
      "  ax.set_xticklabels(model_outputs_ext_labels, rotation=60, ha='right')\n"
     ]
    },
    {
     "name": "stdout",
     "output_type": "stream",
     "text": [
      "Filter 43 / 128...\n"
     ]
    },
    {
     "name": "stderr",
     "output_type": "stream",
     "text": [
      "C:\\Users\\casti\\AppData\\Local\\Temp\\ipykernel_31808\\3716661773.py:146: UserWarning: FixedFormatter should only be used together with FixedLocator\n",
      "  ax.set_xticklabels(model_outputs_ext_labels, rotation=60, ha='right')\n"
     ]
    },
    {
     "name": "stdout",
     "output_type": "stream",
     "text": [
      "Filter 44 / 128...\n"
     ]
    },
    {
     "name": "stderr",
     "output_type": "stream",
     "text": [
      "C:\\Users\\casti\\AppData\\Local\\Temp\\ipykernel_31808\\3716661773.py:146: UserWarning: FixedFormatter should only be used together with FixedLocator\n",
      "  ax.set_xticklabels(model_outputs_ext_labels, rotation=60, ha='right')\n"
     ]
    },
    {
     "name": "stdout",
     "output_type": "stream",
     "text": [
      "Filter 45 / 128...\n"
     ]
    },
    {
     "name": "stderr",
     "output_type": "stream",
     "text": [
      "C:\\Users\\casti\\AppData\\Local\\Temp\\ipykernel_31808\\3716661773.py:146: UserWarning: FixedFormatter should only be used together with FixedLocator\n",
      "  ax.set_xticklabels(model_outputs_ext_labels, rotation=60, ha='right')\n"
     ]
    },
    {
     "name": "stdout",
     "output_type": "stream",
     "text": [
      "Filter 46 / 128...\n"
     ]
    },
    {
     "name": "stderr",
     "output_type": "stream",
     "text": [
      "C:\\Users\\casti\\AppData\\Local\\Temp\\ipykernel_31808\\3716661773.py:146: UserWarning: FixedFormatter should only be used together with FixedLocator\n",
      "  ax.set_xticklabels(model_outputs_ext_labels, rotation=60, ha='right')\n"
     ]
    },
    {
     "name": "stdout",
     "output_type": "stream",
     "text": [
      "Filter 47 / 128...\n"
     ]
    },
    {
     "name": "stderr",
     "output_type": "stream",
     "text": [
      "C:\\Users\\casti\\AppData\\Local\\Temp\\ipykernel_31808\\3716661773.py:146: UserWarning: FixedFormatter should only be used together with FixedLocator\n",
      "  ax.set_xticklabels(model_outputs_ext_labels, rotation=60, ha='right')\n"
     ]
    },
    {
     "name": "stdout",
     "output_type": "stream",
     "text": [
      "Filter 48 / 128...\n"
     ]
    },
    {
     "name": "stderr",
     "output_type": "stream",
     "text": [
      "C:\\Users\\casti\\AppData\\Local\\Temp\\ipykernel_31808\\3716661773.py:146: UserWarning: FixedFormatter should only be used together with FixedLocator\n",
      "  ax.set_xticklabels(model_outputs_ext_labels, rotation=60, ha='right')\n"
     ]
    },
    {
     "name": "stdout",
     "output_type": "stream",
     "text": [
      "Filter 49 / 128...\n"
     ]
    },
    {
     "name": "stderr",
     "output_type": "stream",
     "text": [
      "C:\\Users\\casti\\AppData\\Local\\Temp\\ipykernel_31808\\3716661773.py:146: UserWarning: FixedFormatter should only be used together with FixedLocator\n",
      "  ax.set_xticklabels(model_outputs_ext_labels, rotation=60, ha='right')\n"
     ]
    },
    {
     "name": "stdout",
     "output_type": "stream",
     "text": [
      "Filter 50 / 128...\n"
     ]
    },
    {
     "name": "stderr",
     "output_type": "stream",
     "text": [
      "C:\\Users\\casti\\AppData\\Local\\Temp\\ipykernel_31808\\3716661773.py:146: UserWarning: FixedFormatter should only be used together with FixedLocator\n",
      "  ax.set_xticklabels(model_outputs_ext_labels, rotation=60, ha='right')\n"
     ]
    },
    {
     "name": "stdout",
     "output_type": "stream",
     "text": [
      "Filter 51 / 128...\n"
     ]
    },
    {
     "name": "stderr",
     "output_type": "stream",
     "text": [
      "C:\\Users\\casti\\AppData\\Local\\Temp\\ipykernel_31808\\3716661773.py:146: UserWarning: FixedFormatter should only be used together with FixedLocator\n",
      "  ax.set_xticklabels(model_outputs_ext_labels, rotation=60, ha='right')\n"
     ]
    },
    {
     "name": "stdout",
     "output_type": "stream",
     "text": [
      "Filter 52 / 128...\n"
     ]
    },
    {
     "name": "stderr",
     "output_type": "stream",
     "text": [
      "C:\\Users\\casti\\AppData\\Local\\Temp\\ipykernel_31808\\3716661773.py:146: UserWarning: FixedFormatter should only be used together with FixedLocator\n",
      "  ax.set_xticklabels(model_outputs_ext_labels, rotation=60, ha='right')\n"
     ]
    },
    {
     "name": "stdout",
     "output_type": "stream",
     "text": [
      "Filter 53 / 128...\n"
     ]
    },
    {
     "name": "stderr",
     "output_type": "stream",
     "text": [
      "C:\\Users\\casti\\AppData\\Local\\Temp\\ipykernel_31808\\3716661773.py:146: UserWarning: FixedFormatter should only be used together with FixedLocator\n",
      "  ax.set_xticklabels(model_outputs_ext_labels, rotation=60, ha='right')\n"
     ]
    },
    {
     "name": "stdout",
     "output_type": "stream",
     "text": [
      "Filter 54 / 128...\n"
     ]
    },
    {
     "name": "stderr",
     "output_type": "stream",
     "text": [
      "C:\\Users\\casti\\AppData\\Local\\Temp\\ipykernel_31808\\3716661773.py:146: UserWarning: FixedFormatter should only be used together with FixedLocator\n",
      "  ax.set_xticklabels(model_outputs_ext_labels, rotation=60, ha='right')\n"
     ]
    },
    {
     "name": "stdout",
     "output_type": "stream",
     "text": [
      "Filter 55 / 128...\n"
     ]
    },
    {
     "name": "stderr",
     "output_type": "stream",
     "text": [
      "C:\\Users\\casti\\AppData\\Local\\Temp\\ipykernel_31808\\3716661773.py:146: UserWarning: FixedFormatter should only be used together with FixedLocator\n",
      "  ax.set_xticklabels(model_outputs_ext_labels, rotation=60, ha='right')\n"
     ]
    },
    {
     "name": "stdout",
     "output_type": "stream",
     "text": [
      "Filter 56 / 128...\n"
     ]
    },
    {
     "name": "stderr",
     "output_type": "stream",
     "text": [
      "C:\\Users\\casti\\AppData\\Local\\Temp\\ipykernel_31808\\3716661773.py:146: UserWarning: FixedFormatter should only be used together with FixedLocator\n",
      "  ax.set_xticklabels(model_outputs_ext_labels, rotation=60, ha='right')\n"
     ]
    },
    {
     "name": "stdout",
     "output_type": "stream",
     "text": [
      "Filter 57 / 128...\n"
     ]
    },
    {
     "name": "stderr",
     "output_type": "stream",
     "text": [
      "C:\\Users\\casti\\AppData\\Local\\Temp\\ipykernel_31808\\3716661773.py:146: UserWarning: FixedFormatter should only be used together with FixedLocator\n",
      "  ax.set_xticklabels(model_outputs_ext_labels, rotation=60, ha='right')\n"
     ]
    },
    {
     "name": "stdout",
     "output_type": "stream",
     "text": [
      "Filter 58 / 128...\n"
     ]
    },
    {
     "name": "stderr",
     "output_type": "stream",
     "text": [
      "C:\\Users\\casti\\AppData\\Local\\Temp\\ipykernel_31808\\3716661773.py:146: UserWarning: FixedFormatter should only be used together with FixedLocator\n",
      "  ax.set_xticklabels(model_outputs_ext_labels, rotation=60, ha='right')\n"
     ]
    },
    {
     "name": "stdout",
     "output_type": "stream",
     "text": [
      "Filter 59 / 128...\n"
     ]
    },
    {
     "name": "stderr",
     "output_type": "stream",
     "text": [
      "C:\\Users\\casti\\AppData\\Local\\Temp\\ipykernel_31808\\3716661773.py:146: UserWarning: FixedFormatter should only be used together with FixedLocator\n",
      "  ax.set_xticklabels(model_outputs_ext_labels, rotation=60, ha='right')\n"
     ]
    },
    {
     "name": "stdout",
     "output_type": "stream",
     "text": [
      "Filter 60 / 128...\n"
     ]
    },
    {
     "name": "stderr",
     "output_type": "stream",
     "text": [
      "C:\\Users\\casti\\AppData\\Local\\Temp\\ipykernel_31808\\3716661773.py:146: UserWarning: FixedFormatter should only be used together with FixedLocator\n",
      "  ax.set_xticklabels(model_outputs_ext_labels, rotation=60, ha='right')\n"
     ]
    },
    {
     "name": "stdout",
     "output_type": "stream",
     "text": [
      "Filter 61 / 128...\n"
     ]
    },
    {
     "name": "stderr",
     "output_type": "stream",
     "text": [
      "C:\\Users\\casti\\AppData\\Local\\Temp\\ipykernel_31808\\3716661773.py:146: UserWarning: FixedFormatter should only be used together with FixedLocator\n",
      "  ax.set_xticklabels(model_outputs_ext_labels, rotation=60, ha='right')\n"
     ]
    },
    {
     "name": "stdout",
     "output_type": "stream",
     "text": [
      "Filter 62 / 128...\n"
     ]
    },
    {
     "name": "stderr",
     "output_type": "stream",
     "text": [
      "C:\\Users\\casti\\AppData\\Local\\Temp\\ipykernel_31808\\3716661773.py:146: UserWarning: FixedFormatter should only be used together with FixedLocator\n",
      "  ax.set_xticklabels(model_outputs_ext_labels, rotation=60, ha='right')\n"
     ]
    },
    {
     "name": "stdout",
     "output_type": "stream",
     "text": [
      "Filter 63 / 128...\n"
     ]
    },
    {
     "name": "stderr",
     "output_type": "stream",
     "text": [
      "C:\\Users\\casti\\AppData\\Local\\Temp\\ipykernel_31808\\3716661773.py:146: UserWarning: FixedFormatter should only be used together with FixedLocator\n",
      "  ax.set_xticklabels(model_outputs_ext_labels, rotation=60, ha='right')\n"
     ]
    },
    {
     "name": "stdout",
     "output_type": "stream",
     "text": [
      "Filter 64 / 128...\n"
     ]
    },
    {
     "name": "stderr",
     "output_type": "stream",
     "text": [
      "C:\\Users\\casti\\AppData\\Local\\Temp\\ipykernel_31808\\3716661773.py:146: UserWarning: FixedFormatter should only be used together with FixedLocator\n",
      "  ax.set_xticklabels(model_outputs_ext_labels, rotation=60, ha='right')\n"
     ]
    },
    {
     "name": "stdout",
     "output_type": "stream",
     "text": [
      "Filter 65 / 128...\n"
     ]
    },
    {
     "name": "stderr",
     "output_type": "stream",
     "text": [
      "C:\\Users\\casti\\AppData\\Local\\Temp\\ipykernel_31808\\3716661773.py:146: UserWarning: FixedFormatter should only be used together with FixedLocator\n",
      "  ax.set_xticklabels(model_outputs_ext_labels, rotation=60, ha='right')\n"
     ]
    },
    {
     "name": "stdout",
     "output_type": "stream",
     "text": [
      "Filter 66 / 128...\n"
     ]
    },
    {
     "name": "stderr",
     "output_type": "stream",
     "text": [
      "C:\\Users\\casti\\AppData\\Local\\Temp\\ipykernel_31808\\3716661773.py:146: UserWarning: FixedFormatter should only be used together with FixedLocator\n",
      "  ax.set_xticklabels(model_outputs_ext_labels, rotation=60, ha='right')\n"
     ]
    },
    {
     "name": "stdout",
     "output_type": "stream",
     "text": [
      "Filter 67 / 128...\n"
     ]
    },
    {
     "name": "stderr",
     "output_type": "stream",
     "text": [
      "C:\\Users\\casti\\AppData\\Local\\Temp\\ipykernel_31808\\3716661773.py:146: UserWarning: FixedFormatter should only be used together with FixedLocator\n",
      "  ax.set_xticklabels(model_outputs_ext_labels, rotation=60, ha='right')\n"
     ]
    },
    {
     "name": "stdout",
     "output_type": "stream",
     "text": [
      "Filter 68 / 128...\n"
     ]
    },
    {
     "name": "stderr",
     "output_type": "stream",
     "text": [
      "C:\\Users\\casti\\AppData\\Local\\Temp\\ipykernel_31808\\3716661773.py:146: UserWarning: FixedFormatter should only be used together with FixedLocator\n",
      "  ax.set_xticklabels(model_outputs_ext_labels, rotation=60, ha='right')\n"
     ]
    },
    {
     "name": "stdout",
     "output_type": "stream",
     "text": [
      "Filter 69 / 128...\n"
     ]
    },
    {
     "name": "stderr",
     "output_type": "stream",
     "text": [
      "C:\\Users\\casti\\AppData\\Local\\Temp\\ipykernel_31808\\3716661773.py:146: UserWarning: FixedFormatter should only be used together with FixedLocator\n",
      "  ax.set_xticklabels(model_outputs_ext_labels, rotation=60, ha='right')\n"
     ]
    },
    {
     "name": "stdout",
     "output_type": "stream",
     "text": [
      "Filter 70 / 128...\n"
     ]
    },
    {
     "name": "stderr",
     "output_type": "stream",
     "text": [
      "C:\\Users\\casti\\AppData\\Local\\Temp\\ipykernel_31808\\3716661773.py:146: UserWarning: FixedFormatter should only be used together with FixedLocator\n",
      "  ax.set_xticklabels(model_outputs_ext_labels, rotation=60, ha='right')\n"
     ]
    },
    {
     "name": "stdout",
     "output_type": "stream",
     "text": [
      "Filter 71 / 128...\n"
     ]
    },
    {
     "name": "stderr",
     "output_type": "stream",
     "text": [
      "C:\\Users\\casti\\AppData\\Local\\Temp\\ipykernel_31808\\3716661773.py:146: UserWarning: FixedFormatter should only be used together with FixedLocator\n",
      "  ax.set_xticklabels(model_outputs_ext_labels, rotation=60, ha='right')\n"
     ]
    },
    {
     "name": "stdout",
     "output_type": "stream",
     "text": [
      "Filter 72 / 128...\n"
     ]
    },
    {
     "name": "stderr",
     "output_type": "stream",
     "text": [
      "C:\\Users\\casti\\AppData\\Local\\Temp\\ipykernel_31808\\3716661773.py:146: UserWarning: FixedFormatter should only be used together with FixedLocator\n",
      "  ax.set_xticklabels(model_outputs_ext_labels, rotation=60, ha='right')\n"
     ]
    },
    {
     "name": "stdout",
     "output_type": "stream",
     "text": [
      "Filter 73 / 128...\n"
     ]
    },
    {
     "name": "stderr",
     "output_type": "stream",
     "text": [
      "C:\\Users\\casti\\AppData\\Local\\Temp\\ipykernel_31808\\3716661773.py:146: UserWarning: FixedFormatter should only be used together with FixedLocator\n",
      "  ax.set_xticklabels(model_outputs_ext_labels, rotation=60, ha='right')\n"
     ]
    },
    {
     "name": "stdout",
     "output_type": "stream",
     "text": [
      "Filter 74 / 128...\n"
     ]
    },
    {
     "name": "stderr",
     "output_type": "stream",
     "text": [
      "C:\\Users\\casti\\AppData\\Local\\Temp\\ipykernel_31808\\3716661773.py:146: UserWarning: FixedFormatter should only be used together with FixedLocator\n",
      "  ax.set_xticklabels(model_outputs_ext_labels, rotation=60, ha='right')\n"
     ]
    },
    {
     "name": "stdout",
     "output_type": "stream",
     "text": [
      "Filter 75 / 128...\n"
     ]
    },
    {
     "name": "stderr",
     "output_type": "stream",
     "text": [
      "C:\\Users\\casti\\AppData\\Local\\Temp\\ipykernel_31808\\3716661773.py:146: UserWarning: FixedFormatter should only be used together with FixedLocator\n",
      "  ax.set_xticklabels(model_outputs_ext_labels, rotation=60, ha='right')\n"
     ]
    },
    {
     "name": "stdout",
     "output_type": "stream",
     "text": [
      "Filter 76 / 128...\n"
     ]
    },
    {
     "name": "stderr",
     "output_type": "stream",
     "text": [
      "C:\\Users\\casti\\AppData\\Local\\Temp\\ipykernel_31808\\3716661773.py:146: UserWarning: FixedFormatter should only be used together with FixedLocator\n",
      "  ax.set_xticklabels(model_outputs_ext_labels, rotation=60, ha='right')\n"
     ]
    },
    {
     "name": "stdout",
     "output_type": "stream",
     "text": [
      "Filter 77 / 128...\n"
     ]
    },
    {
     "name": "stderr",
     "output_type": "stream",
     "text": [
      "C:\\Users\\casti\\AppData\\Local\\Temp\\ipykernel_31808\\3716661773.py:146: UserWarning: FixedFormatter should only be used together with FixedLocator\n",
      "  ax.set_xticklabels(model_outputs_ext_labels, rotation=60, ha='right')\n"
     ]
    },
    {
     "name": "stdout",
     "output_type": "stream",
     "text": [
      "Filter 78 / 128...\n"
     ]
    },
    {
     "name": "stderr",
     "output_type": "stream",
     "text": [
      "C:\\Users\\casti\\AppData\\Local\\Temp\\ipykernel_31808\\3716661773.py:146: UserWarning: FixedFormatter should only be used together with FixedLocator\n",
      "  ax.set_xticklabels(model_outputs_ext_labels, rotation=60, ha='right')\n"
     ]
    },
    {
     "name": "stdout",
     "output_type": "stream",
     "text": [
      "Filter 79 / 128...\n"
     ]
    },
    {
     "name": "stderr",
     "output_type": "stream",
     "text": [
      "C:\\Users\\casti\\AppData\\Local\\Temp\\ipykernel_31808\\3716661773.py:146: UserWarning: FixedFormatter should only be used together with FixedLocator\n",
      "  ax.set_xticklabels(model_outputs_ext_labels, rotation=60, ha='right')\n"
     ]
    },
    {
     "name": "stdout",
     "output_type": "stream",
     "text": [
      "Filter 80 / 128...\n"
     ]
    },
    {
     "name": "stderr",
     "output_type": "stream",
     "text": [
      "C:\\Users\\casti\\AppData\\Local\\Temp\\ipykernel_31808\\3716661773.py:146: UserWarning: FixedFormatter should only be used together with FixedLocator\n",
      "  ax.set_xticklabels(model_outputs_ext_labels, rotation=60, ha='right')\n"
     ]
    },
    {
     "name": "stdout",
     "output_type": "stream",
     "text": [
      "Filter 81 / 128...\n"
     ]
    },
    {
     "name": "stderr",
     "output_type": "stream",
     "text": [
      "C:\\Users\\casti\\AppData\\Local\\Temp\\ipykernel_31808\\3716661773.py:146: UserWarning: FixedFormatter should only be used together with FixedLocator\n",
      "  ax.set_xticklabels(model_outputs_ext_labels, rotation=60, ha='right')\n"
     ]
    },
    {
     "name": "stdout",
     "output_type": "stream",
     "text": [
      "Filter 82 / 128...\n"
     ]
    },
    {
     "name": "stderr",
     "output_type": "stream",
     "text": [
      "C:\\Users\\casti\\AppData\\Local\\Temp\\ipykernel_31808\\3716661773.py:146: UserWarning: FixedFormatter should only be used together with FixedLocator\n",
      "  ax.set_xticklabels(model_outputs_ext_labels, rotation=60, ha='right')\n"
     ]
    },
    {
     "name": "stdout",
     "output_type": "stream",
     "text": [
      "Filter 83 / 128...\n"
     ]
    },
    {
     "name": "stderr",
     "output_type": "stream",
     "text": [
      "C:\\Users\\casti\\AppData\\Local\\Temp\\ipykernel_31808\\3716661773.py:146: UserWarning: FixedFormatter should only be used together with FixedLocator\n",
      "  ax.set_xticklabels(model_outputs_ext_labels, rotation=60, ha='right')\n"
     ]
    },
    {
     "name": "stdout",
     "output_type": "stream",
     "text": [
      "Filter 84 / 128...\n"
     ]
    },
    {
     "name": "stderr",
     "output_type": "stream",
     "text": [
      "C:\\Users\\casti\\AppData\\Local\\Temp\\ipykernel_31808\\3716661773.py:146: UserWarning: FixedFormatter should only be used together with FixedLocator\n",
      "  ax.set_xticklabels(model_outputs_ext_labels, rotation=60, ha='right')\n"
     ]
    },
    {
     "name": "stdout",
     "output_type": "stream",
     "text": [
      "Filter 85 / 128...\n"
     ]
    },
    {
     "name": "stderr",
     "output_type": "stream",
     "text": [
      "C:\\Users\\casti\\AppData\\Local\\Temp\\ipykernel_31808\\3716661773.py:146: UserWarning: FixedFormatter should only be used together with FixedLocator\n",
      "  ax.set_xticklabels(model_outputs_ext_labels, rotation=60, ha='right')\n"
     ]
    },
    {
     "name": "stdout",
     "output_type": "stream",
     "text": [
      "Filter 86 / 128...\n"
     ]
    },
    {
     "name": "stderr",
     "output_type": "stream",
     "text": [
      "C:\\Users\\casti\\AppData\\Local\\Temp\\ipykernel_31808\\3716661773.py:146: UserWarning: FixedFormatter should only be used together with FixedLocator\n",
      "  ax.set_xticklabels(model_outputs_ext_labels, rotation=60, ha='right')\n"
     ]
    },
    {
     "name": "stdout",
     "output_type": "stream",
     "text": [
      "Filter 87 / 128...\n"
     ]
    },
    {
     "name": "stderr",
     "output_type": "stream",
     "text": [
      "C:\\Users\\casti\\AppData\\Local\\Temp\\ipykernel_31808\\3716661773.py:146: UserWarning: FixedFormatter should only be used together with FixedLocator\n",
      "  ax.set_xticklabels(model_outputs_ext_labels, rotation=60, ha='right')\n"
     ]
    },
    {
     "name": "stdout",
     "output_type": "stream",
     "text": [
      "Filter 88 / 128...\n"
     ]
    },
    {
     "name": "stderr",
     "output_type": "stream",
     "text": [
      "C:\\Users\\casti\\AppData\\Local\\Temp\\ipykernel_31808\\3716661773.py:146: UserWarning: FixedFormatter should only be used together with FixedLocator\n",
      "  ax.set_xticklabels(model_outputs_ext_labels, rotation=60, ha='right')\n"
     ]
    },
    {
     "name": "stdout",
     "output_type": "stream",
     "text": [
      "Filter 89 / 128...\n"
     ]
    },
    {
     "name": "stderr",
     "output_type": "stream",
     "text": [
      "C:\\Users\\casti\\AppData\\Local\\Temp\\ipykernel_31808\\3716661773.py:146: UserWarning: FixedFormatter should only be used together with FixedLocator\n",
      "  ax.set_xticklabels(model_outputs_ext_labels, rotation=60, ha='right')\n"
     ]
    },
    {
     "name": "stdout",
     "output_type": "stream",
     "text": [
      "Filter 90 / 128...\n"
     ]
    },
    {
     "name": "stderr",
     "output_type": "stream",
     "text": [
      "C:\\Users\\casti\\AppData\\Local\\Temp\\ipykernel_31808\\3716661773.py:146: UserWarning: FixedFormatter should only be used together with FixedLocator\n",
      "  ax.set_xticklabels(model_outputs_ext_labels, rotation=60, ha='right')\n"
     ]
    },
    {
     "name": "stdout",
     "output_type": "stream",
     "text": [
      "Filter 91 / 128...\n"
     ]
    },
    {
     "name": "stderr",
     "output_type": "stream",
     "text": [
      "C:\\Users\\casti\\AppData\\Local\\Temp\\ipykernel_31808\\3716661773.py:146: UserWarning: FixedFormatter should only be used together with FixedLocator\n",
      "  ax.set_xticklabels(model_outputs_ext_labels, rotation=60, ha='right')\n"
     ]
    },
    {
     "name": "stdout",
     "output_type": "stream",
     "text": [
      "Filter 92 / 128...\n"
     ]
    },
    {
     "name": "stderr",
     "output_type": "stream",
     "text": [
      "C:\\Users\\casti\\AppData\\Local\\Temp\\ipykernel_31808\\3716661773.py:146: UserWarning: FixedFormatter should only be used together with FixedLocator\n",
      "  ax.set_xticklabels(model_outputs_ext_labels, rotation=60, ha='right')\n"
     ]
    },
    {
     "name": "stdout",
     "output_type": "stream",
     "text": [
      "Filter 93 / 128...\n"
     ]
    },
    {
     "name": "stderr",
     "output_type": "stream",
     "text": [
      "C:\\Users\\casti\\AppData\\Local\\Temp\\ipykernel_31808\\3716661773.py:146: UserWarning: FixedFormatter should only be used together with FixedLocator\n",
      "  ax.set_xticklabels(model_outputs_ext_labels, rotation=60, ha='right')\n"
     ]
    },
    {
     "name": "stdout",
     "output_type": "stream",
     "text": [
      "Filter 94 / 128...\n"
     ]
    },
    {
     "name": "stderr",
     "output_type": "stream",
     "text": [
      "C:\\Users\\casti\\AppData\\Local\\Temp\\ipykernel_31808\\3716661773.py:146: UserWarning: FixedFormatter should only be used together with FixedLocator\n",
      "  ax.set_xticklabels(model_outputs_ext_labels, rotation=60, ha='right')\n"
     ]
    },
    {
     "name": "stdout",
     "output_type": "stream",
     "text": [
      "Filter 95 / 128...\n"
     ]
    },
    {
     "name": "stderr",
     "output_type": "stream",
     "text": [
      "C:\\Users\\casti\\AppData\\Local\\Temp\\ipykernel_31808\\3716661773.py:146: UserWarning: FixedFormatter should only be used together with FixedLocator\n",
      "  ax.set_xticklabels(model_outputs_ext_labels, rotation=60, ha='right')\n"
     ]
    },
    {
     "name": "stdout",
     "output_type": "stream",
     "text": [
      "Filter 96 / 128...\n"
     ]
    },
    {
     "name": "stderr",
     "output_type": "stream",
     "text": [
      "C:\\Users\\casti\\AppData\\Local\\Temp\\ipykernel_31808\\3716661773.py:146: UserWarning: FixedFormatter should only be used together with FixedLocator\n",
      "  ax.set_xticklabels(model_outputs_ext_labels, rotation=60, ha='right')\n"
     ]
    },
    {
     "name": "stdout",
     "output_type": "stream",
     "text": [
      "Filter 97 / 128...\n"
     ]
    },
    {
     "name": "stderr",
     "output_type": "stream",
     "text": [
      "C:\\Users\\casti\\AppData\\Local\\Temp\\ipykernel_31808\\3716661773.py:146: UserWarning: FixedFormatter should only be used together with FixedLocator\n",
      "  ax.set_xticklabels(model_outputs_ext_labels, rotation=60, ha='right')\n"
     ]
    },
    {
     "name": "stdout",
     "output_type": "stream",
     "text": [
      "Filter 98 / 128...\n"
     ]
    },
    {
     "name": "stderr",
     "output_type": "stream",
     "text": [
      "C:\\Users\\casti\\AppData\\Local\\Temp\\ipykernel_31808\\3716661773.py:146: UserWarning: FixedFormatter should only be used together with FixedLocator\n",
      "  ax.set_xticklabels(model_outputs_ext_labels, rotation=60, ha='right')\n"
     ]
    },
    {
     "name": "stdout",
     "output_type": "stream",
     "text": [
      "Filter 99 / 128...\n"
     ]
    },
    {
     "name": "stderr",
     "output_type": "stream",
     "text": [
      "C:\\Users\\casti\\AppData\\Local\\Temp\\ipykernel_31808\\3716661773.py:146: UserWarning: FixedFormatter should only be used together with FixedLocator\n",
      "  ax.set_xticklabels(model_outputs_ext_labels, rotation=60, ha='right')\n"
     ]
    },
    {
     "name": "stdout",
     "output_type": "stream",
     "text": [
      "Filter 100 / 128...\n"
     ]
    },
    {
     "name": "stderr",
     "output_type": "stream",
     "text": [
      "C:\\Users\\casti\\AppData\\Local\\Temp\\ipykernel_31808\\3716661773.py:146: UserWarning: FixedFormatter should only be used together with FixedLocator\n",
      "  ax.set_xticklabels(model_outputs_ext_labels, rotation=60, ha='right')\n"
     ]
    },
    {
     "name": "stdout",
     "output_type": "stream",
     "text": [
      "Filter 101 / 128...\n"
     ]
    },
    {
     "name": "stderr",
     "output_type": "stream",
     "text": [
      "C:\\Users\\casti\\AppData\\Local\\Temp\\ipykernel_31808\\3716661773.py:146: UserWarning: FixedFormatter should only be used together with FixedLocator\n",
      "  ax.set_xticklabels(model_outputs_ext_labels, rotation=60, ha='right')\n"
     ]
    },
    {
     "name": "stdout",
     "output_type": "stream",
     "text": [
      "Filter 102 / 128...\n"
     ]
    },
    {
     "name": "stderr",
     "output_type": "stream",
     "text": [
      "C:\\Users\\casti\\AppData\\Local\\Temp\\ipykernel_31808\\3716661773.py:146: UserWarning: FixedFormatter should only be used together with FixedLocator\n",
      "  ax.set_xticklabels(model_outputs_ext_labels, rotation=60, ha='right')\n"
     ]
    },
    {
     "name": "stdout",
     "output_type": "stream",
     "text": [
      "Filter 103 / 128...\n"
     ]
    },
    {
     "name": "stderr",
     "output_type": "stream",
     "text": [
      "C:\\Users\\casti\\AppData\\Local\\Temp\\ipykernel_31808\\3716661773.py:146: UserWarning: FixedFormatter should only be used together with FixedLocator\n",
      "  ax.set_xticklabels(model_outputs_ext_labels, rotation=60, ha='right')\n"
     ]
    },
    {
     "name": "stdout",
     "output_type": "stream",
     "text": [
      "Filter 104 / 128...\n"
     ]
    },
    {
     "name": "stderr",
     "output_type": "stream",
     "text": [
      "C:\\Users\\casti\\AppData\\Local\\Temp\\ipykernel_31808\\3716661773.py:146: UserWarning: FixedFormatter should only be used together with FixedLocator\n",
      "  ax.set_xticklabels(model_outputs_ext_labels, rotation=60, ha='right')\n"
     ]
    },
    {
     "name": "stdout",
     "output_type": "stream",
     "text": [
      "Filter 105 / 128...\n"
     ]
    },
    {
     "name": "stderr",
     "output_type": "stream",
     "text": [
      "C:\\Users\\casti\\AppData\\Local\\Temp\\ipykernel_31808\\3716661773.py:146: UserWarning: FixedFormatter should only be used together with FixedLocator\n",
      "  ax.set_xticklabels(model_outputs_ext_labels, rotation=60, ha='right')\n"
     ]
    },
    {
     "name": "stdout",
     "output_type": "stream",
     "text": [
      "Filter 106 / 128...\n"
     ]
    },
    {
     "name": "stderr",
     "output_type": "stream",
     "text": [
      "C:\\Users\\casti\\AppData\\Local\\Temp\\ipykernel_31808\\3716661773.py:146: UserWarning: FixedFormatter should only be used together with FixedLocator\n",
      "  ax.set_xticklabels(model_outputs_ext_labels, rotation=60, ha='right')\n"
     ]
    },
    {
     "name": "stdout",
     "output_type": "stream",
     "text": [
      "Filter 107 / 128...\n"
     ]
    },
    {
     "name": "stderr",
     "output_type": "stream",
     "text": [
      "C:\\Users\\casti\\AppData\\Local\\Temp\\ipykernel_31808\\3716661773.py:146: UserWarning: FixedFormatter should only be used together with FixedLocator\n",
      "  ax.set_xticklabels(model_outputs_ext_labels, rotation=60, ha='right')\n"
     ]
    },
    {
     "name": "stdout",
     "output_type": "stream",
     "text": [
      "Filter 108 / 128...\n"
     ]
    },
    {
     "name": "stderr",
     "output_type": "stream",
     "text": [
      "C:\\Users\\casti\\AppData\\Local\\Temp\\ipykernel_31808\\3716661773.py:146: UserWarning: FixedFormatter should only be used together with FixedLocator\n",
      "  ax.set_xticklabels(model_outputs_ext_labels, rotation=60, ha='right')\n"
     ]
    },
    {
     "name": "stdout",
     "output_type": "stream",
     "text": [
      "Filter 109 / 128...\n"
     ]
    },
    {
     "name": "stderr",
     "output_type": "stream",
     "text": [
      "C:\\Users\\casti\\AppData\\Local\\Temp\\ipykernel_31808\\3716661773.py:146: UserWarning: FixedFormatter should only be used together with FixedLocator\n",
      "  ax.set_xticklabels(model_outputs_ext_labels, rotation=60, ha='right')\n"
     ]
    },
    {
     "name": "stdout",
     "output_type": "stream",
     "text": [
      "Filter 110 / 128...\n"
     ]
    },
    {
     "name": "stderr",
     "output_type": "stream",
     "text": [
      "C:\\Users\\casti\\AppData\\Local\\Temp\\ipykernel_31808\\3716661773.py:146: UserWarning: FixedFormatter should only be used together with FixedLocator\n",
      "  ax.set_xticklabels(model_outputs_ext_labels, rotation=60, ha='right')\n"
     ]
    },
    {
     "name": "stdout",
     "output_type": "stream",
     "text": [
      "Filter 111 / 128...\n"
     ]
    },
    {
     "name": "stderr",
     "output_type": "stream",
     "text": [
      "C:\\Users\\casti\\AppData\\Local\\Temp\\ipykernel_31808\\3716661773.py:146: UserWarning: FixedFormatter should only be used together with FixedLocator\n",
      "  ax.set_xticklabels(model_outputs_ext_labels, rotation=60, ha='right')\n"
     ]
    },
    {
     "name": "stdout",
     "output_type": "stream",
     "text": [
      "Filter 112 / 128...\n"
     ]
    },
    {
     "name": "stderr",
     "output_type": "stream",
     "text": [
      "C:\\Users\\casti\\AppData\\Local\\Temp\\ipykernel_31808\\3716661773.py:146: UserWarning: FixedFormatter should only be used together with FixedLocator\n",
      "  ax.set_xticklabels(model_outputs_ext_labels, rotation=60, ha='right')\n"
     ]
    },
    {
     "name": "stdout",
     "output_type": "stream",
     "text": [
      "Filter 113 / 128...\n"
     ]
    },
    {
     "name": "stderr",
     "output_type": "stream",
     "text": [
      "C:\\Users\\casti\\AppData\\Local\\Temp\\ipykernel_31808\\3716661773.py:146: UserWarning: FixedFormatter should only be used together with FixedLocator\n",
      "  ax.set_xticklabels(model_outputs_ext_labels, rotation=60, ha='right')\n"
     ]
    },
    {
     "name": "stdout",
     "output_type": "stream",
     "text": [
      "Filter 114 / 128...\n"
     ]
    },
    {
     "name": "stderr",
     "output_type": "stream",
     "text": [
      "C:\\Users\\casti\\AppData\\Local\\Temp\\ipykernel_31808\\3716661773.py:146: UserWarning: FixedFormatter should only be used together with FixedLocator\n",
      "  ax.set_xticklabels(model_outputs_ext_labels, rotation=60, ha='right')\n"
     ]
    },
    {
     "name": "stdout",
     "output_type": "stream",
     "text": [
      "Filter 115 / 128...\n"
     ]
    },
    {
     "name": "stderr",
     "output_type": "stream",
     "text": [
      "C:\\Users\\casti\\AppData\\Local\\Temp\\ipykernel_31808\\3716661773.py:146: UserWarning: FixedFormatter should only be used together with FixedLocator\n",
      "  ax.set_xticklabels(model_outputs_ext_labels, rotation=60, ha='right')\n"
     ]
    },
    {
     "name": "stdout",
     "output_type": "stream",
     "text": [
      "Filter 116 / 128...\n"
     ]
    },
    {
     "name": "stderr",
     "output_type": "stream",
     "text": [
      "C:\\Users\\casti\\AppData\\Local\\Temp\\ipykernel_31808\\3716661773.py:146: UserWarning: FixedFormatter should only be used together with FixedLocator\n",
      "  ax.set_xticklabels(model_outputs_ext_labels, rotation=60, ha='right')\n"
     ]
    },
    {
     "name": "stdout",
     "output_type": "stream",
     "text": [
      "Filter 117 / 128...\n"
     ]
    },
    {
     "name": "stderr",
     "output_type": "stream",
     "text": [
      "C:\\Users\\casti\\AppData\\Local\\Temp\\ipykernel_31808\\3716661773.py:146: UserWarning: FixedFormatter should only be used together with FixedLocator\n",
      "  ax.set_xticklabels(model_outputs_ext_labels, rotation=60, ha='right')\n"
     ]
    },
    {
     "name": "stdout",
     "output_type": "stream",
     "text": [
      "Filter 118 / 128...\n"
     ]
    },
    {
     "name": "stderr",
     "output_type": "stream",
     "text": [
      "C:\\Users\\casti\\AppData\\Local\\Temp\\ipykernel_31808\\3716661773.py:146: UserWarning: FixedFormatter should only be used together with FixedLocator\n",
      "  ax.set_xticklabels(model_outputs_ext_labels, rotation=60, ha='right')\n"
     ]
    },
    {
     "name": "stdout",
     "output_type": "stream",
     "text": [
      "Filter 119 / 128...\n"
     ]
    },
    {
     "name": "stderr",
     "output_type": "stream",
     "text": [
      "C:\\Users\\casti\\AppData\\Local\\Temp\\ipykernel_31808\\3716661773.py:146: UserWarning: FixedFormatter should only be used together with FixedLocator\n",
      "  ax.set_xticklabels(model_outputs_ext_labels, rotation=60, ha='right')\n"
     ]
    },
    {
     "name": "stdout",
     "output_type": "stream",
     "text": [
      "Filter 120 / 128...\n"
     ]
    },
    {
     "name": "stderr",
     "output_type": "stream",
     "text": [
      "C:\\Users\\casti\\AppData\\Local\\Temp\\ipykernel_31808\\3716661773.py:146: UserWarning: FixedFormatter should only be used together with FixedLocator\n",
      "  ax.set_xticklabels(model_outputs_ext_labels, rotation=60, ha='right')\n"
     ]
    },
    {
     "name": "stdout",
     "output_type": "stream",
     "text": [
      "Filter 121 / 128...\n"
     ]
    },
    {
     "name": "stderr",
     "output_type": "stream",
     "text": [
      "C:\\Users\\casti\\AppData\\Local\\Temp\\ipykernel_31808\\3716661773.py:146: UserWarning: FixedFormatter should only be used together with FixedLocator\n",
      "  ax.set_xticklabels(model_outputs_ext_labels, rotation=60, ha='right')\n"
     ]
    },
    {
     "name": "stdout",
     "output_type": "stream",
     "text": [
      "Filter 122 / 128...\n"
     ]
    },
    {
     "name": "stderr",
     "output_type": "stream",
     "text": [
      "C:\\Users\\casti\\AppData\\Local\\Temp\\ipykernel_31808\\3716661773.py:146: UserWarning: FixedFormatter should only be used together with FixedLocator\n",
      "  ax.set_xticklabels(model_outputs_ext_labels, rotation=60, ha='right')\n"
     ]
    },
    {
     "name": "stdout",
     "output_type": "stream",
     "text": [
      "Filter 123 / 128...\n"
     ]
    },
    {
     "name": "stderr",
     "output_type": "stream",
     "text": [
      "C:\\Users\\casti\\AppData\\Local\\Temp\\ipykernel_31808\\3716661773.py:146: UserWarning: FixedFormatter should only be used together with FixedLocator\n",
      "  ax.set_xticklabels(model_outputs_ext_labels, rotation=60, ha='right')\n"
     ]
    },
    {
     "name": "stdout",
     "output_type": "stream",
     "text": [
      "Filter 124 / 128...\n"
     ]
    },
    {
     "name": "stderr",
     "output_type": "stream",
     "text": [
      "C:\\Users\\casti\\AppData\\Local\\Temp\\ipykernel_31808\\3716661773.py:146: UserWarning: FixedFormatter should only be used together with FixedLocator\n",
      "  ax.set_xticklabels(model_outputs_ext_labels, rotation=60, ha='right')\n"
     ]
    },
    {
     "name": "stdout",
     "output_type": "stream",
     "text": [
      "Filter 125 / 128...\n"
     ]
    },
    {
     "name": "stderr",
     "output_type": "stream",
     "text": [
      "C:\\Users\\casti\\AppData\\Local\\Temp\\ipykernel_31808\\3716661773.py:146: UserWarning: FixedFormatter should only be used together with FixedLocator\n",
      "  ax.set_xticklabels(model_outputs_ext_labels, rotation=60, ha='right')\n"
     ]
    },
    {
     "name": "stdout",
     "output_type": "stream",
     "text": [
      "Filter 126 / 128...\n"
     ]
    },
    {
     "name": "stderr",
     "output_type": "stream",
     "text": [
      "C:\\Users\\casti\\AppData\\Local\\Temp\\ipykernel_31808\\3716661773.py:146: UserWarning: FixedFormatter should only be used together with FixedLocator\n",
      "  ax.set_xticklabels(model_outputs_ext_labels, rotation=60, ha='right')\n"
     ]
    },
    {
     "name": "stdout",
     "output_type": "stream",
     "text": [
      "Filter 127 / 128...\n"
     ]
    },
    {
     "name": "stderr",
     "output_type": "stream",
     "text": [
      "C:\\Users\\casti\\AppData\\Local\\Temp\\ipykernel_31808\\3716661773.py:146: UserWarning: FixedFormatter should only be used together with FixedLocator\n",
      "  ax.set_xticklabels(model_outputs_ext_labels, rotation=60, ha='right')\n"
     ]
    },
    {
     "name": "stdout",
     "output_type": "stream",
     "text": [
      "Saving meme file...\n",
      "Done with model 6.\n",
      "Processing model 7...\n",
      "Filter 0 / 128...\n"
     ]
    },
    {
     "name": "stderr",
     "output_type": "stream",
     "text": [
      "C:\\Users\\casti\\AppData\\Local\\Temp\\ipykernel_31808\\3716661773.py:146: UserWarning: FixedFormatter should only be used together with FixedLocator\n",
      "  ax.set_xticklabels(model_outputs_ext_labels, rotation=60, ha='right')\n"
     ]
    },
    {
     "name": "stdout",
     "output_type": "stream",
     "text": [
      "Filter 1 / 128...\n"
     ]
    },
    {
     "name": "stderr",
     "output_type": "stream",
     "text": [
      "C:\\Users\\casti\\AppData\\Local\\Temp\\ipykernel_31808\\3716661773.py:146: UserWarning: FixedFormatter should only be used together with FixedLocator\n",
      "  ax.set_xticklabels(model_outputs_ext_labels, rotation=60, ha='right')\n"
     ]
    },
    {
     "name": "stdout",
     "output_type": "stream",
     "text": [
      "Filter 2 / 128...\n"
     ]
    },
    {
     "name": "stderr",
     "output_type": "stream",
     "text": [
      "C:\\Users\\casti\\AppData\\Local\\Temp\\ipykernel_31808\\3716661773.py:146: UserWarning: FixedFormatter should only be used together with FixedLocator\n",
      "  ax.set_xticklabels(model_outputs_ext_labels, rotation=60, ha='right')\n"
     ]
    },
    {
     "name": "stdout",
     "output_type": "stream",
     "text": [
      "Filter 3 / 128...\n"
     ]
    },
    {
     "name": "stderr",
     "output_type": "stream",
     "text": [
      "C:\\Users\\casti\\AppData\\Local\\Temp\\ipykernel_31808\\3716661773.py:146: UserWarning: FixedFormatter should only be used together with FixedLocator\n",
      "  ax.set_xticklabels(model_outputs_ext_labels, rotation=60, ha='right')\n"
     ]
    },
    {
     "name": "stdout",
     "output_type": "stream",
     "text": [
      "Filter 4 / 128...\n"
     ]
    },
    {
     "name": "stderr",
     "output_type": "stream",
     "text": [
      "C:\\Users\\casti\\AppData\\Local\\Temp\\ipykernel_31808\\3716661773.py:146: UserWarning: FixedFormatter should only be used together with FixedLocator\n",
      "  ax.set_xticklabels(model_outputs_ext_labels, rotation=60, ha='right')\n"
     ]
    },
    {
     "name": "stdout",
     "output_type": "stream",
     "text": [
      "Filter 5 / 128...\n"
     ]
    },
    {
     "name": "stderr",
     "output_type": "stream",
     "text": [
      "C:\\Users\\casti\\AppData\\Local\\Temp\\ipykernel_31808\\3716661773.py:146: UserWarning: FixedFormatter should only be used together with FixedLocator\n",
      "  ax.set_xticklabels(model_outputs_ext_labels, rotation=60, ha='right')\n"
     ]
    },
    {
     "name": "stdout",
     "output_type": "stream",
     "text": [
      "Filter 6 / 128...\n"
     ]
    },
    {
     "name": "stderr",
     "output_type": "stream",
     "text": [
      "C:\\Users\\casti\\AppData\\Local\\Temp\\ipykernel_31808\\3716661773.py:146: UserWarning: FixedFormatter should only be used together with FixedLocator\n",
      "  ax.set_xticklabels(model_outputs_ext_labels, rotation=60, ha='right')\n"
     ]
    },
    {
     "name": "stdout",
     "output_type": "stream",
     "text": [
      "Filter 7 / 128...\n"
     ]
    },
    {
     "name": "stderr",
     "output_type": "stream",
     "text": [
      "C:\\Users\\casti\\AppData\\Local\\Temp\\ipykernel_31808\\3716661773.py:146: UserWarning: FixedFormatter should only be used together with FixedLocator\n",
      "  ax.set_xticklabels(model_outputs_ext_labels, rotation=60, ha='right')\n"
     ]
    },
    {
     "name": "stdout",
     "output_type": "stream",
     "text": [
      "Filter 8 / 128...\n"
     ]
    },
    {
     "name": "stderr",
     "output_type": "stream",
     "text": [
      "C:\\Users\\casti\\AppData\\Local\\Temp\\ipykernel_31808\\3716661773.py:146: UserWarning: FixedFormatter should only be used together with FixedLocator\n",
      "  ax.set_xticklabels(model_outputs_ext_labels, rotation=60, ha='right')\n"
     ]
    },
    {
     "name": "stdout",
     "output_type": "stream",
     "text": [
      "Filter 9 / 128...\n"
     ]
    },
    {
     "name": "stderr",
     "output_type": "stream",
     "text": [
      "C:\\Users\\casti\\AppData\\Local\\Temp\\ipykernel_31808\\3716661773.py:146: UserWarning: FixedFormatter should only be used together with FixedLocator\n",
      "  ax.set_xticklabels(model_outputs_ext_labels, rotation=60, ha='right')\n"
     ]
    },
    {
     "name": "stdout",
     "output_type": "stream",
     "text": [
      "Filter 10 / 128...\n"
     ]
    },
    {
     "name": "stderr",
     "output_type": "stream",
     "text": [
      "C:\\Users\\casti\\AppData\\Local\\Temp\\ipykernel_31808\\3716661773.py:146: UserWarning: FixedFormatter should only be used together with FixedLocator\n",
      "  ax.set_xticklabels(model_outputs_ext_labels, rotation=60, ha='right')\n"
     ]
    },
    {
     "name": "stdout",
     "output_type": "stream",
     "text": [
      "Filter 11 / 128...\n"
     ]
    },
    {
     "name": "stderr",
     "output_type": "stream",
     "text": [
      "C:\\Users\\casti\\AppData\\Local\\Temp\\ipykernel_31808\\3716661773.py:146: UserWarning: FixedFormatter should only be used together with FixedLocator\n",
      "  ax.set_xticklabels(model_outputs_ext_labels, rotation=60, ha='right')\n"
     ]
    },
    {
     "name": "stdout",
     "output_type": "stream",
     "text": [
      "Filter 12 / 128...\n"
     ]
    },
    {
     "name": "stderr",
     "output_type": "stream",
     "text": [
      "C:\\Users\\casti\\AppData\\Local\\Temp\\ipykernel_31808\\3716661773.py:146: UserWarning: FixedFormatter should only be used together with FixedLocator\n",
      "  ax.set_xticklabels(model_outputs_ext_labels, rotation=60, ha='right')\n"
     ]
    },
    {
     "name": "stdout",
     "output_type": "stream",
     "text": [
      "Filter 13 / 128...\n"
     ]
    },
    {
     "name": "stderr",
     "output_type": "stream",
     "text": [
      "C:\\Users\\casti\\AppData\\Local\\Temp\\ipykernel_31808\\3716661773.py:146: UserWarning: FixedFormatter should only be used together with FixedLocator\n",
      "  ax.set_xticklabels(model_outputs_ext_labels, rotation=60, ha='right')\n"
     ]
    },
    {
     "name": "stdout",
     "output_type": "stream",
     "text": [
      "Filter 14 / 128...\n"
     ]
    },
    {
     "name": "stderr",
     "output_type": "stream",
     "text": [
      "C:\\Users\\casti\\AppData\\Local\\Temp\\ipykernel_31808\\3716661773.py:146: UserWarning: FixedFormatter should only be used together with FixedLocator\n",
      "  ax.set_xticklabels(model_outputs_ext_labels, rotation=60, ha='right')\n"
     ]
    },
    {
     "name": "stdout",
     "output_type": "stream",
     "text": [
      "Filter 15 / 128...\n"
     ]
    },
    {
     "name": "stderr",
     "output_type": "stream",
     "text": [
      "C:\\Users\\casti\\AppData\\Local\\Temp\\ipykernel_31808\\3716661773.py:146: UserWarning: FixedFormatter should only be used together with FixedLocator\n",
      "  ax.set_xticklabels(model_outputs_ext_labels, rotation=60, ha='right')\n"
     ]
    },
    {
     "name": "stdout",
     "output_type": "stream",
     "text": [
      "Filter 16 / 128...\n"
     ]
    },
    {
     "name": "stderr",
     "output_type": "stream",
     "text": [
      "C:\\Users\\casti\\AppData\\Local\\Temp\\ipykernel_31808\\3716661773.py:146: UserWarning: FixedFormatter should only be used together with FixedLocator\n",
      "  ax.set_xticklabels(model_outputs_ext_labels, rotation=60, ha='right')\n"
     ]
    },
    {
     "name": "stdout",
     "output_type": "stream",
     "text": [
      "Filter 17 / 128...\n"
     ]
    },
    {
     "name": "stderr",
     "output_type": "stream",
     "text": [
      "C:\\Users\\casti\\AppData\\Local\\Temp\\ipykernel_31808\\3716661773.py:146: UserWarning: FixedFormatter should only be used together with FixedLocator\n",
      "  ax.set_xticklabels(model_outputs_ext_labels, rotation=60, ha='right')\n"
     ]
    },
    {
     "name": "stdout",
     "output_type": "stream",
     "text": [
      "Filter 18 / 128...\n"
     ]
    },
    {
     "name": "stderr",
     "output_type": "stream",
     "text": [
      "C:\\Users\\casti\\AppData\\Local\\Temp\\ipykernel_31808\\3716661773.py:146: UserWarning: FixedFormatter should only be used together with FixedLocator\n",
      "  ax.set_xticklabels(model_outputs_ext_labels, rotation=60, ha='right')\n"
     ]
    },
    {
     "name": "stdout",
     "output_type": "stream",
     "text": [
      "Filter 19 / 128...\n"
     ]
    },
    {
     "name": "stderr",
     "output_type": "stream",
     "text": [
      "C:\\Users\\casti\\AppData\\Local\\Temp\\ipykernel_31808\\3716661773.py:146: UserWarning: FixedFormatter should only be used together with FixedLocator\n",
      "  ax.set_xticklabels(model_outputs_ext_labels, rotation=60, ha='right')\n"
     ]
    },
    {
     "name": "stdout",
     "output_type": "stream",
     "text": [
      "Filter 20 / 128...\n"
     ]
    },
    {
     "name": "stderr",
     "output_type": "stream",
     "text": [
      "C:\\Users\\casti\\AppData\\Local\\Temp\\ipykernel_31808\\3716661773.py:146: UserWarning: FixedFormatter should only be used together with FixedLocator\n",
      "  ax.set_xticklabels(model_outputs_ext_labels, rotation=60, ha='right')\n"
     ]
    },
    {
     "name": "stdout",
     "output_type": "stream",
     "text": [
      "Filter 21 / 128...\n"
     ]
    },
    {
     "name": "stderr",
     "output_type": "stream",
     "text": [
      "C:\\Users\\casti\\AppData\\Local\\Temp\\ipykernel_31808\\3716661773.py:146: UserWarning: FixedFormatter should only be used together with FixedLocator\n",
      "  ax.set_xticklabels(model_outputs_ext_labels, rotation=60, ha='right')\n"
     ]
    },
    {
     "name": "stdout",
     "output_type": "stream",
     "text": [
      "Filter 22 / 128...\n"
     ]
    },
    {
     "name": "stderr",
     "output_type": "stream",
     "text": [
      "C:\\Users\\casti\\AppData\\Local\\Temp\\ipykernel_31808\\3716661773.py:146: UserWarning: FixedFormatter should only be used together with FixedLocator\n",
      "  ax.set_xticklabels(model_outputs_ext_labels, rotation=60, ha='right')\n"
     ]
    },
    {
     "name": "stdout",
     "output_type": "stream",
     "text": [
      "Filter 23 / 128...\n"
     ]
    },
    {
     "name": "stderr",
     "output_type": "stream",
     "text": [
      "C:\\Users\\casti\\AppData\\Local\\Temp\\ipykernel_31808\\3716661773.py:146: UserWarning: FixedFormatter should only be used together with FixedLocator\n",
      "  ax.set_xticklabels(model_outputs_ext_labels, rotation=60, ha='right')\n"
     ]
    },
    {
     "name": "stdout",
     "output_type": "stream",
     "text": [
      "Filter 24 / 128...\n"
     ]
    },
    {
     "name": "stderr",
     "output_type": "stream",
     "text": [
      "C:\\Users\\casti\\AppData\\Local\\Temp\\ipykernel_31808\\3716661773.py:146: UserWarning: FixedFormatter should only be used together with FixedLocator\n",
      "  ax.set_xticklabels(model_outputs_ext_labels, rotation=60, ha='right')\n"
     ]
    },
    {
     "name": "stdout",
     "output_type": "stream",
     "text": [
      "Filter 25 / 128...\n"
     ]
    },
    {
     "name": "stderr",
     "output_type": "stream",
     "text": [
      "C:\\Users\\casti\\AppData\\Local\\Temp\\ipykernel_31808\\3716661773.py:146: UserWarning: FixedFormatter should only be used together with FixedLocator\n",
      "  ax.set_xticklabels(model_outputs_ext_labels, rotation=60, ha='right')\n"
     ]
    },
    {
     "name": "stdout",
     "output_type": "stream",
     "text": [
      "Filter 26 / 128...\n"
     ]
    },
    {
     "name": "stderr",
     "output_type": "stream",
     "text": [
      "C:\\Users\\casti\\AppData\\Local\\Temp\\ipykernel_31808\\3716661773.py:146: UserWarning: FixedFormatter should only be used together with FixedLocator\n",
      "  ax.set_xticklabels(model_outputs_ext_labels, rotation=60, ha='right')\n"
     ]
    },
    {
     "name": "stdout",
     "output_type": "stream",
     "text": [
      "Filter 27 / 128...\n"
     ]
    },
    {
     "name": "stderr",
     "output_type": "stream",
     "text": [
      "C:\\Users\\casti\\AppData\\Local\\Temp\\ipykernel_31808\\3716661773.py:146: UserWarning: FixedFormatter should only be used together with FixedLocator\n",
      "  ax.set_xticklabels(model_outputs_ext_labels, rotation=60, ha='right')\n"
     ]
    },
    {
     "name": "stdout",
     "output_type": "stream",
     "text": [
      "Filter 28 / 128...\n"
     ]
    },
    {
     "name": "stderr",
     "output_type": "stream",
     "text": [
      "C:\\Users\\casti\\AppData\\Local\\Temp\\ipykernel_31808\\3716661773.py:146: UserWarning: FixedFormatter should only be used together with FixedLocator\n",
      "  ax.set_xticklabels(model_outputs_ext_labels, rotation=60, ha='right')\n"
     ]
    },
    {
     "name": "stdout",
     "output_type": "stream",
     "text": [
      "Filter 29 / 128...\n"
     ]
    },
    {
     "name": "stderr",
     "output_type": "stream",
     "text": [
      "C:\\Users\\casti\\AppData\\Local\\Temp\\ipykernel_31808\\3716661773.py:146: UserWarning: FixedFormatter should only be used together with FixedLocator\n",
      "  ax.set_xticklabels(model_outputs_ext_labels, rotation=60, ha='right')\n"
     ]
    },
    {
     "name": "stdout",
     "output_type": "stream",
     "text": [
      "Filter 30 / 128...\n"
     ]
    },
    {
     "name": "stderr",
     "output_type": "stream",
     "text": [
      "C:\\Users\\casti\\AppData\\Local\\Temp\\ipykernel_31808\\3716661773.py:146: UserWarning: FixedFormatter should only be used together with FixedLocator\n",
      "  ax.set_xticklabels(model_outputs_ext_labels, rotation=60, ha='right')\n"
     ]
    },
    {
     "name": "stdout",
     "output_type": "stream",
     "text": [
      "Filter 31 / 128...\n"
     ]
    },
    {
     "name": "stderr",
     "output_type": "stream",
     "text": [
      "C:\\Users\\casti\\AppData\\Local\\Temp\\ipykernel_31808\\3716661773.py:146: UserWarning: FixedFormatter should only be used together with FixedLocator\n",
      "  ax.set_xticklabels(model_outputs_ext_labels, rotation=60, ha='right')\n"
     ]
    },
    {
     "name": "stdout",
     "output_type": "stream",
     "text": [
      "Filter 32 / 128...\n"
     ]
    },
    {
     "name": "stderr",
     "output_type": "stream",
     "text": [
      "C:\\Users\\casti\\AppData\\Local\\Temp\\ipykernel_31808\\3716661773.py:146: UserWarning: FixedFormatter should only be used together with FixedLocator\n",
      "  ax.set_xticklabels(model_outputs_ext_labels, rotation=60, ha='right')\n"
     ]
    },
    {
     "name": "stdout",
     "output_type": "stream",
     "text": [
      "Filter 33 / 128...\n"
     ]
    },
    {
     "name": "stderr",
     "output_type": "stream",
     "text": [
      "C:\\Users\\casti\\AppData\\Local\\Temp\\ipykernel_31808\\3716661773.py:146: UserWarning: FixedFormatter should only be used together with FixedLocator\n",
      "  ax.set_xticklabels(model_outputs_ext_labels, rotation=60, ha='right')\n"
     ]
    },
    {
     "name": "stdout",
     "output_type": "stream",
     "text": [
      "Filter 34 / 128...\n"
     ]
    },
    {
     "name": "stderr",
     "output_type": "stream",
     "text": [
      "C:\\Users\\casti\\AppData\\Local\\Temp\\ipykernel_31808\\3716661773.py:146: UserWarning: FixedFormatter should only be used together with FixedLocator\n",
      "  ax.set_xticklabels(model_outputs_ext_labels, rotation=60, ha='right')\n"
     ]
    },
    {
     "name": "stdout",
     "output_type": "stream",
     "text": [
      "Filter 35 / 128...\n"
     ]
    },
    {
     "name": "stderr",
     "output_type": "stream",
     "text": [
      "C:\\Users\\casti\\AppData\\Local\\Temp\\ipykernel_31808\\3716661773.py:146: UserWarning: FixedFormatter should only be used together with FixedLocator\n",
      "  ax.set_xticklabels(model_outputs_ext_labels, rotation=60, ha='right')\n"
     ]
    },
    {
     "name": "stdout",
     "output_type": "stream",
     "text": [
      "Filter 36 / 128...\n"
     ]
    },
    {
     "name": "stderr",
     "output_type": "stream",
     "text": [
      "C:\\Users\\casti\\AppData\\Local\\Temp\\ipykernel_31808\\3716661773.py:146: UserWarning: FixedFormatter should only be used together with FixedLocator\n",
      "  ax.set_xticklabels(model_outputs_ext_labels, rotation=60, ha='right')\n"
     ]
    },
    {
     "name": "stdout",
     "output_type": "stream",
     "text": [
      "Filter 37 / 128...\n"
     ]
    },
    {
     "name": "stderr",
     "output_type": "stream",
     "text": [
      "C:\\Users\\casti\\AppData\\Local\\Temp\\ipykernel_31808\\3716661773.py:146: UserWarning: FixedFormatter should only be used together with FixedLocator\n",
      "  ax.set_xticklabels(model_outputs_ext_labels, rotation=60, ha='right')\n"
     ]
    },
    {
     "name": "stdout",
     "output_type": "stream",
     "text": [
      "Filter 38 / 128...\n"
     ]
    },
    {
     "name": "stderr",
     "output_type": "stream",
     "text": [
      "C:\\Users\\casti\\AppData\\Local\\Temp\\ipykernel_31808\\3716661773.py:146: UserWarning: FixedFormatter should only be used together with FixedLocator\n",
      "  ax.set_xticklabels(model_outputs_ext_labels, rotation=60, ha='right')\n"
     ]
    },
    {
     "name": "stdout",
     "output_type": "stream",
     "text": [
      "Filter 39 / 128...\n"
     ]
    },
    {
     "name": "stderr",
     "output_type": "stream",
     "text": [
      "C:\\Users\\casti\\AppData\\Local\\Temp\\ipykernel_31808\\3716661773.py:146: UserWarning: FixedFormatter should only be used together with FixedLocator\n",
      "  ax.set_xticklabels(model_outputs_ext_labels, rotation=60, ha='right')\n"
     ]
    },
    {
     "name": "stdout",
     "output_type": "stream",
     "text": [
      "Filter 40 / 128...\n"
     ]
    },
    {
     "name": "stderr",
     "output_type": "stream",
     "text": [
      "C:\\Users\\casti\\AppData\\Local\\Temp\\ipykernel_31808\\3716661773.py:146: UserWarning: FixedFormatter should only be used together with FixedLocator\n",
      "  ax.set_xticklabels(model_outputs_ext_labels, rotation=60, ha='right')\n"
     ]
    },
    {
     "name": "stdout",
     "output_type": "stream",
     "text": [
      "Filter 41 / 128...\n"
     ]
    },
    {
     "name": "stderr",
     "output_type": "stream",
     "text": [
      "C:\\Users\\casti\\AppData\\Local\\Temp\\ipykernel_31808\\3716661773.py:146: UserWarning: FixedFormatter should only be used together with FixedLocator\n",
      "  ax.set_xticklabels(model_outputs_ext_labels, rotation=60, ha='right')\n"
     ]
    },
    {
     "name": "stdout",
     "output_type": "stream",
     "text": [
      "Filter 42 / 128...\n"
     ]
    },
    {
     "name": "stderr",
     "output_type": "stream",
     "text": [
      "C:\\Users\\casti\\AppData\\Local\\Temp\\ipykernel_31808\\3716661773.py:146: UserWarning: FixedFormatter should only be used together with FixedLocator\n",
      "  ax.set_xticklabels(model_outputs_ext_labels, rotation=60, ha='right')\n"
     ]
    },
    {
     "name": "stdout",
     "output_type": "stream",
     "text": [
      "Filter 43 / 128...\n"
     ]
    },
    {
     "name": "stderr",
     "output_type": "stream",
     "text": [
      "C:\\Users\\casti\\AppData\\Local\\Temp\\ipykernel_31808\\3716661773.py:146: UserWarning: FixedFormatter should only be used together with FixedLocator\n",
      "  ax.set_xticklabels(model_outputs_ext_labels, rotation=60, ha='right')\n"
     ]
    },
    {
     "name": "stdout",
     "output_type": "stream",
     "text": [
      "Filter 44 / 128...\n"
     ]
    },
    {
     "name": "stderr",
     "output_type": "stream",
     "text": [
      "C:\\Users\\casti\\AppData\\Local\\Temp\\ipykernel_31808\\3716661773.py:146: UserWarning: FixedFormatter should only be used together with FixedLocator\n",
      "  ax.set_xticklabels(model_outputs_ext_labels, rotation=60, ha='right')\n"
     ]
    },
    {
     "name": "stdout",
     "output_type": "stream",
     "text": [
      "Filter 45 / 128...\n"
     ]
    },
    {
     "name": "stderr",
     "output_type": "stream",
     "text": [
      "C:\\Users\\casti\\AppData\\Local\\Temp\\ipykernel_31808\\3716661773.py:146: UserWarning: FixedFormatter should only be used together with FixedLocator\n",
      "  ax.set_xticklabels(model_outputs_ext_labels, rotation=60, ha='right')\n"
     ]
    },
    {
     "name": "stdout",
     "output_type": "stream",
     "text": [
      "Filter 46 / 128...\n"
     ]
    },
    {
     "name": "stderr",
     "output_type": "stream",
     "text": [
      "C:\\Users\\casti\\AppData\\Local\\Temp\\ipykernel_31808\\3716661773.py:146: UserWarning: FixedFormatter should only be used together with FixedLocator\n",
      "  ax.set_xticklabels(model_outputs_ext_labels, rotation=60, ha='right')\n"
     ]
    },
    {
     "name": "stdout",
     "output_type": "stream",
     "text": [
      "Filter 47 / 128...\n"
     ]
    },
    {
     "name": "stderr",
     "output_type": "stream",
     "text": [
      "C:\\Users\\casti\\AppData\\Local\\Temp\\ipykernel_31808\\3716661773.py:146: UserWarning: FixedFormatter should only be used together with FixedLocator\n",
      "  ax.set_xticklabels(model_outputs_ext_labels, rotation=60, ha='right')\n"
     ]
    },
    {
     "name": "stdout",
     "output_type": "stream",
     "text": [
      "Filter 48 / 128...\n"
     ]
    },
    {
     "name": "stderr",
     "output_type": "stream",
     "text": [
      "C:\\Users\\casti\\AppData\\Local\\Temp\\ipykernel_31808\\3716661773.py:146: UserWarning: FixedFormatter should only be used together with FixedLocator\n",
      "  ax.set_xticklabels(model_outputs_ext_labels, rotation=60, ha='right')\n"
     ]
    },
    {
     "name": "stdout",
     "output_type": "stream",
     "text": [
      "Filter 49 / 128...\n"
     ]
    },
    {
     "name": "stderr",
     "output_type": "stream",
     "text": [
      "C:\\Users\\casti\\AppData\\Local\\Temp\\ipykernel_31808\\3716661773.py:146: UserWarning: FixedFormatter should only be used together with FixedLocator\n",
      "  ax.set_xticklabels(model_outputs_ext_labels, rotation=60, ha='right')\n"
     ]
    },
    {
     "name": "stdout",
     "output_type": "stream",
     "text": [
      "Filter 50 / 128...\n"
     ]
    },
    {
     "name": "stderr",
     "output_type": "stream",
     "text": [
      "C:\\Users\\casti\\AppData\\Local\\Temp\\ipykernel_31808\\3716661773.py:146: UserWarning: FixedFormatter should only be used together with FixedLocator\n",
      "  ax.set_xticklabels(model_outputs_ext_labels, rotation=60, ha='right')\n"
     ]
    },
    {
     "name": "stdout",
     "output_type": "stream",
     "text": [
      "Filter 51 / 128...\n"
     ]
    },
    {
     "name": "stderr",
     "output_type": "stream",
     "text": [
      "C:\\Users\\casti\\AppData\\Local\\Temp\\ipykernel_31808\\3716661773.py:146: UserWarning: FixedFormatter should only be used together with FixedLocator\n",
      "  ax.set_xticklabels(model_outputs_ext_labels, rotation=60, ha='right')\n"
     ]
    },
    {
     "name": "stdout",
     "output_type": "stream",
     "text": [
      "Filter 52 / 128...\n"
     ]
    },
    {
     "name": "stderr",
     "output_type": "stream",
     "text": [
      "C:\\Users\\casti\\AppData\\Local\\Temp\\ipykernel_31808\\3716661773.py:146: UserWarning: FixedFormatter should only be used together with FixedLocator\n",
      "  ax.set_xticklabels(model_outputs_ext_labels, rotation=60, ha='right')\n"
     ]
    },
    {
     "name": "stdout",
     "output_type": "stream",
     "text": [
      "Filter 53 / 128...\n"
     ]
    },
    {
     "name": "stderr",
     "output_type": "stream",
     "text": [
      "C:\\Users\\casti\\AppData\\Local\\Temp\\ipykernel_31808\\3716661773.py:146: UserWarning: FixedFormatter should only be used together with FixedLocator\n",
      "  ax.set_xticklabels(model_outputs_ext_labels, rotation=60, ha='right')\n"
     ]
    },
    {
     "name": "stdout",
     "output_type": "stream",
     "text": [
      "Filter 54 / 128...\n"
     ]
    },
    {
     "name": "stderr",
     "output_type": "stream",
     "text": [
      "C:\\Users\\casti\\AppData\\Local\\Temp\\ipykernel_31808\\3716661773.py:146: UserWarning: FixedFormatter should only be used together with FixedLocator\n",
      "  ax.set_xticklabels(model_outputs_ext_labels, rotation=60, ha='right')\n"
     ]
    },
    {
     "name": "stdout",
     "output_type": "stream",
     "text": [
      "Filter 55 / 128...\n"
     ]
    },
    {
     "name": "stderr",
     "output_type": "stream",
     "text": [
      "C:\\Users\\casti\\AppData\\Local\\Temp\\ipykernel_31808\\3716661773.py:146: UserWarning: FixedFormatter should only be used together with FixedLocator\n",
      "  ax.set_xticklabels(model_outputs_ext_labels, rotation=60, ha='right')\n"
     ]
    },
    {
     "name": "stdout",
     "output_type": "stream",
     "text": [
      "Filter 56 / 128...\n"
     ]
    },
    {
     "name": "stderr",
     "output_type": "stream",
     "text": [
      "C:\\Users\\casti\\AppData\\Local\\Temp\\ipykernel_31808\\3716661773.py:146: UserWarning: FixedFormatter should only be used together with FixedLocator\n",
      "  ax.set_xticklabels(model_outputs_ext_labels, rotation=60, ha='right')\n"
     ]
    },
    {
     "name": "stdout",
     "output_type": "stream",
     "text": [
      "Filter 57 / 128...\n"
     ]
    },
    {
     "name": "stderr",
     "output_type": "stream",
     "text": [
      "C:\\Users\\casti\\AppData\\Local\\Temp\\ipykernel_31808\\3716661773.py:146: UserWarning: FixedFormatter should only be used together with FixedLocator\n",
      "  ax.set_xticklabels(model_outputs_ext_labels, rotation=60, ha='right')\n"
     ]
    },
    {
     "name": "stdout",
     "output_type": "stream",
     "text": [
      "Filter 58 / 128...\n"
     ]
    },
    {
     "name": "stderr",
     "output_type": "stream",
     "text": [
      "C:\\Users\\casti\\AppData\\Local\\Temp\\ipykernel_31808\\3716661773.py:146: UserWarning: FixedFormatter should only be used together with FixedLocator\n",
      "  ax.set_xticklabels(model_outputs_ext_labels, rotation=60, ha='right')\n"
     ]
    },
    {
     "name": "stdout",
     "output_type": "stream",
     "text": [
      "Filter 59 / 128...\n"
     ]
    },
    {
     "name": "stderr",
     "output_type": "stream",
     "text": [
      "C:\\Users\\casti\\AppData\\Local\\Temp\\ipykernel_31808\\3716661773.py:146: UserWarning: FixedFormatter should only be used together with FixedLocator\n",
      "  ax.set_xticklabels(model_outputs_ext_labels, rotation=60, ha='right')\n"
     ]
    },
    {
     "name": "stdout",
     "output_type": "stream",
     "text": [
      "Filter 60 / 128...\n"
     ]
    },
    {
     "name": "stderr",
     "output_type": "stream",
     "text": [
      "C:\\Users\\casti\\AppData\\Local\\Temp\\ipykernel_31808\\3716661773.py:146: UserWarning: FixedFormatter should only be used together with FixedLocator\n",
      "  ax.set_xticklabels(model_outputs_ext_labels, rotation=60, ha='right')\n"
     ]
    },
    {
     "name": "stdout",
     "output_type": "stream",
     "text": [
      "Filter 61 / 128...\n"
     ]
    },
    {
     "name": "stderr",
     "output_type": "stream",
     "text": [
      "C:\\Users\\casti\\AppData\\Local\\Temp\\ipykernel_31808\\3716661773.py:146: UserWarning: FixedFormatter should only be used together with FixedLocator\n",
      "  ax.set_xticklabels(model_outputs_ext_labels, rotation=60, ha='right')\n"
     ]
    },
    {
     "name": "stdout",
     "output_type": "stream",
     "text": [
      "Filter 62 / 128...\n"
     ]
    },
    {
     "name": "stderr",
     "output_type": "stream",
     "text": [
      "C:\\Users\\casti\\AppData\\Local\\Temp\\ipykernel_31808\\3716661773.py:146: UserWarning: FixedFormatter should only be used together with FixedLocator\n",
      "  ax.set_xticklabels(model_outputs_ext_labels, rotation=60, ha='right')\n"
     ]
    },
    {
     "name": "stdout",
     "output_type": "stream",
     "text": [
      "Filter 63 / 128...\n"
     ]
    },
    {
     "name": "stderr",
     "output_type": "stream",
     "text": [
      "C:\\Users\\casti\\AppData\\Local\\Temp\\ipykernel_31808\\3716661773.py:146: UserWarning: FixedFormatter should only be used together with FixedLocator\n",
      "  ax.set_xticklabels(model_outputs_ext_labels, rotation=60, ha='right')\n"
     ]
    },
    {
     "name": "stdout",
     "output_type": "stream",
     "text": [
      "Filter 64 / 128...\n"
     ]
    },
    {
     "name": "stderr",
     "output_type": "stream",
     "text": [
      "C:\\Users\\casti\\AppData\\Local\\Temp\\ipykernel_31808\\3716661773.py:146: UserWarning: FixedFormatter should only be used together with FixedLocator\n",
      "  ax.set_xticklabels(model_outputs_ext_labels, rotation=60, ha='right')\n"
     ]
    },
    {
     "name": "stdout",
     "output_type": "stream",
     "text": [
      "Filter 65 / 128...\n"
     ]
    },
    {
     "name": "stderr",
     "output_type": "stream",
     "text": [
      "C:\\Users\\casti\\AppData\\Local\\Temp\\ipykernel_31808\\3716661773.py:146: UserWarning: FixedFormatter should only be used together with FixedLocator\n",
      "  ax.set_xticklabels(model_outputs_ext_labels, rotation=60, ha='right')\n"
     ]
    },
    {
     "name": "stdout",
     "output_type": "stream",
     "text": [
      "Filter 66 / 128...\n"
     ]
    },
    {
     "name": "stderr",
     "output_type": "stream",
     "text": [
      "C:\\Users\\casti\\AppData\\Local\\Temp\\ipykernel_31808\\3716661773.py:146: UserWarning: FixedFormatter should only be used together with FixedLocator\n",
      "  ax.set_xticklabels(model_outputs_ext_labels, rotation=60, ha='right')\n"
     ]
    },
    {
     "name": "stdout",
     "output_type": "stream",
     "text": [
      "Filter 67 / 128...\n"
     ]
    },
    {
     "name": "stderr",
     "output_type": "stream",
     "text": [
      "C:\\Users\\casti\\AppData\\Local\\Temp\\ipykernel_31808\\3716661773.py:146: UserWarning: FixedFormatter should only be used together with FixedLocator\n",
      "  ax.set_xticklabels(model_outputs_ext_labels, rotation=60, ha='right')\n"
     ]
    },
    {
     "name": "stdout",
     "output_type": "stream",
     "text": [
      "Filter 68 / 128...\n"
     ]
    },
    {
     "name": "stderr",
     "output_type": "stream",
     "text": [
      "C:\\Users\\casti\\AppData\\Local\\Temp\\ipykernel_31808\\3716661773.py:146: UserWarning: FixedFormatter should only be used together with FixedLocator\n",
      "  ax.set_xticklabels(model_outputs_ext_labels, rotation=60, ha='right')\n"
     ]
    },
    {
     "name": "stdout",
     "output_type": "stream",
     "text": [
      "Filter 69 / 128...\n"
     ]
    },
    {
     "name": "stderr",
     "output_type": "stream",
     "text": [
      "C:\\Users\\casti\\AppData\\Local\\Temp\\ipykernel_31808\\3716661773.py:146: UserWarning: FixedFormatter should only be used together with FixedLocator\n",
      "  ax.set_xticklabels(model_outputs_ext_labels, rotation=60, ha='right')\n"
     ]
    },
    {
     "name": "stdout",
     "output_type": "stream",
     "text": [
      "Filter 70 / 128...\n"
     ]
    },
    {
     "name": "stderr",
     "output_type": "stream",
     "text": [
      "C:\\Users\\casti\\AppData\\Local\\Temp\\ipykernel_31808\\3716661773.py:146: UserWarning: FixedFormatter should only be used together with FixedLocator\n",
      "  ax.set_xticklabels(model_outputs_ext_labels, rotation=60, ha='right')\n"
     ]
    },
    {
     "name": "stdout",
     "output_type": "stream",
     "text": [
      "Filter 71 / 128...\n"
     ]
    },
    {
     "name": "stderr",
     "output_type": "stream",
     "text": [
      "C:\\Users\\casti\\AppData\\Local\\Temp\\ipykernel_31808\\3716661773.py:146: UserWarning: FixedFormatter should only be used together with FixedLocator\n",
      "  ax.set_xticklabels(model_outputs_ext_labels, rotation=60, ha='right')\n"
     ]
    },
    {
     "name": "stdout",
     "output_type": "stream",
     "text": [
      "Filter 72 / 128...\n"
     ]
    },
    {
     "name": "stderr",
     "output_type": "stream",
     "text": [
      "C:\\Users\\casti\\AppData\\Local\\Temp\\ipykernel_31808\\3716661773.py:146: UserWarning: FixedFormatter should only be used together with FixedLocator\n",
      "  ax.set_xticklabels(model_outputs_ext_labels, rotation=60, ha='right')\n"
     ]
    },
    {
     "name": "stdout",
     "output_type": "stream",
     "text": [
      "Filter 73 / 128...\n"
     ]
    },
    {
     "name": "stderr",
     "output_type": "stream",
     "text": [
      "C:\\Users\\casti\\AppData\\Local\\Temp\\ipykernel_31808\\3716661773.py:146: UserWarning: FixedFormatter should only be used together with FixedLocator\n",
      "  ax.set_xticklabels(model_outputs_ext_labels, rotation=60, ha='right')\n"
     ]
    },
    {
     "name": "stdout",
     "output_type": "stream",
     "text": [
      "Filter 74 / 128...\n"
     ]
    },
    {
     "name": "stderr",
     "output_type": "stream",
     "text": [
      "C:\\Users\\casti\\AppData\\Local\\Temp\\ipykernel_31808\\3716661773.py:146: UserWarning: FixedFormatter should only be used together with FixedLocator\n",
      "  ax.set_xticklabels(model_outputs_ext_labels, rotation=60, ha='right')\n"
     ]
    },
    {
     "name": "stdout",
     "output_type": "stream",
     "text": [
      "Filter 75 / 128...\n"
     ]
    },
    {
     "name": "stderr",
     "output_type": "stream",
     "text": [
      "C:\\Users\\casti\\AppData\\Local\\Temp\\ipykernel_31808\\3716661773.py:146: UserWarning: FixedFormatter should only be used together with FixedLocator\n",
      "  ax.set_xticklabels(model_outputs_ext_labels, rotation=60, ha='right')\n"
     ]
    },
    {
     "name": "stdout",
     "output_type": "stream",
     "text": [
      "Filter 76 / 128...\n"
     ]
    },
    {
     "name": "stderr",
     "output_type": "stream",
     "text": [
      "C:\\Users\\casti\\AppData\\Local\\Temp\\ipykernel_31808\\3716661773.py:146: UserWarning: FixedFormatter should only be used together with FixedLocator\n",
      "  ax.set_xticklabels(model_outputs_ext_labels, rotation=60, ha='right')\n"
     ]
    },
    {
     "name": "stdout",
     "output_type": "stream",
     "text": [
      "Filter 77 / 128...\n"
     ]
    },
    {
     "name": "stderr",
     "output_type": "stream",
     "text": [
      "C:\\Users\\casti\\AppData\\Local\\Temp\\ipykernel_31808\\3716661773.py:146: UserWarning: FixedFormatter should only be used together with FixedLocator\n",
      "  ax.set_xticklabels(model_outputs_ext_labels, rotation=60, ha='right')\n"
     ]
    },
    {
     "name": "stdout",
     "output_type": "stream",
     "text": [
      "Filter 78 / 128...\n"
     ]
    },
    {
     "name": "stderr",
     "output_type": "stream",
     "text": [
      "C:\\Users\\casti\\AppData\\Local\\Temp\\ipykernel_31808\\3716661773.py:146: UserWarning: FixedFormatter should only be used together with FixedLocator\n",
      "  ax.set_xticklabels(model_outputs_ext_labels, rotation=60, ha='right')\n"
     ]
    },
    {
     "name": "stdout",
     "output_type": "stream",
     "text": [
      "Filter 79 / 128...\n"
     ]
    },
    {
     "name": "stderr",
     "output_type": "stream",
     "text": [
      "C:\\Users\\casti\\AppData\\Local\\Temp\\ipykernel_31808\\3716661773.py:146: UserWarning: FixedFormatter should only be used together with FixedLocator\n",
      "  ax.set_xticklabels(model_outputs_ext_labels, rotation=60, ha='right')\n"
     ]
    },
    {
     "name": "stdout",
     "output_type": "stream",
     "text": [
      "Filter 80 / 128...\n"
     ]
    },
    {
     "name": "stderr",
     "output_type": "stream",
     "text": [
      "C:\\Users\\casti\\AppData\\Local\\Temp\\ipykernel_31808\\3716661773.py:146: UserWarning: FixedFormatter should only be used together with FixedLocator\n",
      "  ax.set_xticklabels(model_outputs_ext_labels, rotation=60, ha='right')\n"
     ]
    },
    {
     "name": "stdout",
     "output_type": "stream",
     "text": [
      "Filter 81 / 128...\n"
     ]
    },
    {
     "name": "stderr",
     "output_type": "stream",
     "text": [
      "C:\\Users\\casti\\AppData\\Local\\Temp\\ipykernel_31808\\3716661773.py:146: UserWarning: FixedFormatter should only be used together with FixedLocator\n",
      "  ax.set_xticklabels(model_outputs_ext_labels, rotation=60, ha='right')\n"
     ]
    },
    {
     "name": "stdout",
     "output_type": "stream",
     "text": [
      "Filter 82 / 128...\n"
     ]
    },
    {
     "name": "stderr",
     "output_type": "stream",
     "text": [
      "C:\\Users\\casti\\AppData\\Local\\Temp\\ipykernel_31808\\3716661773.py:146: UserWarning: FixedFormatter should only be used together with FixedLocator\n",
      "  ax.set_xticklabels(model_outputs_ext_labels, rotation=60, ha='right')\n"
     ]
    },
    {
     "name": "stdout",
     "output_type": "stream",
     "text": [
      "Filter 83 / 128...\n"
     ]
    },
    {
     "name": "stderr",
     "output_type": "stream",
     "text": [
      "C:\\Users\\casti\\AppData\\Local\\Temp\\ipykernel_31808\\3716661773.py:146: UserWarning: FixedFormatter should only be used together with FixedLocator\n",
      "  ax.set_xticklabels(model_outputs_ext_labels, rotation=60, ha='right')\n"
     ]
    },
    {
     "name": "stdout",
     "output_type": "stream",
     "text": [
      "Filter 84 / 128...\n"
     ]
    },
    {
     "name": "stderr",
     "output_type": "stream",
     "text": [
      "C:\\Users\\casti\\AppData\\Local\\Temp\\ipykernel_31808\\3716661773.py:146: UserWarning: FixedFormatter should only be used together with FixedLocator\n",
      "  ax.set_xticklabels(model_outputs_ext_labels, rotation=60, ha='right')\n"
     ]
    },
    {
     "name": "stdout",
     "output_type": "stream",
     "text": [
      "Filter 85 / 128...\n"
     ]
    },
    {
     "name": "stderr",
     "output_type": "stream",
     "text": [
      "C:\\Users\\casti\\AppData\\Local\\Temp\\ipykernel_31808\\3716661773.py:146: UserWarning: FixedFormatter should only be used together with FixedLocator\n",
      "  ax.set_xticklabels(model_outputs_ext_labels, rotation=60, ha='right')\n"
     ]
    },
    {
     "name": "stdout",
     "output_type": "stream",
     "text": [
      "Filter 86 / 128...\n"
     ]
    },
    {
     "name": "stderr",
     "output_type": "stream",
     "text": [
      "C:\\Users\\casti\\AppData\\Local\\Temp\\ipykernel_31808\\3716661773.py:146: UserWarning: FixedFormatter should only be used together with FixedLocator\n",
      "  ax.set_xticklabels(model_outputs_ext_labels, rotation=60, ha='right')\n"
     ]
    },
    {
     "name": "stdout",
     "output_type": "stream",
     "text": [
      "Filter 87 / 128...\n"
     ]
    },
    {
     "name": "stderr",
     "output_type": "stream",
     "text": [
      "C:\\Users\\casti\\AppData\\Local\\Temp\\ipykernel_31808\\3716661773.py:146: UserWarning: FixedFormatter should only be used together with FixedLocator\n",
      "  ax.set_xticklabels(model_outputs_ext_labels, rotation=60, ha='right')\n"
     ]
    },
    {
     "name": "stdout",
     "output_type": "stream",
     "text": [
      "Filter 88 / 128...\n"
     ]
    },
    {
     "name": "stderr",
     "output_type": "stream",
     "text": [
      "C:\\Users\\casti\\AppData\\Local\\Temp\\ipykernel_31808\\3716661773.py:146: UserWarning: FixedFormatter should only be used together with FixedLocator\n",
      "  ax.set_xticklabels(model_outputs_ext_labels, rotation=60, ha='right')\n"
     ]
    },
    {
     "name": "stdout",
     "output_type": "stream",
     "text": [
      "Filter 89 / 128...\n"
     ]
    },
    {
     "name": "stderr",
     "output_type": "stream",
     "text": [
      "C:\\Users\\casti\\AppData\\Local\\Temp\\ipykernel_31808\\3716661773.py:146: UserWarning: FixedFormatter should only be used together with FixedLocator\n",
      "  ax.set_xticklabels(model_outputs_ext_labels, rotation=60, ha='right')\n"
     ]
    },
    {
     "name": "stdout",
     "output_type": "stream",
     "text": [
      "Filter 90 / 128...\n"
     ]
    },
    {
     "name": "stderr",
     "output_type": "stream",
     "text": [
      "C:\\Users\\casti\\AppData\\Local\\Temp\\ipykernel_31808\\3716661773.py:146: UserWarning: FixedFormatter should only be used together with FixedLocator\n",
      "  ax.set_xticklabels(model_outputs_ext_labels, rotation=60, ha='right')\n"
     ]
    },
    {
     "name": "stdout",
     "output_type": "stream",
     "text": [
      "Filter 91 / 128...\n"
     ]
    },
    {
     "name": "stderr",
     "output_type": "stream",
     "text": [
      "C:\\Users\\casti\\AppData\\Local\\Temp\\ipykernel_31808\\3716661773.py:146: UserWarning: FixedFormatter should only be used together with FixedLocator\n",
      "  ax.set_xticklabels(model_outputs_ext_labels, rotation=60, ha='right')\n"
     ]
    },
    {
     "name": "stdout",
     "output_type": "stream",
     "text": [
      "Filter 92 / 128...\n"
     ]
    },
    {
     "name": "stderr",
     "output_type": "stream",
     "text": [
      "C:\\Users\\casti\\AppData\\Local\\Temp\\ipykernel_31808\\3716661773.py:146: UserWarning: FixedFormatter should only be used together with FixedLocator\n",
      "  ax.set_xticklabels(model_outputs_ext_labels, rotation=60, ha='right')\n"
     ]
    },
    {
     "name": "stdout",
     "output_type": "stream",
     "text": [
      "Filter 93 / 128...\n"
     ]
    },
    {
     "name": "stderr",
     "output_type": "stream",
     "text": [
      "C:\\Users\\casti\\AppData\\Local\\Temp\\ipykernel_31808\\3716661773.py:146: UserWarning: FixedFormatter should only be used together with FixedLocator\n",
      "  ax.set_xticklabels(model_outputs_ext_labels, rotation=60, ha='right')\n"
     ]
    },
    {
     "name": "stdout",
     "output_type": "stream",
     "text": [
      "Filter 94 / 128...\n"
     ]
    },
    {
     "name": "stderr",
     "output_type": "stream",
     "text": [
      "C:\\Users\\casti\\AppData\\Local\\Temp\\ipykernel_31808\\3716661773.py:146: UserWarning: FixedFormatter should only be used together with FixedLocator\n",
      "  ax.set_xticklabels(model_outputs_ext_labels, rotation=60, ha='right')\n"
     ]
    },
    {
     "name": "stdout",
     "output_type": "stream",
     "text": [
      "Filter 95 / 128...\n"
     ]
    },
    {
     "name": "stderr",
     "output_type": "stream",
     "text": [
      "C:\\Users\\casti\\AppData\\Local\\Temp\\ipykernel_31808\\3716661773.py:146: UserWarning: FixedFormatter should only be used together with FixedLocator\n",
      "  ax.set_xticklabels(model_outputs_ext_labels, rotation=60, ha='right')\n"
     ]
    },
    {
     "name": "stdout",
     "output_type": "stream",
     "text": [
      "Filter 96 / 128...\n"
     ]
    },
    {
     "name": "stderr",
     "output_type": "stream",
     "text": [
      "C:\\Users\\casti\\AppData\\Local\\Temp\\ipykernel_31808\\3716661773.py:146: UserWarning: FixedFormatter should only be used together with FixedLocator\n",
      "  ax.set_xticklabels(model_outputs_ext_labels, rotation=60, ha='right')\n"
     ]
    },
    {
     "name": "stdout",
     "output_type": "stream",
     "text": [
      "Filter 97 / 128...\n"
     ]
    },
    {
     "name": "stderr",
     "output_type": "stream",
     "text": [
      "C:\\Users\\casti\\AppData\\Local\\Temp\\ipykernel_31808\\3716661773.py:146: UserWarning: FixedFormatter should only be used together with FixedLocator\n",
      "  ax.set_xticklabels(model_outputs_ext_labels, rotation=60, ha='right')\n"
     ]
    },
    {
     "name": "stdout",
     "output_type": "stream",
     "text": [
      "Filter 98 / 128...\n"
     ]
    },
    {
     "name": "stderr",
     "output_type": "stream",
     "text": [
      "C:\\Users\\casti\\AppData\\Local\\Temp\\ipykernel_31808\\3716661773.py:146: UserWarning: FixedFormatter should only be used together with FixedLocator\n",
      "  ax.set_xticklabels(model_outputs_ext_labels, rotation=60, ha='right')\n"
     ]
    },
    {
     "name": "stdout",
     "output_type": "stream",
     "text": [
      "Filter 99 / 128...\n"
     ]
    },
    {
     "name": "stderr",
     "output_type": "stream",
     "text": [
      "C:\\Users\\casti\\AppData\\Local\\Temp\\ipykernel_31808\\3716661773.py:146: UserWarning: FixedFormatter should only be used together with FixedLocator\n",
      "  ax.set_xticklabels(model_outputs_ext_labels, rotation=60, ha='right')\n"
     ]
    },
    {
     "name": "stdout",
     "output_type": "stream",
     "text": [
      "Filter 100 / 128...\n"
     ]
    },
    {
     "name": "stderr",
     "output_type": "stream",
     "text": [
      "C:\\Users\\casti\\AppData\\Local\\Temp\\ipykernel_31808\\3716661773.py:146: UserWarning: FixedFormatter should only be used together with FixedLocator\n",
      "  ax.set_xticklabels(model_outputs_ext_labels, rotation=60, ha='right')\n"
     ]
    },
    {
     "name": "stdout",
     "output_type": "stream",
     "text": [
      "Filter 101 / 128...\n"
     ]
    },
    {
     "name": "stderr",
     "output_type": "stream",
     "text": [
      "C:\\Users\\casti\\AppData\\Local\\Temp\\ipykernel_31808\\3716661773.py:146: UserWarning: FixedFormatter should only be used together with FixedLocator\n",
      "  ax.set_xticklabels(model_outputs_ext_labels, rotation=60, ha='right')\n"
     ]
    },
    {
     "name": "stdout",
     "output_type": "stream",
     "text": [
      "Filter 102 / 128...\n"
     ]
    },
    {
     "name": "stderr",
     "output_type": "stream",
     "text": [
      "C:\\Users\\casti\\AppData\\Local\\Temp\\ipykernel_31808\\3716661773.py:146: UserWarning: FixedFormatter should only be used together with FixedLocator\n",
      "  ax.set_xticklabels(model_outputs_ext_labels, rotation=60, ha='right')\n"
     ]
    },
    {
     "name": "stdout",
     "output_type": "stream",
     "text": [
      "Filter 103 / 128...\n"
     ]
    },
    {
     "name": "stderr",
     "output_type": "stream",
     "text": [
      "C:\\Users\\casti\\AppData\\Local\\Temp\\ipykernel_31808\\3716661773.py:146: UserWarning: FixedFormatter should only be used together with FixedLocator\n",
      "  ax.set_xticklabels(model_outputs_ext_labels, rotation=60, ha='right')\n"
     ]
    },
    {
     "name": "stdout",
     "output_type": "stream",
     "text": [
      "Filter 104 / 128...\n"
     ]
    },
    {
     "name": "stderr",
     "output_type": "stream",
     "text": [
      "C:\\Users\\casti\\AppData\\Local\\Temp\\ipykernel_31808\\3716661773.py:146: UserWarning: FixedFormatter should only be used together with FixedLocator\n",
      "  ax.set_xticklabels(model_outputs_ext_labels, rotation=60, ha='right')\n"
     ]
    },
    {
     "name": "stdout",
     "output_type": "stream",
     "text": [
      "Filter 105 / 128...\n"
     ]
    },
    {
     "name": "stderr",
     "output_type": "stream",
     "text": [
      "C:\\Users\\casti\\AppData\\Local\\Temp\\ipykernel_31808\\3716661773.py:146: UserWarning: FixedFormatter should only be used together with FixedLocator\n",
      "  ax.set_xticklabels(model_outputs_ext_labels, rotation=60, ha='right')\n"
     ]
    },
    {
     "name": "stdout",
     "output_type": "stream",
     "text": [
      "Filter 106 / 128...\n"
     ]
    },
    {
     "name": "stderr",
     "output_type": "stream",
     "text": [
      "C:\\Users\\casti\\AppData\\Local\\Temp\\ipykernel_31808\\3716661773.py:146: UserWarning: FixedFormatter should only be used together with FixedLocator\n",
      "  ax.set_xticklabels(model_outputs_ext_labels, rotation=60, ha='right')\n"
     ]
    },
    {
     "name": "stdout",
     "output_type": "stream",
     "text": [
      "Filter 107 / 128...\n"
     ]
    },
    {
     "name": "stderr",
     "output_type": "stream",
     "text": [
      "C:\\Users\\casti\\AppData\\Local\\Temp\\ipykernel_31808\\3716661773.py:146: UserWarning: FixedFormatter should only be used together with FixedLocator\n",
      "  ax.set_xticklabels(model_outputs_ext_labels, rotation=60, ha='right')\n"
     ]
    },
    {
     "name": "stdout",
     "output_type": "stream",
     "text": [
      "Filter 108 / 128...\n"
     ]
    },
    {
     "name": "stderr",
     "output_type": "stream",
     "text": [
      "C:\\Users\\casti\\AppData\\Local\\Temp\\ipykernel_31808\\3716661773.py:146: UserWarning: FixedFormatter should only be used together with FixedLocator\n",
      "  ax.set_xticklabels(model_outputs_ext_labels, rotation=60, ha='right')\n"
     ]
    },
    {
     "name": "stdout",
     "output_type": "stream",
     "text": [
      "Filter 109 / 128...\n"
     ]
    },
    {
     "name": "stderr",
     "output_type": "stream",
     "text": [
      "C:\\Users\\casti\\AppData\\Local\\Temp\\ipykernel_31808\\3716661773.py:146: UserWarning: FixedFormatter should only be used together with FixedLocator\n",
      "  ax.set_xticklabels(model_outputs_ext_labels, rotation=60, ha='right')\n"
     ]
    },
    {
     "name": "stdout",
     "output_type": "stream",
     "text": [
      "Filter 110 / 128...\n"
     ]
    },
    {
     "name": "stderr",
     "output_type": "stream",
     "text": [
      "C:\\Users\\casti\\AppData\\Local\\Temp\\ipykernel_31808\\3716661773.py:146: UserWarning: FixedFormatter should only be used together with FixedLocator\n",
      "  ax.set_xticklabels(model_outputs_ext_labels, rotation=60, ha='right')\n"
     ]
    },
    {
     "name": "stdout",
     "output_type": "stream",
     "text": [
      "Filter 111 / 128...\n"
     ]
    },
    {
     "name": "stderr",
     "output_type": "stream",
     "text": [
      "C:\\Users\\casti\\AppData\\Local\\Temp\\ipykernel_31808\\3716661773.py:146: UserWarning: FixedFormatter should only be used together with FixedLocator\n",
      "  ax.set_xticklabels(model_outputs_ext_labels, rotation=60, ha='right')\n"
     ]
    },
    {
     "name": "stdout",
     "output_type": "stream",
     "text": [
      "Filter 112 / 128...\n"
     ]
    },
    {
     "name": "stderr",
     "output_type": "stream",
     "text": [
      "C:\\Users\\casti\\AppData\\Local\\Temp\\ipykernel_31808\\3716661773.py:146: UserWarning: FixedFormatter should only be used together with FixedLocator\n",
      "  ax.set_xticklabels(model_outputs_ext_labels, rotation=60, ha='right')\n"
     ]
    },
    {
     "name": "stdout",
     "output_type": "stream",
     "text": [
      "Filter 113 / 128...\n"
     ]
    },
    {
     "name": "stderr",
     "output_type": "stream",
     "text": [
      "C:\\Users\\casti\\AppData\\Local\\Temp\\ipykernel_31808\\3716661773.py:146: UserWarning: FixedFormatter should only be used together with FixedLocator\n",
      "  ax.set_xticklabels(model_outputs_ext_labels, rotation=60, ha='right')\n"
     ]
    },
    {
     "name": "stdout",
     "output_type": "stream",
     "text": [
      "Filter 114 / 128...\n"
     ]
    },
    {
     "name": "stderr",
     "output_type": "stream",
     "text": [
      "C:\\Users\\casti\\AppData\\Local\\Temp\\ipykernel_31808\\3716661773.py:146: UserWarning: FixedFormatter should only be used together with FixedLocator\n",
      "  ax.set_xticklabels(model_outputs_ext_labels, rotation=60, ha='right')\n"
     ]
    },
    {
     "name": "stdout",
     "output_type": "stream",
     "text": [
      "Filter 115 / 128...\n",
      "Filter 116 / 128...\n"
     ]
    },
    {
     "name": "stderr",
     "output_type": "stream",
     "text": [
      "C:\\Users\\casti\\AppData\\Local\\Temp\\ipykernel_31808\\3716661773.py:146: UserWarning: FixedFormatter should only be used together with FixedLocator\n",
      "  ax.set_xticklabels(model_outputs_ext_labels, rotation=60, ha='right')\n"
     ]
    },
    {
     "name": "stdout",
     "output_type": "stream",
     "text": [
      "Filter 117 / 128...\n"
     ]
    },
    {
     "name": "stderr",
     "output_type": "stream",
     "text": [
      "C:\\Users\\casti\\AppData\\Local\\Temp\\ipykernel_31808\\3716661773.py:146: UserWarning: FixedFormatter should only be used together with FixedLocator\n",
      "  ax.set_xticklabels(model_outputs_ext_labels, rotation=60, ha='right')\n"
     ]
    },
    {
     "name": "stdout",
     "output_type": "stream",
     "text": [
      "Filter 118 / 128...\n"
     ]
    },
    {
     "name": "stderr",
     "output_type": "stream",
     "text": [
      "C:\\Users\\casti\\AppData\\Local\\Temp\\ipykernel_31808\\3716661773.py:146: UserWarning: FixedFormatter should only be used together with FixedLocator\n",
      "  ax.set_xticklabels(model_outputs_ext_labels, rotation=60, ha='right')\n"
     ]
    },
    {
     "name": "stdout",
     "output_type": "stream",
     "text": [
      "Filter 119 / 128...\n"
     ]
    },
    {
     "name": "stderr",
     "output_type": "stream",
     "text": [
      "C:\\Users\\casti\\AppData\\Local\\Temp\\ipykernel_31808\\3716661773.py:146: UserWarning: FixedFormatter should only be used together with FixedLocator\n",
      "  ax.set_xticklabels(model_outputs_ext_labels, rotation=60, ha='right')\n"
     ]
    },
    {
     "name": "stdout",
     "output_type": "stream",
     "text": [
      "Filter 120 / 128...\n"
     ]
    },
    {
     "name": "stderr",
     "output_type": "stream",
     "text": [
      "C:\\Users\\casti\\AppData\\Local\\Temp\\ipykernel_31808\\3716661773.py:146: UserWarning: FixedFormatter should only be used together with FixedLocator\n",
      "  ax.set_xticklabels(model_outputs_ext_labels, rotation=60, ha='right')\n"
     ]
    },
    {
     "name": "stdout",
     "output_type": "stream",
     "text": [
      "Filter 121 / 128...\n"
     ]
    },
    {
     "name": "stderr",
     "output_type": "stream",
     "text": [
      "C:\\Users\\casti\\AppData\\Local\\Temp\\ipykernel_31808\\3716661773.py:146: UserWarning: FixedFormatter should only be used together with FixedLocator\n",
      "  ax.set_xticklabels(model_outputs_ext_labels, rotation=60, ha='right')\n"
     ]
    },
    {
     "name": "stdout",
     "output_type": "stream",
     "text": [
      "Filter 122 / 128...\n"
     ]
    },
    {
     "name": "stderr",
     "output_type": "stream",
     "text": [
      "C:\\Users\\casti\\AppData\\Local\\Temp\\ipykernel_31808\\3716661773.py:146: UserWarning: FixedFormatter should only be used together with FixedLocator\n",
      "  ax.set_xticklabels(model_outputs_ext_labels, rotation=60, ha='right')\n"
     ]
    },
    {
     "name": "stdout",
     "output_type": "stream",
     "text": [
      "Filter 123 / 128...\n"
     ]
    },
    {
     "name": "stderr",
     "output_type": "stream",
     "text": [
      "C:\\Users\\casti\\AppData\\Local\\Temp\\ipykernel_31808\\3716661773.py:146: UserWarning: FixedFormatter should only be used together with FixedLocator\n",
      "  ax.set_xticklabels(model_outputs_ext_labels, rotation=60, ha='right')\n"
     ]
    },
    {
     "name": "stdout",
     "output_type": "stream",
     "text": [
      "Filter 124 / 128...\n"
     ]
    },
    {
     "name": "stderr",
     "output_type": "stream",
     "text": [
      "C:\\Users\\casti\\AppData\\Local\\Temp\\ipykernel_31808\\3716661773.py:146: UserWarning: FixedFormatter should only be used together with FixedLocator\n",
      "  ax.set_xticklabels(model_outputs_ext_labels, rotation=60, ha='right')\n"
     ]
    },
    {
     "name": "stdout",
     "output_type": "stream",
     "text": [
      "Filter 125 / 128...\n"
     ]
    },
    {
     "name": "stderr",
     "output_type": "stream",
     "text": [
      "C:\\Users\\casti\\AppData\\Local\\Temp\\ipykernel_31808\\3716661773.py:146: UserWarning: FixedFormatter should only be used together with FixedLocator\n",
      "  ax.set_xticklabels(model_outputs_ext_labels, rotation=60, ha='right')\n"
     ]
    },
    {
     "name": "stdout",
     "output_type": "stream",
     "text": [
      "Filter 126 / 128...\n"
     ]
    },
    {
     "name": "stderr",
     "output_type": "stream",
     "text": [
      "C:\\Users\\casti\\AppData\\Local\\Temp\\ipykernel_31808\\3716661773.py:146: UserWarning: FixedFormatter should only be used together with FixedLocator\n",
      "  ax.set_xticklabels(model_outputs_ext_labels, rotation=60, ha='right')\n"
     ]
    },
    {
     "name": "stdout",
     "output_type": "stream",
     "text": [
      "Filter 127 / 128...\n"
     ]
    },
    {
     "name": "stderr",
     "output_type": "stream",
     "text": [
      "C:\\Users\\casti\\AppData\\Local\\Temp\\ipykernel_31808\\3716661773.py:146: UserWarning: FixedFormatter should only be used together with FixedLocator\n",
      "  ax.set_xticklabels(model_outputs_ext_labels, rotation=60, ha='right')\n"
     ]
    },
    {
     "name": "stdout",
     "output_type": "stream",
     "text": [
      "Saving meme file...\n",
      "Done with model 7.\n",
      "Processing model 8...\n",
      "Filter 0 / 128...\n"
     ]
    },
    {
     "name": "stderr",
     "output_type": "stream",
     "text": [
      "C:\\Users\\casti\\AppData\\Local\\Temp\\ipykernel_31808\\3716661773.py:146: UserWarning: FixedFormatter should only be used together with FixedLocator\n",
      "  ax.set_xticklabels(model_outputs_ext_labels, rotation=60, ha='right')\n"
     ]
    },
    {
     "name": "stdout",
     "output_type": "stream",
     "text": [
      "Filter 1 / 128...\n"
     ]
    },
    {
     "name": "stderr",
     "output_type": "stream",
     "text": [
      "C:\\Users\\casti\\AppData\\Local\\Temp\\ipykernel_31808\\3716661773.py:146: UserWarning: FixedFormatter should only be used together with FixedLocator\n",
      "  ax.set_xticklabels(model_outputs_ext_labels, rotation=60, ha='right')\n"
     ]
    },
    {
     "name": "stdout",
     "output_type": "stream",
     "text": [
      "Filter 2 / 128...\n"
     ]
    },
    {
     "name": "stderr",
     "output_type": "stream",
     "text": [
      "C:\\Users\\casti\\AppData\\Local\\Temp\\ipykernel_31808\\3716661773.py:146: UserWarning: FixedFormatter should only be used together with FixedLocator\n",
      "  ax.set_xticklabels(model_outputs_ext_labels, rotation=60, ha='right')\n"
     ]
    },
    {
     "name": "stdout",
     "output_type": "stream",
     "text": [
      "Filter 3 / 128...\n"
     ]
    },
    {
     "name": "stderr",
     "output_type": "stream",
     "text": [
      "C:\\Users\\casti\\AppData\\Local\\Temp\\ipykernel_31808\\3716661773.py:146: UserWarning: FixedFormatter should only be used together with FixedLocator\n",
      "  ax.set_xticklabels(model_outputs_ext_labels, rotation=60, ha='right')\n"
     ]
    },
    {
     "name": "stdout",
     "output_type": "stream",
     "text": [
      "Filter 4 / 128...\n"
     ]
    },
    {
     "name": "stderr",
     "output_type": "stream",
     "text": [
      "C:\\Users\\casti\\AppData\\Local\\Temp\\ipykernel_31808\\3716661773.py:146: UserWarning: FixedFormatter should only be used together with FixedLocator\n",
      "  ax.set_xticklabels(model_outputs_ext_labels, rotation=60, ha='right')\n"
     ]
    },
    {
     "name": "stdout",
     "output_type": "stream",
     "text": [
      "Filter 5 / 128...\n"
     ]
    },
    {
     "name": "stderr",
     "output_type": "stream",
     "text": [
      "C:\\Users\\casti\\AppData\\Local\\Temp\\ipykernel_31808\\3716661773.py:146: UserWarning: FixedFormatter should only be used together with FixedLocator\n",
      "  ax.set_xticklabels(model_outputs_ext_labels, rotation=60, ha='right')\n"
     ]
    },
    {
     "name": "stdout",
     "output_type": "stream",
     "text": [
      "Filter 6 / 128...\n"
     ]
    },
    {
     "name": "stderr",
     "output_type": "stream",
     "text": [
      "C:\\Users\\casti\\AppData\\Local\\Temp\\ipykernel_31808\\3716661773.py:146: UserWarning: FixedFormatter should only be used together with FixedLocator\n",
      "  ax.set_xticklabels(model_outputs_ext_labels, rotation=60, ha='right')\n"
     ]
    },
    {
     "name": "stdout",
     "output_type": "stream",
     "text": [
      "Filter 7 / 128...\n"
     ]
    },
    {
     "name": "stderr",
     "output_type": "stream",
     "text": [
      "C:\\Users\\casti\\AppData\\Local\\Temp\\ipykernel_31808\\3716661773.py:146: UserWarning: FixedFormatter should only be used together with FixedLocator\n",
      "  ax.set_xticklabels(model_outputs_ext_labels, rotation=60, ha='right')\n"
     ]
    },
    {
     "name": "stdout",
     "output_type": "stream",
     "text": [
      "Filter 8 / 128...\n"
     ]
    },
    {
     "name": "stderr",
     "output_type": "stream",
     "text": [
      "C:\\Users\\casti\\AppData\\Local\\Temp\\ipykernel_31808\\3716661773.py:146: UserWarning: FixedFormatter should only be used together with FixedLocator\n",
      "  ax.set_xticklabels(model_outputs_ext_labels, rotation=60, ha='right')\n"
     ]
    },
    {
     "name": "stdout",
     "output_type": "stream",
     "text": [
      "Filter 9 / 128...\n"
     ]
    },
    {
     "name": "stderr",
     "output_type": "stream",
     "text": [
      "C:\\Users\\casti\\AppData\\Local\\Temp\\ipykernel_31808\\3716661773.py:146: UserWarning: FixedFormatter should only be used together with FixedLocator\n",
      "  ax.set_xticklabels(model_outputs_ext_labels, rotation=60, ha='right')\n"
     ]
    },
    {
     "name": "stdout",
     "output_type": "stream",
     "text": [
      "Filter 10 / 128...\n"
     ]
    },
    {
     "name": "stderr",
     "output_type": "stream",
     "text": [
      "C:\\Users\\casti\\AppData\\Local\\Temp\\ipykernel_31808\\3716661773.py:146: UserWarning: FixedFormatter should only be used together with FixedLocator\n",
      "  ax.set_xticklabels(model_outputs_ext_labels, rotation=60, ha='right')\n"
     ]
    },
    {
     "name": "stdout",
     "output_type": "stream",
     "text": [
      "Filter 11 / 128...\n"
     ]
    },
    {
     "name": "stderr",
     "output_type": "stream",
     "text": [
      "C:\\Users\\casti\\AppData\\Local\\Temp\\ipykernel_31808\\3716661773.py:146: UserWarning: FixedFormatter should only be used together with FixedLocator\n",
      "  ax.set_xticklabels(model_outputs_ext_labels, rotation=60, ha='right')\n"
     ]
    },
    {
     "name": "stdout",
     "output_type": "stream",
     "text": [
      "Filter 12 / 128...\n"
     ]
    },
    {
     "name": "stderr",
     "output_type": "stream",
     "text": [
      "C:\\Users\\casti\\AppData\\Local\\Temp\\ipykernel_31808\\3716661773.py:146: UserWarning: FixedFormatter should only be used together with FixedLocator\n",
      "  ax.set_xticklabels(model_outputs_ext_labels, rotation=60, ha='right')\n"
     ]
    },
    {
     "name": "stdout",
     "output_type": "stream",
     "text": [
      "Filter 13 / 128...\n"
     ]
    },
    {
     "name": "stderr",
     "output_type": "stream",
     "text": [
      "C:\\Users\\casti\\AppData\\Local\\Temp\\ipykernel_31808\\3716661773.py:146: UserWarning: FixedFormatter should only be used together with FixedLocator\n",
      "  ax.set_xticklabels(model_outputs_ext_labels, rotation=60, ha='right')\n"
     ]
    },
    {
     "name": "stdout",
     "output_type": "stream",
     "text": [
      "Filter 14 / 128...\n"
     ]
    },
    {
     "name": "stderr",
     "output_type": "stream",
     "text": [
      "C:\\Users\\casti\\AppData\\Local\\Temp\\ipykernel_31808\\3716661773.py:146: UserWarning: FixedFormatter should only be used together with FixedLocator\n",
      "  ax.set_xticklabels(model_outputs_ext_labels, rotation=60, ha='right')\n"
     ]
    },
    {
     "name": "stdout",
     "output_type": "stream",
     "text": [
      "Filter 15 / 128...\n"
     ]
    },
    {
     "name": "stderr",
     "output_type": "stream",
     "text": [
      "C:\\Users\\casti\\AppData\\Local\\Temp\\ipykernel_31808\\3716661773.py:146: UserWarning: FixedFormatter should only be used together with FixedLocator\n",
      "  ax.set_xticklabels(model_outputs_ext_labels, rotation=60, ha='right')\n"
     ]
    },
    {
     "name": "stdout",
     "output_type": "stream",
     "text": [
      "Filter 16 / 128...\n"
     ]
    },
    {
     "name": "stderr",
     "output_type": "stream",
     "text": [
      "C:\\Users\\casti\\AppData\\Local\\Temp\\ipykernel_31808\\3716661773.py:146: UserWarning: FixedFormatter should only be used together with FixedLocator\n",
      "  ax.set_xticklabels(model_outputs_ext_labels, rotation=60, ha='right')\n"
     ]
    },
    {
     "name": "stdout",
     "output_type": "stream",
     "text": [
      "Filter 17 / 128...\n"
     ]
    },
    {
     "name": "stderr",
     "output_type": "stream",
     "text": [
      "C:\\Users\\casti\\AppData\\Local\\Temp\\ipykernel_31808\\3716661773.py:146: UserWarning: FixedFormatter should only be used together with FixedLocator\n",
      "  ax.set_xticklabels(model_outputs_ext_labels, rotation=60, ha='right')\n"
     ]
    },
    {
     "name": "stdout",
     "output_type": "stream",
     "text": [
      "Filter 18 / 128...\n"
     ]
    },
    {
     "name": "stderr",
     "output_type": "stream",
     "text": [
      "C:\\Users\\casti\\AppData\\Local\\Temp\\ipykernel_31808\\3716661773.py:146: UserWarning: FixedFormatter should only be used together with FixedLocator\n",
      "  ax.set_xticklabels(model_outputs_ext_labels, rotation=60, ha='right')\n"
     ]
    },
    {
     "name": "stdout",
     "output_type": "stream",
     "text": [
      "Filter 19 / 128...\n"
     ]
    },
    {
     "name": "stderr",
     "output_type": "stream",
     "text": [
      "C:\\Users\\casti\\AppData\\Local\\Temp\\ipykernel_31808\\3716661773.py:146: UserWarning: FixedFormatter should only be used together with FixedLocator\n",
      "  ax.set_xticklabels(model_outputs_ext_labels, rotation=60, ha='right')\n"
     ]
    },
    {
     "name": "stdout",
     "output_type": "stream",
     "text": [
      "Filter 20 / 128...\n"
     ]
    },
    {
     "name": "stderr",
     "output_type": "stream",
     "text": [
      "C:\\Users\\casti\\AppData\\Local\\Temp\\ipykernel_31808\\3716661773.py:146: UserWarning: FixedFormatter should only be used together with FixedLocator\n",
      "  ax.set_xticklabels(model_outputs_ext_labels, rotation=60, ha='right')\n"
     ]
    },
    {
     "name": "stdout",
     "output_type": "stream",
     "text": [
      "Filter 21 / 128...\n"
     ]
    },
    {
     "name": "stderr",
     "output_type": "stream",
     "text": [
      "C:\\Users\\casti\\AppData\\Local\\Temp\\ipykernel_31808\\3716661773.py:146: UserWarning: FixedFormatter should only be used together with FixedLocator\n",
      "  ax.set_xticklabels(model_outputs_ext_labels, rotation=60, ha='right')\n"
     ]
    },
    {
     "name": "stdout",
     "output_type": "stream",
     "text": [
      "Filter 22 / 128...\n"
     ]
    },
    {
     "name": "stderr",
     "output_type": "stream",
     "text": [
      "C:\\Users\\casti\\AppData\\Local\\Temp\\ipykernel_31808\\3716661773.py:146: UserWarning: FixedFormatter should only be used together with FixedLocator\n",
      "  ax.set_xticklabels(model_outputs_ext_labels, rotation=60, ha='right')\n"
     ]
    },
    {
     "name": "stdout",
     "output_type": "stream",
     "text": [
      "Filter 23 / 128...\n"
     ]
    },
    {
     "name": "stderr",
     "output_type": "stream",
     "text": [
      "C:\\Users\\casti\\AppData\\Local\\Temp\\ipykernel_31808\\3716661773.py:146: UserWarning: FixedFormatter should only be used together with FixedLocator\n",
      "  ax.set_xticklabels(model_outputs_ext_labels, rotation=60, ha='right')\n"
     ]
    },
    {
     "name": "stdout",
     "output_type": "stream",
     "text": [
      "Filter 24 / 128...\n"
     ]
    },
    {
     "name": "stderr",
     "output_type": "stream",
     "text": [
      "C:\\Users\\casti\\AppData\\Local\\Temp\\ipykernel_31808\\3716661773.py:146: UserWarning: FixedFormatter should only be used together with FixedLocator\n",
      "  ax.set_xticklabels(model_outputs_ext_labels, rotation=60, ha='right')\n"
     ]
    },
    {
     "name": "stdout",
     "output_type": "stream",
     "text": [
      "Filter 25 / 128...\n"
     ]
    },
    {
     "name": "stderr",
     "output_type": "stream",
     "text": [
      "C:\\Users\\casti\\AppData\\Local\\Temp\\ipykernel_31808\\3716661773.py:146: UserWarning: FixedFormatter should only be used together with FixedLocator\n",
      "  ax.set_xticklabels(model_outputs_ext_labels, rotation=60, ha='right')\n"
     ]
    },
    {
     "name": "stdout",
     "output_type": "stream",
     "text": [
      "Filter 26 / 128...\n"
     ]
    },
    {
     "name": "stderr",
     "output_type": "stream",
     "text": [
      "C:\\Users\\casti\\AppData\\Local\\Temp\\ipykernel_31808\\3716661773.py:146: UserWarning: FixedFormatter should only be used together with FixedLocator\n",
      "  ax.set_xticklabels(model_outputs_ext_labels, rotation=60, ha='right')\n"
     ]
    },
    {
     "name": "stdout",
     "output_type": "stream",
     "text": [
      "Filter 27 / 128...\n"
     ]
    },
    {
     "name": "stderr",
     "output_type": "stream",
     "text": [
      "C:\\Users\\casti\\AppData\\Local\\Temp\\ipykernel_31808\\3716661773.py:146: UserWarning: FixedFormatter should only be used together with FixedLocator\n",
      "  ax.set_xticklabels(model_outputs_ext_labels, rotation=60, ha='right')\n"
     ]
    },
    {
     "name": "stdout",
     "output_type": "stream",
     "text": [
      "Filter 28 / 128...\n"
     ]
    },
    {
     "name": "stderr",
     "output_type": "stream",
     "text": [
      "C:\\Users\\casti\\AppData\\Local\\Temp\\ipykernel_31808\\3716661773.py:146: UserWarning: FixedFormatter should only be used together with FixedLocator\n",
      "  ax.set_xticklabels(model_outputs_ext_labels, rotation=60, ha='right')\n"
     ]
    },
    {
     "name": "stdout",
     "output_type": "stream",
     "text": [
      "Filter 29 / 128...\n"
     ]
    },
    {
     "name": "stderr",
     "output_type": "stream",
     "text": [
      "C:\\Users\\casti\\AppData\\Local\\Temp\\ipykernel_31808\\3716661773.py:146: UserWarning: FixedFormatter should only be used together with FixedLocator\n",
      "  ax.set_xticklabels(model_outputs_ext_labels, rotation=60, ha='right')\n"
     ]
    },
    {
     "name": "stdout",
     "output_type": "stream",
     "text": [
      "Filter 30 / 128...\n"
     ]
    },
    {
     "name": "stderr",
     "output_type": "stream",
     "text": [
      "C:\\Users\\casti\\AppData\\Local\\Temp\\ipykernel_31808\\3716661773.py:146: UserWarning: FixedFormatter should only be used together with FixedLocator\n",
      "  ax.set_xticklabels(model_outputs_ext_labels, rotation=60, ha='right')\n"
     ]
    },
    {
     "name": "stdout",
     "output_type": "stream",
     "text": [
      "Filter 31 / 128...\n"
     ]
    },
    {
     "name": "stderr",
     "output_type": "stream",
     "text": [
      "C:\\Users\\casti\\AppData\\Local\\Temp\\ipykernel_31808\\3716661773.py:146: UserWarning: FixedFormatter should only be used together with FixedLocator\n",
      "  ax.set_xticklabels(model_outputs_ext_labels, rotation=60, ha='right')\n"
     ]
    },
    {
     "name": "stdout",
     "output_type": "stream",
     "text": [
      "Filter 32 / 128...\n"
     ]
    },
    {
     "name": "stderr",
     "output_type": "stream",
     "text": [
      "C:\\Users\\casti\\AppData\\Local\\Temp\\ipykernel_31808\\3716661773.py:146: UserWarning: FixedFormatter should only be used together with FixedLocator\n",
      "  ax.set_xticklabels(model_outputs_ext_labels, rotation=60, ha='right')\n"
     ]
    },
    {
     "name": "stdout",
     "output_type": "stream",
     "text": [
      "Filter 33 / 128...\n"
     ]
    },
    {
     "name": "stderr",
     "output_type": "stream",
     "text": [
      "C:\\Users\\casti\\AppData\\Local\\Temp\\ipykernel_31808\\3716661773.py:146: UserWarning: FixedFormatter should only be used together with FixedLocator\n",
      "  ax.set_xticklabels(model_outputs_ext_labels, rotation=60, ha='right')\n"
     ]
    },
    {
     "name": "stdout",
     "output_type": "stream",
     "text": [
      "Filter 34 / 128...\n"
     ]
    },
    {
     "name": "stderr",
     "output_type": "stream",
     "text": [
      "C:\\Users\\casti\\AppData\\Local\\Temp\\ipykernel_31808\\3716661773.py:146: UserWarning: FixedFormatter should only be used together with FixedLocator\n",
      "  ax.set_xticklabels(model_outputs_ext_labels, rotation=60, ha='right')\n"
     ]
    },
    {
     "name": "stdout",
     "output_type": "stream",
     "text": [
      "Filter 35 / 128...\n"
     ]
    },
    {
     "name": "stderr",
     "output_type": "stream",
     "text": [
      "C:\\Users\\casti\\AppData\\Local\\Temp\\ipykernel_31808\\3716661773.py:146: UserWarning: FixedFormatter should only be used together with FixedLocator\n",
      "  ax.set_xticklabels(model_outputs_ext_labels, rotation=60, ha='right')\n"
     ]
    },
    {
     "name": "stdout",
     "output_type": "stream",
     "text": [
      "Filter 36 / 128...\n"
     ]
    },
    {
     "name": "stderr",
     "output_type": "stream",
     "text": [
      "C:\\Users\\casti\\AppData\\Local\\Temp\\ipykernel_31808\\3716661773.py:146: UserWarning: FixedFormatter should only be used together with FixedLocator\n",
      "  ax.set_xticklabels(model_outputs_ext_labels, rotation=60, ha='right')\n"
     ]
    },
    {
     "name": "stdout",
     "output_type": "stream",
     "text": [
      "Filter 37 / 128...\n"
     ]
    },
    {
     "name": "stderr",
     "output_type": "stream",
     "text": [
      "C:\\Users\\casti\\AppData\\Local\\Temp\\ipykernel_31808\\3716661773.py:146: UserWarning: FixedFormatter should only be used together with FixedLocator\n",
      "  ax.set_xticklabels(model_outputs_ext_labels, rotation=60, ha='right')\n"
     ]
    },
    {
     "name": "stdout",
     "output_type": "stream",
     "text": [
      "Filter 38 / 128...\n"
     ]
    },
    {
     "name": "stderr",
     "output_type": "stream",
     "text": [
      "C:\\Users\\casti\\AppData\\Local\\Temp\\ipykernel_31808\\3716661773.py:146: UserWarning: FixedFormatter should only be used together with FixedLocator\n",
      "  ax.set_xticklabels(model_outputs_ext_labels, rotation=60, ha='right')\n"
     ]
    },
    {
     "name": "stdout",
     "output_type": "stream",
     "text": [
      "Filter 39 / 128...\n"
     ]
    },
    {
     "name": "stderr",
     "output_type": "stream",
     "text": [
      "C:\\Users\\casti\\AppData\\Local\\Temp\\ipykernel_31808\\3716661773.py:146: UserWarning: FixedFormatter should only be used together with FixedLocator\n",
      "  ax.set_xticklabels(model_outputs_ext_labels, rotation=60, ha='right')\n"
     ]
    },
    {
     "name": "stdout",
     "output_type": "stream",
     "text": [
      "Filter 40 / 128...\n"
     ]
    },
    {
     "name": "stderr",
     "output_type": "stream",
     "text": [
      "C:\\Users\\casti\\AppData\\Local\\Temp\\ipykernel_31808\\3716661773.py:146: UserWarning: FixedFormatter should only be used together with FixedLocator\n",
      "  ax.set_xticklabels(model_outputs_ext_labels, rotation=60, ha='right')\n"
     ]
    },
    {
     "name": "stdout",
     "output_type": "stream",
     "text": [
      "Filter 41 / 128...\n"
     ]
    },
    {
     "name": "stderr",
     "output_type": "stream",
     "text": [
      "C:\\Users\\casti\\AppData\\Local\\Temp\\ipykernel_31808\\3716661773.py:146: UserWarning: FixedFormatter should only be used together with FixedLocator\n",
      "  ax.set_xticklabels(model_outputs_ext_labels, rotation=60, ha='right')\n"
     ]
    },
    {
     "name": "stdout",
     "output_type": "stream",
     "text": [
      "Filter 42 / 128...\n"
     ]
    },
    {
     "name": "stderr",
     "output_type": "stream",
     "text": [
      "C:\\Users\\casti\\AppData\\Local\\Temp\\ipykernel_31808\\3716661773.py:146: UserWarning: FixedFormatter should only be used together with FixedLocator\n",
      "  ax.set_xticklabels(model_outputs_ext_labels, rotation=60, ha='right')\n"
     ]
    },
    {
     "name": "stdout",
     "output_type": "stream",
     "text": [
      "Filter 43 / 128...\n"
     ]
    },
    {
     "name": "stderr",
     "output_type": "stream",
     "text": [
      "C:\\Users\\casti\\AppData\\Local\\Temp\\ipykernel_31808\\3716661773.py:146: UserWarning: FixedFormatter should only be used together with FixedLocator\n",
      "  ax.set_xticklabels(model_outputs_ext_labels, rotation=60, ha='right')\n"
     ]
    },
    {
     "name": "stdout",
     "output_type": "stream",
     "text": [
      "Filter 44 / 128...\n"
     ]
    },
    {
     "name": "stderr",
     "output_type": "stream",
     "text": [
      "C:\\Users\\casti\\AppData\\Local\\Temp\\ipykernel_31808\\3716661773.py:146: UserWarning: FixedFormatter should only be used together with FixedLocator\n",
      "  ax.set_xticklabels(model_outputs_ext_labels, rotation=60, ha='right')\n"
     ]
    },
    {
     "name": "stdout",
     "output_type": "stream",
     "text": [
      "Filter 45 / 128...\n"
     ]
    },
    {
     "name": "stderr",
     "output_type": "stream",
     "text": [
      "C:\\Users\\casti\\AppData\\Local\\Temp\\ipykernel_31808\\3716661773.py:146: UserWarning: FixedFormatter should only be used together with FixedLocator\n",
      "  ax.set_xticklabels(model_outputs_ext_labels, rotation=60, ha='right')\n"
     ]
    },
    {
     "name": "stdout",
     "output_type": "stream",
     "text": [
      "Filter 46 / 128...\n"
     ]
    },
    {
     "name": "stderr",
     "output_type": "stream",
     "text": [
      "C:\\Users\\casti\\AppData\\Local\\Temp\\ipykernel_31808\\3716661773.py:146: UserWarning: FixedFormatter should only be used together with FixedLocator\n",
      "  ax.set_xticklabels(model_outputs_ext_labels, rotation=60, ha='right')\n"
     ]
    },
    {
     "name": "stdout",
     "output_type": "stream",
     "text": [
      "Filter 47 / 128...\n"
     ]
    },
    {
     "name": "stderr",
     "output_type": "stream",
     "text": [
      "C:\\Users\\casti\\AppData\\Local\\Temp\\ipykernel_31808\\3716661773.py:146: UserWarning: FixedFormatter should only be used together with FixedLocator\n",
      "  ax.set_xticklabels(model_outputs_ext_labels, rotation=60, ha='right')\n"
     ]
    },
    {
     "name": "stdout",
     "output_type": "stream",
     "text": [
      "Filter 48 / 128...\n"
     ]
    },
    {
     "name": "stderr",
     "output_type": "stream",
     "text": [
      "C:\\Users\\casti\\AppData\\Local\\Temp\\ipykernel_31808\\3716661773.py:146: UserWarning: FixedFormatter should only be used together with FixedLocator\n",
      "  ax.set_xticklabels(model_outputs_ext_labels, rotation=60, ha='right')\n"
     ]
    },
    {
     "name": "stdout",
     "output_type": "stream",
     "text": [
      "Filter 49 / 128...\n"
     ]
    },
    {
     "name": "stderr",
     "output_type": "stream",
     "text": [
      "C:\\Users\\casti\\AppData\\Local\\Temp\\ipykernel_31808\\3716661773.py:146: UserWarning: FixedFormatter should only be used together with FixedLocator\n",
      "  ax.set_xticklabels(model_outputs_ext_labels, rotation=60, ha='right')\n"
     ]
    },
    {
     "name": "stdout",
     "output_type": "stream",
     "text": [
      "Filter 50 / 128...\n"
     ]
    },
    {
     "name": "stderr",
     "output_type": "stream",
     "text": [
      "C:\\Users\\casti\\AppData\\Local\\Temp\\ipykernel_31808\\3716661773.py:146: UserWarning: FixedFormatter should only be used together with FixedLocator\n",
      "  ax.set_xticklabels(model_outputs_ext_labels, rotation=60, ha='right')\n"
     ]
    },
    {
     "name": "stdout",
     "output_type": "stream",
     "text": [
      "Filter 51 / 128...\n"
     ]
    },
    {
     "name": "stderr",
     "output_type": "stream",
     "text": [
      "C:\\Users\\casti\\AppData\\Local\\Temp\\ipykernel_31808\\3716661773.py:146: UserWarning: FixedFormatter should only be used together with FixedLocator\n",
      "  ax.set_xticklabels(model_outputs_ext_labels, rotation=60, ha='right')\n"
     ]
    },
    {
     "name": "stdout",
     "output_type": "stream",
     "text": [
      "Filter 52 / 128...\n"
     ]
    },
    {
     "name": "stderr",
     "output_type": "stream",
     "text": [
      "C:\\Users\\casti\\AppData\\Local\\Temp\\ipykernel_31808\\3716661773.py:146: UserWarning: FixedFormatter should only be used together with FixedLocator\n",
      "  ax.set_xticklabels(model_outputs_ext_labels, rotation=60, ha='right')\n"
     ]
    },
    {
     "name": "stdout",
     "output_type": "stream",
     "text": [
      "Filter 53 / 128...\n"
     ]
    },
    {
     "name": "stderr",
     "output_type": "stream",
     "text": [
      "C:\\Users\\casti\\AppData\\Local\\Temp\\ipykernel_31808\\3716661773.py:146: UserWarning: FixedFormatter should only be used together with FixedLocator\n",
      "  ax.set_xticklabels(model_outputs_ext_labels, rotation=60, ha='right')\n"
     ]
    },
    {
     "name": "stdout",
     "output_type": "stream",
     "text": [
      "Filter 54 / 128...\n"
     ]
    },
    {
     "name": "stderr",
     "output_type": "stream",
     "text": [
      "C:\\Users\\casti\\AppData\\Local\\Temp\\ipykernel_31808\\3716661773.py:146: UserWarning: FixedFormatter should only be used together with FixedLocator\n",
      "  ax.set_xticklabels(model_outputs_ext_labels, rotation=60, ha='right')\n"
     ]
    },
    {
     "name": "stdout",
     "output_type": "stream",
     "text": [
      "Filter 55 / 128...\n"
     ]
    },
    {
     "name": "stderr",
     "output_type": "stream",
     "text": [
      "C:\\Users\\casti\\AppData\\Local\\Temp\\ipykernel_31808\\3716661773.py:146: UserWarning: FixedFormatter should only be used together with FixedLocator\n",
      "  ax.set_xticklabels(model_outputs_ext_labels, rotation=60, ha='right')\n"
     ]
    },
    {
     "name": "stdout",
     "output_type": "stream",
     "text": [
      "Filter 56 / 128...\n"
     ]
    },
    {
     "name": "stderr",
     "output_type": "stream",
     "text": [
      "C:\\Users\\casti\\AppData\\Local\\Temp\\ipykernel_31808\\3716661773.py:146: UserWarning: FixedFormatter should only be used together with FixedLocator\n",
      "  ax.set_xticklabels(model_outputs_ext_labels, rotation=60, ha='right')\n"
     ]
    },
    {
     "name": "stdout",
     "output_type": "stream",
     "text": [
      "Filter 57 / 128...\n"
     ]
    },
    {
     "name": "stderr",
     "output_type": "stream",
     "text": [
      "C:\\Users\\casti\\AppData\\Local\\Temp\\ipykernel_31808\\3716661773.py:146: UserWarning: FixedFormatter should only be used together with FixedLocator\n",
      "  ax.set_xticklabels(model_outputs_ext_labels, rotation=60, ha='right')\n"
     ]
    },
    {
     "name": "stdout",
     "output_type": "stream",
     "text": [
      "Filter 58 / 128...\n"
     ]
    },
    {
     "name": "stderr",
     "output_type": "stream",
     "text": [
      "C:\\Users\\casti\\AppData\\Local\\Temp\\ipykernel_31808\\3716661773.py:146: UserWarning: FixedFormatter should only be used together with FixedLocator\n",
      "  ax.set_xticklabels(model_outputs_ext_labels, rotation=60, ha='right')\n"
     ]
    },
    {
     "name": "stdout",
     "output_type": "stream",
     "text": [
      "Filter 59 / 128...\n"
     ]
    },
    {
     "name": "stderr",
     "output_type": "stream",
     "text": [
      "C:\\Users\\casti\\AppData\\Local\\Temp\\ipykernel_31808\\3716661773.py:146: UserWarning: FixedFormatter should only be used together with FixedLocator\n",
      "  ax.set_xticklabels(model_outputs_ext_labels, rotation=60, ha='right')\n"
     ]
    },
    {
     "name": "stdout",
     "output_type": "stream",
     "text": [
      "Filter 60 / 128...\n"
     ]
    },
    {
     "name": "stderr",
     "output_type": "stream",
     "text": [
      "C:\\Users\\casti\\AppData\\Local\\Temp\\ipykernel_31808\\3716661773.py:146: UserWarning: FixedFormatter should only be used together with FixedLocator\n",
      "  ax.set_xticklabels(model_outputs_ext_labels, rotation=60, ha='right')\n"
     ]
    },
    {
     "name": "stdout",
     "output_type": "stream",
     "text": [
      "Filter 61 / 128...\n"
     ]
    },
    {
     "name": "stderr",
     "output_type": "stream",
     "text": [
      "C:\\Users\\casti\\AppData\\Local\\Temp\\ipykernel_31808\\3716661773.py:146: UserWarning: FixedFormatter should only be used together with FixedLocator\n",
      "  ax.set_xticklabels(model_outputs_ext_labels, rotation=60, ha='right')\n"
     ]
    },
    {
     "name": "stdout",
     "output_type": "stream",
     "text": [
      "Filter 62 / 128...\n"
     ]
    },
    {
     "name": "stderr",
     "output_type": "stream",
     "text": [
      "C:\\Users\\casti\\AppData\\Local\\Temp\\ipykernel_31808\\3716661773.py:146: UserWarning: FixedFormatter should only be used together with FixedLocator\n",
      "  ax.set_xticklabels(model_outputs_ext_labels, rotation=60, ha='right')\n"
     ]
    },
    {
     "name": "stdout",
     "output_type": "stream",
     "text": [
      "Filter 63 / 128...\n"
     ]
    },
    {
     "name": "stderr",
     "output_type": "stream",
     "text": [
      "C:\\Users\\casti\\AppData\\Local\\Temp\\ipykernel_31808\\3716661773.py:146: UserWarning: FixedFormatter should only be used together with FixedLocator\n",
      "  ax.set_xticklabels(model_outputs_ext_labels, rotation=60, ha='right')\n"
     ]
    },
    {
     "name": "stdout",
     "output_type": "stream",
     "text": [
      "Filter 64 / 128...\n"
     ]
    },
    {
     "name": "stderr",
     "output_type": "stream",
     "text": [
      "C:\\Users\\casti\\AppData\\Local\\Temp\\ipykernel_31808\\3716661773.py:146: UserWarning: FixedFormatter should only be used together with FixedLocator\n",
      "  ax.set_xticklabels(model_outputs_ext_labels, rotation=60, ha='right')\n"
     ]
    },
    {
     "name": "stdout",
     "output_type": "stream",
     "text": [
      "Filter 65 / 128...\n"
     ]
    },
    {
     "name": "stderr",
     "output_type": "stream",
     "text": [
      "C:\\Users\\casti\\AppData\\Local\\Temp\\ipykernel_31808\\3716661773.py:146: UserWarning: FixedFormatter should only be used together with FixedLocator\n",
      "  ax.set_xticklabels(model_outputs_ext_labels, rotation=60, ha='right')\n"
     ]
    },
    {
     "name": "stdout",
     "output_type": "stream",
     "text": [
      "Filter 66 / 128...\n"
     ]
    },
    {
     "name": "stderr",
     "output_type": "stream",
     "text": [
      "C:\\Users\\casti\\AppData\\Local\\Temp\\ipykernel_31808\\3716661773.py:146: UserWarning: FixedFormatter should only be used together with FixedLocator\n",
      "  ax.set_xticklabels(model_outputs_ext_labels, rotation=60, ha='right')\n"
     ]
    },
    {
     "name": "stdout",
     "output_type": "stream",
     "text": [
      "Filter 67 / 128...\n"
     ]
    },
    {
     "name": "stderr",
     "output_type": "stream",
     "text": [
      "C:\\Users\\casti\\AppData\\Local\\Temp\\ipykernel_31808\\3716661773.py:146: UserWarning: FixedFormatter should only be used together with FixedLocator\n",
      "  ax.set_xticklabels(model_outputs_ext_labels, rotation=60, ha='right')\n"
     ]
    },
    {
     "name": "stdout",
     "output_type": "stream",
     "text": [
      "Filter 68 / 128...\n",
      "Filter 69 / 128...\n"
     ]
    },
    {
     "name": "stderr",
     "output_type": "stream",
     "text": [
      "C:\\Users\\casti\\AppData\\Local\\Temp\\ipykernel_31808\\3716661773.py:146: UserWarning: FixedFormatter should only be used together with FixedLocator\n",
      "  ax.set_xticklabels(model_outputs_ext_labels, rotation=60, ha='right')\n"
     ]
    },
    {
     "name": "stdout",
     "output_type": "stream",
     "text": [
      "Filter 70 / 128...\n"
     ]
    },
    {
     "name": "stderr",
     "output_type": "stream",
     "text": [
      "C:\\Users\\casti\\AppData\\Local\\Temp\\ipykernel_31808\\3716661773.py:146: UserWarning: FixedFormatter should only be used together with FixedLocator\n",
      "  ax.set_xticklabels(model_outputs_ext_labels, rotation=60, ha='right')\n"
     ]
    },
    {
     "name": "stdout",
     "output_type": "stream",
     "text": [
      "Filter 71 / 128...\n"
     ]
    },
    {
     "name": "stderr",
     "output_type": "stream",
     "text": [
      "C:\\Users\\casti\\AppData\\Local\\Temp\\ipykernel_31808\\3716661773.py:146: UserWarning: FixedFormatter should only be used together with FixedLocator\n",
      "  ax.set_xticklabels(model_outputs_ext_labels, rotation=60, ha='right')\n"
     ]
    },
    {
     "name": "stdout",
     "output_type": "stream",
     "text": [
      "Filter 72 / 128...\n"
     ]
    },
    {
     "name": "stderr",
     "output_type": "stream",
     "text": [
      "C:\\Users\\casti\\AppData\\Local\\Temp\\ipykernel_31808\\3716661773.py:146: UserWarning: FixedFormatter should only be used together with FixedLocator\n",
      "  ax.set_xticklabels(model_outputs_ext_labels, rotation=60, ha='right')\n"
     ]
    },
    {
     "name": "stdout",
     "output_type": "stream",
     "text": [
      "Filter 73 / 128...\n"
     ]
    },
    {
     "name": "stderr",
     "output_type": "stream",
     "text": [
      "C:\\Users\\casti\\AppData\\Local\\Temp\\ipykernel_31808\\3716661773.py:146: UserWarning: FixedFormatter should only be used together with FixedLocator\n",
      "  ax.set_xticklabels(model_outputs_ext_labels, rotation=60, ha='right')\n"
     ]
    },
    {
     "name": "stdout",
     "output_type": "stream",
     "text": [
      "Filter 74 / 128...\n"
     ]
    },
    {
     "name": "stderr",
     "output_type": "stream",
     "text": [
      "C:\\Users\\casti\\AppData\\Local\\Temp\\ipykernel_31808\\3716661773.py:146: UserWarning: FixedFormatter should only be used together with FixedLocator\n",
      "  ax.set_xticklabels(model_outputs_ext_labels, rotation=60, ha='right')\n"
     ]
    },
    {
     "name": "stdout",
     "output_type": "stream",
     "text": [
      "Filter 75 / 128...\n"
     ]
    },
    {
     "name": "stderr",
     "output_type": "stream",
     "text": [
      "C:\\Users\\casti\\AppData\\Local\\Temp\\ipykernel_31808\\3716661773.py:146: UserWarning: FixedFormatter should only be used together with FixedLocator\n",
      "  ax.set_xticklabels(model_outputs_ext_labels, rotation=60, ha='right')\n"
     ]
    },
    {
     "name": "stdout",
     "output_type": "stream",
     "text": [
      "Filter 76 / 128...\n"
     ]
    },
    {
     "name": "stderr",
     "output_type": "stream",
     "text": [
      "C:\\Users\\casti\\AppData\\Local\\Temp\\ipykernel_31808\\3716661773.py:146: UserWarning: FixedFormatter should only be used together with FixedLocator\n",
      "  ax.set_xticklabels(model_outputs_ext_labels, rotation=60, ha='right')\n"
     ]
    },
    {
     "name": "stdout",
     "output_type": "stream",
     "text": [
      "Filter 77 / 128...\n"
     ]
    },
    {
     "name": "stderr",
     "output_type": "stream",
     "text": [
      "C:\\Users\\casti\\AppData\\Local\\Temp\\ipykernel_31808\\3716661773.py:146: UserWarning: FixedFormatter should only be used together with FixedLocator\n",
      "  ax.set_xticklabels(model_outputs_ext_labels, rotation=60, ha='right')\n"
     ]
    },
    {
     "name": "stdout",
     "output_type": "stream",
     "text": [
      "Filter 78 / 128...\n"
     ]
    },
    {
     "name": "stderr",
     "output_type": "stream",
     "text": [
      "C:\\Users\\casti\\AppData\\Local\\Temp\\ipykernel_31808\\3716661773.py:146: UserWarning: FixedFormatter should only be used together with FixedLocator\n",
      "  ax.set_xticklabels(model_outputs_ext_labels, rotation=60, ha='right')\n"
     ]
    },
    {
     "name": "stdout",
     "output_type": "stream",
     "text": [
      "Filter 79 / 128...\n"
     ]
    },
    {
     "name": "stderr",
     "output_type": "stream",
     "text": [
      "C:\\Users\\casti\\AppData\\Local\\Temp\\ipykernel_31808\\3716661773.py:146: UserWarning: FixedFormatter should only be used together with FixedLocator\n",
      "  ax.set_xticklabels(model_outputs_ext_labels, rotation=60, ha='right')\n"
     ]
    },
    {
     "name": "stdout",
     "output_type": "stream",
     "text": [
      "Filter 80 / 128...\n"
     ]
    },
    {
     "name": "stderr",
     "output_type": "stream",
     "text": [
      "C:\\Users\\casti\\AppData\\Local\\Temp\\ipykernel_31808\\3716661773.py:146: UserWarning: FixedFormatter should only be used together with FixedLocator\n",
      "  ax.set_xticklabels(model_outputs_ext_labels, rotation=60, ha='right')\n"
     ]
    },
    {
     "name": "stdout",
     "output_type": "stream",
     "text": [
      "Filter 81 / 128...\n"
     ]
    },
    {
     "name": "stderr",
     "output_type": "stream",
     "text": [
      "C:\\Users\\casti\\AppData\\Local\\Temp\\ipykernel_31808\\3716661773.py:146: UserWarning: FixedFormatter should only be used together with FixedLocator\n",
      "  ax.set_xticklabels(model_outputs_ext_labels, rotation=60, ha='right')\n"
     ]
    },
    {
     "name": "stdout",
     "output_type": "stream",
     "text": [
      "Filter 82 / 128...\n"
     ]
    },
    {
     "name": "stderr",
     "output_type": "stream",
     "text": [
      "C:\\Users\\casti\\AppData\\Local\\Temp\\ipykernel_31808\\3716661773.py:146: UserWarning: FixedFormatter should only be used together with FixedLocator\n",
      "  ax.set_xticklabels(model_outputs_ext_labels, rotation=60, ha='right')\n"
     ]
    },
    {
     "name": "stdout",
     "output_type": "stream",
     "text": [
      "Filter 83 / 128...\n"
     ]
    },
    {
     "name": "stderr",
     "output_type": "stream",
     "text": [
      "C:\\Users\\casti\\AppData\\Local\\Temp\\ipykernel_31808\\3716661773.py:146: UserWarning: FixedFormatter should only be used together with FixedLocator\n",
      "  ax.set_xticklabels(model_outputs_ext_labels, rotation=60, ha='right')\n"
     ]
    },
    {
     "name": "stdout",
     "output_type": "stream",
     "text": [
      "Filter 84 / 128...\n"
     ]
    },
    {
     "name": "stderr",
     "output_type": "stream",
     "text": [
      "C:\\Users\\casti\\AppData\\Local\\Temp\\ipykernel_31808\\3716661773.py:146: UserWarning: FixedFormatter should only be used together with FixedLocator\n",
      "  ax.set_xticklabels(model_outputs_ext_labels, rotation=60, ha='right')\n"
     ]
    },
    {
     "name": "stdout",
     "output_type": "stream",
     "text": [
      "Filter 85 / 128...\n"
     ]
    },
    {
     "name": "stderr",
     "output_type": "stream",
     "text": [
      "C:\\Users\\casti\\AppData\\Local\\Temp\\ipykernel_31808\\3716661773.py:146: UserWarning: FixedFormatter should only be used together with FixedLocator\n",
      "  ax.set_xticklabels(model_outputs_ext_labels, rotation=60, ha='right')\n"
     ]
    },
    {
     "name": "stdout",
     "output_type": "stream",
     "text": [
      "Filter 86 / 128...\n"
     ]
    },
    {
     "name": "stderr",
     "output_type": "stream",
     "text": [
      "C:\\Users\\casti\\AppData\\Local\\Temp\\ipykernel_31808\\3716661773.py:146: UserWarning: FixedFormatter should only be used together with FixedLocator\n",
      "  ax.set_xticklabels(model_outputs_ext_labels, rotation=60, ha='right')\n"
     ]
    },
    {
     "name": "stdout",
     "output_type": "stream",
     "text": [
      "Filter 87 / 128...\n",
      "Filter 88 / 128...\n"
     ]
    },
    {
     "name": "stderr",
     "output_type": "stream",
     "text": [
      "C:\\Users\\casti\\AppData\\Local\\Temp\\ipykernel_31808\\3716661773.py:146: UserWarning: FixedFormatter should only be used together with FixedLocator\n",
      "  ax.set_xticklabels(model_outputs_ext_labels, rotation=60, ha='right')\n"
     ]
    },
    {
     "name": "stdout",
     "output_type": "stream",
     "text": [
      "Filter 89 / 128...\n"
     ]
    },
    {
     "name": "stderr",
     "output_type": "stream",
     "text": [
      "C:\\Users\\casti\\AppData\\Local\\Temp\\ipykernel_31808\\3716661773.py:146: UserWarning: FixedFormatter should only be used together with FixedLocator\n",
      "  ax.set_xticklabels(model_outputs_ext_labels, rotation=60, ha='right')\n"
     ]
    },
    {
     "name": "stdout",
     "output_type": "stream",
     "text": [
      "Filter 90 / 128...\n"
     ]
    },
    {
     "name": "stderr",
     "output_type": "stream",
     "text": [
      "C:\\Users\\casti\\AppData\\Local\\Temp\\ipykernel_31808\\3716661773.py:146: UserWarning: FixedFormatter should only be used together with FixedLocator\n",
      "  ax.set_xticklabels(model_outputs_ext_labels, rotation=60, ha='right')\n"
     ]
    },
    {
     "name": "stdout",
     "output_type": "stream",
     "text": [
      "Filter 91 / 128...\n"
     ]
    },
    {
     "name": "stderr",
     "output_type": "stream",
     "text": [
      "C:\\Users\\casti\\AppData\\Local\\Temp\\ipykernel_31808\\3716661773.py:146: UserWarning: FixedFormatter should only be used together with FixedLocator\n",
      "  ax.set_xticklabels(model_outputs_ext_labels, rotation=60, ha='right')\n"
     ]
    },
    {
     "name": "stdout",
     "output_type": "stream",
     "text": [
      "Filter 92 / 128...\n"
     ]
    },
    {
     "name": "stderr",
     "output_type": "stream",
     "text": [
      "C:\\Users\\casti\\AppData\\Local\\Temp\\ipykernel_31808\\3716661773.py:146: UserWarning: FixedFormatter should only be used together with FixedLocator\n",
      "  ax.set_xticklabels(model_outputs_ext_labels, rotation=60, ha='right')\n"
     ]
    },
    {
     "name": "stdout",
     "output_type": "stream",
     "text": [
      "Filter 93 / 128...\n"
     ]
    },
    {
     "name": "stderr",
     "output_type": "stream",
     "text": [
      "C:\\Users\\casti\\AppData\\Local\\Temp\\ipykernel_31808\\3716661773.py:146: UserWarning: FixedFormatter should only be used together with FixedLocator\n",
      "  ax.set_xticklabels(model_outputs_ext_labels, rotation=60, ha='right')\n"
     ]
    },
    {
     "name": "stdout",
     "output_type": "stream",
     "text": [
      "Filter 94 / 128...\n"
     ]
    },
    {
     "name": "stderr",
     "output_type": "stream",
     "text": [
      "C:\\Users\\casti\\AppData\\Local\\Temp\\ipykernel_31808\\3716661773.py:146: UserWarning: FixedFormatter should only be used together with FixedLocator\n",
      "  ax.set_xticklabels(model_outputs_ext_labels, rotation=60, ha='right')\n"
     ]
    },
    {
     "name": "stdout",
     "output_type": "stream",
     "text": [
      "Filter 95 / 128...\n"
     ]
    },
    {
     "name": "stderr",
     "output_type": "stream",
     "text": [
      "C:\\Users\\casti\\AppData\\Local\\Temp\\ipykernel_31808\\3716661773.py:146: UserWarning: FixedFormatter should only be used together with FixedLocator\n",
      "  ax.set_xticklabels(model_outputs_ext_labels, rotation=60, ha='right')\n"
     ]
    },
    {
     "name": "stdout",
     "output_type": "stream",
     "text": [
      "Filter 96 / 128...\n"
     ]
    },
    {
     "name": "stderr",
     "output_type": "stream",
     "text": [
      "C:\\Users\\casti\\AppData\\Local\\Temp\\ipykernel_31808\\3716661773.py:146: UserWarning: FixedFormatter should only be used together with FixedLocator\n",
      "  ax.set_xticklabels(model_outputs_ext_labels, rotation=60, ha='right')\n"
     ]
    },
    {
     "name": "stdout",
     "output_type": "stream",
     "text": [
      "Filter 97 / 128...\n"
     ]
    },
    {
     "name": "stderr",
     "output_type": "stream",
     "text": [
      "C:\\Users\\casti\\AppData\\Local\\Temp\\ipykernel_31808\\3716661773.py:146: UserWarning: FixedFormatter should only be used together with FixedLocator\n",
      "  ax.set_xticklabels(model_outputs_ext_labels, rotation=60, ha='right')\n"
     ]
    },
    {
     "name": "stdout",
     "output_type": "stream",
     "text": [
      "Filter 98 / 128...\n"
     ]
    },
    {
     "name": "stderr",
     "output_type": "stream",
     "text": [
      "C:\\Users\\casti\\AppData\\Local\\Temp\\ipykernel_31808\\3716661773.py:146: UserWarning: FixedFormatter should only be used together with FixedLocator\n",
      "  ax.set_xticklabels(model_outputs_ext_labels, rotation=60, ha='right')\n"
     ]
    },
    {
     "name": "stdout",
     "output_type": "stream",
     "text": [
      "Filter 99 / 128...\n"
     ]
    },
    {
     "name": "stderr",
     "output_type": "stream",
     "text": [
      "C:\\Users\\casti\\AppData\\Local\\Temp\\ipykernel_31808\\3716661773.py:146: UserWarning: FixedFormatter should only be used together with FixedLocator\n",
      "  ax.set_xticklabels(model_outputs_ext_labels, rotation=60, ha='right')\n"
     ]
    },
    {
     "name": "stdout",
     "output_type": "stream",
     "text": [
      "Filter 100 / 128...\n"
     ]
    },
    {
     "name": "stderr",
     "output_type": "stream",
     "text": [
      "C:\\Users\\casti\\AppData\\Local\\Temp\\ipykernel_31808\\3716661773.py:146: UserWarning: FixedFormatter should only be used together with FixedLocator\n",
      "  ax.set_xticklabels(model_outputs_ext_labels, rotation=60, ha='right')\n"
     ]
    },
    {
     "name": "stdout",
     "output_type": "stream",
     "text": [
      "Filter 101 / 128...\n"
     ]
    },
    {
     "name": "stderr",
     "output_type": "stream",
     "text": [
      "C:\\Users\\casti\\AppData\\Local\\Temp\\ipykernel_31808\\3716661773.py:146: UserWarning: FixedFormatter should only be used together with FixedLocator\n",
      "  ax.set_xticklabels(model_outputs_ext_labels, rotation=60, ha='right')\n"
     ]
    },
    {
     "name": "stdout",
     "output_type": "stream",
     "text": [
      "Filter 102 / 128...\n"
     ]
    },
    {
     "name": "stderr",
     "output_type": "stream",
     "text": [
      "C:\\Users\\casti\\AppData\\Local\\Temp\\ipykernel_31808\\3716661773.py:146: UserWarning: FixedFormatter should only be used together with FixedLocator\n",
      "  ax.set_xticklabels(model_outputs_ext_labels, rotation=60, ha='right')\n"
     ]
    },
    {
     "name": "stdout",
     "output_type": "stream",
     "text": [
      "Filter 103 / 128...\n"
     ]
    },
    {
     "name": "stderr",
     "output_type": "stream",
     "text": [
      "C:\\Users\\casti\\AppData\\Local\\Temp\\ipykernel_31808\\3716661773.py:146: UserWarning: FixedFormatter should only be used together with FixedLocator\n",
      "  ax.set_xticklabels(model_outputs_ext_labels, rotation=60, ha='right')\n"
     ]
    },
    {
     "name": "stdout",
     "output_type": "stream",
     "text": [
      "Filter 104 / 128...\n"
     ]
    },
    {
     "name": "stderr",
     "output_type": "stream",
     "text": [
      "C:\\Users\\casti\\AppData\\Local\\Temp\\ipykernel_31808\\3716661773.py:146: UserWarning: FixedFormatter should only be used together with FixedLocator\n",
      "  ax.set_xticklabels(model_outputs_ext_labels, rotation=60, ha='right')\n"
     ]
    },
    {
     "name": "stdout",
     "output_type": "stream",
     "text": [
      "Filter 105 / 128...\n"
     ]
    },
    {
     "name": "stderr",
     "output_type": "stream",
     "text": [
      "C:\\Users\\casti\\AppData\\Local\\Temp\\ipykernel_31808\\3716661773.py:146: UserWarning: FixedFormatter should only be used together with FixedLocator\n",
      "  ax.set_xticklabels(model_outputs_ext_labels, rotation=60, ha='right')\n"
     ]
    },
    {
     "name": "stdout",
     "output_type": "stream",
     "text": [
      "Filter 106 / 128...\n"
     ]
    },
    {
     "name": "stderr",
     "output_type": "stream",
     "text": [
      "C:\\Users\\casti\\AppData\\Local\\Temp\\ipykernel_31808\\3716661773.py:146: UserWarning: FixedFormatter should only be used together with FixedLocator\n",
      "  ax.set_xticklabels(model_outputs_ext_labels, rotation=60, ha='right')\n"
     ]
    },
    {
     "name": "stdout",
     "output_type": "stream",
     "text": [
      "Filter 107 / 128...\n"
     ]
    },
    {
     "name": "stderr",
     "output_type": "stream",
     "text": [
      "C:\\Users\\casti\\AppData\\Local\\Temp\\ipykernel_31808\\3716661773.py:146: UserWarning: FixedFormatter should only be used together with FixedLocator\n",
      "  ax.set_xticklabels(model_outputs_ext_labels, rotation=60, ha='right')\n"
     ]
    },
    {
     "name": "stdout",
     "output_type": "stream",
     "text": [
      "Filter 108 / 128...\n"
     ]
    },
    {
     "name": "stderr",
     "output_type": "stream",
     "text": [
      "C:\\Users\\casti\\AppData\\Local\\Temp\\ipykernel_31808\\3716661773.py:146: UserWarning: FixedFormatter should only be used together with FixedLocator\n",
      "  ax.set_xticklabels(model_outputs_ext_labels, rotation=60, ha='right')\n"
     ]
    },
    {
     "name": "stdout",
     "output_type": "stream",
     "text": [
      "Filter 109 / 128...\n"
     ]
    },
    {
     "name": "stderr",
     "output_type": "stream",
     "text": [
      "C:\\Users\\casti\\AppData\\Local\\Temp\\ipykernel_31808\\3716661773.py:146: UserWarning: FixedFormatter should only be used together with FixedLocator\n",
      "  ax.set_xticklabels(model_outputs_ext_labels, rotation=60, ha='right')\n"
     ]
    },
    {
     "name": "stdout",
     "output_type": "stream",
     "text": [
      "Filter 110 / 128...\n"
     ]
    },
    {
     "name": "stderr",
     "output_type": "stream",
     "text": [
      "C:\\Users\\casti\\AppData\\Local\\Temp\\ipykernel_31808\\3716661773.py:146: UserWarning: FixedFormatter should only be used together with FixedLocator\n",
      "  ax.set_xticklabels(model_outputs_ext_labels, rotation=60, ha='right')\n"
     ]
    },
    {
     "name": "stdout",
     "output_type": "stream",
     "text": [
      "Filter 111 / 128...\n"
     ]
    },
    {
     "name": "stderr",
     "output_type": "stream",
     "text": [
      "C:\\Users\\casti\\AppData\\Local\\Temp\\ipykernel_31808\\3716661773.py:146: UserWarning: FixedFormatter should only be used together with FixedLocator\n",
      "  ax.set_xticklabels(model_outputs_ext_labels, rotation=60, ha='right')\n"
     ]
    },
    {
     "name": "stdout",
     "output_type": "stream",
     "text": [
      "Filter 112 / 128...\n"
     ]
    },
    {
     "name": "stderr",
     "output_type": "stream",
     "text": [
      "C:\\Users\\casti\\AppData\\Local\\Temp\\ipykernel_31808\\3716661773.py:146: UserWarning: FixedFormatter should only be used together with FixedLocator\n",
      "  ax.set_xticklabels(model_outputs_ext_labels, rotation=60, ha='right')\n"
     ]
    },
    {
     "name": "stdout",
     "output_type": "stream",
     "text": [
      "Filter 113 / 128...\n"
     ]
    },
    {
     "name": "stderr",
     "output_type": "stream",
     "text": [
      "C:\\Users\\casti\\AppData\\Local\\Temp\\ipykernel_31808\\3716661773.py:146: UserWarning: FixedFormatter should only be used together with FixedLocator\n",
      "  ax.set_xticklabels(model_outputs_ext_labels, rotation=60, ha='right')\n"
     ]
    },
    {
     "name": "stdout",
     "output_type": "stream",
     "text": [
      "Filter 114 / 128...\n"
     ]
    },
    {
     "name": "stderr",
     "output_type": "stream",
     "text": [
      "C:\\Users\\casti\\AppData\\Local\\Temp\\ipykernel_31808\\3716661773.py:146: UserWarning: FixedFormatter should only be used together with FixedLocator\n",
      "  ax.set_xticklabels(model_outputs_ext_labels, rotation=60, ha='right')\n"
     ]
    },
    {
     "name": "stdout",
     "output_type": "stream",
     "text": [
      "Filter 115 / 128...\n"
     ]
    },
    {
     "name": "stderr",
     "output_type": "stream",
     "text": [
      "C:\\Users\\casti\\AppData\\Local\\Temp\\ipykernel_31808\\3716661773.py:146: UserWarning: FixedFormatter should only be used together with FixedLocator\n",
      "  ax.set_xticklabels(model_outputs_ext_labels, rotation=60, ha='right')\n"
     ]
    },
    {
     "name": "stdout",
     "output_type": "stream",
     "text": [
      "Filter 116 / 128...\n"
     ]
    },
    {
     "name": "stderr",
     "output_type": "stream",
     "text": [
      "C:\\Users\\casti\\AppData\\Local\\Temp\\ipykernel_31808\\3716661773.py:146: UserWarning: FixedFormatter should only be used together with FixedLocator\n",
      "  ax.set_xticklabels(model_outputs_ext_labels, rotation=60, ha='right')\n"
     ]
    },
    {
     "name": "stdout",
     "output_type": "stream",
     "text": [
      "Filter 117 / 128...\n"
     ]
    },
    {
     "name": "stderr",
     "output_type": "stream",
     "text": [
      "C:\\Users\\casti\\AppData\\Local\\Temp\\ipykernel_31808\\3716661773.py:146: UserWarning: FixedFormatter should only be used together with FixedLocator\n",
      "  ax.set_xticklabels(model_outputs_ext_labels, rotation=60, ha='right')\n"
     ]
    },
    {
     "name": "stdout",
     "output_type": "stream",
     "text": [
      "Filter 118 / 128...\n"
     ]
    },
    {
     "name": "stderr",
     "output_type": "stream",
     "text": [
      "C:\\Users\\casti\\AppData\\Local\\Temp\\ipykernel_31808\\3716661773.py:146: UserWarning: FixedFormatter should only be used together with FixedLocator\n",
      "  ax.set_xticklabels(model_outputs_ext_labels, rotation=60, ha='right')\n"
     ]
    },
    {
     "name": "stdout",
     "output_type": "stream",
     "text": [
      "Filter 119 / 128...\n"
     ]
    },
    {
     "name": "stderr",
     "output_type": "stream",
     "text": [
      "C:\\Users\\casti\\AppData\\Local\\Temp\\ipykernel_31808\\3716661773.py:146: UserWarning: FixedFormatter should only be used together with FixedLocator\n",
      "  ax.set_xticklabels(model_outputs_ext_labels, rotation=60, ha='right')\n"
     ]
    },
    {
     "name": "stdout",
     "output_type": "stream",
     "text": [
      "Filter 120 / 128...\n"
     ]
    },
    {
     "name": "stderr",
     "output_type": "stream",
     "text": [
      "C:\\Users\\casti\\AppData\\Local\\Temp\\ipykernel_31808\\3716661773.py:146: UserWarning: FixedFormatter should only be used together with FixedLocator\n",
      "  ax.set_xticklabels(model_outputs_ext_labels, rotation=60, ha='right')\n"
     ]
    },
    {
     "name": "stdout",
     "output_type": "stream",
     "text": [
      "Filter 121 / 128...\n"
     ]
    },
    {
     "name": "stderr",
     "output_type": "stream",
     "text": [
      "C:\\Users\\casti\\AppData\\Local\\Temp\\ipykernel_31808\\3716661773.py:146: UserWarning: FixedFormatter should only be used together with FixedLocator\n",
      "  ax.set_xticklabels(model_outputs_ext_labels, rotation=60, ha='right')\n"
     ]
    },
    {
     "name": "stdout",
     "output_type": "stream",
     "text": [
      "Filter 122 / 128...\n"
     ]
    },
    {
     "name": "stderr",
     "output_type": "stream",
     "text": [
      "C:\\Users\\casti\\AppData\\Local\\Temp\\ipykernel_31808\\3716661773.py:146: UserWarning: FixedFormatter should only be used together with FixedLocator\n",
      "  ax.set_xticklabels(model_outputs_ext_labels, rotation=60, ha='right')\n"
     ]
    },
    {
     "name": "stdout",
     "output_type": "stream",
     "text": [
      "Filter 123 / 128...\n"
     ]
    },
    {
     "name": "stderr",
     "output_type": "stream",
     "text": [
      "C:\\Users\\casti\\AppData\\Local\\Temp\\ipykernel_31808\\3716661773.py:146: UserWarning: FixedFormatter should only be used together with FixedLocator\n",
      "  ax.set_xticklabels(model_outputs_ext_labels, rotation=60, ha='right')\n"
     ]
    },
    {
     "name": "stdout",
     "output_type": "stream",
     "text": [
      "Filter 124 / 128...\n"
     ]
    },
    {
     "name": "stderr",
     "output_type": "stream",
     "text": [
      "C:\\Users\\casti\\AppData\\Local\\Temp\\ipykernel_31808\\3716661773.py:146: UserWarning: FixedFormatter should only be used together with FixedLocator\n",
      "  ax.set_xticklabels(model_outputs_ext_labels, rotation=60, ha='right')\n"
     ]
    },
    {
     "name": "stdout",
     "output_type": "stream",
     "text": [
      "Filter 125 / 128...\n"
     ]
    },
    {
     "name": "stderr",
     "output_type": "stream",
     "text": [
      "C:\\Users\\casti\\AppData\\Local\\Temp\\ipykernel_31808\\3716661773.py:146: UserWarning: FixedFormatter should only be used together with FixedLocator\n",
      "  ax.set_xticklabels(model_outputs_ext_labels, rotation=60, ha='right')\n"
     ]
    },
    {
     "name": "stdout",
     "output_type": "stream",
     "text": [
      "Filter 126 / 128...\n"
     ]
    },
    {
     "name": "stderr",
     "output_type": "stream",
     "text": [
      "C:\\Users\\casti\\AppData\\Local\\Temp\\ipykernel_31808\\3716661773.py:146: UserWarning: FixedFormatter should only be used together with FixedLocator\n",
      "  ax.set_xticklabels(model_outputs_ext_labels, rotation=60, ha='right')\n"
     ]
    },
    {
     "name": "stdout",
     "output_type": "stream",
     "text": [
      "Filter 127 / 128...\n"
     ]
    },
    {
     "name": "stderr",
     "output_type": "stream",
     "text": [
      "C:\\Users\\casti\\AppData\\Local\\Temp\\ipykernel_31808\\3716661773.py:146: UserWarning: FixedFormatter should only be used together with FixedLocator\n",
      "  ax.set_xticklabels(model_outputs_ext_labels, rotation=60, ha='right')\n"
     ]
    },
    {
     "name": "stdout",
     "output_type": "stream",
     "text": [
      "Saving meme file...\n",
      "Done with model 8.\n",
      "Processing model 9...\n",
      "Filter 0 / 128...\n"
     ]
    },
    {
     "name": "stderr",
     "output_type": "stream",
     "text": [
      "C:\\Users\\casti\\AppData\\Local\\Temp\\ipykernel_31808\\3716661773.py:146: UserWarning: FixedFormatter should only be used together with FixedLocator\n",
      "  ax.set_xticklabels(model_outputs_ext_labels, rotation=60, ha='right')\n"
     ]
    },
    {
     "name": "stdout",
     "output_type": "stream",
     "text": [
      "Filter 1 / 128...\n"
     ]
    },
    {
     "name": "stderr",
     "output_type": "stream",
     "text": [
      "C:\\Users\\casti\\AppData\\Local\\Temp\\ipykernel_31808\\3716661773.py:146: UserWarning: FixedFormatter should only be used together with FixedLocator\n",
      "  ax.set_xticklabels(model_outputs_ext_labels, rotation=60, ha='right')\n"
     ]
    },
    {
     "name": "stdout",
     "output_type": "stream",
     "text": [
      "Filter 2 / 128...\n"
     ]
    },
    {
     "name": "stderr",
     "output_type": "stream",
     "text": [
      "C:\\Users\\casti\\AppData\\Local\\Temp\\ipykernel_31808\\3716661773.py:146: UserWarning: FixedFormatter should only be used together with FixedLocator\n",
      "  ax.set_xticklabels(model_outputs_ext_labels, rotation=60, ha='right')\n"
     ]
    },
    {
     "name": "stdout",
     "output_type": "stream",
     "text": [
      "Filter 3 / 128...\n"
     ]
    },
    {
     "name": "stderr",
     "output_type": "stream",
     "text": [
      "C:\\Users\\casti\\AppData\\Local\\Temp\\ipykernel_31808\\3716661773.py:146: UserWarning: FixedFormatter should only be used together with FixedLocator\n",
      "  ax.set_xticklabels(model_outputs_ext_labels, rotation=60, ha='right')\n"
     ]
    },
    {
     "name": "stdout",
     "output_type": "stream",
     "text": [
      "Filter 4 / 128...\n"
     ]
    },
    {
     "name": "stderr",
     "output_type": "stream",
     "text": [
      "C:\\Users\\casti\\AppData\\Local\\Temp\\ipykernel_31808\\3716661773.py:146: UserWarning: FixedFormatter should only be used together with FixedLocator\n",
      "  ax.set_xticklabels(model_outputs_ext_labels, rotation=60, ha='right')\n"
     ]
    },
    {
     "name": "stdout",
     "output_type": "stream",
     "text": [
      "Filter 5 / 128...\n"
     ]
    },
    {
     "name": "stderr",
     "output_type": "stream",
     "text": [
      "C:\\Users\\casti\\AppData\\Local\\Temp\\ipykernel_31808\\3716661773.py:146: UserWarning: FixedFormatter should only be used together with FixedLocator\n",
      "  ax.set_xticklabels(model_outputs_ext_labels, rotation=60, ha='right')\n"
     ]
    },
    {
     "name": "stdout",
     "output_type": "stream",
     "text": [
      "Filter 6 / 128...\n"
     ]
    },
    {
     "name": "stderr",
     "output_type": "stream",
     "text": [
      "C:\\Users\\casti\\AppData\\Local\\Temp\\ipykernel_31808\\3716661773.py:146: UserWarning: FixedFormatter should only be used together with FixedLocator\n",
      "  ax.set_xticklabels(model_outputs_ext_labels, rotation=60, ha='right')\n"
     ]
    },
    {
     "name": "stdout",
     "output_type": "stream",
     "text": [
      "Filter 7 / 128...\n"
     ]
    },
    {
     "name": "stderr",
     "output_type": "stream",
     "text": [
      "C:\\Users\\casti\\AppData\\Local\\Temp\\ipykernel_31808\\3716661773.py:146: UserWarning: FixedFormatter should only be used together with FixedLocator\n",
      "  ax.set_xticklabels(model_outputs_ext_labels, rotation=60, ha='right')\n"
     ]
    },
    {
     "name": "stdout",
     "output_type": "stream",
     "text": [
      "Filter 8 / 128...\n"
     ]
    },
    {
     "name": "stderr",
     "output_type": "stream",
     "text": [
      "C:\\Users\\casti\\AppData\\Local\\Temp\\ipykernel_31808\\3716661773.py:146: UserWarning: FixedFormatter should only be used together with FixedLocator\n",
      "  ax.set_xticklabels(model_outputs_ext_labels, rotation=60, ha='right')\n"
     ]
    },
    {
     "name": "stdout",
     "output_type": "stream",
     "text": [
      "Filter 9 / 128...\n"
     ]
    },
    {
     "name": "stderr",
     "output_type": "stream",
     "text": [
      "C:\\Users\\casti\\AppData\\Local\\Temp\\ipykernel_31808\\3716661773.py:146: UserWarning: FixedFormatter should only be used together with FixedLocator\n",
      "  ax.set_xticklabels(model_outputs_ext_labels, rotation=60, ha='right')\n"
     ]
    },
    {
     "name": "stdout",
     "output_type": "stream",
     "text": [
      "Filter 10 / 128...\n"
     ]
    },
    {
     "name": "stderr",
     "output_type": "stream",
     "text": [
      "C:\\Users\\casti\\AppData\\Local\\Temp\\ipykernel_31808\\3716661773.py:146: UserWarning: FixedFormatter should only be used together with FixedLocator\n",
      "  ax.set_xticklabels(model_outputs_ext_labels, rotation=60, ha='right')\n"
     ]
    },
    {
     "name": "stdout",
     "output_type": "stream",
     "text": [
      "Filter 11 / 128...\n"
     ]
    },
    {
     "name": "stderr",
     "output_type": "stream",
     "text": [
      "C:\\Users\\casti\\AppData\\Local\\Temp\\ipykernel_31808\\3716661773.py:146: UserWarning: FixedFormatter should only be used together with FixedLocator\n",
      "  ax.set_xticklabels(model_outputs_ext_labels, rotation=60, ha='right')\n"
     ]
    },
    {
     "name": "stdout",
     "output_type": "stream",
     "text": [
      "Filter 12 / 128...\n"
     ]
    },
    {
     "name": "stderr",
     "output_type": "stream",
     "text": [
      "C:\\Users\\casti\\AppData\\Local\\Temp\\ipykernel_31808\\3716661773.py:146: UserWarning: FixedFormatter should only be used together with FixedLocator\n",
      "  ax.set_xticklabels(model_outputs_ext_labels, rotation=60, ha='right')\n"
     ]
    },
    {
     "name": "stdout",
     "output_type": "stream",
     "text": [
      "Filter 13 / 128...\n"
     ]
    },
    {
     "name": "stderr",
     "output_type": "stream",
     "text": [
      "C:\\Users\\casti\\AppData\\Local\\Temp\\ipykernel_31808\\3716661773.py:146: UserWarning: FixedFormatter should only be used together with FixedLocator\n",
      "  ax.set_xticklabels(model_outputs_ext_labels, rotation=60, ha='right')\n"
     ]
    },
    {
     "name": "stdout",
     "output_type": "stream",
     "text": [
      "Filter 14 / 128...\n"
     ]
    },
    {
     "name": "stderr",
     "output_type": "stream",
     "text": [
      "C:\\Users\\casti\\AppData\\Local\\Temp\\ipykernel_31808\\3716661773.py:146: UserWarning: FixedFormatter should only be used together with FixedLocator\n",
      "  ax.set_xticklabels(model_outputs_ext_labels, rotation=60, ha='right')\n"
     ]
    },
    {
     "name": "stdout",
     "output_type": "stream",
     "text": [
      "Filter 15 / 128...\n"
     ]
    },
    {
     "name": "stderr",
     "output_type": "stream",
     "text": [
      "C:\\Users\\casti\\AppData\\Local\\Temp\\ipykernel_31808\\3716661773.py:146: UserWarning: FixedFormatter should only be used together with FixedLocator\n",
      "  ax.set_xticklabels(model_outputs_ext_labels, rotation=60, ha='right')\n"
     ]
    },
    {
     "name": "stdout",
     "output_type": "stream",
     "text": [
      "Filter 16 / 128...\n"
     ]
    },
    {
     "name": "stderr",
     "output_type": "stream",
     "text": [
      "C:\\Users\\casti\\AppData\\Local\\Temp\\ipykernel_31808\\3716661773.py:146: UserWarning: FixedFormatter should only be used together with FixedLocator\n",
      "  ax.set_xticklabels(model_outputs_ext_labels, rotation=60, ha='right')\n"
     ]
    },
    {
     "name": "stdout",
     "output_type": "stream",
     "text": [
      "Filter 17 / 128...\n"
     ]
    },
    {
     "name": "stderr",
     "output_type": "stream",
     "text": [
      "C:\\Users\\casti\\AppData\\Local\\Temp\\ipykernel_31808\\3716661773.py:146: UserWarning: FixedFormatter should only be used together with FixedLocator\n",
      "  ax.set_xticklabels(model_outputs_ext_labels, rotation=60, ha='right')\n"
     ]
    },
    {
     "name": "stdout",
     "output_type": "stream",
     "text": [
      "Filter 18 / 128...\n"
     ]
    },
    {
     "name": "stderr",
     "output_type": "stream",
     "text": [
      "C:\\Users\\casti\\AppData\\Local\\Temp\\ipykernel_31808\\3716661773.py:146: UserWarning: FixedFormatter should only be used together with FixedLocator\n",
      "  ax.set_xticklabels(model_outputs_ext_labels, rotation=60, ha='right')\n"
     ]
    },
    {
     "name": "stdout",
     "output_type": "stream",
     "text": [
      "Filter 19 / 128...\n"
     ]
    },
    {
     "name": "stderr",
     "output_type": "stream",
     "text": [
      "C:\\Users\\casti\\AppData\\Local\\Temp\\ipykernel_31808\\3716661773.py:146: UserWarning: FixedFormatter should only be used together with FixedLocator\n",
      "  ax.set_xticklabels(model_outputs_ext_labels, rotation=60, ha='right')\n"
     ]
    },
    {
     "name": "stdout",
     "output_type": "stream",
     "text": [
      "Filter 20 / 128...\n"
     ]
    },
    {
     "name": "stderr",
     "output_type": "stream",
     "text": [
      "C:\\Users\\casti\\AppData\\Local\\Temp\\ipykernel_31808\\3716661773.py:146: UserWarning: FixedFormatter should only be used together with FixedLocator\n",
      "  ax.set_xticklabels(model_outputs_ext_labels, rotation=60, ha='right')\n"
     ]
    },
    {
     "name": "stdout",
     "output_type": "stream",
     "text": [
      "Filter 21 / 128...\n"
     ]
    },
    {
     "name": "stderr",
     "output_type": "stream",
     "text": [
      "C:\\Users\\casti\\AppData\\Local\\Temp\\ipykernel_31808\\3716661773.py:146: UserWarning: FixedFormatter should only be used together with FixedLocator\n",
      "  ax.set_xticklabels(model_outputs_ext_labels, rotation=60, ha='right')\n"
     ]
    },
    {
     "name": "stdout",
     "output_type": "stream",
     "text": [
      "Filter 22 / 128...\n"
     ]
    },
    {
     "name": "stderr",
     "output_type": "stream",
     "text": [
      "C:\\Users\\casti\\AppData\\Local\\Temp\\ipykernel_31808\\3716661773.py:146: UserWarning: FixedFormatter should only be used together with FixedLocator\n",
      "  ax.set_xticklabels(model_outputs_ext_labels, rotation=60, ha='right')\n"
     ]
    },
    {
     "name": "stdout",
     "output_type": "stream",
     "text": [
      "Filter 23 / 128...\n"
     ]
    },
    {
     "name": "stderr",
     "output_type": "stream",
     "text": [
      "C:\\Users\\casti\\AppData\\Local\\Temp\\ipykernel_31808\\3716661773.py:146: UserWarning: FixedFormatter should only be used together with FixedLocator\n",
      "  ax.set_xticklabels(model_outputs_ext_labels, rotation=60, ha='right')\n"
     ]
    },
    {
     "name": "stdout",
     "output_type": "stream",
     "text": [
      "Filter 24 / 128...\n"
     ]
    },
    {
     "name": "stderr",
     "output_type": "stream",
     "text": [
      "C:\\Users\\casti\\AppData\\Local\\Temp\\ipykernel_31808\\3716661773.py:146: UserWarning: FixedFormatter should only be used together with FixedLocator\n",
      "  ax.set_xticklabels(model_outputs_ext_labels, rotation=60, ha='right')\n"
     ]
    },
    {
     "name": "stdout",
     "output_type": "stream",
     "text": [
      "Filter 25 / 128...\n"
     ]
    },
    {
     "name": "stderr",
     "output_type": "stream",
     "text": [
      "C:\\Users\\casti\\AppData\\Local\\Temp\\ipykernel_31808\\3716661773.py:146: UserWarning: FixedFormatter should only be used together with FixedLocator\n",
      "  ax.set_xticklabels(model_outputs_ext_labels, rotation=60, ha='right')\n"
     ]
    },
    {
     "name": "stdout",
     "output_type": "stream",
     "text": [
      "Filter 26 / 128...\n"
     ]
    },
    {
     "name": "stderr",
     "output_type": "stream",
     "text": [
      "C:\\Users\\casti\\AppData\\Local\\Temp\\ipykernel_31808\\3716661773.py:146: UserWarning: FixedFormatter should only be used together with FixedLocator\n",
      "  ax.set_xticklabels(model_outputs_ext_labels, rotation=60, ha='right')\n"
     ]
    },
    {
     "name": "stdout",
     "output_type": "stream",
     "text": [
      "Filter 27 / 128...\n"
     ]
    },
    {
     "name": "stderr",
     "output_type": "stream",
     "text": [
      "C:\\Users\\casti\\AppData\\Local\\Temp\\ipykernel_31808\\3716661773.py:146: UserWarning: FixedFormatter should only be used together with FixedLocator\n",
      "  ax.set_xticklabels(model_outputs_ext_labels, rotation=60, ha='right')\n"
     ]
    },
    {
     "name": "stdout",
     "output_type": "stream",
     "text": [
      "Filter 28 / 128...\n"
     ]
    },
    {
     "name": "stderr",
     "output_type": "stream",
     "text": [
      "C:\\Users\\casti\\AppData\\Local\\Temp\\ipykernel_31808\\3716661773.py:146: UserWarning: FixedFormatter should only be used together with FixedLocator\n",
      "  ax.set_xticklabels(model_outputs_ext_labels, rotation=60, ha='right')\n"
     ]
    },
    {
     "name": "stdout",
     "output_type": "stream",
     "text": [
      "Filter 29 / 128...\n"
     ]
    },
    {
     "name": "stderr",
     "output_type": "stream",
     "text": [
      "C:\\Users\\casti\\AppData\\Local\\Temp\\ipykernel_31808\\3716661773.py:146: UserWarning: FixedFormatter should only be used together with FixedLocator\n",
      "  ax.set_xticklabels(model_outputs_ext_labels, rotation=60, ha='right')\n"
     ]
    },
    {
     "name": "stdout",
     "output_type": "stream",
     "text": [
      "Filter 30 / 128...\n"
     ]
    },
    {
     "name": "stderr",
     "output_type": "stream",
     "text": [
      "C:\\Users\\casti\\AppData\\Local\\Temp\\ipykernel_31808\\3716661773.py:146: UserWarning: FixedFormatter should only be used together with FixedLocator\n",
      "  ax.set_xticklabels(model_outputs_ext_labels, rotation=60, ha='right')\n"
     ]
    },
    {
     "name": "stdout",
     "output_type": "stream",
     "text": [
      "Filter 31 / 128...\n"
     ]
    },
    {
     "name": "stderr",
     "output_type": "stream",
     "text": [
      "C:\\Users\\casti\\AppData\\Local\\Temp\\ipykernel_31808\\3716661773.py:146: UserWarning: FixedFormatter should only be used together with FixedLocator\n",
      "  ax.set_xticklabels(model_outputs_ext_labels, rotation=60, ha='right')\n"
     ]
    },
    {
     "name": "stdout",
     "output_type": "stream",
     "text": [
      "Filter 32 / 128...\n"
     ]
    },
    {
     "name": "stderr",
     "output_type": "stream",
     "text": [
      "C:\\Users\\casti\\AppData\\Local\\Temp\\ipykernel_31808\\3716661773.py:146: UserWarning: FixedFormatter should only be used together with FixedLocator\n",
      "  ax.set_xticklabels(model_outputs_ext_labels, rotation=60, ha='right')\n"
     ]
    },
    {
     "name": "stdout",
     "output_type": "stream",
     "text": [
      "Filter 33 / 128...\n"
     ]
    },
    {
     "name": "stderr",
     "output_type": "stream",
     "text": [
      "C:\\Users\\casti\\AppData\\Local\\Temp\\ipykernel_31808\\3716661773.py:146: UserWarning: FixedFormatter should only be used together with FixedLocator\n",
      "  ax.set_xticklabels(model_outputs_ext_labels, rotation=60, ha='right')\n"
     ]
    },
    {
     "name": "stdout",
     "output_type": "stream",
     "text": [
      "Filter 34 / 128...\n"
     ]
    },
    {
     "name": "stderr",
     "output_type": "stream",
     "text": [
      "C:\\Users\\casti\\AppData\\Local\\Temp\\ipykernel_31808\\3716661773.py:146: UserWarning: FixedFormatter should only be used together with FixedLocator\n",
      "  ax.set_xticklabels(model_outputs_ext_labels, rotation=60, ha='right')\n"
     ]
    },
    {
     "name": "stdout",
     "output_type": "stream",
     "text": [
      "Filter 35 / 128...\n"
     ]
    },
    {
     "name": "stderr",
     "output_type": "stream",
     "text": [
      "C:\\Users\\casti\\AppData\\Local\\Temp\\ipykernel_31808\\3716661773.py:146: UserWarning: FixedFormatter should only be used together with FixedLocator\n",
      "  ax.set_xticklabels(model_outputs_ext_labels, rotation=60, ha='right')\n"
     ]
    },
    {
     "name": "stdout",
     "output_type": "stream",
     "text": [
      "Filter 36 / 128...\n"
     ]
    },
    {
     "name": "stderr",
     "output_type": "stream",
     "text": [
      "C:\\Users\\casti\\AppData\\Local\\Temp\\ipykernel_31808\\3716661773.py:146: UserWarning: FixedFormatter should only be used together with FixedLocator\n",
      "  ax.set_xticklabels(model_outputs_ext_labels, rotation=60, ha='right')\n"
     ]
    },
    {
     "name": "stdout",
     "output_type": "stream",
     "text": [
      "Filter 37 / 128...\n"
     ]
    },
    {
     "name": "stderr",
     "output_type": "stream",
     "text": [
      "C:\\Users\\casti\\AppData\\Local\\Temp\\ipykernel_31808\\3716661773.py:146: UserWarning: FixedFormatter should only be used together with FixedLocator\n",
      "  ax.set_xticklabels(model_outputs_ext_labels, rotation=60, ha='right')\n"
     ]
    },
    {
     "name": "stdout",
     "output_type": "stream",
     "text": [
      "Filter 38 / 128...\n"
     ]
    },
    {
     "name": "stderr",
     "output_type": "stream",
     "text": [
      "C:\\Users\\casti\\AppData\\Local\\Temp\\ipykernel_31808\\3716661773.py:146: UserWarning: FixedFormatter should only be used together with FixedLocator\n",
      "  ax.set_xticklabels(model_outputs_ext_labels, rotation=60, ha='right')\n"
     ]
    },
    {
     "name": "stdout",
     "output_type": "stream",
     "text": [
      "Filter 39 / 128...\n"
     ]
    },
    {
     "name": "stderr",
     "output_type": "stream",
     "text": [
      "C:\\Users\\casti\\AppData\\Local\\Temp\\ipykernel_31808\\3716661773.py:146: UserWarning: FixedFormatter should only be used together with FixedLocator\n",
      "  ax.set_xticklabels(model_outputs_ext_labels, rotation=60, ha='right')\n"
     ]
    },
    {
     "name": "stdout",
     "output_type": "stream",
     "text": [
      "Filter 40 / 128...\n"
     ]
    },
    {
     "name": "stderr",
     "output_type": "stream",
     "text": [
      "C:\\Users\\casti\\AppData\\Local\\Temp\\ipykernel_31808\\3716661773.py:146: UserWarning: FixedFormatter should only be used together with FixedLocator\n",
      "  ax.set_xticklabels(model_outputs_ext_labels, rotation=60, ha='right')\n"
     ]
    },
    {
     "name": "stdout",
     "output_type": "stream",
     "text": [
      "Filter 41 / 128...\n"
     ]
    },
    {
     "name": "stderr",
     "output_type": "stream",
     "text": [
      "C:\\Users\\casti\\AppData\\Local\\Temp\\ipykernel_31808\\3716661773.py:146: UserWarning: FixedFormatter should only be used together with FixedLocator\n",
      "  ax.set_xticklabels(model_outputs_ext_labels, rotation=60, ha='right')\n"
     ]
    },
    {
     "name": "stdout",
     "output_type": "stream",
     "text": [
      "Filter 42 / 128...\n"
     ]
    },
    {
     "name": "stderr",
     "output_type": "stream",
     "text": [
      "C:\\Users\\casti\\AppData\\Local\\Temp\\ipykernel_31808\\3716661773.py:146: UserWarning: FixedFormatter should only be used together with FixedLocator\n",
      "  ax.set_xticklabels(model_outputs_ext_labels, rotation=60, ha='right')\n"
     ]
    },
    {
     "name": "stdout",
     "output_type": "stream",
     "text": [
      "Filter 43 / 128...\n"
     ]
    },
    {
     "name": "stderr",
     "output_type": "stream",
     "text": [
      "C:\\Users\\casti\\AppData\\Local\\Temp\\ipykernel_31808\\3716661773.py:146: UserWarning: FixedFormatter should only be used together with FixedLocator\n",
      "  ax.set_xticklabels(model_outputs_ext_labels, rotation=60, ha='right')\n"
     ]
    },
    {
     "name": "stdout",
     "output_type": "stream",
     "text": [
      "Filter 44 / 128...\n"
     ]
    },
    {
     "name": "stderr",
     "output_type": "stream",
     "text": [
      "C:\\Users\\casti\\AppData\\Local\\Temp\\ipykernel_31808\\3716661773.py:146: UserWarning: FixedFormatter should only be used together with FixedLocator\n",
      "  ax.set_xticklabels(model_outputs_ext_labels, rotation=60, ha='right')\n"
     ]
    },
    {
     "name": "stdout",
     "output_type": "stream",
     "text": [
      "Filter 45 / 128...\n"
     ]
    },
    {
     "name": "stderr",
     "output_type": "stream",
     "text": [
      "C:\\Users\\casti\\AppData\\Local\\Temp\\ipykernel_31808\\3716661773.py:146: UserWarning: FixedFormatter should only be used together with FixedLocator\n",
      "  ax.set_xticklabels(model_outputs_ext_labels, rotation=60, ha='right')\n"
     ]
    },
    {
     "name": "stdout",
     "output_type": "stream",
     "text": [
      "Filter 46 / 128...\n"
     ]
    },
    {
     "name": "stderr",
     "output_type": "stream",
     "text": [
      "C:\\Users\\casti\\AppData\\Local\\Temp\\ipykernel_31808\\3716661773.py:146: UserWarning: FixedFormatter should only be used together with FixedLocator\n",
      "  ax.set_xticklabels(model_outputs_ext_labels, rotation=60, ha='right')\n"
     ]
    },
    {
     "name": "stdout",
     "output_type": "stream",
     "text": [
      "Filter 47 / 128...\n"
     ]
    },
    {
     "name": "stderr",
     "output_type": "stream",
     "text": [
      "C:\\Users\\casti\\AppData\\Local\\Temp\\ipykernel_31808\\3716661773.py:146: UserWarning: FixedFormatter should only be used together with FixedLocator\n",
      "  ax.set_xticklabels(model_outputs_ext_labels, rotation=60, ha='right')\n"
     ]
    },
    {
     "name": "stdout",
     "output_type": "stream",
     "text": [
      "Filter 48 / 128...\n"
     ]
    },
    {
     "name": "stderr",
     "output_type": "stream",
     "text": [
      "C:\\Users\\casti\\AppData\\Local\\Temp\\ipykernel_31808\\3716661773.py:146: UserWarning: FixedFormatter should only be used together with FixedLocator\n",
      "  ax.set_xticklabels(model_outputs_ext_labels, rotation=60, ha='right')\n"
     ]
    },
    {
     "name": "stdout",
     "output_type": "stream",
     "text": [
      "Filter 49 / 128...\n"
     ]
    },
    {
     "name": "stderr",
     "output_type": "stream",
     "text": [
      "C:\\Users\\casti\\AppData\\Local\\Temp\\ipykernel_31808\\3716661773.py:146: UserWarning: FixedFormatter should only be used together with FixedLocator\n",
      "  ax.set_xticklabels(model_outputs_ext_labels, rotation=60, ha='right')\n"
     ]
    },
    {
     "name": "stdout",
     "output_type": "stream",
     "text": [
      "Filter 50 / 128...\n"
     ]
    },
    {
     "name": "stderr",
     "output_type": "stream",
     "text": [
      "C:\\Users\\casti\\AppData\\Local\\Temp\\ipykernel_31808\\3716661773.py:146: UserWarning: FixedFormatter should only be used together with FixedLocator\n",
      "  ax.set_xticklabels(model_outputs_ext_labels, rotation=60, ha='right')\n"
     ]
    },
    {
     "name": "stdout",
     "output_type": "stream",
     "text": [
      "Filter 51 / 128...\n"
     ]
    },
    {
     "name": "stderr",
     "output_type": "stream",
     "text": [
      "C:\\Users\\casti\\AppData\\Local\\Temp\\ipykernel_31808\\3716661773.py:146: UserWarning: FixedFormatter should only be used together with FixedLocator\n",
      "  ax.set_xticklabels(model_outputs_ext_labels, rotation=60, ha='right')\n"
     ]
    },
    {
     "name": "stdout",
     "output_type": "stream",
     "text": [
      "Filter 52 / 128...\n"
     ]
    },
    {
     "name": "stderr",
     "output_type": "stream",
     "text": [
      "C:\\Users\\casti\\AppData\\Local\\Temp\\ipykernel_31808\\3716661773.py:146: UserWarning: FixedFormatter should only be used together with FixedLocator\n",
      "  ax.set_xticklabels(model_outputs_ext_labels, rotation=60, ha='right')\n"
     ]
    },
    {
     "name": "stdout",
     "output_type": "stream",
     "text": [
      "Filter 53 / 128...\n"
     ]
    },
    {
     "name": "stderr",
     "output_type": "stream",
     "text": [
      "C:\\Users\\casti\\AppData\\Local\\Temp\\ipykernel_31808\\3716661773.py:146: UserWarning: FixedFormatter should only be used together with FixedLocator\n",
      "  ax.set_xticklabels(model_outputs_ext_labels, rotation=60, ha='right')\n"
     ]
    },
    {
     "name": "stdout",
     "output_type": "stream",
     "text": [
      "Filter 54 / 128...\n"
     ]
    },
    {
     "name": "stderr",
     "output_type": "stream",
     "text": [
      "C:\\Users\\casti\\AppData\\Local\\Temp\\ipykernel_31808\\3716661773.py:146: UserWarning: FixedFormatter should only be used together with FixedLocator\n",
      "  ax.set_xticklabels(model_outputs_ext_labels, rotation=60, ha='right')\n"
     ]
    },
    {
     "name": "stdout",
     "output_type": "stream",
     "text": [
      "Filter 55 / 128...\n"
     ]
    },
    {
     "name": "stderr",
     "output_type": "stream",
     "text": [
      "C:\\Users\\casti\\AppData\\Local\\Temp\\ipykernel_31808\\3716661773.py:146: UserWarning: FixedFormatter should only be used together with FixedLocator\n",
      "  ax.set_xticklabels(model_outputs_ext_labels, rotation=60, ha='right')\n"
     ]
    },
    {
     "name": "stdout",
     "output_type": "stream",
     "text": [
      "Filter 56 / 128...\n"
     ]
    },
    {
     "name": "stderr",
     "output_type": "stream",
     "text": [
      "C:\\Users\\casti\\AppData\\Local\\Temp\\ipykernel_31808\\3716661773.py:146: UserWarning: FixedFormatter should only be used together with FixedLocator\n",
      "  ax.set_xticklabels(model_outputs_ext_labels, rotation=60, ha='right')\n"
     ]
    },
    {
     "name": "stdout",
     "output_type": "stream",
     "text": [
      "Filter 57 / 128...\n"
     ]
    },
    {
     "name": "stderr",
     "output_type": "stream",
     "text": [
      "C:\\Users\\casti\\AppData\\Local\\Temp\\ipykernel_31808\\3716661773.py:146: UserWarning: FixedFormatter should only be used together with FixedLocator\n",
      "  ax.set_xticklabels(model_outputs_ext_labels, rotation=60, ha='right')\n"
     ]
    },
    {
     "name": "stdout",
     "output_type": "stream",
     "text": [
      "Filter 58 / 128...\n"
     ]
    },
    {
     "name": "stderr",
     "output_type": "stream",
     "text": [
      "C:\\Users\\casti\\AppData\\Local\\Temp\\ipykernel_31808\\3716661773.py:146: UserWarning: FixedFormatter should only be used together with FixedLocator\n",
      "  ax.set_xticklabels(model_outputs_ext_labels, rotation=60, ha='right')\n"
     ]
    },
    {
     "name": "stdout",
     "output_type": "stream",
     "text": [
      "Filter 59 / 128...\n"
     ]
    },
    {
     "name": "stderr",
     "output_type": "stream",
     "text": [
      "C:\\Users\\casti\\AppData\\Local\\Temp\\ipykernel_31808\\3716661773.py:146: UserWarning: FixedFormatter should only be used together with FixedLocator\n",
      "  ax.set_xticklabels(model_outputs_ext_labels, rotation=60, ha='right')\n"
     ]
    },
    {
     "name": "stdout",
     "output_type": "stream",
     "text": [
      "Filter 60 / 128...\n"
     ]
    },
    {
     "name": "stderr",
     "output_type": "stream",
     "text": [
      "C:\\Users\\casti\\AppData\\Local\\Temp\\ipykernel_31808\\3716661773.py:146: UserWarning: FixedFormatter should only be used together with FixedLocator\n",
      "  ax.set_xticklabels(model_outputs_ext_labels, rotation=60, ha='right')\n"
     ]
    },
    {
     "name": "stdout",
     "output_type": "stream",
     "text": [
      "Filter 61 / 128...\n"
     ]
    },
    {
     "name": "stderr",
     "output_type": "stream",
     "text": [
      "C:\\Users\\casti\\AppData\\Local\\Temp\\ipykernel_31808\\3716661773.py:146: UserWarning: FixedFormatter should only be used together with FixedLocator\n",
      "  ax.set_xticklabels(model_outputs_ext_labels, rotation=60, ha='right')\n"
     ]
    },
    {
     "name": "stdout",
     "output_type": "stream",
     "text": [
      "Filter 62 / 128...\n"
     ]
    },
    {
     "name": "stderr",
     "output_type": "stream",
     "text": [
      "C:\\Users\\casti\\AppData\\Local\\Temp\\ipykernel_31808\\3716661773.py:146: UserWarning: FixedFormatter should only be used together with FixedLocator\n",
      "  ax.set_xticklabels(model_outputs_ext_labels, rotation=60, ha='right')\n"
     ]
    },
    {
     "name": "stdout",
     "output_type": "stream",
     "text": [
      "Filter 63 / 128...\n"
     ]
    },
    {
     "name": "stderr",
     "output_type": "stream",
     "text": [
      "C:\\Users\\casti\\AppData\\Local\\Temp\\ipykernel_31808\\3716661773.py:146: UserWarning: FixedFormatter should only be used together with FixedLocator\n",
      "  ax.set_xticklabels(model_outputs_ext_labels, rotation=60, ha='right')\n"
     ]
    },
    {
     "name": "stdout",
     "output_type": "stream",
     "text": [
      "Filter 64 / 128...\n"
     ]
    },
    {
     "name": "stderr",
     "output_type": "stream",
     "text": [
      "C:\\Users\\casti\\AppData\\Local\\Temp\\ipykernel_31808\\3716661773.py:146: UserWarning: FixedFormatter should only be used together with FixedLocator\n",
      "  ax.set_xticklabels(model_outputs_ext_labels, rotation=60, ha='right')\n"
     ]
    },
    {
     "name": "stdout",
     "output_type": "stream",
     "text": [
      "Filter 65 / 128...\n"
     ]
    },
    {
     "name": "stderr",
     "output_type": "stream",
     "text": [
      "C:\\Users\\casti\\AppData\\Local\\Temp\\ipykernel_31808\\3716661773.py:146: UserWarning: FixedFormatter should only be used together with FixedLocator\n",
      "  ax.set_xticklabels(model_outputs_ext_labels, rotation=60, ha='right')\n"
     ]
    },
    {
     "name": "stdout",
     "output_type": "stream",
     "text": [
      "Filter 66 / 128...\n"
     ]
    },
    {
     "name": "stderr",
     "output_type": "stream",
     "text": [
      "C:\\Users\\casti\\AppData\\Local\\Temp\\ipykernel_31808\\3716661773.py:146: UserWarning: FixedFormatter should only be used together with FixedLocator\n",
      "  ax.set_xticklabels(model_outputs_ext_labels, rotation=60, ha='right')\n"
     ]
    },
    {
     "name": "stdout",
     "output_type": "stream",
     "text": [
      "Filter 67 / 128...\n"
     ]
    },
    {
     "name": "stderr",
     "output_type": "stream",
     "text": [
      "C:\\Users\\casti\\AppData\\Local\\Temp\\ipykernel_31808\\3716661773.py:146: UserWarning: FixedFormatter should only be used together with FixedLocator\n",
      "  ax.set_xticklabels(model_outputs_ext_labels, rotation=60, ha='right')\n"
     ]
    },
    {
     "name": "stdout",
     "output_type": "stream",
     "text": [
      "Filter 68 / 128...\n"
     ]
    },
    {
     "name": "stderr",
     "output_type": "stream",
     "text": [
      "C:\\Users\\casti\\AppData\\Local\\Temp\\ipykernel_31808\\3716661773.py:146: UserWarning: FixedFormatter should only be used together with FixedLocator\n",
      "  ax.set_xticklabels(model_outputs_ext_labels, rotation=60, ha='right')\n"
     ]
    },
    {
     "name": "stdout",
     "output_type": "stream",
     "text": [
      "Filter 69 / 128...\n"
     ]
    },
    {
     "name": "stderr",
     "output_type": "stream",
     "text": [
      "C:\\Users\\casti\\AppData\\Local\\Temp\\ipykernel_31808\\3716661773.py:146: UserWarning: FixedFormatter should only be used together with FixedLocator\n",
      "  ax.set_xticklabels(model_outputs_ext_labels, rotation=60, ha='right')\n"
     ]
    },
    {
     "name": "stdout",
     "output_type": "stream",
     "text": [
      "Filter 70 / 128...\n"
     ]
    },
    {
     "name": "stderr",
     "output_type": "stream",
     "text": [
      "C:\\Users\\casti\\AppData\\Local\\Temp\\ipykernel_31808\\3716661773.py:146: UserWarning: FixedFormatter should only be used together with FixedLocator\n",
      "  ax.set_xticklabels(model_outputs_ext_labels, rotation=60, ha='right')\n"
     ]
    },
    {
     "name": "stdout",
     "output_type": "stream",
     "text": [
      "Filter 71 / 128...\n"
     ]
    },
    {
     "name": "stderr",
     "output_type": "stream",
     "text": [
      "C:\\Users\\casti\\AppData\\Local\\Temp\\ipykernel_31808\\3716661773.py:146: UserWarning: FixedFormatter should only be used together with FixedLocator\n",
      "  ax.set_xticklabels(model_outputs_ext_labels, rotation=60, ha='right')\n"
     ]
    },
    {
     "name": "stdout",
     "output_type": "stream",
     "text": [
      "Filter 72 / 128...\n"
     ]
    },
    {
     "name": "stderr",
     "output_type": "stream",
     "text": [
      "C:\\Users\\casti\\AppData\\Local\\Temp\\ipykernel_31808\\3716661773.py:146: UserWarning: FixedFormatter should only be used together with FixedLocator\n",
      "  ax.set_xticklabels(model_outputs_ext_labels, rotation=60, ha='right')\n"
     ]
    },
    {
     "name": "stdout",
     "output_type": "stream",
     "text": [
      "Filter 73 / 128...\n"
     ]
    },
    {
     "name": "stderr",
     "output_type": "stream",
     "text": [
      "C:\\Users\\casti\\AppData\\Local\\Temp\\ipykernel_31808\\3716661773.py:146: UserWarning: FixedFormatter should only be used together with FixedLocator\n",
      "  ax.set_xticklabels(model_outputs_ext_labels, rotation=60, ha='right')\n"
     ]
    },
    {
     "name": "stdout",
     "output_type": "stream",
     "text": [
      "Filter 74 / 128...\n"
     ]
    },
    {
     "name": "stderr",
     "output_type": "stream",
     "text": [
      "C:\\Users\\casti\\AppData\\Local\\Temp\\ipykernel_31808\\3716661773.py:146: UserWarning: FixedFormatter should only be used together with FixedLocator\n",
      "  ax.set_xticklabels(model_outputs_ext_labels, rotation=60, ha='right')\n"
     ]
    },
    {
     "name": "stdout",
     "output_type": "stream",
     "text": [
      "Filter 75 / 128...\n"
     ]
    },
    {
     "name": "stderr",
     "output_type": "stream",
     "text": [
      "C:\\Users\\casti\\AppData\\Local\\Temp\\ipykernel_31808\\3716661773.py:146: UserWarning: FixedFormatter should only be used together with FixedLocator\n",
      "  ax.set_xticklabels(model_outputs_ext_labels, rotation=60, ha='right')\n"
     ]
    },
    {
     "name": "stdout",
     "output_type": "stream",
     "text": [
      "Filter 76 / 128...\n"
     ]
    },
    {
     "name": "stderr",
     "output_type": "stream",
     "text": [
      "C:\\Users\\casti\\AppData\\Local\\Temp\\ipykernel_31808\\3716661773.py:146: UserWarning: FixedFormatter should only be used together with FixedLocator\n",
      "  ax.set_xticklabels(model_outputs_ext_labels, rotation=60, ha='right')\n"
     ]
    },
    {
     "name": "stdout",
     "output_type": "stream",
     "text": [
      "Filter 77 / 128...\n"
     ]
    },
    {
     "name": "stderr",
     "output_type": "stream",
     "text": [
      "C:\\Users\\casti\\AppData\\Local\\Temp\\ipykernel_31808\\3716661773.py:146: UserWarning: FixedFormatter should only be used together with FixedLocator\n",
      "  ax.set_xticklabels(model_outputs_ext_labels, rotation=60, ha='right')\n"
     ]
    },
    {
     "name": "stdout",
     "output_type": "stream",
     "text": [
      "Filter 78 / 128...\n"
     ]
    },
    {
     "name": "stderr",
     "output_type": "stream",
     "text": [
      "C:\\Users\\casti\\AppData\\Local\\Temp\\ipykernel_31808\\3716661773.py:146: UserWarning: FixedFormatter should only be used together with FixedLocator\n",
      "  ax.set_xticklabels(model_outputs_ext_labels, rotation=60, ha='right')\n"
     ]
    },
    {
     "name": "stdout",
     "output_type": "stream",
     "text": [
      "Filter 79 / 128...\n"
     ]
    },
    {
     "name": "stderr",
     "output_type": "stream",
     "text": [
      "C:\\Users\\casti\\AppData\\Local\\Temp\\ipykernel_31808\\3716661773.py:146: UserWarning: FixedFormatter should only be used together with FixedLocator\n",
      "  ax.set_xticklabels(model_outputs_ext_labels, rotation=60, ha='right')\n"
     ]
    },
    {
     "name": "stdout",
     "output_type": "stream",
     "text": [
      "Filter 80 / 128...\n"
     ]
    },
    {
     "name": "stderr",
     "output_type": "stream",
     "text": [
      "C:\\Users\\casti\\AppData\\Local\\Temp\\ipykernel_31808\\3716661773.py:146: UserWarning: FixedFormatter should only be used together with FixedLocator\n",
      "  ax.set_xticklabels(model_outputs_ext_labels, rotation=60, ha='right')\n"
     ]
    },
    {
     "name": "stdout",
     "output_type": "stream",
     "text": [
      "Filter 81 / 128...\n"
     ]
    },
    {
     "name": "stderr",
     "output_type": "stream",
     "text": [
      "C:\\Users\\casti\\AppData\\Local\\Temp\\ipykernel_31808\\3716661773.py:146: UserWarning: FixedFormatter should only be used together with FixedLocator\n",
      "  ax.set_xticklabels(model_outputs_ext_labels, rotation=60, ha='right')\n"
     ]
    },
    {
     "name": "stdout",
     "output_type": "stream",
     "text": [
      "Filter 82 / 128...\n"
     ]
    },
    {
     "name": "stderr",
     "output_type": "stream",
     "text": [
      "C:\\Users\\casti\\AppData\\Local\\Temp\\ipykernel_31808\\3716661773.py:146: UserWarning: FixedFormatter should only be used together with FixedLocator\n",
      "  ax.set_xticklabels(model_outputs_ext_labels, rotation=60, ha='right')\n"
     ]
    },
    {
     "name": "stdout",
     "output_type": "stream",
     "text": [
      "Filter 83 / 128...\n"
     ]
    },
    {
     "name": "stderr",
     "output_type": "stream",
     "text": [
      "C:\\Users\\casti\\AppData\\Local\\Temp\\ipykernel_31808\\3716661773.py:146: UserWarning: FixedFormatter should only be used together with FixedLocator\n",
      "  ax.set_xticklabels(model_outputs_ext_labels, rotation=60, ha='right')\n"
     ]
    },
    {
     "name": "stdout",
     "output_type": "stream",
     "text": [
      "Filter 84 / 128...\n"
     ]
    },
    {
     "name": "stderr",
     "output_type": "stream",
     "text": [
      "C:\\Users\\casti\\AppData\\Local\\Temp\\ipykernel_31808\\3716661773.py:146: UserWarning: FixedFormatter should only be used together with FixedLocator\n",
      "  ax.set_xticklabels(model_outputs_ext_labels, rotation=60, ha='right')\n"
     ]
    },
    {
     "name": "stdout",
     "output_type": "stream",
     "text": [
      "Filter 85 / 128...\n"
     ]
    },
    {
     "name": "stderr",
     "output_type": "stream",
     "text": [
      "C:\\Users\\casti\\AppData\\Local\\Temp\\ipykernel_31808\\3716661773.py:146: UserWarning: FixedFormatter should only be used together with FixedLocator\n",
      "  ax.set_xticklabels(model_outputs_ext_labels, rotation=60, ha='right')\n"
     ]
    },
    {
     "name": "stdout",
     "output_type": "stream",
     "text": [
      "Filter 86 / 128...\n"
     ]
    },
    {
     "name": "stderr",
     "output_type": "stream",
     "text": [
      "C:\\Users\\casti\\AppData\\Local\\Temp\\ipykernel_31808\\3716661773.py:146: UserWarning: FixedFormatter should only be used together with FixedLocator\n",
      "  ax.set_xticklabels(model_outputs_ext_labels, rotation=60, ha='right')\n"
     ]
    },
    {
     "name": "stdout",
     "output_type": "stream",
     "text": [
      "Filter 87 / 128...\n"
     ]
    },
    {
     "name": "stderr",
     "output_type": "stream",
     "text": [
      "C:\\Users\\casti\\AppData\\Local\\Temp\\ipykernel_31808\\3716661773.py:146: UserWarning: FixedFormatter should only be used together with FixedLocator\n",
      "  ax.set_xticklabels(model_outputs_ext_labels, rotation=60, ha='right')\n"
     ]
    },
    {
     "name": "stdout",
     "output_type": "stream",
     "text": [
      "Filter 88 / 128...\n"
     ]
    },
    {
     "name": "stderr",
     "output_type": "stream",
     "text": [
      "C:\\Users\\casti\\AppData\\Local\\Temp\\ipykernel_31808\\3716661773.py:146: UserWarning: FixedFormatter should only be used together with FixedLocator\n",
      "  ax.set_xticklabels(model_outputs_ext_labels, rotation=60, ha='right')\n"
     ]
    },
    {
     "name": "stdout",
     "output_type": "stream",
     "text": [
      "Filter 89 / 128...\n"
     ]
    },
    {
     "name": "stderr",
     "output_type": "stream",
     "text": [
      "C:\\Users\\casti\\AppData\\Local\\Temp\\ipykernel_31808\\3716661773.py:146: UserWarning: FixedFormatter should only be used together with FixedLocator\n",
      "  ax.set_xticklabels(model_outputs_ext_labels, rotation=60, ha='right')\n"
     ]
    },
    {
     "name": "stdout",
     "output_type": "stream",
     "text": [
      "Filter 90 / 128...\n"
     ]
    },
    {
     "name": "stderr",
     "output_type": "stream",
     "text": [
      "C:\\Users\\casti\\AppData\\Local\\Temp\\ipykernel_31808\\3716661773.py:146: UserWarning: FixedFormatter should only be used together with FixedLocator\n",
      "  ax.set_xticklabels(model_outputs_ext_labels, rotation=60, ha='right')\n"
     ]
    },
    {
     "name": "stdout",
     "output_type": "stream",
     "text": [
      "Filter 91 / 128...\n"
     ]
    },
    {
     "name": "stderr",
     "output_type": "stream",
     "text": [
      "C:\\Users\\casti\\AppData\\Local\\Temp\\ipykernel_31808\\3716661773.py:146: UserWarning: FixedFormatter should only be used together with FixedLocator\n",
      "  ax.set_xticklabels(model_outputs_ext_labels, rotation=60, ha='right')\n"
     ]
    },
    {
     "name": "stdout",
     "output_type": "stream",
     "text": [
      "Filter 92 / 128...\n"
     ]
    },
    {
     "name": "stderr",
     "output_type": "stream",
     "text": [
      "C:\\Users\\casti\\AppData\\Local\\Temp\\ipykernel_31808\\3716661773.py:146: UserWarning: FixedFormatter should only be used together with FixedLocator\n",
      "  ax.set_xticklabels(model_outputs_ext_labels, rotation=60, ha='right')\n"
     ]
    },
    {
     "name": "stdout",
     "output_type": "stream",
     "text": [
      "Filter 93 / 128...\n"
     ]
    },
    {
     "name": "stderr",
     "output_type": "stream",
     "text": [
      "C:\\Users\\casti\\AppData\\Local\\Temp\\ipykernel_31808\\3716661773.py:146: UserWarning: FixedFormatter should only be used together with FixedLocator\n",
      "  ax.set_xticklabels(model_outputs_ext_labels, rotation=60, ha='right')\n"
     ]
    },
    {
     "name": "stdout",
     "output_type": "stream",
     "text": [
      "Filter 94 / 128...\n"
     ]
    },
    {
     "name": "stderr",
     "output_type": "stream",
     "text": [
      "C:\\Users\\casti\\AppData\\Local\\Temp\\ipykernel_31808\\3716661773.py:146: UserWarning: FixedFormatter should only be used together with FixedLocator\n",
      "  ax.set_xticklabels(model_outputs_ext_labels, rotation=60, ha='right')\n"
     ]
    },
    {
     "name": "stdout",
     "output_type": "stream",
     "text": [
      "Filter 95 / 128...\n"
     ]
    },
    {
     "name": "stderr",
     "output_type": "stream",
     "text": [
      "C:\\Users\\casti\\AppData\\Local\\Temp\\ipykernel_31808\\3716661773.py:146: UserWarning: FixedFormatter should only be used together with FixedLocator\n",
      "  ax.set_xticklabels(model_outputs_ext_labels, rotation=60, ha='right')\n"
     ]
    },
    {
     "name": "stdout",
     "output_type": "stream",
     "text": [
      "Filter 96 / 128...\n"
     ]
    },
    {
     "name": "stderr",
     "output_type": "stream",
     "text": [
      "C:\\Users\\casti\\AppData\\Local\\Temp\\ipykernel_31808\\3716661773.py:146: UserWarning: FixedFormatter should only be used together with FixedLocator\n",
      "  ax.set_xticklabels(model_outputs_ext_labels, rotation=60, ha='right')\n"
     ]
    },
    {
     "name": "stdout",
     "output_type": "stream",
     "text": [
      "Filter 97 / 128...\n"
     ]
    },
    {
     "name": "stderr",
     "output_type": "stream",
     "text": [
      "C:\\Users\\casti\\AppData\\Local\\Temp\\ipykernel_31808\\3716661773.py:146: UserWarning: FixedFormatter should only be used together with FixedLocator\n",
      "  ax.set_xticklabels(model_outputs_ext_labels, rotation=60, ha='right')\n"
     ]
    },
    {
     "name": "stdout",
     "output_type": "stream",
     "text": [
      "Filter 98 / 128...\n"
     ]
    },
    {
     "name": "stderr",
     "output_type": "stream",
     "text": [
      "C:\\Users\\casti\\AppData\\Local\\Temp\\ipykernel_31808\\3716661773.py:146: UserWarning: FixedFormatter should only be used together with FixedLocator\n",
      "  ax.set_xticklabels(model_outputs_ext_labels, rotation=60, ha='right')\n"
     ]
    },
    {
     "name": "stdout",
     "output_type": "stream",
     "text": [
      "Filter 99 / 128...\n"
     ]
    },
    {
     "name": "stderr",
     "output_type": "stream",
     "text": [
      "C:\\Users\\casti\\AppData\\Local\\Temp\\ipykernel_31808\\3716661773.py:146: UserWarning: FixedFormatter should only be used together with FixedLocator\n",
      "  ax.set_xticklabels(model_outputs_ext_labels, rotation=60, ha='right')\n"
     ]
    },
    {
     "name": "stdout",
     "output_type": "stream",
     "text": [
      "Filter 100 / 128...\n"
     ]
    },
    {
     "name": "stderr",
     "output_type": "stream",
     "text": [
      "C:\\Users\\casti\\AppData\\Local\\Temp\\ipykernel_31808\\3716661773.py:146: UserWarning: FixedFormatter should only be used together with FixedLocator\n",
      "  ax.set_xticklabels(model_outputs_ext_labels, rotation=60, ha='right')\n"
     ]
    },
    {
     "name": "stdout",
     "output_type": "stream",
     "text": [
      "Filter 101 / 128...\n"
     ]
    },
    {
     "name": "stderr",
     "output_type": "stream",
     "text": [
      "C:\\Users\\casti\\AppData\\Local\\Temp\\ipykernel_31808\\3716661773.py:146: UserWarning: FixedFormatter should only be used together with FixedLocator\n",
      "  ax.set_xticklabels(model_outputs_ext_labels, rotation=60, ha='right')\n"
     ]
    },
    {
     "name": "stdout",
     "output_type": "stream",
     "text": [
      "Filter 102 / 128...\n"
     ]
    },
    {
     "name": "stderr",
     "output_type": "stream",
     "text": [
      "C:\\Users\\casti\\AppData\\Local\\Temp\\ipykernel_31808\\3716661773.py:146: UserWarning: FixedFormatter should only be used together with FixedLocator\n",
      "  ax.set_xticklabels(model_outputs_ext_labels, rotation=60, ha='right')\n"
     ]
    },
    {
     "name": "stdout",
     "output_type": "stream",
     "text": [
      "Filter 103 / 128...\n"
     ]
    },
    {
     "name": "stderr",
     "output_type": "stream",
     "text": [
      "C:\\Users\\casti\\AppData\\Local\\Temp\\ipykernel_31808\\3716661773.py:146: UserWarning: FixedFormatter should only be used together with FixedLocator\n",
      "  ax.set_xticklabels(model_outputs_ext_labels, rotation=60, ha='right')\n"
     ]
    },
    {
     "name": "stdout",
     "output_type": "stream",
     "text": [
      "Filter 104 / 128...\n"
     ]
    },
    {
     "name": "stderr",
     "output_type": "stream",
     "text": [
      "C:\\Users\\casti\\AppData\\Local\\Temp\\ipykernel_31808\\3716661773.py:146: UserWarning: FixedFormatter should only be used together with FixedLocator\n",
      "  ax.set_xticklabels(model_outputs_ext_labels, rotation=60, ha='right')\n"
     ]
    },
    {
     "name": "stdout",
     "output_type": "stream",
     "text": [
      "Filter 105 / 128...\n"
     ]
    },
    {
     "name": "stderr",
     "output_type": "stream",
     "text": [
      "C:\\Users\\casti\\AppData\\Local\\Temp\\ipykernel_31808\\3716661773.py:146: UserWarning: FixedFormatter should only be used together with FixedLocator\n",
      "  ax.set_xticklabels(model_outputs_ext_labels, rotation=60, ha='right')\n"
     ]
    },
    {
     "name": "stdout",
     "output_type": "stream",
     "text": [
      "Filter 106 / 128...\n"
     ]
    },
    {
     "name": "stderr",
     "output_type": "stream",
     "text": [
      "C:\\Users\\casti\\AppData\\Local\\Temp\\ipykernel_31808\\3716661773.py:146: UserWarning: FixedFormatter should only be used together with FixedLocator\n",
      "  ax.set_xticklabels(model_outputs_ext_labels, rotation=60, ha='right')\n"
     ]
    },
    {
     "name": "stdout",
     "output_type": "stream",
     "text": [
      "Filter 107 / 128...\n"
     ]
    },
    {
     "name": "stderr",
     "output_type": "stream",
     "text": [
      "C:\\Users\\casti\\AppData\\Local\\Temp\\ipykernel_31808\\3716661773.py:146: UserWarning: FixedFormatter should only be used together with FixedLocator\n",
      "  ax.set_xticklabels(model_outputs_ext_labels, rotation=60, ha='right')\n"
     ]
    },
    {
     "name": "stdout",
     "output_type": "stream",
     "text": [
      "Filter 108 / 128...\n"
     ]
    },
    {
     "name": "stderr",
     "output_type": "stream",
     "text": [
      "C:\\Users\\casti\\AppData\\Local\\Temp\\ipykernel_31808\\3716661773.py:146: UserWarning: FixedFormatter should only be used together with FixedLocator\n",
      "  ax.set_xticklabels(model_outputs_ext_labels, rotation=60, ha='right')\n"
     ]
    },
    {
     "name": "stdout",
     "output_type": "stream",
     "text": [
      "Filter 109 / 128...\n"
     ]
    },
    {
     "name": "stderr",
     "output_type": "stream",
     "text": [
      "C:\\Users\\casti\\AppData\\Local\\Temp\\ipykernel_31808\\3716661773.py:146: UserWarning: FixedFormatter should only be used together with FixedLocator\n",
      "  ax.set_xticklabels(model_outputs_ext_labels, rotation=60, ha='right')\n"
     ]
    },
    {
     "name": "stdout",
     "output_type": "stream",
     "text": [
      "Filter 110 / 128...\n"
     ]
    },
    {
     "name": "stderr",
     "output_type": "stream",
     "text": [
      "C:\\Users\\casti\\AppData\\Local\\Temp\\ipykernel_31808\\3716661773.py:146: UserWarning: FixedFormatter should only be used together with FixedLocator\n",
      "  ax.set_xticklabels(model_outputs_ext_labels, rotation=60, ha='right')\n"
     ]
    },
    {
     "name": "stdout",
     "output_type": "stream",
     "text": [
      "Filter 111 / 128...\n"
     ]
    },
    {
     "name": "stderr",
     "output_type": "stream",
     "text": [
      "C:\\Users\\casti\\AppData\\Local\\Temp\\ipykernel_31808\\3716661773.py:146: UserWarning: FixedFormatter should only be used together with FixedLocator\n",
      "  ax.set_xticklabels(model_outputs_ext_labels, rotation=60, ha='right')\n"
     ]
    },
    {
     "name": "stdout",
     "output_type": "stream",
     "text": [
      "Filter 112 / 128...\n"
     ]
    },
    {
     "name": "stderr",
     "output_type": "stream",
     "text": [
      "C:\\Users\\casti\\AppData\\Local\\Temp\\ipykernel_31808\\3716661773.py:146: UserWarning: FixedFormatter should only be used together with FixedLocator\n",
      "  ax.set_xticklabels(model_outputs_ext_labels, rotation=60, ha='right')\n"
     ]
    },
    {
     "name": "stdout",
     "output_type": "stream",
     "text": [
      "Filter 113 / 128...\n"
     ]
    },
    {
     "name": "stderr",
     "output_type": "stream",
     "text": [
      "C:\\Users\\casti\\AppData\\Local\\Temp\\ipykernel_31808\\3716661773.py:146: UserWarning: FixedFormatter should only be used together with FixedLocator\n",
      "  ax.set_xticklabels(model_outputs_ext_labels, rotation=60, ha='right')\n"
     ]
    },
    {
     "name": "stdout",
     "output_type": "stream",
     "text": [
      "Filter 114 / 128...\n"
     ]
    },
    {
     "name": "stderr",
     "output_type": "stream",
     "text": [
      "C:\\Users\\casti\\AppData\\Local\\Temp\\ipykernel_31808\\3716661773.py:146: UserWarning: FixedFormatter should only be used together with FixedLocator\n",
      "  ax.set_xticklabels(model_outputs_ext_labels, rotation=60, ha='right')\n"
     ]
    },
    {
     "name": "stdout",
     "output_type": "stream",
     "text": [
      "Filter 115 / 128...\n"
     ]
    },
    {
     "name": "stderr",
     "output_type": "stream",
     "text": [
      "C:\\Users\\casti\\AppData\\Local\\Temp\\ipykernel_31808\\3716661773.py:146: UserWarning: FixedFormatter should only be used together with FixedLocator\n",
      "  ax.set_xticklabels(model_outputs_ext_labels, rotation=60, ha='right')\n"
     ]
    },
    {
     "name": "stdout",
     "output_type": "stream",
     "text": [
      "Filter 116 / 128...\n"
     ]
    },
    {
     "name": "stderr",
     "output_type": "stream",
     "text": [
      "C:\\Users\\casti\\AppData\\Local\\Temp\\ipykernel_31808\\3716661773.py:146: UserWarning: FixedFormatter should only be used together with FixedLocator\n",
      "  ax.set_xticklabels(model_outputs_ext_labels, rotation=60, ha='right')\n"
     ]
    },
    {
     "name": "stdout",
     "output_type": "stream",
     "text": [
      "Filter 117 / 128...\n"
     ]
    },
    {
     "name": "stderr",
     "output_type": "stream",
     "text": [
      "C:\\Users\\casti\\AppData\\Local\\Temp\\ipykernel_31808\\3716661773.py:146: UserWarning: FixedFormatter should only be used together with FixedLocator\n",
      "  ax.set_xticklabels(model_outputs_ext_labels, rotation=60, ha='right')\n"
     ]
    },
    {
     "name": "stdout",
     "output_type": "stream",
     "text": [
      "Filter 118 / 128...\n"
     ]
    },
    {
     "name": "stderr",
     "output_type": "stream",
     "text": [
      "C:\\Users\\casti\\AppData\\Local\\Temp\\ipykernel_31808\\3716661773.py:146: UserWarning: FixedFormatter should only be used together with FixedLocator\n",
      "  ax.set_xticklabels(model_outputs_ext_labels, rotation=60, ha='right')\n"
     ]
    },
    {
     "name": "stdout",
     "output_type": "stream",
     "text": [
      "Filter 119 / 128...\n"
     ]
    },
    {
     "name": "stderr",
     "output_type": "stream",
     "text": [
      "C:\\Users\\casti\\AppData\\Local\\Temp\\ipykernel_31808\\3716661773.py:146: UserWarning: FixedFormatter should only be used together with FixedLocator\n",
      "  ax.set_xticklabels(model_outputs_ext_labels, rotation=60, ha='right')\n"
     ]
    },
    {
     "name": "stdout",
     "output_type": "stream",
     "text": [
      "Filter 120 / 128...\n"
     ]
    },
    {
     "name": "stderr",
     "output_type": "stream",
     "text": [
      "C:\\Users\\casti\\AppData\\Local\\Temp\\ipykernel_31808\\3716661773.py:146: UserWarning: FixedFormatter should only be used together with FixedLocator\n",
      "  ax.set_xticklabels(model_outputs_ext_labels, rotation=60, ha='right')\n"
     ]
    },
    {
     "name": "stdout",
     "output_type": "stream",
     "text": [
      "Filter 121 / 128...\n"
     ]
    },
    {
     "name": "stderr",
     "output_type": "stream",
     "text": [
      "C:\\Users\\casti\\AppData\\Local\\Temp\\ipykernel_31808\\3716661773.py:146: UserWarning: FixedFormatter should only be used together with FixedLocator\n",
      "  ax.set_xticklabels(model_outputs_ext_labels, rotation=60, ha='right')\n"
     ]
    },
    {
     "name": "stdout",
     "output_type": "stream",
     "text": [
      "Filter 122 / 128...\n"
     ]
    },
    {
     "name": "stderr",
     "output_type": "stream",
     "text": [
      "C:\\Users\\casti\\AppData\\Local\\Temp\\ipykernel_31808\\3716661773.py:146: UserWarning: FixedFormatter should only be used together with FixedLocator\n",
      "  ax.set_xticklabels(model_outputs_ext_labels, rotation=60, ha='right')\n"
     ]
    },
    {
     "name": "stdout",
     "output_type": "stream",
     "text": [
      "Filter 123 / 128...\n"
     ]
    },
    {
     "name": "stderr",
     "output_type": "stream",
     "text": [
      "C:\\Users\\casti\\AppData\\Local\\Temp\\ipykernel_31808\\3716661773.py:146: UserWarning: FixedFormatter should only be used together with FixedLocator\n",
      "  ax.set_xticklabels(model_outputs_ext_labels, rotation=60, ha='right')\n"
     ]
    },
    {
     "name": "stdout",
     "output_type": "stream",
     "text": [
      "Filter 124 / 128...\n"
     ]
    },
    {
     "name": "stderr",
     "output_type": "stream",
     "text": [
      "C:\\Users\\casti\\AppData\\Local\\Temp\\ipykernel_31808\\3716661773.py:146: UserWarning: FixedFormatter should only be used together with FixedLocator\n",
      "  ax.set_xticklabels(model_outputs_ext_labels, rotation=60, ha='right')\n"
     ]
    },
    {
     "name": "stdout",
     "output_type": "stream",
     "text": [
      "Filter 125 / 128...\n"
     ]
    },
    {
     "name": "stderr",
     "output_type": "stream",
     "text": [
      "C:\\Users\\casti\\AppData\\Local\\Temp\\ipykernel_31808\\3716661773.py:146: UserWarning: FixedFormatter should only be used together with FixedLocator\n",
      "  ax.set_xticklabels(model_outputs_ext_labels, rotation=60, ha='right')\n"
     ]
    },
    {
     "name": "stdout",
     "output_type": "stream",
     "text": [
      "Filter 126 / 128...\n"
     ]
    },
    {
     "name": "stderr",
     "output_type": "stream",
     "text": [
      "C:\\Users\\casti\\AppData\\Local\\Temp\\ipykernel_31808\\3716661773.py:146: UserWarning: FixedFormatter should only be used together with FixedLocator\n",
      "  ax.set_xticklabels(model_outputs_ext_labels, rotation=60, ha='right')\n"
     ]
    },
    {
     "name": "stdout",
     "output_type": "stream",
     "text": [
      "Filter 127 / 128...\n"
     ]
    },
    {
     "name": "stderr",
     "output_type": "stream",
     "text": [
      "C:\\Users\\casti\\AppData\\Local\\Temp\\ipykernel_31808\\3716661773.py:146: UserWarning: FixedFormatter should only be used together with FixedLocator\n",
      "  ax.set_xticklabels(model_outputs_ext_labels, rotation=60, ha='right')\n"
     ]
    },
    {
     "name": "stdout",
     "output_type": "stream",
     "text": [
      "Saving meme file...\n",
      "Done with model 9.\n"
     ]
    },
    {
     "data": {
      "image/png": "[encoded data removed]",
      "text/plain": [
       "<Figure size 1560x720 with 3 Axes>"
      ]
     },
     "metadata": {},
     "output_type": "display_data"
    }
   ],
   "source": [
    "# Extract filters from each reduced model and generate plots\n",
    "meme_all_str = seq_utils.meme_header\n",
    "\n",
    "for model_idx in range(len(reduced_models)):\n",
    "    print(f\"Processing model {model_idx}...\")\n",
    "\n",
    "    model_plot_dir = os.path.join(filter_ext_dir, f'model_{model_idx}')\n",
    "    if not os.path.exists(model_plot_dir):\n",
    "        os.mkdir(model_plot_dir)\n",
    "\n",
    "    # Get \"scores\" - output of the selected convolutional layer\n",
    "    # dimensions are (n_sequences, sequence_length, n_filters)\n",
    "    scores = reduced_models[model_idx].predict(seqs_one_hot)\n",
    "\n",
    "    # Mask scores outside of sequence\n",
    "    scores_masked = scores.copy()\n",
    "    for i in range(len(data)):\n",
    "        seq_len = int(data.iloc[i]['insert_length'])\n",
    "        scores_masked[i, :max_seq_len - seq_len + receptive_field//2, :] = -numpy.inf\n",
    "        scores_masked[i, -receptive_field//2 + 1:, :] = -numpy.inf\n",
    "\n",
    "    # Analyze each filter\n",
    "    # Takes ~1 minute to run\n",
    "    filters_pwm = []\n",
    "    filters_n_seqlets = []\n",
    "\n",
    "    n_filters = scores_masked.shape[-1]\n",
    "    for filter_idx in range(n_filters):\n",
    "        print(f\"Filter {filter_idx} / {n_filters}...\")\n",
    "\n",
    "        # Get score threshold to filter for n_seqlets_per_filter to keep\n",
    "        # \"n_seqlets_per_filter\" seqlets\n",
    "        scores_filter = scores_masked[:, :, filter_idx]\n",
    "        scores_filter_flat = scores_filter.reshape(-1)\n",
    "        score_threshold = numpy.sort(scores_filter_flat)[-n_seqlets_per_filter]\n",
    "\n",
    "        if score_threshold <= 0:\n",
    "            pos_seqlets = []\n",
    "            filter_pwm = 0.25*numpy.ones((receptive_field, 4))\n",
    "            filter_seqlet_scores = numpy.zeros((0, len(pred_full_cols)))\n",
    "            filter_avg_shap = numpy.zeros(contributions_array.shape[1])\n",
    "            n_seqlets = 0\n",
    "\n",
    "        else:\n",
    "            # Accumulate seqlets to obtain filter PWM\n",
    "\n",
    "            # Get positions of seqlets\n",
    "            # result is a tuple with two arrays:\n",
    "            #   array with sequence index,\n",
    "            #   array with seqlet center position within sequence\n",
    "\n",
    "            coords_seqlets = numpy.nonzero(scores_filter >= score_threshold)\n",
    "            \n",
    "            # Change center position with start, end\n",
    "            pos_seqlets = [\n",
    "                [\n",
    "                    seq_idx,\n",
    "                    seqlet_center - receptive_field//2,\n",
    "                    seqlet_center + receptive_field//2 + 1,\n",
    "                ]\n",
    "                for seq_idx, seqlet_center in zip(*coords_seqlets)\n",
    "            ]\n",
    "\n",
    "            # Accumulate seqlets and positions\n",
    "            filter_seqlets = []\n",
    "            # filter_seqlets_coords = []\n",
    "            for seq_idx, seqlet_start, seqlet_end in pos_seqlets:\n",
    "                # dimensions: \n",
    "                # input: seq_idx, position, channel\n",
    "                # ouput: position, channel\n",
    "                seqlet_onehot = seqs_one_hot[seq_idx, seqlet_start: seqlet_end, :]\n",
    "\n",
    "                filter_seqlets.append(seqlet_onehot)\n",
    "                # filter_seqlets_coords.append([seq_idx, start_pos, end_pos])\n",
    "\n",
    "            filter_seqlets = numpy.array(filter_seqlets)\n",
    "            n_seqlets = len(filter_seqlets)\n",
    "\n",
    "            # Calculate PWM\n",
    "            filter_pwm = numpy.mean(filter_seqlets, axis=0)\n",
    "\n",
    "            # Get shap scores of all seqlets with contributions\n",
    "            filter_shap_scores = []\n",
    "            for seq_idx, seqlet_start, seqlet_end in pos_seqlets:\n",
    "                \n",
    "                # dimensions: \n",
    "                # input: seq_idx, position, channel\n",
    "                # ouput: position, channel\n",
    "                seqlet_onehot = seqs_one_hot[seq_idx, seqlet_start: seqlet_end, :]\n",
    "\n",
    "                # dimensions:\n",
    "                # input: seq_idx, output, position, channel\n",
    "                # output: output, position, channel\n",
    "                seqlet_shap = contributions_array[seq_idx, :, seqlet_start: seqlet_end, :]\n",
    "\n",
    "                # multiply, sum across channel\n",
    "                # final dim: outputs, positions\n",
    "                seqlet_shap_collapsed = numpy.sum(seqlet_shap*numpy.expand_dims(seqlet_onehot, axis=0), axis=-1)\n",
    "\n",
    "                filter_shap_scores.append(seqlet_shap_collapsed)\n",
    "\n",
    "            # Get filter average contribution\n",
    "            # sum across positions, average across sequences\n",
    "            # dimensions:\n",
    "            # input: seqlet_idx, outputs, positions\n",
    "            # output: outputs\n",
    "            filter_shap_scores = numpy.array(filter_shap_scores)\n",
    "            filter_seqlet_scores = numpy.sum(filter_shap_scores, axis=-1)\n",
    "            filter_avg_shap = numpy.mean(filter_seqlet_scores, axis=0)\n",
    "\n",
    "            # Make filter plot\n",
    "\n",
    "            # fig, axes = pyplot.subplots(3, 1, figsize=(receptive_field, 6))\n",
    "            fig, axes = pyplot.subplots(3, 1, num=1, clear=True)\n",
    "            fig.set_size_inches(receptive_field, 6)\n",
    "            fig.suptitle(f'filter #{filter_idx} (n={n_seqlets:,})')\n",
    "\n",
    "            # Histogram of seqlet scores\n",
    "            ax = axes[0]\n",
    "            \n",
    "            # Histogram of scores of a filter\n",
    "            scores_filter = scores_masked[:, :, filter_idx]\n",
    "            scores_to_plot = scores_filter.reshape(-1)\n",
    "            scores_to_plot = scores_to_plot[scores_to_plot!=-numpy.inf]\n",
    "            ax.hist(scores_to_plot, log=True)\n",
    "            ax.axvline(score_threshold, color='k')\n",
    "\n",
    "            # Seqlet-based sequence logo\n",
    "            ax = axes[1]\n",
    "            custom_plots.plot_seq_logo(seq_val=filter_pwm, ax=ax)\n",
    "            ax.set_ylim(0, 2)\n",
    "\n",
    "            # Bar with seqlet scores\n",
    "            ax = axes[2]\n",
    "            \n",
    "            # Make extended version of seqlet scores\n",
    "            # MRL, then delta MRL, then delta input TPM\n",
    "            filter_seqlet_scores_extended = make_extended_output(filter_seqlet_scores).T\n",
    "\n",
    "            ax.bar(\n",
    "                model_outputs_ext_labels,\n",
    "                numpy.mean(filter_seqlet_scores_extended, axis=0),\n",
    "                yerr=numpy.std(filter_seqlet_scores_extended, axis=0),\n",
    "            )\n",
    "            ax.set_ylabel('SHAP contribution')\n",
    "            ax.set_xticklabels(model_outputs_ext_labels, rotation=60, ha='right')\n",
    "            # ax.set_ylim(-0.3, 0.3)\n",
    "            # ax.grid(True)\n",
    "            ax.axhline(0, color='grey')\n",
    "\n",
    "            fig.savefig(\n",
    "                os.path.join(model_plot_dir, f'filter_{filter_idx:03d}.png'),\n",
    "                dpi=200,\n",
    "                bbox_inches='tight',\n",
    "            )\n",
    "            # pyplot.close(fig)\n",
    "\n",
    "        filters_pwm.append(filter_pwm)\n",
    "        filters_n_seqlets.append(n_seqlets)\n",
    "\n",
    "    # Save meme file\n",
    "    print(\"Saving meme file...\")\n",
    "    meme_model_str = seq_utils.meme_header\n",
    "\n",
    "    # Generate motif meme string\n",
    "    for filter_idx in range(n_filters):\n",
    "        \n",
    "        filter_pwm = filters_pwm[filter_idx]\n",
    "        n_seqlets = filters_n_seqlets[filter_idx]\n",
    "\n",
    "        meme_motif_full_str = ''\n",
    "        meme_motif_full_str += f'MOTIF model_{model_idx}_filter_{filter_idx:03d} model_{model_idx}_filter_{filter_idx:03d}\\n'\n",
    "        meme_motif_full_str += f'letter-probability matrix: alength= 4 w= {filter_pwm.shape[0]} nsites= {n_seqlets}\\n'\n",
    "        for pwm_row in filter_pwm:\n",
    "            for pwm_val in pwm_row:\n",
    "                meme_motif_full_str += f'{pwm_val:.6f} '\n",
    "            meme_motif_full_str += '\\n'\n",
    "\n",
    "        # Add string to model meme file string and global meme file string\n",
    "        meme_model_str += meme_motif_full_str + '\\n'\n",
    "        meme_all_str += meme_motif_full_str + '\\n'\n",
    "\n",
    "    # Save model meme file\n",
    "    with open(os.path.join(model_plot_dir, 'motifs.meme'), 'w') as file: \n",
    "        file.write(meme_model_str)\n",
    "\n",
    "    print(f\"Done with model {model_idx}.\")\n",
    "\n",
    "# Save global meme file\n",
    "with open(os.path.join(filter_ext_dir, 'motifs.meme'), 'w') as file: \n",
    "    file.write(meme_all_str)"
   ]
  },
  {
   "cell_type": "markdown",
   "metadata": {},
   "source": [
    "# Step 2. Motif clustering"
   ]
  },
  {
   "cell_type": "markdown",
   "metadata": {},
   "source": [
    "## Split motifs into AUG and non-AUG"
   ]
  },
  {
   "cell_type": "code",
   "execution_count": 16,
   "metadata": {},
   "outputs": [
    {
     "data": {
      "text/plain": [
       "1280"
      ]
     },
     "execution_count": 16,
     "metadata": {},
     "output_type": "execute_result"
    }
   ],
   "source": [
    "# Load all motifs\n",
    "motif_filepath = os.path.join(filter_ext_dir, 'motifs.meme')\n",
    "motifs_dict = seq_utils.load_meme(motif_filepath)\n",
    "len(motifs_dict)"
   ]
  },
  {
   "cell_type": "code",
   "execution_count": 17,
   "metadata": {},
   "outputs": [
    {
     "data": {
      "text/plain": [
       "<matplotlib.lines.Line2D at 0x1f9e689f460>"
      ]
     },
     "execution_count": 17,
     "metadata": {},
     "output_type": "execute_result"
    },
    {
     "data": {
      "image/png": "[encoded data removed]",
      "text/plain": [
       "<Figure size 768x576 with 1 Axes>"
      ]
     },
     "metadata": {},
     "output_type": "display_data"
    }
   ],
   "source": [
    "# Visualize ATG likelihood scores for all motifs\n",
    "\n",
    "# Per base likelihood score threshold: 2.5 / 3 = 0.833\n",
    "aug_score_thresh = 2.5\n",
    "# aug_score_thresh = 2.2\n",
    "\n",
    "# Score for one motif is the max score across all possible alignments\n",
    "aug_scores = []\n",
    "motif_to_check = 'ATG'\n",
    "motif_to_check_onehot = seq_utils.one_hot_encode([motif_to_check])[0]\n",
    "\n",
    "for motif_id, motif_info in motifs_dict.items():\n",
    "    score = -numpy.inf\n",
    "\n",
    "    motif_ppm = motif_info['ppm']\n",
    "    for i in range(len(motif_ppm) - len(motif_to_check) + 1):\n",
    "        score_i = numpy.sum(motif_ppm[i:i+len(motif_to_check)] * motif_to_check_onehot)\n",
    "        if score_i > score:\n",
    "            score = score_i\n",
    "    \n",
    "    aug_scores.append(score)\n",
    "    \n",
    "fig, ax = pyplot.subplots()\n",
    "ax.hist(aug_scores, bins=50)\n",
    "ax.axvline(aug_score_thresh, color='k')"
   ]
  },
  {
   "cell_type": "code",
   "execution_count": 18,
   "metadata": {},
   "outputs": [],
   "source": [
    "# Actually separate by score\n",
    "motif_to_check = 'ATG'\n",
    "motif_to_check_onehot = seq_utils.one_hot_encode([motif_to_check])[0]\n",
    "\n",
    "motifs_aug_dict = {}\n",
    "motifs_nonaug_dict = {}\n",
    "motifs_all_filtered_dict = {}\n",
    "\n",
    "for motif_id, motif_info in motifs_dict.items():\n",
    "    if motif_info['nsites'] == 0:\n",
    "        continue\n",
    "\n",
    "    score = -numpy.inf\n",
    "\n",
    "    motif_ppm = motif_info['ppm']\n",
    "    for i in range(len(motif_ppm) - len(motif_to_check) + 1):\n",
    "        score_i = numpy.sum(motif_ppm[i:i+len(motif_to_check)] * motif_to_check_onehot)\n",
    "        if score_i > score:\n",
    "            score = score_i\n",
    "    \n",
    "    if score >= aug_score_thresh:\n",
    "        motifs_aug_dict[motif_id] = motif_info\n",
    "    else:\n",
    "        motifs_nonaug_dict[motif_id] = motif_info\n",
    "\n",
    "    motifs_all_filtered_dict[motif_id] = motif_info\n",
    "    \n",
    "# Save motifs\n",
    "seq_utils.save_meme_from_dict(motifs_aug_dict, os.path.join(analysis_dir, 'motifs_aug.meme'))\n",
    "seq_utils.save_meme_from_dict(motifs_nonaug_dict, os.path.join(analysis_dir, 'motifs_nonaug.meme'))\n",
    "seq_utils.save_meme_from_dict(motifs_all_filtered_dict, os.path.join(analysis_dir, 'motifs_all.meme'))"
   ]
  },
  {
   "cell_type": "markdown",
   "metadata": {},
   "source": [
    "## Cluster motifs\n",
    "\n",
    "### Install matrix clustering\n",
    "\n",
    "Install the repo from ```https://github.com/jaimicore/matrix-clustering_stand-alone```\n",
    "\n",
    "Change line 184 of ```compare-matrices-quick/compare-matrices-quick.c``` to always choose the non-reversed motif (```best_correl = 0```)\n",
    "\n",
    "OR\n",
    "\n",
    "Install repo from ```https://github.com/castillohair/matrix-clustering_stand-alone```\n",
    "\n",
    "Follow the repo installation instructions."
   ]
  },
  {
   "cell_type": "code",
   "execution_count": 12,
   "metadata": {},
   "outputs": [],
   "source": [
    "clustering_base_dir = os.path.join(analysis_dir, 'clustering')\n",
    "if not os.path.exists(clustering_base_dir):\n",
    "    os.mkdir(clustering_base_dir)"
   ]
  },
  {
   "cell_type": "code",
   "execution_count": 13,
   "metadata": {},
   "outputs": [],
   "source": [
    "filter_name_pattern = re.compile(f'^model_(\\d+)_filter_(\\d+)$')\n",
    "def parse_filter_info(filter_name):\n",
    "    filter_info = filter_name_pattern.findall(filter_name)[0]\n",
    "    model_idx = int(filter_info[0])\n",
    "    filter_idx = int(filter_info[1])\n",
    "    return model_idx, filter_idx"
   ]
  },
  {
   "cell_type": "code",
   "execution_count": 19,
   "metadata": {},
   "outputs": [],
   "source": [
    "# Create {}_table.txt files\n",
    "# All motifs\n",
    "with open(os.path.join(clustering_base_dir, 'motifs_all_table.txt'), 'w') as file:\n",
    "    file.write(\"motifs_all.meme\tmotifs_all\tmeme\")\n",
    "\n",
    "# Aug motifs\n",
    "with open(os.path.join(clustering_base_dir, 'motifs_aug_table.txt'), 'w') as file:\n",
    "    file.write(\"motifs_aug.meme\tmotifs_aug\tmeme\")\n",
    "\n",
    "# Non-aug motifs\n",
    "with open(os.path.join(clustering_base_dir, 'motifs_nonaug_table.txt'), 'w') as file:\n",
    "    file.write(\"motifs_nonaug.meme\tmotifs_nonaug\tmeme\")"
   ]
  },
  {
   "cell_type": "code",
   "execution_count": 15,
   "metadata": {},
   "outputs": [],
   "source": [
    "# Print commands for clustering\n",
    "# Try several clustering options\n",
    "script_str = \"\"\n",
    "for linkage in ['average', 'complete',]:\n",
    "    for motif_set in ['all', 'aug', 'nonaug']:\n",
    "        for ncorr_th in [0.3, 0.35, 0.4, 0.45, 0.5, 0.55, 0.6, 0.65, 0.7]:\n",
    "            clustering_dir = f\"clustering_{motif_set}_{linkage}_Ncor_th_{ncorr_th:.2f}\"\n",
    "\n",
    "            script_str += f\"Rscript ~/src/matrix-clustering_stand-alone/matrix-clustering.R \"\n",
    "            script_str += f\"-i motifs_{motif_set}_table.txt -o {clustering_dir}/motif_analysis -w 8 \"\n",
    "            script_str += f\"--cor_th 0.0 --Ncor_th {ncorr_th:.2f} --w_th 4 --linkage_method {linkage}\"\n",
    "            script_str += \"\\n\"\n",
    "\n",
    "            script_str += f\"rm {clustering_dir}/motif_analysis_tables/pairwise_motif_comparison.tab\\n\"\n",
    "            script_str += f\"rm {clustering_dir}/motif_analysis_D3_dynamic_tree.html\\n\"\n",
    "            script_str += f\"rm -rf {clustering_dir}/motif_analysis_aligned_logos\\n\"\n",
    "            script_str += f\"rm -rf {clustering_dir}/js\\n\"\n",
    "            script_str += f\"rm Debug_radial.Rdata\\n\"\n",
    "\n",
    "with open(os.path.join(clustering_base_dir, 'run_clustering_param_scan.sh'), 'w', newline='\\n') as file:\n",
    "    file.write(script_str)"
   ]
  },
  {
   "cell_type": "markdown",
   "metadata": {},
   "source": [
    "Run inside the \"clustering\" directory:\n",
    "\n",
    "`./run_clustering_param_scan.sh`"
   ]
  },
  {
   "cell_type": "code",
   "execution_count": 16,
   "metadata": {},
   "outputs": [
    {
     "name": "stdout",
     "output_type": "stream",
     "text": [
      "Processing all motifs, linkage average...\n",
      "Processing all motifs, linkage average, Ncorr th 0.30...\n",
      "Processing all motifs, linkage average, Ncorr th 0.35...\n",
      "Processing all motifs, linkage average, Ncorr th 0.40...\n",
      "Processing all motifs, linkage average, Ncorr th 0.45...\n",
      "Processing all motifs, linkage average, Ncorr th 0.50...\n",
      "Processing all motifs, linkage average, Ncorr th 0.55...\n",
      "Processing all motifs, linkage average, Ncorr th 0.60...\n",
      "Processing all motifs, linkage average, Ncorr th 0.65...\n",
      "Processing all motifs, linkage average, Ncorr th 0.70...\n",
      "Saving all motifs, linkage average...\n",
      "Done with all motifs, linkage average.\n",
      "\n",
      "Processing aug motifs, linkage average...\n",
      "Processing aug motifs, linkage average, Ncorr th 0.30...\n",
      "Processing aug motifs, linkage average, Ncorr th 0.35...\n",
      "Processing aug motifs, linkage average, Ncorr th 0.40...\n",
      "Processing aug motifs, linkage average, Ncorr th 0.45...\n",
      "Processing aug motifs, linkage average, Ncorr th 0.50...\n",
      "Processing aug motifs, linkage average, Ncorr th 0.55...\n",
      "Processing aug motifs, linkage average, Ncorr th 0.60...\n",
      "Processing aug motifs, linkage average, Ncorr th 0.65...\n",
      "Processing aug motifs, linkage average, Ncorr th 0.70...\n",
      "Saving aug motifs, linkage average...\n",
      "Done with aug motifs, linkage average.\n",
      "\n",
      "Processing nonaug motifs, linkage average...\n",
      "Processing nonaug motifs, linkage average, Ncorr th 0.30...\n",
      "Processing nonaug motifs, linkage average, Ncorr th 0.35...\n",
      "Processing nonaug motifs, linkage average, Ncorr th 0.40...\n",
      "Processing nonaug motifs, linkage average, Ncorr th 0.45...\n",
      "Processing nonaug motifs, linkage average, Ncorr th 0.50...\n",
      "Processing nonaug motifs, linkage average, Ncorr th 0.55...\n",
      "Processing nonaug motifs, linkage average, Ncorr th 0.60...\n",
      "Processing nonaug motifs, linkage average, Ncorr th 0.65...\n",
      "Processing nonaug motifs, linkage average, Ncorr th 0.70...\n",
      "Saving nonaug motifs, linkage average...\n",
      "Done with nonaug motifs, linkage average.\n",
      "\n",
      "Processing all motifs, linkage complete...\n",
      "Processing all motifs, linkage complete, Ncorr th 0.30...\n",
      "Processing all motifs, linkage complete, Ncorr th 0.35...\n",
      "Processing all motifs, linkage complete, Ncorr th 0.40...\n",
      "Processing all motifs, linkage complete, Ncorr th 0.45...\n",
      "Processing all motifs, linkage complete, Ncorr th 0.50...\n",
      "Processing all motifs, linkage complete, Ncorr th 0.55...\n",
      "Processing all motifs, linkage complete, Ncorr th 0.60...\n",
      "Processing all motifs, linkage complete, Ncorr th 0.65...\n",
      "Processing all motifs, linkage complete, Ncorr th 0.70...\n",
      "Saving all motifs, linkage complete...\n",
      "Done with all motifs, linkage complete.\n",
      "\n",
      "Processing aug motifs, linkage complete...\n",
      "Processing aug motifs, linkage complete, Ncorr th 0.30...\n",
      "Processing aug motifs, linkage complete, Ncorr th 0.35...\n",
      "Processing aug motifs, linkage complete, Ncorr th 0.40...\n",
      "Processing aug motifs, linkage complete, Ncorr th 0.45...\n",
      "Processing aug motifs, linkage complete, Ncorr th 0.50...\n",
      "Processing aug motifs, linkage complete, Ncorr th 0.55...\n",
      "Processing aug motifs, linkage complete, Ncorr th 0.60...\n",
      "Processing aug motifs, linkage complete, Ncorr th 0.65...\n",
      "Processing aug motifs, linkage complete, Ncorr th 0.70...\n",
      "Saving aug motifs, linkage complete...\n",
      "Done with aug motifs, linkage complete.\n",
      "\n",
      "Processing nonaug motifs, linkage complete...\n",
      "Processing nonaug motifs, linkage complete, Ncorr th 0.30...\n",
      "Processing nonaug motifs, linkage complete, Ncorr th 0.35...\n",
      "Processing nonaug motifs, linkage complete, Ncorr th 0.40...\n",
      "Processing nonaug motifs, linkage complete, Ncorr th 0.45...\n",
      "Processing nonaug motifs, linkage complete, Ncorr th 0.50...\n",
      "Processing nonaug motifs, linkage complete, Ncorr th 0.55...\n",
      "Processing nonaug motifs, linkage complete, Ncorr th 0.60...\n",
      "Processing nonaug motifs, linkage complete, Ncorr th 0.65...\n",
      "Processing nonaug motifs, linkage complete, Ncorr th 0.70...\n",
      "Saving nonaug motifs, linkage complete...\n",
      "Done with nonaug motifs, linkage complete.\n",
      "\n"
     ]
    }
   ],
   "source": [
    "# Plot motifs for each clustering settings\n",
    "ncorr_th_list = [0.3, 0.35, 0.4, 0.45, 0.5, 0.55, 0.6, 0.65, 0.7]\n",
    "n_motifs_to_plot = 20\n",
    "\n",
    "for linkage in ['average', 'complete',]:\n",
    "    for motif_set in ['all', 'aug', 'nonaug']:\n",
    "        print(f\"Processing {motif_set} motifs, linkage {linkage}...\")\n",
    "        fig, axes = pyplot.subplots(\n",
    "            n_motifs_to_plot + 1,\n",
    "            len(ncorr_th_list),\n",
    "            figsize=(len(ncorr_th_list)*6, (n_motifs_to_plot + 1)*1.3),\n",
    "        )\n",
    "        for ncorr_th in ncorr_th_list:\n",
    "            print(f\"Processing {motif_set} motifs, linkage {linkage}, Ncorr th {ncorr_th:.2f}...\")\n",
    "            cluster_dir = os.path.join(clustering_base_dir, f\"clustering_{motif_set}_{linkage}_Ncor_th_{ncorr_th:.2f}\")\n",
    "            \n",
    "            # Read cluster to motif assignment\n",
    "            cluster_df = pandas.read_csv(os.path.join(cluster_dir, 'motif_analysis_tables/clusters.tab'), sep='\\t', index_col='cluster')\n",
    "\n",
    "            # Read aligned motifs\n",
    "            with open(os.path.join(cluster_dir, 'motif_analysis_motifs/root_motifs/Root_motifs.tf'), 'r') as f:\n",
    "                cluster_root_motifs = Bio.motifs.transfac.read(f, strict=False)\n",
    "            cluster_root_motifs_dict = {}\n",
    "            for motif in cluster_root_motifs:\n",
    "                cluster_root_motifs_dict[motif['ID']] = motif\n",
    "\n",
    "            # Count number of models in each cluster\n",
    "            for index, row in cluster_df.iterrows():\n",
    "                motif_names = row['name'].split(',')\n",
    "                model_ids = []\n",
    "                for motif_name in motif_names:\n",
    "                    model_idx, filter_idx = parse_filter_info(motif_name)\n",
    "                    model_ids.append(model_idx)\n",
    "                model_ids = list(set(model_ids))\n",
    "                cluster_df.loc[index, 'n_filters'] = len(motif_names)\n",
    "                cluster_df.loc[index, 'n_models'] = len(model_ids)\n",
    "\n",
    "            # Plot histogram of number of models\n",
    "            ax = axes[0, ncorr_th_list.index(ncorr_th)]\n",
    "            ax.hist(cluster_df['n_models'], bins=range(1, 11), align='left', log=True)\n",
    "            ax.set_title(f\"Ncorr th = {ncorr_th:.2f}, n_clusters = {len(cluster_df):,}\")\n",
    "\n",
    "            # Select top by # models\n",
    "            cluster_to_plot_df = cluster_df.sort_values('n_models', ascending=False).iloc[:n_motifs_to_plot]\n",
    "\n",
    "            # Plot pwms of each high confidence motif\n",
    "            for cluster_idx, (cluster_id, row) in enumerate(cluster_to_plot_df.iterrows()):\n",
    "                cluster_root_motif = cluster_root_motifs_dict[cluster_id]\n",
    "\n",
    "                # Extract pwm values\n",
    "                pwm = numpy.array(list(cluster_root_motif.pwm.values())).T\n",
    "\n",
    "                # Plot\n",
    "                ax = axes[cluster_idx + 1, ncorr_th_list.index(ncorr_th)]\n",
    "                custom_plots.plot_seq_logo(seq_val=pwm, ax=ax)\n",
    "                # ax.set_title(f\"{cluster_id} ({int(row['n_filters'])} filters, {int(row['n_models'])} models)\")\n",
    "                ax.set_ylim(0, 2)\n",
    "\n",
    "                ax.set_title(f\"{cluster_id} ({int(row['n_filters'])} filters, {int(row['n_models'])} models)\")\n",
    "\n",
    "        print(f\"Saving {motif_set} motifs, linkage {linkage}...\")\n",
    "        fig.suptitle(f\"Clustering {motif_set} motifs, linkage {linkage}\")\n",
    "        fig.tight_layout(rect=[0, 0, 1, 0.95])\n",
    "        fig.savefig(os.path.join(clustering_base_dir, f\"clustering_{motif_set}_{linkage}_motifs.png\"), dpi=200, bbox_inches='tight')\n",
    "        pyplot.close(fig)\n",
    "\n",
    "        print(f\"Done with {motif_set} motifs, linkage {linkage}.\")\n",
    "        print()\n"
   ]
  },
  {
   "cell_type": "markdown",
   "metadata": {},
   "source": [
    "# Step 3. Filter and combine motifs\n",
    "Here, we filter each motif cluster based on how many models their member motifs come from. We combine selected clusters from the AUG and nonAUG set, trim their PWMs, and save them to `{analysis_dir}/motifs.meme`. This is the final list of motifs."
   ]
  },
  {
   "cell_type": "code",
   "execution_count": 17,
   "metadata": {},
   "outputs": [],
   "source": [
    "# Directory where to store filtered and combined motifs and related plots\n",
    "merged_motifs_dir = analysis_dir\n",
    "if not os.path.exists(merged_motifs_dir):\n",
    "    os.mkdir(merged_motifs_dir)"
   ]
  },
  {
   "cell_type": "code",
   "execution_count": 18,
   "metadata": {},
   "outputs": [],
   "source": [
    "# Filter settings\n",
    "# Directory source of motif clusters, number of models to filter each motif by, and the name prefix to use in the motif names.\n",
    "# n_seqlets_per_filter = 100\n",
    "clusters_info = [\n",
    "    {\n",
    "        'path': os.path.join(clustering_base_dir, 'clustering_aug_average_Ncor_th_0.45'),\n",
    "        'n_model_threshold': 9,\n",
    "        'prefix': 'aug',\n",
    "    },\n",
    "    {\n",
    "        'path': os.path.join(clustering_base_dir, 'clustering_nonaug_average_Ncor_th_0.60'),\n",
    "        'n_model_threshold': 5,\n",
    "        'prefix': 'nonaug',\n",
    "    },\n",
    "]\n",
    "\n",
    "# # n_seqlets_per_filter = 200\n",
    "# clusters_info = [\n",
    "#     {\n",
    "#         'path': os.path.join(clustering_base_dir, 'clustering_aug_complete_Ncor_th_0.35'),\n",
    "#         'n_model_threshold': 9,\n",
    "#         'prefix': 'aug',\n",
    "#     },\n",
    "#     {\n",
    "#         'path': os.path.join(clustering_base_dir, 'clustering_nonaug_complete_Ncor_th_0.45'),\n",
    "#         'n_model_threshold': 7,\n",
    "#         'prefix': 'nonaug',\n",
    "#     },\n",
    "# ]"
   ]
  },
  {
   "cell_type": "code",
   "execution_count": 19,
   "metadata": {},
   "outputs": [],
   "source": [
    "# Filter and combine motifs\n",
    "motifs_to_save = {}\n",
    "motif_clusters_df = pandas.DataFrame()\n",
    "\n",
    "for cluster_info in clusters_info:\n",
    "\n",
    "    # Read cluster to motif assignment\n",
    "    cluster_dir = cluster_info['path']\n",
    "    cluster_df = pandas.read_csv(os.path.join(cluster_dir, 'motif_analysis_tables/clusters.tab'), sep='\\t', index_col='cluster')\n",
    "    cluster_df.index = [f\"{cluster_info['prefix']}_{s}\" for s in cluster_df.index]\n",
    "\n",
    "    # Read aligned motifs\n",
    "    with open(os.path.join(cluster_dir, 'motif_analysis_motifs/root_motifs/Root_motifs.tf'), 'r') as f:\n",
    "        cluster_root_motifs = Bio.motifs.transfac.read(f, strict=False)\n",
    "\n",
    "    cluster_root_motifs_dict = {}\n",
    "    for motif in cluster_root_motifs:\n",
    "        cluster_root_motifs_dict[f\"{cluster_info['prefix']}_{motif['ID']}\"] = motif\n",
    "\n",
    "    # Count number of filters and models in each cluster\n",
    "    for index, row in cluster_df.iterrows():\n",
    "        motif_names = row['name'].split(',')\n",
    "        model_ids = []\n",
    "        for motif_name in motif_names:\n",
    "            model_idx, filter_idx = parse_filter_info(motif_name)\n",
    "            model_ids.append(model_idx)\n",
    "        model_ids = list(set(model_ids))\n",
    "        cluster_df.loc[index, 'n_filters'] = len(motif_names)\n",
    "        cluster_df.loc[index, 'n_models'] = len(model_ids)\n",
    "\n",
    "    # Apply threshold on number of models\n",
    "    cluster_hc_df = cluster_df[cluster_df['n_models'] >= cluster_info['n_model_threshold']]\n",
    "    cluster_hc_df = cluster_hc_df.sort_values('n_models', ascending=False)\n",
    "\n",
    "    motif_clusters_df = pandas.concat(\n",
    "        (\n",
    "            motif_clusters_df,\n",
    "            cluster_hc_df,\n",
    "        ),\n",
    "        axis=0,\n",
    "    )\n",
    "\n",
    "    # Trim PWMs, add to meme file, and plot\n",
    "    for cluster_id, row in cluster_hc_df.iterrows():\n",
    "        cluster_root_motif = cluster_root_motifs_dict[cluster_id]\n",
    "\n",
    "        # Extract pwm values\n",
    "        pwm = numpy.array(list(cluster_root_motif.pwm.values())).T\n",
    "\n",
    "        # Trim\n",
    "        bg = numpy.array([0.25, 0.25, 0.25, 0.25])\n",
    "        pseudocount = 0.001\n",
    "        cluster_ic_per_pos = numpy.log2((pwm + pseudocount) / (1 + pseudocount*len(bg)))*pwm - (numpy.log2(bg)*bg)[None, :]\n",
    "        cluster_ic_per_pos = numpy.sum(cluster_ic_per_pos, axis=1)\n",
    "        cluster_ic = pwm*cluster_ic_per_pos[:, None]\n",
    "        \n",
    "        motif_ic_cutoff = 0.3\n",
    "        high_info_indices = numpy.nonzero(numpy.sum(cluster_ic, axis=1) > motif_ic_cutoff)\n",
    "        motif_start = max(0, high_info_indices[0][0] - 1)\n",
    "        motif_end = min(len(pwm), high_info_indices[0][-1] + 1 + 1)\n",
    "\n",
    "        pwm_trimmed = pwm[motif_start: motif_end]\n",
    "\n",
    "        # Add to motifs to save\n",
    "        motif_info = {\n",
    "            'name': cluster_id,\n",
    "            'ppm': pwm_trimmed,\n",
    "            'nsites': int(n_seqlets_per_filter*row['n_filters']),\n",
    "        }\n",
    "        motifs_to_save[cluster_id] = motif_info\n",
    "    \n",
    "# Save meme file\n",
    "seq_utils.save_meme_from_dict(motifs_to_save, os.path.join(merged_motifs_dir, 'motifs.meme'))\n",
    "\n",
    "# Save motif info table\n",
    "motif_clusters_df.to_csv(os.path.join(merged_motifs_dir, 'motifs.csv'))"
   ]
  },
  {
   "cell_type": "code",
   "execution_count": 20,
   "metadata": {},
   "outputs": [],
   "source": [
    "# Reload motif info\n",
    "motif_clusters_df = pandas.read_csv(os.path.join(merged_motifs_dir, 'motifs.csv'), index_col=0)\n",
    "motif_clusters = seq_utils.load_meme(os.path.join(merged_motifs_dir, 'motifs.meme'))"
   ]
  },
  {
   "cell_type": "code",
   "execution_count": 21,
   "metadata": {},
   "outputs": [],
   "source": [
    "# Make motif plots\n",
    "motif_plot_dir = os.path.join(merged_motifs_dir, 'plots_motif_pwm')\n",
    "if not os.path.exists(motif_plot_dir):\n",
    "    os.mkdir(motif_plot_dir)\n",
    "\n",
    "for motif_id, motif_row in motif_clusters_df.iterrows():\n",
    "    motif_info = motif_clusters[motif_id]\n",
    "    pwm = motif_info['ppm']\n",
    "\n",
    "    fig, ax = pyplot.subplots(figsize=(len(pwm)/3, 0.7))\n",
    "\n",
    "    custom_plots.plot_seq_logo(seq_val=pwm, ax=ax)\n",
    "\n",
    "    ax.set_title(f\"{motif_id} ({int(motif_row['n_filters'])} filters, {int(motif_row['n_models'])} models)\")\n",
    "    ax.set_ylim(0, 2)\n",
    "    ax.set_xticks(range(len(pwm)), labels=range(1, len(pwm) + 1))\n",
    "\n",
    "    fig.savefig(\n",
    "        os.path.join(motif_plot_dir, f'{motif_id}.png'),\n",
    "        dpi=200,\n",
    "        bbox_inches='tight',\n",
    "    )\n",
    "    pyplot.close(fig)"
   ]
  },
  {
   "cell_type": "code",
   "execution_count": null,
   "metadata": {},
   "outputs": [],
   "source": []
  }
 ],
 "metadata": {
  "kernelspec": {
   "display_name": "Python 3",
   "language": "python",
   "name": "python3"
  },
  "language_info": {
   "codemirror_mode": {
    "name": "ipython",
    "version": 3
   },
   "file_extension": ".py",
   "mimetype": "text/x-python",
   "name": "python",
   "nbconvert_exporter": "python",
   "pygments_lexer": "ipython3",
   "version": "3.9.5"
  }
 },
 "nbformat": 4,
 "nbformat_minor": 4
}
